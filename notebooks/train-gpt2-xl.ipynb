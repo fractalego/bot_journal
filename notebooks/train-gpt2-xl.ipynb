{
 "cells": [
  {
   "cell_type": "code",
   "execution_count": 1,
   "id": "3c08f3ff",
   "metadata": {},
   "outputs": [],
   "source": [
    "from transformers import pipeline, set_seed\n",
    "generator = pipeline('text-generation', model='gpt2-xl')\n",
    "\n",
    "set_seed(42)\n",
    "#generator(\"The White man worked as a\", max_length=10, num_return_sequences=5)"
   ]
  },
  {
   "cell_type": "code",
   "execution_count": 10,
   "id": "a9258693",
   "metadata": {},
   "outputs": [
    {
     "name": "stderr",
     "output_type": "stream",
     "text": [
      "Setting `pad_token_id` to `eos_token_id`:50256 for open-end generation.\n"
     ]
    },
    {
     "data": {
      "text/plain": [
       "[{'generated_text': 'A garbled conversation is transcribed as follows:\\nLeft: THIS IS MIKE FROM QB EINSURANCE HOW CAN I HELP YOU\\nRight: NOT TO BAD NOT TO BAD HOW ARE YOU\\nLeft: ALL IS GOOD DO YOU HAVE A POLICY NUMBER\\n\\nPlease correct the conversation and write it below, in lower case and adding punctuation:\\n\\nLeft: NOT TO BAD NOT TO BAD HOW ARE YOU\\n\\nRight: RIGHT HERE IS YOUR POLICY NUMBER\\n\\nLeft: WE HAD AN ERROR\\n\\nRight: RIGHT HERE IT IS\\n\\nLeft: WE MUST CORRECT THE CONTENT\\n\\nRight: THERE WILL BE A CONTACT IN 3:30\\n\\nLeft: RIGHT HERE IS YOUR'},\n",
       " {'generated_text': 'A garbled conversation is transcribed as follows:\\nLeft: THIS IS MIKE FROM QB EINSURANCE HOW CAN I HELP YOU\\nRight: NOT TO BAD NOT TO BAD HOW ARE YOU\\nLeft: ALL IS GOOD DO YOU HAVE A POLICY NUMBER\\n\\nPlease correct the conversation and write it below, in lower case and adding punctuation:\\n\\nLeft: THIS IS MIKE FROM QB EINSURANCE THIS IS MIKE WOULD LIKE TO SET UP A DIFFERENT POLICY NUMBER FOR EINSURANCE\\n\\nRight: NOT TO BAD NOT TO BAD How is that not a good thing?\\n\\nLeft: ALL IS GOOD DO YOU HAVE A POLICY NUMBER\\n\\nRight'}]"
      ]
     },
     "execution_count": 10,
     "metadata": {},
     "output_type": "execute_result"
    }
   ],
   "source": [
    "text = \"\"\"\n",
    "A garbled conversation is transcribed as follows:\n",
    "Left: THIS IS MIKE FROM QB EINSURANCE HOW CAN I HELP YOU\n",
    "Right: NOT TO BAD NOT TO BAD HOW ARE YOU\n",
    "Left: ALL IS GOOD DO YOU HAVE A POLICY NUMBER\n",
    "\n",
    "Please correct the conversation and write it below, in lower case and adding punctuation:\n",
    "\"\"\".strip()\n",
    "generator(text, max_length=150, num_return_sequences=2)"
   ]
  },
  {
   "cell_type": "code",
   "execution_count": null,
   "id": "9052d0b3",
   "metadata": {},
   "outputs": [],
   "source": []
  }
 ],
 "metadata": {
  "kernelspec": {
   "display_name": "chatbot3",
   "language": "python",
   "name": "chatbot3"
  },
  "language_info": {
   "codemirror_mode": {
    "name": "ipython",
    "version": 3
   },
   "file_extension": ".py",
   "mimetype": "text/x-python",
   "name": "python",
   "nbconvert_exporter": "python",
   "pygments_lexer": "ipython3",
   "version": "3.8.10"
  }
 },
 "nbformat": 4,
 "nbformat_minor": 5
}
