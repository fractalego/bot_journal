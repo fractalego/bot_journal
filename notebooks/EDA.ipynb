{
 "cells": [
  {
   "cell_type": "code",
   "execution_count": 1,
   "metadata": {},
   "outputs": [],
   "source": [
    "import json  File \"/home/alce/src/sam_sum_bot/.env/lib/python3.8/site-packages/jinja2/__init__.py\", line 8, in <module>\n",
    "    from .environment import Environment as Environment\n",
    "  File \"/home/alce/src/sam_sum_bot/.env/lib/python3.8/site-packages/jinja2/environment.py\", line 45, in <module>\n",
    "    from .parser import Parser\n",
    "  File \"/home/alce/src/sam_sum_bot/.env/lib/python3.8/site-packages/jinja2/parser.py\", line 5, in <module>\n",
    "    import src.utils\n",
    "ModuleNotFoundError: No module named 'src'\n"
   ]
  },
  {
   "cell_type": "code",
   "execution_count": 2,
   "metadata": {},
   "outputs": [],
   "source": [
    "train_dict = json.load(open('../data/coqa-train-v1.0.json', encoding='utf8'))\n",
    "dev_dict = json.load(open('../data/coqa-dev-v1.0.json', encoding='utf8'))"
   ]
  },
  {
   "cell_type": "code",
   "execution_count": 3,
   "metadata": {},
   "outputs": [],
   "source": [
    "def get_text_list(data):\n",
    "    texts_list = []\n",
    "    for item in data:\n",
    "        text = 'In the text below two people are discussing a story.\\n\\n'\n",
    "        text += 'Story:\\n' + item['story'] + '\\n\\n'\n",
    "        text += 'Discussion:\\n'\n",
    "        text += '\\n'.join(['Q: ' + q['input_text'] \n",
    "                           + '\\nA: ' + a['input_text'] \n",
    "                           for q, a in zip(item['questions'], item['answers']) \n",
    "                          ])\n",
    "        texts_list.append(text)\n",
    "\n",
    "    return texts_list"
   ]
  },
  {
   "cell_type": "code",
   "execution_count": 4,
   "metadata": {},
   "outputs": [],
   "source": [
    "train_texts_list = get_text_list(train_dict['data'])\n",
    "dev_texts_list = get_text_list(dev_dict['data'])"
   ]
  },
  {
   "cell_type": "code",
   "execution_count": 5,
   "metadata": {},
   "outputs": [],
   "source": [
    "with open('../data/qa_train_list.json', 'w') as f:\n",
    "    json.dump(train_texts_list, f)\n",
    "with open('../data/qa_dev_list.json', 'w') as f:\n",
    "    json.dump(dev_texts_list, f)"
   ]
  },
  {
   "cell_type": "code",
   "execution_count": null,
   "metadata": {},
   "outputs": [],
   "source": []
  }
 ],
 "metadata": {
  "environment": {
   "name": "pytorch-gpu.1-7.mnightly-2021-02-12-debian-10-test",
   "type": "gcloud",
   "uri": "gcr.io/deeplearning-platform-release/pytorch-gpu.1-7:mnightly-2021-02-12-debian-10-test"
  },
  "kernelspec": {
   "display_name": "chatbot3",
   "language": "python",
   "name": "chatbot3"
  },
  "language_info": {
   "codemirror_mode": {
    "name": "ipython",
    "version": 3
   },
   "file_extension": ".py",
   "mimetype": "text/x-python",
   "name": "python",
   "nbconvert_exporter": "python",
   "pygments_lexer": "ipython3",
   "version": "3.8.10"
  }
 },
 "nbformat": 4,
 "nbformat_minor": 4
}
