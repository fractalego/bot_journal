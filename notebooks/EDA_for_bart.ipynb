{
 "cells": [
  {
   "cell_type": "code",
   "execution_count": 5,
   "metadata": {},
   "outputs": [],
   "source": [
    "import json"
   ]
  },
  {
   "cell_type": "code",
   "execution_count": 6,
   "metadata": {},
   "outputs": [],
   "source": [
    "train_dict = json.load(open('../data/coqa-train-v1.0.json', encoding='utf8'))\n",
    "dev_dict = json.load(open('../data/coqa-dev-v1.0.json', encoding='utf8'))"
   ]
  },
  {
   "cell_type": "code",
   "execution_count": 53,
   "metadata": {},
   "outputs": [
    {
     "data": {
      "text/plain": [
       "{'span_start': 192,\n",
       " 'span_end': 215,\n",
       " 'span_text': \"But Cotton wasn't alone\",\n",
       " 'input_text': 'no',\n",
       " 'turn_id': 3}"
      ]
     },
     "execution_count": 53,
     "metadata": {},
     "output_type": "execute_result"
    }
   ],
   "source": [
    "dev_dict['data'][0]['additional_answers']['0'][2]"
   ]
  },
  {
   "cell_type": "code",
   "execution_count": 78,
   "metadata": {},
   "outputs": [],
   "source": [
    "qa_range = 5\n",
    "def get_text_list(data):\n",
    "    return_list = []\n",
    "    for item in data:\n",
    "        for cutoff in range(1, len(item['questions'])):\n",
    "            text = ''\n",
    "            text += 'Story:\\n' + item['story'] + '\\n\\n'\n",
    "            text += 'Discussion:\\n'\n",
    "            text += '\\n'.join(['Q: ' + q['input_text'] \n",
    "                               + '\\nA: ' + a['input_text'] \n",
    "                               for q, a in zip(item['questions'][max(0, cutoff - qa_range):cutoff], \n",
    "                                               item['answers'][max(0, cutoff - qa_range):cutoff])\n",
    "                              ])\n",
    "            answer = item['answers'][cutoff - 1]['input_text']\n",
    "            text = '\\n'.join(text.split('\\n')[:-1])\n",
    "            return_list.append({'inputs': text, 'labels': answer})\n",
    "\n",
    "    return return_list\n",
    "\n",
    "def get_text_list_for_dev(data):\n",
    "    return_list = []\n",
    "    for item in data:\n",
    "        for cutoff in range(1, len(item['questions'])):\n",
    "            text = ''\n",
    "            text += 'Story:\\n' + item['story'] + '\\n\\n'\n",
    "            text += 'Discussion:\\n'\n",
    "            text += '\\n'.join(['Q: ' + q['input_text'] \n",
    "                               + '\\nA: ' + a['input_text'] \n",
    "                               for q, a in zip(item['questions'][max(0, cutoff - qa_range):cutoff], \n",
    "                                               item['answers'][max(0, cutoff - qa_range):cutoff])\n",
    "                              ])\n",
    "            answers = [item['answers'][cutoff - 1]['input_text']]\n",
    "        \n",
    "            for key in item['additional_answers']:\n",
    "                answers.append(item['additional_answers'][key][cutoff - 1]['input_text'])\n",
    "            text = '\\n'.join(text.split('\\n')[:-1])\n",
    "            return_list.append({'inputs': text, 'labels': list(set(answers))})\n",
    "\n",
    "    return return_list"
   ]
  },
  {
   "cell_type": "code",
   "execution_count": 79,
   "metadata": {},
   "outputs": [],
   "source": [
    "train_texts_list = get_text_list(train_dict['data'])\n",
    "dev_texts_list = get_text_list_for_dev(dev_dict['data'])"
   ]
  },
  {
   "cell_type": "code",
   "execution_count": 80,
   "metadata": {},
   "outputs": [
    {
     "data": {
      "text/plain": [
       "{'inputs': 'Story:\\nThe Vatican Apostolic Library (), more commonly called the Vatican Library or simply the Vat, is the library of the Holy See, located in Vatican City. Formally established in 1475, although it is much older, it is one of the oldest libraries in the world and contains one of the most significant collections of historical texts. It has 75,000 codices from throughout history, as well as 1.1 million printed books, which include some 8,500 incunabula. \\n\\nThe Vatican Library is a research library for history, law, philosophy, science and theology. The Vatican Library is open to anyone who can document their qualifications and research needs. Photocopies for private study of pages from books published between 1801 and 1990 can be requested in person or by mail. \\n\\nIn March 2014, the Vatican Library began an initial four-year project of digitising its collection of manuscripts, to be made available online. \\n\\nThe Vatican Secret Archives were separated from the library at the beginning of the 17th century; they contain another 150,000 items. \\n\\nScholars have traditionally divided the history of the library into five periods, Pre-Lateran, Lateran, Avignon, Pre-Vatican and Vatican. \\n\\nThe Pre-Lateran period, comprising the initial days of the library, dated from the earliest days of the Church. Only a handful of volumes survive from this period, though some are very significant.\\n\\nDiscussion:\\nQ: When was the Vat formally opened?',\n",
       " 'labels': 'It was formally established in 1475'}"
      ]
     },
     "execution_count": 80,
     "metadata": {},
     "output_type": "execute_result"
    }
   ],
   "source": [
    "train_texts_list[0]"
   ]
  },
  {
   "cell_type": "code",
   "execution_count": 84,
   "metadata": {},
   "outputs": [
    {
     "data": {
      "text/plain": [
       "{'inputs': 'Story:\\nOnce upon a time, in a barn near a farm house, there lived a little white kitten named Cotton. Cotton lived high up in a nice warm place above the barn where all of the farmer\\'s horses slept. But Cotton wasn\\'t alone in her little home above the barn, oh no. She shared her hay bed with her mommy and 5 other sisters. All of her sisters were cute and fluffy, like Cotton. But she was the only white one in the bunch. The rest of her sisters were all orange with beautiful white tiger stripes like Cotton\\'s mommy. Being different made Cotton quite sad. She often wished she looked like the rest of her family. So one day, when Cotton found a can of the old farmer\\'s orange paint, she used it to paint herself like them. When her mommy and sisters found her they started laughing. \\n\\n\"What are you doing, Cotton?!\" \\n\\n\"I only wanted to be more like you\". \\n\\nCotton\\'s mommy rubbed her face on Cotton\\'s and said \"Oh Cotton, but your fur is so pretty and special, like you. We would never want you to be any other way\". And with that, Cotton\\'s mommy picked her up and dropped her into a big bucket of water. When Cotton came out she was herself again. Her sisters licked her face until Cotton\\'s fur was all all dry. \\n\\n\"Don\\'t ever do that again, Cotton!\" they all cried. \"Next time you might mess up that pretty white fur of yours and we wouldn\\'t want that!\" \\n\\nThen Cotton thought, \"I change my mind. I like being special\".\\n\\nDiscussion:\\nQ: What color was Cotton?\\nA: white\\nQ: Where did she live?\\nA: in a barn\\nQ: Did she live alone?\\nA: no\\nQ: Who did she live with?',\n",
       " 'labels': ['with her mommy and 5 sisters', 'her mommy and 5 other sisters']}"
      ]
     },
     "execution_count": 84,
     "metadata": {},
     "output_type": "execute_result"
    }
   ],
   "source": [
    "dev_texts_list[3]"
   ]
  },
  {
   "cell_type": "code",
   "execution_count": 85,
   "metadata": {},
   "outputs": [],
   "source": [
    "with open('../data/qa_train_BART.json', 'w') as f:\n",
    "    json.dump(train_texts_list, f)\n",
    "with open('../data/qa_dev_BART.json', 'w') as f:\n",
    "    json.dump(dev_texts_list, f)"
   ]
  },
  {
   "cell_type": "code",
   "execution_count": null,
   "metadata": {},
   "outputs": [],
   "source": []
  }
 ],
 "metadata": {
  "environment": {
   "name": "pytorch-gpu.1-7.mnightly-2021-02-12-debian-10-test",
   "type": "gcloud",
   "uri": "gcr.io/deeplearning-platform-release/pytorch-gpu.1-7:mnightly-2021-02-12-debian-10-test"
  },
  "kernelspec": {
   "display_name": "dispatcher",
   "language": "python",
   "name": "dispatcher"
  },
  "language_info": {
   "codemirror_mode": {
    "name": "ipython",
    "version": 3
   },
   "file_extension": ".py",
   "mimetype": "text/x-python",
   "name": "python",
   "nbconvert_exporter": "python",
   "pygments_lexer": "ipython3",
   "version": "3.6.9"
  }
 },
 "nbformat": 4,
 "nbformat_minor": 4
}
