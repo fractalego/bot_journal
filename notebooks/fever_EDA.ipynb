{
 "cells": [
  {
   "cell_type": "code",
   "execution_count": 3,
   "id": "2bb85ca4",
   "metadata": {},
   "outputs": [],
   "source": [
    "import os\n",
    "import json"
   ]
  },
  {
   "cell_type": "code",
   "execution_count": 4,
   "id": "4b5e0138",
   "metadata": {},
   "outputs": [],
   "source": [
    "train_dicts = [json.loads(item) for item in open('../data/FEVER/train.jsonl', encoding='utf8').readlines()]\n",
    "dev_dicts = [json.loads(item) for item in open('../data/FEVER/paper_dev.jsonl', encoding='utf8').readlines()]"
   ]
  },
  {
   "cell_type": "code",
   "execution_count": 29,
   "id": "1d585929",
   "metadata": {},
   "outputs": [],
   "source": [
    "def clean_line(line):\n",
    "    line = line[2:line[2:].find('\\t')]\n",
    "    line = line.replace('-LRB-', '(')\n",
    "    line = line.replace('-RRB-', ')')\n",
    "    line = line.replace('-LSB-', '[')\n",
    "    line = line.replace('-RSB-', ']')\n",
    "    line = line.replace('( ', '(')\n",
    "    line = line.replace(' )', ')')\n",
    "    line = line.replace('[ ', '[')\n",
    "    line = line.replace(' ]', ']')\n",
    "    line = line.replace(' .', '.')\n",
    "    line = line.replace(' , ', ', ')\n",
    "    line = line.replace(' ; ', '; ')\n",
    "    line = line.replace(' : ', ': ')\n",
    "    return line"
   ]
  },
  {
   "cell_type": "code",
   "execution_count": 30,
   "id": "043366e5",
   "metadata": {},
   "outputs": [],
   "source": [
    "wiki_lines_dict = {}\n",
    "_wiki_folder = '../data/FEVER/wiki-pages'\n",
    "for file in os.listdir(_wiki_folder):\n",
    "    for item in open(f'{_wiki_folder}/{file}', encoding='utf8').readlines():\n",
    "        wiki_dict = json.loads(item)\n",
    "        wiki_id = wiki_dict['id']\n",
    "        lines = [clean_line(line) for line in wiki_dict['lines'].split('\\n')]\n",
    "        wiki_lines_dict[wiki_id] = lines"
   ]
  },
  {
   "cell_type": "code",
   "execution_count": 31,
   "id": "876124e3",
   "metadata": {},
   "outputs": [],
   "source": [
    "def populate_texts_for_label(data_dicts, label):\n",
    "    all_texts = []\n",
    "\n",
    "    for item in data_dicts:\n",
    "        if item['label'] == label:\n",
    "            text = ''\n",
    "            for paragraph in item['evidence']:\n",
    "                for line in paragraph:\n",
    "                    wiki_id = line[-2]\n",
    "                    sentence_num = line[-1]\n",
    "                    if wiki_id not in wiki_lines_dict:\n",
    "                        continue\n",
    "                    text += wiki_lines_dict[wiki_id][sentence_num] + '. '\n",
    "                if text:\n",
    "                    text += '\\n'\n",
    "            text = text.strip()\n",
    "            if text and text != '.':\n",
    "                claim = item['claim']\n",
    "                all_texts.append('Evidence:\\n'\n",
    "                                 + text + '\\n\\n'\n",
    "                                 + 'Claim:\\n'\n",
    "                                 + claim\n",
    "                                )\n",
    "    return all_texts"
   ]
  },
  {
   "cell_type": "code",
   "execution_count": 32,
   "id": "0f6908e9",
   "metadata": {},
   "outputs": [],
   "source": [
    "supporting_texts = populate_texts_for_label(train_dicts, 'SUPPORTS')\n",
    "refuting_texts = populate_texts_for_label(train_dicts, 'REFUTES')"
   ]
  },
  {
   "cell_type": "code",
   "execution_count": 33,
   "id": "07afd4d8",
   "metadata": {},
   "outputs": [
    {
     "data": {
      "text/plain": [
       "69027"
      ]
     },
     "execution_count": 33,
     "metadata": {},
     "output_type": "execute_result"
    }
   ],
   "source": [
    "len(supporting_texts)"
   ]
  },
  {
   "cell_type": "code",
   "execution_count": 34,
   "id": "638d6c13",
   "metadata": {},
   "outputs": [
    {
     "data": {
      "text/plain": [
       "26212"
      ]
     },
     "execution_count": 34,
     "metadata": {},
     "output_type": "execute_result"
    }
   ],
   "source": [
    "len(refuting_texts)"
   ]
  },
  {
   "cell_type": "code",
   "execution_count": 35,
   "id": "5607f826",
   "metadata": {},
   "outputs": [],
   "source": [
    "json.dump(supporting_texts, open('../data/supporting.json', 'w'))\n",
    "json.dump(refuting_texts, open('../data/refuting.json', 'w'))"
   ]
  },
  {
   "cell_type": "code",
   "execution_count": null,
   "id": "8f59d3b4",
   "metadata": {},
   "outputs": [],
   "source": []
  }
 ],
 "metadata": {
  "kernelspec": {
   "display_name": "dispatcher",
   "language": "python",
   "name": "dispatcher"
  },
  "language_info": {
   "codemirror_mode": {
    "name": "ipython",
    "version": 3
   },
   "file_extension": ".py",
   "mimetype": "text/x-python",
   "name": "python",
   "nbconvert_exporter": "python",
   "pygments_lexer": "ipython3",
   "version": "3.6.9"
  }
 },
 "nbformat": 4,
 "nbformat_minor": 5
}
