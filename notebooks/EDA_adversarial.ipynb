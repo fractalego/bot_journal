{
 "cells": [
  {
   "cell_type": "code",
   "execution_count": 1,
   "id": "e43aac28",
   "metadata": {},
   "outputs": [],
   "source": [
    "import json\n",
    "import torch\n",
    "import torch.nn as nn\n",
    "import random\n",
    "from tqdm import tqdm\n",
    "from transformers import GPT2LMHeadModel, GPT2Tokenizer"
   ]
  },
  {
   "cell_type": "code",
   "execution_count": 2,
   "id": "adf11ef2",
   "metadata": {},
   "outputs": [],
   "source": [
    "tokenizer = GPT2Tokenizer.from_pretrained('gpt2')"
   ]
  },
  {
   "cell_type": "code",
   "execution_count": 3,
   "id": "f2d45915",
   "metadata": {},
   "outputs": [],
   "source": [
    "tokenizer = GPT2Tokenizer.from_pretrained('gpt2')\n",
    "fact_checking_model = GPT2LMHeadModel.from_pretrained('gpt2')\n",
    "fact_checking_model.cuda()\n",
    "checkpoint = torch.load('save_fever2')\n",
    "fact_checking_model.load_state_dict(checkpoint['model_state_dict'])\n",
    "_ = fact_checking_model.eval()"
   ]
  },
  {
   "cell_type": "code",
   "execution_count": 4,
   "id": "4e61a090",
   "metadata": {},
   "outputs": [],
   "source": [
    "def get_text_up_to_question(text):\n",
    "    _claim_yn = 'The evidence supports the claim:\\n'\n",
    "    return text[:text.find(_claim_yn) + len(_claim_yn)]"
   ]
  },
  {
   "cell_type": "code",
   "execution_count": 5,
   "id": "ef5b4345",
   "metadata": {},
   "outputs": [],
   "source": [
    "def get_answer_from_text(text):\n",
    "    _claim_yn = 'The evidence supports the claim:\\n'\n",
    "    pos = text.find(_claim_yn) + len(_claim_yn)\n",
    "    return text[pos]"
   ]
  },
  {
   "cell_type": "code",
   "execution_count": 6,
   "id": "ca1ac830",
   "metadata": {},
   "outputs": [],
   "source": [
    "def generate_answer(model, text):\n",
    "    prompt = get_text_up_to_question(text)\n",
    "    tokens = tokenizer.encode(prompt, return_tensors='pt')\n",
    "    _length = 1\n",
    "    tokens_length = tokens.shape[1]\n",
    "    if tokens_length + _length >= 1024:\n",
    "        raise RuntimeError('Text is longer than 1024')\n",
    "    output = model.generate(\n",
    "             tokens.cuda(),\n",
    "             max_length=tokens_length + _length, \n",
    "             pad_token_id=50256\n",
    "    )\n",
    "    to_return = tokenizer.decode(output[0], skip_special_tokens=True)\n",
    "    perplexity = float(model(output, labels=output)[0])\n",
    "    return get_answer_from_text(to_return), perplexity"
   ]
  },
  {
   "cell_type": "markdown",
   "id": "11228648",
   "metadata": {},
   "source": [
    "# Question Answering part"
   ]
  },
  {
   "cell_type": "code",
   "execution_count": 7,
   "id": "a387526c",
   "metadata": {},
   "outputs": [],
   "source": [
    "_question_prompt = '\\nQ: '\n",
    "_answer_prompt = '\\nA: '\n",
    "    \n",
    "def get_text_up_to_question_number(text, number):\n",
    "    pos = text.find(_answer_prompt)\n",
    "    for _ in range(number):\n",
    "        pos = text.find(_answer_prompt, pos + 1)\n",
    "    return text[0:pos + 1]\n",
    "    \n",
    "def get_answers_number(text):\n",
    "    return text.count(_answer_prompt)\n",
    "\n",
    "def get_answer_number(text, number):\n",
    "    pos = text.find(_answer_prompt)\n",
    "    for _ in range(number):\n",
    "        pos = text.find(_answer_prompt, pos + 1)\n",
    "    end = text.find('\\n', pos + len(_answer_prompt))\n",
    "    return text[pos + len(_answer_prompt):end]\n",
    "\n",
    "def get_question_number(text, number):\n",
    "    pos = text.find(_question_prompt)\n",
    "    for _ in range(number):\n",
    "        pos = text.find(_question_prompt, pos + 1)\n",
    "    end = text.find('\\n', pos + len(_question_prompt))\n",
    "    return text[pos + len(_question_prompt):end]\n",
    "\n",
    "def get_all_answers(dev_dict, dev_index):\n",
    "    answers = [[item['input_text'] for item in dev_dict['data'][dev_index]['answers']]]\n",
    "    return [list(set([answers[j][i] for j in range(len(answers))])) for i in range(len(answers[0]))]"
   ]
  },
  {
   "cell_type": "code",
   "execution_count": 8,
   "id": "977eab6e",
   "metadata": {},
   "outputs": [],
   "source": [
    "def get_text_up_to_discussion(item):\n",
    "    text = 'In the text below two people are discussing a story.\\n\\n'\n",
    "    text += 'Story:\\n' + item['story'] + '\\n\\n'\n",
    "    text += 'Discussion:\\n'\n",
    "    return text"
   ]
  },
  {
   "cell_type": "code",
   "execution_count": 9,
   "id": "f6e96c5c",
   "metadata": {},
   "outputs": [],
   "source": [
    "def get_text_from_data_item(item, max_num_questions=0, question_number=-1, last_question=True):\n",
    "    text = 'In the text below two people are discussing a story.\\n\\n'\n",
    "    text += 'Story:\\n' + item['story'] + '\\n\\n'\n",
    "    text += 'Discussion:\\n'\n",
    "    text += '\\n'.join(['Q: ' + q['input_text'] \n",
    "                       + '\\nA: ' + a['input_text'] \n",
    "                       for q, a in zip(item['questions'][max(0,question_number-max_num_questions):question_number+1], \n",
    "                                       item['answers'][max(0,question_number-max_num_questions):question_number+1]) \n",
    "                      ])\n",
    "    if not last_question:\n",
    "        text = '\\n'.join(text.split('\\n')[:-1]) + '\\n'\n",
    "    return text"
   ]
  },
  {
   "cell_type": "code",
   "execution_count": 10,
   "id": "54c90911",
   "metadata": {},
   "outputs": [],
   "source": [
    "train_dict = json.load(open('../data/coqa-train-v1.0.json', encoding='utf8'))\n",
    "train_list = json.load(open('../data/qa_train_list.json', encoding='utf8'))\n",
    "dev_dict = json.load(open('../data/coqa-dev-v1.0.json', encoding='utf8'))\n",
    "dev_list = json.load(open('../data/qa_dev_list.json', encoding='utf8'))"
   ]
  },
  {
   "cell_type": "code",
   "execution_count": 11,
   "id": "ab274b17",
   "metadata": {},
   "outputs": [],
   "source": [
    "def get_text_from_data_item(item, max_num_questions=0, question_number=-1, last_question=True):\n",
    "    text = 'In the text below two people are discussing a story.\\n\\n'\n",
    "    text += 'Story:\\n' + item['story'] + '\\n\\n'\n",
    "    text += 'Discussion:\\n'\n",
    "    text += '\\n'.join(['Q: ' + q['input_text'] \n",
    "                       + '\\nA: ' + a['input_text'] \n",
    "                       for q, a in zip(item['questions'][max(0,question_number-max_num_questions):question_number+1], \n",
    "                                       item['answers'][max(0,question_number-max_num_questions):question_number+1]) \n",
    "                      ])\n",
    "    if not last_question:\n",
    "        text = '\\n'.join(text.split('\\n')[:-1]) + '\\n'\n",
    "    return text"
   ]
  },
  {
   "cell_type": "code",
   "execution_count": 12,
   "id": "9c35f97d",
   "metadata": {},
   "outputs": [],
   "source": [
    "def get_description_from_data_item(item):\n",
    "    return item['story']\n",
    "\n",
    "def get_dialogue_from_data_item(item, max_num_questions=0, question_number=-1, last_question=True):\n",
    "    text = ''\n",
    "    text += ' '.join([q['input_text'] + ' ' + a['input_text'] + '.'\n",
    "                       for q, a in zip(item['questions'][max(0,question_number-max_num_questions):question_number+1], \n",
    "                                       item['answers'][max(0,question_number-max_num_questions):question_number+1]) \n",
    "                      ])\n",
    "    if not last_question:\n",
    "        text = '?'.join(text.split('?')[:-1]) + '?'\n",
    "    return text"
   ]
  },
  {
   "cell_type": "code",
   "execution_count": 13,
   "id": "10a39d38",
   "metadata": {},
   "outputs": [],
   "source": [
    "def create_claim_from_description_and_dialogue(description, dialogue):\n",
    "    if dialogue[-1] == '.':\n",
    "        dialogue = dialogue[:-1]\n",
    "    text = 'Evidence:\\n'\n",
    "    text += description.replace('\\n\\n', '\\n') + '\\n\\n'\n",
    "    text += 'Claim:\\n'\n",
    "    text += dialogue + '\\n\\n'\n",
    "    text += 'The evidence supports the claim:\\n'\n",
    "    return text"
   ]
  },
  {
   "cell_type": "code",
   "execution_count": 14,
   "id": "2f077e87",
   "metadata": {},
   "outputs": [],
   "source": [
    "def get_positive_list_of_claims():\n",
    "    claims = []\n",
    "    \n",
    "    total_number_of_questions = 0\n",
    "    correct_answers = 0\n",
    "    wrong_predictions = []\n",
    "    false_positives = []\n",
    "    dlist = train_list\n",
    "    for index, text in tqdm(enumerate(dlist), total=len(dlist)):\n",
    "        total_questions = get_answers_number(text)\n",
    "        all_answers = get_all_answers(train_dict, index)\n",
    "        for number in range(total_questions):\n",
    "            small_text = get_text_from_data_item(train_dict['data'][index], \n",
    "                                                 max_num_questions=5,\n",
    "                                                 question_number=number,\n",
    "                                                 last_question=False)\n",
    "            description = get_description_from_data_item(train_dict['data'][index])\n",
    "            dialogue = get_dialogue_from_data_item(train_dict['data'][index],\n",
    "                                       max_num_questions=5, \n",
    "                                       question_number=number,\n",
    "                                       last_question=True)\n",
    "            \n",
    "            last_answer = dialogue.split('?')[-1].strip().lower()\n",
    "            if stripped_answer(last_answer) not in ['yes', 'no']:\n",
    "                continue\n",
    "        \n",
    "            claims.append(create_claim_from_description_and_dialogue(description, dialogue) + 'Y')\n",
    "    return claims"
   ]
  },
  {
   "cell_type": "code",
   "execution_count": 15,
   "id": "b7739c2f",
   "metadata": {},
   "outputs": [],
   "source": [
    "model = GPT2LMHeadModel.from_pretrained('gpt2')\n",
    "model.cuda()\n",
    "checkpoint = torch.load('save_small' + str(0))\n",
    "model.load_state_dict(checkpoint['model_state_dict'])\n",
    "_ = model.eval()"
   ]
  },
  {
   "cell_type": "code",
   "execution_count": 16,
   "id": "269d3d49",
   "metadata": {},
   "outputs": [],
   "source": [
    "def generate_multiple_answers(model, prompt, num_replicas=2):\n",
    "    tokens = tokenizer.encode(prompt, return_tensors='pt')\n",
    "    _length = 50\n",
    "    tokens_length = tokens.shape[1]\n",
    "    if tokens_length + _length > 1024:\n",
    "        return ''\n",
    "    \n",
    "    outputs = []\n",
    "    for _ in range(num_replicas):\n",
    "        output = model.generate(\n",
    "             tokens.cuda(),\n",
    "             max_length=tokens_length + _length,\n",
    "             pad_token_id=50256\n",
    "        )\n",
    "        output = tokenizer.decode(output[0], skip_special_tokens=True)\n",
    "        offset = len(prompt)\n",
    "        start = offset + 1\n",
    "        end = output.find('\\n', start)\n",
    "        outputs.append(output[start:end].split(':')[-1].strip())\n",
    "        \n",
    "    return list(set(outputs))"
   ]
  },
  {
   "cell_type": "code",
   "execution_count": 17,
   "id": "b8f73f63",
   "metadata": {},
   "outputs": [],
   "source": [
    "def stripped_answer(text):\n",
    "    return text.lower().strip().replace('.', '')"
   ]
  },
  {
   "cell_type": "code",
   "execution_count": 18,
   "id": "8b59d9d5",
   "metadata": {},
   "outputs": [],
   "source": [
    "def answers_are_consistent(lhs, rhs):\n",
    "    prediction = stripped_answer(lhs)\n",
    "    label = stripped_answer(rhs)\n",
    "    if prediction.lower() == label.lower():\n",
    "        return True\n",
    "    elif prediction.lower() in label.lower():\n",
    "        return True\n",
    "    elif label.lower() in prediction.lower():\n",
    "        return True\n",
    "    return False"
   ]
  },
  {
   "cell_type": "code",
   "execution_count": 19,
   "id": "546ff0a8",
   "metadata": {},
   "outputs": [],
   "source": [
    "import random\n",
    "random.seed(42)\n",
    "\n",
    "def get_adversarial_list_of_texts():\n",
    "    texts = []\n",
    "    \n",
    "    total_number_of_questions = 0\n",
    "    correct_answers = 0\n",
    "    wrong_predictions = []\n",
    "\n",
    "    false_positives = []\n",
    "    dlist = train_list\n",
    "    random.shuffle(dlist)\n",
    "    for index, text in tqdm(enumerate(dlist), total=len(dlist)):\n",
    "        total_questions = get_answers_number(text)\n",
    "        all_answers = get_all_answers(train_dict, index)\n",
    "        substitution_pair_list = []\n",
    "        discussion = ''\n",
    "        new_text = get_text_up_to_discussion(train_dict['data'][index])\n",
    "        for number in range(total_questions):\n",
    "            small_text = get_text_from_data_item(train_dict['data'][index],\n",
    "                                                 max_num_questions=5,\n",
    "                                                 question_number=number,\n",
    "                                                 last_question=False)\n",
    "            dialogue = get_dialogue_from_data_item(train_dict['data'][index],\n",
    "                           max_num_questions=5, \n",
    "                           question_number=number,\n",
    "                           last_question=True)\n",
    "            last_answer = dialogue.split('?')[-1].strip().lower()\n",
    "            dialogue = '?'.join(dialogue.split('?')[:-1]) + '?'\n",
    "            wrong_answer = ''\n",
    "            if stripped_answer(last_answer) in ['yes', 'no', 'unknown']:\n",
    "                continue\n",
    "\n",
    "            else:\n",
    "                generated_answers = generate_multiple_answers(model, small_text)\n",
    "                for candidate in generated_answers:\n",
    "                    if not answers_are_consistent(candidate, last_answer):\n",
    "                        wrong_answer = candidate\n",
    "                        break\n",
    "\n",
    "            if not wrong_answer:\n",
    "                continue\n",
    "                \n",
    "            if stripped_answer(wrong_answer) in ['yes', 'no', 'unknown']:\n",
    "                continue\n",
    "            \n",
    "            if last_answer.replace('.', '') not in new_text:\n",
    "                continue\n",
    "                        \n",
    "            try:\n",
    "                substitution_pair_list.append((last_answer, wrong_answer))\n",
    "                discussion += 'Q: ' + train_dict['data'][index]['questions'][number]['input_text'] + '\\n'\n",
    "                discussion += 'A: ' + wrong_answer + '\\n'\n",
    "            except:\n",
    "                print(f'index {index}, number {number} not in dictionary.')\n",
    "                continue\n",
    "        \n",
    "        if not substitution_pair_list:\n",
    "            continue\n",
    "        \n",
    "        for correct_answer, wrong_answer in substitution_pair_list:\n",
    "            new_text = new_text.replace(correct_answer.replace('.', ''), wrong_answer)\n",
    "        texts.append(new_text + discussion)\n",
    "    return texts"
   ]
  },
  {
   "cell_type": "code",
   "execution_count": 20,
   "id": "241e5cc4",
   "metadata": {
    "scrolled": true
   },
   "outputs": [
    {
     "name": "stderr",
     "output_type": "stream",
     "text": [
      "  1%|          | 45/7199 [07:33<21:29:17, 10.81s/it]"
     ]
    },
    {
     "name": "stdout",
     "output_type": "stream",
     "text": [
      "index 45, number 11 not in dictionary.\n",
      "index 45, number 12 not in dictionary.\n",
      "index 45, number 13 not in dictionary.\n"
     ]
    },
    {
     "name": "stderr",
     "output_type": "stream",
     "text": [
      "  1%|          | 53/7199 [09:03<24:22:02, 12.28s/it]"
     ]
    },
    {
     "name": "stdout",
     "output_type": "stream",
     "text": [
      "index 53, number 1 not in dictionary.\n",
      "index 53, number 2 not in dictionary.\n",
      "index 53, number 3 not in dictionary.\n",
      "index 53, number 4 not in dictionary.\n",
      "index 53, number 5 not in dictionary.\n"
     ]
    },
    {
     "name": "stderr",
     "output_type": "stream",
     "text": [
      "  1%|          | 55/7199 [09:31<25:36:15, 12.90s/it]"
     ]
    },
    {
     "name": "stdout",
     "output_type": "stream",
     "text": [
      "index 55, number 10 not in dictionary.\n",
      "index 55, number 11 not in dictionary.\n",
      "index 55, number 12 not in dictionary.\n",
      "index 55, number 13 not in dictionary.\n"
     ]
    },
    {
     "name": "stderr",
     "output_type": "stream",
     "text": [
      "\r",
      "  1%|          | 56/7199 [09:44<25:44:38, 12.97s/it]"
     ]
    },
    {
     "name": "stdout",
     "output_type": "stream",
     "text": [
      "index 55, number 14 not in dictionary.\n",
      "index 56, number 10 not in dictionary.\n",
      "index 56, number 11 not in dictionary.\n",
      "index 56, number 12 not in dictionary.\n",
      "index 56, number 13 not in dictionary.\n",
      "index 56, number 14 not in dictionary.\n"
     ]
    },
    {
     "name": "stderr",
     "output_type": "stream",
     "text": [
      "  1%|          | 71/7199 [12:27<20:36:47, 10.41s/it]"
     ]
    },
    {
     "name": "stdout",
     "output_type": "stream",
     "text": [
      "index 71, number 14 not in dictionary.\n"
     ]
    },
    {
     "name": "stderr",
     "output_type": "stream",
     "text": [
      "  1%|▏         | 102/7199 [18:16<23:06:44, 11.72s/it]"
     ]
    },
    {
     "name": "stdout",
     "output_type": "stream",
     "text": [
      "index 102, number 10 not in dictionary.\n",
      "index 102, number 11 not in dictionary.\n",
      "index 102, number 12 not in dictionary.\n",
      "index 102, number 13 not in dictionary.\n",
      "index 102, number 14 not in dictionary.\n"
     ]
    },
    {
     "name": "stderr",
     "output_type": "stream",
     "text": [
      "  2%|▏         | 123/7199 [21:51<21:39:55, 11.02s/it]"
     ]
    },
    {
     "name": "stdout",
     "output_type": "stream",
     "text": [
      "index 123, number 6 not in dictionary.\n"
     ]
    },
    {
     "name": "stderr",
     "output_type": "stream",
     "text": [
      "  2%|▏         | 144/7199 [26:07<23:18:25, 11.89s/it]"
     ]
    },
    {
     "name": "stdout",
     "output_type": "stream",
     "text": [
      "index 144, number 11 not in dictionary.\n",
      "index 144, number 12 not in dictionary.\n",
      "index 144, number 13 not in dictionary.\n",
      "index 144, number 14 not in dictionary.\n",
      "index 144, number 15 not in dictionary.\n"
     ]
    },
    {
     "name": "stderr",
     "output_type": "stream",
     "text": [
      "  2%|▏         | 156/7199 [28:03<18:35:41,  9.50s/it]"
     ]
    },
    {
     "name": "stdout",
     "output_type": "stream",
     "text": [
      "index 156, number 11 not in dictionary.\n",
      "index 156, number 12 not in dictionary.\n",
      "index 156, number 13 not in dictionary.\n",
      "index 156, number 14 not in dictionary.\n",
      "index 156, number 15 not in dictionary.\n"
     ]
    },
    {
     "name": "stderr",
     "output_type": "stream",
     "text": [
      "  2%|▏         | 163/7199 [29:14<18:32:41,  9.49s/it]Token indices sequence length is longer than the specified maximum sequence length for this model (1038 > 1024). Running this sequence through the model will result in indexing errors\n",
      "  3%|▎         | 188/7199 [33:57<22:23:15, 11.50s/it]"
     ]
    },
    {
     "name": "stdout",
     "output_type": "stream",
     "text": [
      "index 187, number 19 not in dictionary.\n"
     ]
    },
    {
     "name": "stderr",
     "output_type": "stream",
     "text": [
      "  3%|▎         | 192/7199 [34:38<20:15:44, 10.41s/it]"
     ]
    },
    {
     "name": "stdout",
     "output_type": "stream",
     "text": [
      "index 192, number 10 not in dictionary.\n",
      "index 192, number 11 not in dictionary.\n",
      "index 192, number 12 not in dictionary.\n"
     ]
    },
    {
     "name": "stderr",
     "output_type": "stream",
     "text": [
      "  3%|▎         | 198/7199 [35:44<21:24:21, 11.01s/it]"
     ]
    },
    {
     "name": "stdout",
     "output_type": "stream",
     "text": [
      "index 198, number 18 not in dictionary.\n"
     ]
    },
    {
     "name": "stderr",
     "output_type": "stream",
     "text": [
      "\r",
      "  3%|▎         | 199/7199 [35:58<23:28:48, 12.08s/it]"
     ]
    },
    {
     "name": "stdout",
     "output_type": "stream",
     "text": [
      "index 198, number 19 not in dictionary.\n"
     ]
    },
    {
     "name": "stderr",
     "output_type": "stream",
     "text": [
      "  3%|▎         | 203/7199 [36:57<28:52:49, 14.86s/it]"
     ]
    },
    {
     "name": "stdout",
     "output_type": "stream",
     "text": [
      "index 203, number 20 not in dictionary.\n"
     ]
    },
    {
     "name": "stderr",
     "output_type": "stream",
     "text": [
      "\r",
      "  3%|▎         | 204/7199 [37:09<27:18:07, 14.05s/it]"
     ]
    },
    {
     "name": "stdout",
     "output_type": "stream",
     "text": [
      "index 203, number 21 not in dictionary.\n"
     ]
    },
    {
     "name": "stderr",
     "output_type": "stream",
     "text": [
      "  3%|▎         | 222/7199 [39:43<16:45:34,  8.65s/it]"
     ]
    },
    {
     "name": "stdout",
     "output_type": "stream",
     "text": [
      "index 221, number 20 not in dictionary.\n"
     ]
    },
    {
     "name": "stderr",
     "output_type": "stream",
     "text": [
      "  4%|▎         | 258/7199 [45:59<8:59:10,  4.66s/it] "
     ]
    },
    {
     "name": "stdout",
     "output_type": "stream",
     "text": [
      "index 258, number 10 not in dictionary.\n",
      "index 258, number 11 not in dictionary.\n",
      "index 258, number 12 not in dictionary.\n",
      "index 258, number 13 not in dictionary.\n",
      "index 258, number 14 not in dictionary.\n"
     ]
    },
    {
     "name": "stderr",
     "output_type": "stream",
     "text": [
      "  4%|▎         | 262/7199 [46:55<21:44:11, 11.28s/it]"
     ]
    },
    {
     "name": "stdout",
     "output_type": "stream",
     "text": [
      "index 262, number 12 not in dictionary.\n",
      "index 262, number 13 not in dictionary.\n",
      "index 262, number 14 not in dictionary.\n"
     ]
    },
    {
     "name": "stderr",
     "output_type": "stream",
     "text": [
      "  4%|▍         | 316/7199 [56:15<18:17:07,  9.56s/it]"
     ]
    },
    {
     "name": "stdout",
     "output_type": "stream",
     "text": [
      "index 316, number 2 not in dictionary.\n",
      "index 316, number 3 not in dictionary.\n",
      "index 316, number 4 not in dictionary.\n",
      "index 316, number 5 not in dictionary.\n",
      "index 316, number 6 not in dictionary.\n"
     ]
    },
    {
     "name": "stderr",
     "output_type": "stream",
     "text": [
      "  5%|▍         | 332/7199 [58:54<18:13:49,  9.56s/it]"
     ]
    },
    {
     "name": "stdout",
     "output_type": "stream",
     "text": [
      "index 332, number 15 not in dictionary.\n",
      "index 332, number 16 not in dictionary.\n"
     ]
    },
    {
     "name": "stderr",
     "output_type": "stream",
     "text": [
      "  5%|▍         | 342/7199 [1:00:36<16:12:54,  8.51s/it]"
     ]
    },
    {
     "name": "stdout",
     "output_type": "stream",
     "text": [
      "index 342, number 1 not in dictionary.\n",
      "index 342, number 2 not in dictionary.\n",
      "index 342, number 3 not in dictionary.\n",
      "index 342, number 4 not in dictionary.\n",
      "index 342, number 5 not in dictionary.\n"
     ]
    },
    {
     "name": "stderr",
     "output_type": "stream",
     "text": [
      "  5%|▌         | 369/7199 [1:05:54<17:46:28,  9.37s/it]"
     ]
    },
    {
     "name": "stdout",
     "output_type": "stream",
     "text": [
      "index 369, number 12 not in dictionary.\n",
      "index 369, number 13 not in dictionary.\n"
     ]
    },
    {
     "name": "stderr",
     "output_type": "stream",
     "text": [
      "\r",
      "  5%|▌         | 370/7199 [1:06:07<19:26:30, 10.25s/it]"
     ]
    },
    {
     "name": "stdout",
     "output_type": "stream",
     "text": [
      "index 369, number 14 not in dictionary.\n"
     ]
    },
    {
     "name": "stderr",
     "output_type": "stream",
     "text": [
      "  5%|▌         | 374/7199 [1:07:05<26:33:47, 14.01s/it]"
     ]
    },
    {
     "name": "stdout",
     "output_type": "stream",
     "text": [
      "index 374, number 15 not in dictionary.\n",
      "index 374, number 16 not in dictionary.\n",
      "index 374, number 17 not in dictionary.\n",
      "index 374, number 18 not in dictionary.\n"
     ]
    },
    {
     "name": "stderr",
     "output_type": "stream",
     "text": [
      "\r",
      "  5%|▌         | 375/7199 [1:07:19<26:38:04, 14.05s/it]"
     ]
    },
    {
     "name": "stdout",
     "output_type": "stream",
     "text": [
      "index 374, number 19 not in dictionary.\n"
     ]
    },
    {
     "name": "stderr",
     "output_type": "stream",
     "text": [
      "  5%|▌         | 378/7199 [1:07:50<21:57:24, 11.59s/it]"
     ]
    },
    {
     "name": "stdout",
     "output_type": "stream",
     "text": [
      "index 378, number 14 not in dictionary.\n"
     ]
    },
    {
     "name": "stderr",
     "output_type": "stream",
     "text": [
      "  5%|▌         | 387/7199 [1:09:33<20:57:37, 11.08s/it]"
     ]
    },
    {
     "name": "stdout",
     "output_type": "stream",
     "text": [
      "index 387, number 11 not in dictionary.\n",
      "index 387, number 12 not in dictionary.\n",
      "index 387, number 13 not in dictionary.\n",
      "index 387, number 14 not in dictionary.\n",
      "index 387, number 15 not in dictionary.\n"
     ]
    },
    {
     "name": "stderr",
     "output_type": "stream",
     "text": [
      "\r",
      "  5%|▌         | 388/7199 [1:09:49<23:34:10, 12.46s/it]"
     ]
    },
    {
     "name": "stdout",
     "output_type": "stream",
     "text": [
      "index 388, number 15 not in dictionary.\n"
     ]
    },
    {
     "name": "stderr",
     "output_type": "stream",
     "text": [
      "  5%|▌         | 395/7199 [1:11:07<20:01:51, 10.60s/it]"
     ]
    },
    {
     "name": "stdout",
     "output_type": "stream",
     "text": [
      "index 395, number 10 not in dictionary.\n",
      "index 395, number 11 not in dictionary.\n",
      "index 395, number 12 not in dictionary.\n"
     ]
    },
    {
     "name": "stderr",
     "output_type": "stream",
     "text": [
      "\r",
      "  6%|▌         | 396/7199 [1:11:17<19:58:58, 10.57s/it]"
     ]
    },
    {
     "name": "stdout",
     "output_type": "stream",
     "text": [
      "index 395, number 13 not in dictionary.\n"
     ]
    },
    {
     "name": "stderr",
     "output_type": "stream",
     "text": [
      "  6%|▌         | 404/7199 [1:12:33<17:27:27,  9.25s/it]"
     ]
    },
    {
     "name": "stdout",
     "output_type": "stream",
     "text": [
      "index 404, number 12 not in dictionary.\n",
      "index 404, number 13 not in dictionary.\n",
      "index 404, number 14 not in dictionary.\n",
      "index 404, number 15 not in dictionary.\n",
      "index 404, number 16 not in dictionary.\n"
     ]
    },
    {
     "name": "stderr",
     "output_type": "stream",
     "text": [
      "  6%|▌         | 408/7199 [1:13:13<16:39:15,  8.83s/it]"
     ]
    },
    {
     "name": "stdout",
     "output_type": "stream",
     "text": [
      "index 408, number 10 not in dictionary.\n",
      "index 408, number 11 not in dictionary.\n",
      "index 408, number 12 not in dictionary.\n",
      "index 408, number 13 not in dictionary.\n"
     ]
    },
    {
     "name": "stderr",
     "output_type": "stream",
     "text": [
      "  6%|▌         | 423/7199 [1:16:04<20:23:55, 10.84s/it]"
     ]
    },
    {
     "name": "stdout",
     "output_type": "stream",
     "text": [
      "index 423, number 10 not in dictionary.\n",
      "index 423, number 11 not in dictionary.\n"
     ]
    },
    {
     "name": "stderr",
     "output_type": "stream",
     "text": [
      "\r",
      "  6%|▌         | 424/7199 [1:16:15<20:38:35, 10.97s/it]"
     ]
    },
    {
     "name": "stdout",
     "output_type": "stream",
     "text": [
      "index 423, number 12 not in dictionary.\n"
     ]
    },
    {
     "name": "stderr",
     "output_type": "stream",
     "text": [
      "  6%|▌         | 438/7199 [1:18:38<20:49:30, 11.09s/it]"
     ]
    },
    {
     "name": "stdout",
     "output_type": "stream",
     "text": [
      "index 438, number 14 not in dictionary.\n",
      "index 438, number 15 not in dictionary.\n"
     ]
    },
    {
     "name": "stderr",
     "output_type": "stream",
     "text": [
      "\r",
      "  6%|▌         | 439/7199 [1:18:52<22:26:10, 11.95s/it]"
     ]
    },
    {
     "name": "stdout",
     "output_type": "stream",
     "text": [
      "index 438, number 16 not in dictionary.\n"
     ]
    },
    {
     "name": "stderr",
     "output_type": "stream",
     "text": [
      "  7%|▋         | 473/7199 [1:25:34<20:32:26, 10.99s/it]"
     ]
    },
    {
     "name": "stdout",
     "output_type": "stream",
     "text": [
      "index 473, number 1 not in dictionary.\n",
      "index 473, number 2 not in dictionary.\n",
      "index 473, number 3 not in dictionary.\n",
      "index 473, number 4 not in dictionary.\n",
      "index 473, number 5 not in dictionary.\n"
     ]
    },
    {
     "name": "stderr",
     "output_type": "stream",
     "text": [
      "  7%|▋         | 478/7199 [1:26:29<19:43:05, 10.56s/it]"
     ]
    },
    {
     "name": "stdout",
     "output_type": "stream",
     "text": [
      "index 478, number 11 not in dictionary.\n",
      "index 478, number 12 not in dictionary.\n",
      "index 478, number 13 not in dictionary.\n",
      "index 478, number 14 not in dictionary.\n",
      "index 478, number 15 not in dictionary.\n"
     ]
    },
    {
     "name": "stderr",
     "output_type": "stream",
     "text": [
      "  7%|▋         | 499/7199 [1:29:58<17:09:29,  9.22s/it]"
     ]
    },
    {
     "name": "stdout",
     "output_type": "stream",
     "text": [
      "index 499, number 14 not in dictionary.\n",
      "index 499, number 15 not in dictionary.\n",
      "index 499, number 16 not in dictionary.\n"
     ]
    },
    {
     "name": "stderr",
     "output_type": "stream",
     "text": [
      "  7%|▋         | 524/7199 [1:34:30<18:54:01, 10.19s/it]"
     ]
    },
    {
     "name": "stdout",
     "output_type": "stream",
     "text": [
      "index 524, number 3 not in dictionary.\n",
      "index 524, number 4 not in dictionary.\n",
      "index 524, number 5 not in dictionary.\n",
      "index 524, number 6 not in dictionary.\n",
      "index 524, number 7 not in dictionary.\n"
     ]
    },
    {
     "name": "stderr",
     "output_type": "stream",
     "text": [
      "  8%|▊         | 556/7199 [1:40:21<15:52:51,  8.61s/it]"
     ]
    },
    {
     "name": "stdout",
     "output_type": "stream",
     "text": [
      "index 556, number 13 not in dictionary.\n",
      "index 556, number 14 not in dictionary.\n",
      "index 556, number 15 not in dictionary.\n"
     ]
    },
    {
     "name": "stderr",
     "output_type": "stream",
     "text": [
      "  8%|▊         | 563/7199 [1:41:35<19:35:53, 10.63s/it]"
     ]
    },
    {
     "name": "stdout",
     "output_type": "stream",
     "text": [
      "index 563, number 19 not in dictionary.\n"
     ]
    },
    {
     "name": "stderr",
     "output_type": "stream",
     "text": [
      "  8%|▊         | 571/7199 [1:43:15<20:20:49, 11.05s/it]"
     ]
    },
    {
     "name": "stdout",
     "output_type": "stream",
     "text": [
      "index 571, number 11 not in dictionary.\n",
      "index 571, number 12 not in dictionary.\n",
      "index 571, number 13 not in dictionary.\n",
      "index 571, number 14 not in dictionary.\n",
      "index 571, number 15 not in dictionary.\n"
     ]
    },
    {
     "name": "stderr",
     "output_type": "stream",
     "text": [
      "  8%|▊         | 574/7199 [1:43:46<20:23:50, 11.08s/it]"
     ]
    },
    {
     "name": "stdout",
     "output_type": "stream",
     "text": [
      "index 574, number 10 not in dictionary.\n",
      "index 574, number 11 not in dictionary.\n",
      "index 574, number 12 not in dictionary.\n",
      "index 574, number 13 not in dictionary.\n",
      "index 574, number 14 not in dictionary.\n"
     ]
    },
    {
     "name": "stderr",
     "output_type": "stream",
     "text": [
      "  8%|▊         | 581/7199 [1:45:24<25:16:18, 13.75s/it]"
     ]
    },
    {
     "name": "stdout",
     "output_type": "stream",
     "text": [
      "index 581, number 4 not in dictionary.\n",
      "index 581, number 5 not in dictionary.\n",
      "index 581, number 6 not in dictionary.\n",
      "index 581, number 7 not in dictionary.\n",
      "index 581, number 8 not in dictionary.\n"
     ]
    },
    {
     "name": "stderr",
     "output_type": "stream",
     "text": [
      "  8%|▊         | 606/7199 [1:49:46<14:23:19,  7.86s/it]"
     ]
    },
    {
     "name": "stdout",
     "output_type": "stream",
     "text": [
      "index 605, number 1 not in dictionary.\n",
      "index 606, number 12 not in dictionary.\n",
      "index 606, number 13 not in dictionary.\n",
      "index 606, number 16 not in dictionary.\n"
     ]
    },
    {
     "name": "stderr",
     "output_type": "stream",
     "text": [
      "  8%|▊         | 608/7199 [1:50:13<20:06:18, 10.98s/it]"
     ]
    },
    {
     "name": "stdout",
     "output_type": "stream",
     "text": [
      "index 608, number 12 not in dictionary.\n",
      "index 608, number 13 not in dictionary.\n",
      "index 608, number 14 not in dictionary.\n",
      "index 608, number 15 not in dictionary.\n",
      "index 608, number 16 not in dictionary.\n"
     ]
    },
    {
     "name": "stderr",
     "output_type": "stream",
     "text": [
      "  9%|▊         | 624/7199 [1:53:12<19:35:26, 10.73s/it]"
     ]
    },
    {
     "name": "stdout",
     "output_type": "stream",
     "text": [
      "index 624, number 10 not in dictionary.\n",
      "index 624, number 11 not in dictionary.\n",
      "index 624, number 12 not in dictionary.\n",
      "index 624, number 13 not in dictionary.\n",
      "index 624, number 14 not in dictionary.\n"
     ]
    },
    {
     "name": "stderr",
     "output_type": "stream",
     "text": [
      "  9%|▉         | 667/7199 [2:01:07<24:04:11, 13.27s/it]"
     ]
    },
    {
     "name": "stdout",
     "output_type": "stream",
     "text": [
      "index 667, number 10 not in dictionary.\n",
      "index 667, number 11 not in dictionary.\n",
      "index 667, number 12 not in dictionary.\n",
      "index 667, number 13 not in dictionary.\n",
      "index 667, number 14 not in dictionary.\n"
     ]
    },
    {
     "name": "stderr",
     "output_type": "stream",
     "text": [
      "  9%|▉         | 683/7199 [2:04:02<24:02:29, 13.28s/it]"
     ]
    },
    {
     "name": "stdout",
     "output_type": "stream",
     "text": [
      "index 683, number 10 not in dictionary.\n",
      "index 683, number 11 not in dictionary.\n",
      "index 683, number 12 not in dictionary.\n",
      "index 683, number 13 not in dictionary.\n"
     ]
    },
    {
     "name": "stderr",
     "output_type": "stream",
     "text": [
      "\r",
      " 10%|▉         | 684/7199 [2:04:14<23:23:59, 12.93s/it]"
     ]
    },
    {
     "name": "stdout",
     "output_type": "stream",
     "text": [
      "index 683, number 14 not in dictionary.\n"
     ]
    },
    {
     "name": "stderr",
     "output_type": "stream",
     "text": [
      " 10%|▉         | 688/7199 [2:04:44<15:59:29,  8.84s/it]"
     ]
    },
    {
     "name": "stdout",
     "output_type": "stream",
     "text": [
      "index 688, number 15 not in dictionary.\n",
      "index 688, number 16 not in dictionary.\n",
      "index 688, number 17 not in dictionary.\n",
      "index 688, number 18 not in dictionary.\n"
     ]
    },
    {
     "name": "stderr",
     "output_type": "stream",
     "text": [
      "\r",
      " 10%|▉         | 689/7199 [2:04:56<17:44:54,  9.81s/it]"
     ]
    },
    {
     "name": "stdout",
     "output_type": "stream",
     "text": [
      "index 688, number 19 not in dictionary.\n"
     ]
    },
    {
     "name": "stderr",
     "output_type": "stream",
     "text": [
      " 10%|█         | 733/7199 [2:11:38<18:00:51, 10.03s/it]"
     ]
    },
    {
     "name": "stdout",
     "output_type": "stream",
     "text": [
      "index 733, number 15 not in dictionary.\n",
      "index 733, number 16 not in dictionary.\n"
     ]
    },
    {
     "name": "stderr",
     "output_type": "stream",
     "text": [
      " 10%|█         | 745/7199 [2:13:50<19:50:45, 11.07s/it]"
     ]
    },
    {
     "name": "stdout",
     "output_type": "stream",
     "text": [
      "index 745, number 17 not in dictionary.\n"
     ]
    },
    {
     "name": "stderr",
     "output_type": "stream",
     "text": [
      " 10%|█         | 753/7199 [2:15:21<19:26:36, 10.86s/it]"
     ]
    },
    {
     "name": "stdout",
     "output_type": "stream",
     "text": [
      "index 753, number 15 not in dictionary.\n",
      "index 753, number 16 not in dictionary.\n",
      "index 753, number 17 not in dictionary.\n",
      "index 753, number 18 not in dictionary.\n"
     ]
    },
    {
     "name": "stderr",
     "output_type": "stream",
     "text": [
      "\r",
      " 10%|█         | 754/7199 [2:15:35<21:05:23, 11.78s/it]"
     ]
    },
    {
     "name": "stdout",
     "output_type": "stream",
     "text": [
      "index 753, number 19 not in dictionary.\n"
     ]
    },
    {
     "name": "stderr",
     "output_type": "stream",
     "text": [
      " 11%|█         | 759/7199 [2:16:40<21:31:33, 12.03s/it]"
     ]
    },
    {
     "name": "stdout",
     "output_type": "stream",
     "text": [
      "index 759, number 15 not in dictionary.\n"
     ]
    },
    {
     "name": "stderr",
     "output_type": "stream",
     "text": [
      " 11%|█         | 800/7199 [2:24:38<18:15:02, 10.27s/it]"
     ]
    },
    {
     "name": "stdout",
     "output_type": "stream",
     "text": [
      "index 800, number 2 not in dictionary.\n",
      "index 800, number 3 not in dictionary.\n",
      "index 800, number 4 not in dictionary.\n",
      "index 800, number 5 not in dictionary.\n",
      "index 800, number 6 not in dictionary.\n"
     ]
    },
    {
     "name": "stderr",
     "output_type": "stream",
     "text": [
      "\r",
      " 11%|█         | 801/7199 [2:24:55<21:55:58, 12.34s/it]"
     ]
    },
    {
     "name": "stdout",
     "output_type": "stream",
     "text": [
      "index 801, number 14 not in dictionary.\n"
     ]
    },
    {
     "name": "stderr",
     "output_type": "stream",
     "text": [
      " 11%|█▏        | 814/7199 [2:27:15<18:08:19, 10.23s/it]"
     ]
    },
    {
     "name": "stdout",
     "output_type": "stream",
     "text": [
      "index 814, number 11 not in dictionary.\n",
      "index 814, number 12 not in dictionary.\n",
      "index 814, number 13 not in dictionary.\n",
      "index 814, number 14 not in dictionary.\n",
      "index 814, number 15 not in dictionary.\n"
     ]
    },
    {
     "name": "stderr",
     "output_type": "stream",
     "text": [
      " 11%|█▏        | 823/7199 [2:28:56<19:40:43, 11.11s/it]"
     ]
    },
    {
     "name": "stdout",
     "output_type": "stream",
     "text": [
      "index 822, number 19 not in dictionary.\n"
     ]
    },
    {
     "name": "stderr",
     "output_type": "stream",
     "text": [
      " 12%|█▏        | 832/7199 [2:30:44<19:49:38, 11.21s/it]"
     ]
    },
    {
     "name": "stdout",
     "output_type": "stream",
     "text": [
      "index 832, number 14 not in dictionary.\n"
     ]
    },
    {
     "name": "stderr",
     "output_type": "stream",
     "text": [
      " 12%|█▏        | 854/7199 [2:34:56<18:36:43, 10.56s/it]"
     ]
    },
    {
     "name": "stdout",
     "output_type": "stream",
     "text": [
      "index 854, number 16 not in dictionary.\n",
      "index 854, number 17 not in dictionary.\n",
      "index 854, number 18 not in dictionary.\n"
     ]
    },
    {
     "name": "stderr",
     "output_type": "stream",
     "text": [
      "\r",
      " 12%|█▏        | 855/7199 [2:35:12<21:34:54, 12.25s/it]"
     ]
    },
    {
     "name": "stdout",
     "output_type": "stream",
     "text": [
      "index 854, number 19 not in dictionary.\n"
     ]
    },
    {
     "name": "stderr",
     "output_type": "stream",
     "text": [
      " 12%|█▏        | 888/7199 [2:39:42<12:28:08,  7.11s/it]"
     ]
    },
    {
     "name": "stdout",
     "output_type": "stream",
     "text": [
      "index 888, number 3 not in dictionary.\n",
      "index 888, number 4 not in dictionary.\n",
      "index 888, number 5 not in dictionary.\n",
      "index 888, number 6 not in dictionary.\n",
      "index 888, number 7 not in dictionary.\n"
     ]
    },
    {
     "name": "stderr",
     "output_type": "stream",
     "text": [
      " 12%|█▏        | 893/7199 [2:40:32<17:09:23,  9.79s/it]"
     ]
    },
    {
     "name": "stdout",
     "output_type": "stream",
     "text": [
      "index 893, number 11 not in dictionary.\n",
      "index 893, number 12 not in dictionary.\n",
      "index 893, number 13 not in dictionary.\n",
      "index 893, number 14 not in dictionary.\n"
     ]
    },
    {
     "name": "stderr",
     "output_type": "stream",
     "text": [
      " 12%|█▏        | 895/7199 [2:40:59<20:12:07, 11.54s/it]"
     ]
    },
    {
     "name": "stdout",
     "output_type": "stream",
     "text": [
      "index 895, number 12 not in dictionary.\n",
      "index 895, number 13 not in dictionary.\n",
      "index 895, number 14 not in dictionary.\n",
      "index 895, number 15 not in dictionary.\n",
      "index 895, number 16 not in dictionary.\n"
     ]
    },
    {
     "name": "stderr",
     "output_type": "stream",
     "text": [
      "\r",
      " 12%|█▏        | 896/7199 [2:41:15<22:49:30, 13.04s/it]"
     ]
    },
    {
     "name": "stdout",
     "output_type": "stream",
     "text": [
      "index 896, number 5 not in dictionary.\n",
      "index 896, number 6 not in dictionary.\n",
      "index 896, number 7 not in dictionary.\n",
      "index 896, number 8 not in dictionary.\n",
      "index 896, number 9 not in dictionary.\n"
     ]
    },
    {
     "name": "stderr",
     "output_type": "stream",
     "text": [
      " 13%|█▎        | 910/7199 [2:44:14<22:34:21, 12.92s/it]"
     ]
    },
    {
     "name": "stdout",
     "output_type": "stream",
     "text": [
      "index 909, number 19 not in dictionary.\n"
     ]
    },
    {
     "name": "stderr",
     "output_type": "stream",
     "text": [
      " 13%|█▎        | 927/7199 [2:47:51<20:47:21, 11.93s/it]"
     ]
    },
    {
     "name": "stdout",
     "output_type": "stream",
     "text": [
      "index 927, number 6 not in dictionary.\n",
      "index 927, number 7 not in dictionary.\n",
      "index 927, number 8 not in dictionary.\n",
      "index 927, number 9 not in dictionary.\n",
      "index 927, number 10 not in dictionary.\n"
     ]
    },
    {
     "name": "stderr",
     "output_type": "stream",
     "text": [
      " 13%|█▎        | 938/7199 [2:50:10<21:56:06, 12.61s/it]"
     ]
    },
    {
     "name": "stdout",
     "output_type": "stream",
     "text": [
      "index 938, number 11 not in dictionary.\n",
      "index 938, number 12 not in dictionary.\n",
      "index 938, number 13 not in dictionary.\n",
      "index 938, number 14 not in dictionary.\n"
     ]
    },
    {
     "name": "stderr",
     "output_type": "stream",
     "text": [
      " 13%|█▎        | 957/7199 [2:53:55<16:55:47,  9.76s/it]"
     ]
    },
    {
     "name": "stdout",
     "output_type": "stream",
     "text": [
      "index 957, number 14 not in dictionary.\n",
      "index 957, number 15 not in dictionary.\n",
      "index 957, number 16 not in dictionary.\n",
      "index 957, number 17 not in dictionary.\n",
      "index 957, number 18 not in dictionary.\n"
     ]
    },
    {
     "name": "stderr",
     "output_type": "stream",
     "text": [
      " 13%|█▎        | 966/7199 [2:55:39<17:49:12, 10.29s/it]"
     ]
    },
    {
     "name": "stdout",
     "output_type": "stream",
     "text": [
      "index 966, number 9 not in dictionary.\n",
      "index 966, number 10 not in dictionary.\n",
      "index 966, number 11 not in dictionary.\n",
      "index 966, number 12 not in dictionary.\n",
      "index 966, number 13 not in dictionary.\n"
     ]
    },
    {
     "name": "stderr",
     "output_type": "stream",
     "text": [
      " 13%|█▎        | 969/7199 [2:56:19<20:24:13, 11.79s/it]"
     ]
    },
    {
     "name": "stdout",
     "output_type": "stream",
     "text": [
      "index 969, number 10 not in dictionary.\n",
      "index 969, number 11 not in dictionary.\n",
      "index 969, number 12 not in dictionary.\n",
      "index 969, number 13 not in dictionary.\n",
      "index 969, number 14 not in dictionary.\n"
     ]
    },
    {
     "name": "stderr",
     "output_type": "stream",
     "text": [
      " 14%|█▎        | 974/7199 [2:57:33<25:29:22, 14.74s/it]"
     ]
    },
    {
     "name": "stdout",
     "output_type": "stream",
     "text": [
      "index 973, number 19 not in dictionary.\n"
     ]
    },
    {
     "name": "stderr",
     "output_type": "stream",
     "text": [
      " 14%|█▎        | 985/7199 [2:59:12<12:42:10,  7.36s/it]"
     ]
    },
    {
     "name": "stdout",
     "output_type": "stream",
     "text": [
      "index 985, number 15 not in dictionary.\n"
     ]
    },
    {
     "name": "stderr",
     "output_type": "stream",
     "text": [
      "\r",
      " 14%|█▎        | 986/7199 [2:59:25<15:36:53,  9.05s/it]"
     ]
    },
    {
     "name": "stdout",
     "output_type": "stream",
     "text": [
      "index 985, number 16 not in dictionary.\n"
     ]
    },
    {
     "name": "stderr",
     "output_type": "stream",
     "text": [
      " 14%|█▍        | 996/7199 [3:01:05<17:55:02, 10.40s/it]"
     ]
    },
    {
     "name": "stdout",
     "output_type": "stream",
     "text": [
      "index 996, number 8 not in dictionary.\n"
     ]
    },
    {
     "name": "stderr",
     "output_type": "stream",
     "text": [
      "\r",
      " 14%|█▍        | 997/7199 [3:01:11<15:39:17,  9.09s/it]"
     ]
    },
    {
     "name": "stdout",
     "output_type": "stream",
     "text": [
      "index 996, number 9 not in dictionary.\n"
     ]
    },
    {
     "name": "stderr",
     "output_type": "stream",
     "text": [
      " 14%|█▍        | 1009/7199 [3:02:47<12:52:13,  7.49s/it]"
     ]
    },
    {
     "name": "stdout",
     "output_type": "stream",
     "text": [
      "index 1009, number 15 not in dictionary.\n",
      "index 1009, number 16 not in dictionary.\n",
      "index 1009, number 17 not in dictionary.\n",
      "index 1009, number 18 not in dictionary.\n"
     ]
    },
    {
     "name": "stderr",
     "output_type": "stream",
     "text": [
      " 14%|█▍        | 1030/7199 [3:06:53<22:51:34, 13.34s/it]"
     ]
    },
    {
     "name": "stdout",
     "output_type": "stream",
     "text": [
      "index 1030, number 16 not in dictionary.\n"
     ]
    },
    {
     "name": "stderr",
     "output_type": "stream",
     "text": [
      " 15%|█▍        | 1049/7199 [3:10:22<16:58:05,  9.93s/it]"
     ]
    },
    {
     "name": "stdout",
     "output_type": "stream",
     "text": [
      "index 1049, number 10 not in dictionary.\n",
      "index 1049, number 11 not in dictionary.\n",
      "index 1049, number 12 not in dictionary.\n",
      "index 1049, number 13 not in dictionary.\n",
      "index 1049, number 14 not in dictionary.\n"
     ]
    },
    {
     "name": "stderr",
     "output_type": "stream",
     "text": [
      " 15%|█▍        | 1058/7199 [3:11:47<18:03:20, 10.58s/it]"
     ]
    },
    {
     "name": "stdout",
     "output_type": "stream",
     "text": [
      "index 1058, number 15 not in dictionary.\n",
      "index 1058, number 16 not in dictionary.\n"
     ]
    },
    {
     "name": "stderr",
     "output_type": "stream",
     "text": [
      "\r",
      " 15%|█▍        | 1059/7199 [3:12:00<19:16:27, 11.30s/it]"
     ]
    },
    {
     "name": "stdout",
     "output_type": "stream",
     "text": [
      "index 1058, number 17 not in dictionary.\n"
     ]
    },
    {
     "name": "stderr",
     "output_type": "stream",
     "text": [
      " 15%|█▌        | 1112/7199 [3:20:17<17:55:58, 10.61s/it]"
     ]
    },
    {
     "name": "stdout",
     "output_type": "stream",
     "text": [
      "index 1112, number 10 not in dictionary.\n",
      "index 1112, number 11 not in dictionary.\n"
     ]
    },
    {
     "name": "stderr",
     "output_type": "stream",
     "text": [
      " 16%|█▌        | 1138/7199 [3:24:45<19:27:14, 11.55s/it]"
     ]
    },
    {
     "name": "stdout",
     "output_type": "stream",
     "text": [
      "index 1138, number 8 not in dictionary.\n",
      "index 1138, number 9 not in dictionary.\n",
      "index 1138, number 10 not in dictionary.\n"
     ]
    },
    {
     "name": "stderr",
     "output_type": "stream",
     "text": [
      "\r",
      " 16%|█▌        | 1139/7199 [3:24:55<18:49:43, 11.19s/it]"
     ]
    },
    {
     "name": "stdout",
     "output_type": "stream",
     "text": [
      "index 1138, number 11 not in dictionary.\n"
     ]
    },
    {
     "name": "stderr",
     "output_type": "stream",
     "text": [
      " 16%|█▌        | 1150/7199 [3:26:48<16:38:12,  9.90s/it]"
     ]
    },
    {
     "name": "stdout",
     "output_type": "stream",
     "text": [
      "index 1149, number 15 not in dictionary.\n"
     ]
    },
    {
     "name": "stderr",
     "output_type": "stream",
     "text": [
      " 17%|█▋        | 1223/7199 [3:39:01<17:52:48, 10.77s/it]"
     ]
    },
    {
     "name": "stdout",
     "output_type": "stream",
     "text": [
      "index 1223, number 11 not in dictionary.\n",
      "index 1223, number 12 not in dictionary.\n",
      "index 1223, number 13 not in dictionary.\n",
      "index 1223, number 14 not in dictionary.\n",
      "index 1223, number 15 not in dictionary.\n"
     ]
    },
    {
     "name": "stderr",
     "output_type": "stream",
     "text": [
      " 17%|█▋        | 1245/7199 [3:43:26<21:45:01, 13.15s/it]"
     ]
    },
    {
     "name": "stdout",
     "output_type": "stream",
     "text": [
      "index 1244, number 20 not in dictionary.\n"
     ]
    },
    {
     "name": "stderr",
     "output_type": "stream",
     "text": [
      " 18%|█▊        | 1283/7199 [3:49:49<14:18:27,  8.71s/it]"
     ]
    },
    {
     "name": "stdout",
     "output_type": "stream",
     "text": [
      "index 1283, number 12 not in dictionary.\n",
      "index 1283, number 13 not in dictionary.\n",
      "index 1283, number 14 not in dictionary.\n",
      "index 1283, number 15 not in dictionary.\n",
      "index 1283, number 16 not in dictionary.\n"
     ]
    },
    {
     "name": "stderr",
     "output_type": "stream",
     "text": [
      "\r",
      " 18%|█▊        | 1284/7199 [3:50:04<17:20:37, 10.56s/it]"
     ]
    },
    {
     "name": "stdout",
     "output_type": "stream",
     "text": [
      "index 1284, number 15 not in dictionary.\n"
     ]
    },
    {
     "name": "stderr",
     "output_type": "stream",
     "text": [
      " 18%|█▊        | 1295/7199 [3:52:04<17:00:41, 10.37s/it]"
     ]
    },
    {
     "name": "stdout",
     "output_type": "stream",
     "text": [
      "index 1295, number 18 not in dictionary.\n"
     ]
    },
    {
     "name": "stderr",
     "output_type": "stream",
     "text": [
      " 18%|█▊        | 1331/7199 [3:58:41<18:40:12, 11.45s/it]"
     ]
    },
    {
     "name": "stdout",
     "output_type": "stream",
     "text": [
      "index 1330, number 19 not in dictionary.\n"
     ]
    },
    {
     "name": "stderr",
     "output_type": "stream",
     "text": [
      " 20%|█▉        | 1415/7199 [4:12:32<18:04:45, 11.25s/it]"
     ]
    },
    {
     "name": "stdout",
     "output_type": "stream",
     "text": [
      "index 1415, number 15 not in dictionary.\n",
      "index 1415, number 16 not in dictionary.\n",
      "index 1415, number 17 not in dictionary.\n",
      "index 1415, number 18 not in dictionary.\n"
     ]
    },
    {
     "name": "stderr",
     "output_type": "stream",
     "text": [
      "\r",
      " 20%|█▉        | 1416/7199 [4:12:46<19:19:33, 12.03s/it]"
     ]
    },
    {
     "name": "stdout",
     "output_type": "stream",
     "text": [
      "index 1415, number 19 not in dictionary.\n"
     ]
    },
    {
     "name": "stderr",
     "output_type": "stream",
     "text": [
      " 20%|█▉        | 1432/7199 [4:15:42<13:55:17,  8.69s/it]"
     ]
    },
    {
     "name": "stdout",
     "output_type": "stream",
     "text": [
      "index 1432, number 6 not in dictionary.\n",
      "index 1432, number 7 not in dictionary.\n",
      "index 1432, number 8 not in dictionary.\n",
      "index 1432, number 9 not in dictionary.\n",
      "index 1432, number 10 not in dictionary.\n"
     ]
    },
    {
     "name": "stderr",
     "output_type": "stream",
     "text": [
      " 20%|█▉        | 1435/7199 [4:16:22<18:12:06, 11.37s/it]"
     ]
    },
    {
     "name": "stdout",
     "output_type": "stream",
     "text": [
      "index 1435, number 9 not in dictionary.\n",
      "index 1435, number 10 not in dictionary.\n",
      "index 1435, number 11 not in dictionary.\n",
      "index 1435, number 12 not in dictionary.\n",
      "index 1435, number 13 not in dictionary.\n"
     ]
    },
    {
     "name": "stderr",
     "output_type": "stream",
     "text": [
      " 20%|██        | 1442/7199 [4:17:30<13:38:23,  8.53s/it]"
     ]
    },
    {
     "name": "stdout",
     "output_type": "stream",
     "text": [
      "index 1442, number 10 not in dictionary.\n",
      "index 1442, number 11 not in dictionary.\n",
      "index 1442, number 12 not in dictionary.\n",
      "index 1442, number 13 not in dictionary.\n",
      "index 1442, number 14 not in dictionary.\n"
     ]
    },
    {
     "name": "stderr",
     "output_type": "stream",
     "text": [
      " 20%|██        | 1448/7199 [4:18:41<16:57:55, 10.62s/it]"
     ]
    },
    {
     "name": "stdout",
     "output_type": "stream",
     "text": [
      "index 1448, number 18 not in dictionary.\n",
      "index 1448, number 19 not in dictionary.\n",
      "index 1448, number 20 not in dictionary.\n"
     ]
    },
    {
     "name": "stderr",
     "output_type": "stream",
     "text": [
      "\r",
      " 20%|██        | 1449/7199 [4:18:57<19:33:26, 12.24s/it]"
     ]
    },
    {
     "name": "stdout",
     "output_type": "stream",
     "text": [
      "index 1448, number 21 not in dictionary.\n"
     ]
    },
    {
     "name": "stderr",
     "output_type": "stream",
     "text": [
      "\r",
      " 20%|██        | 1450/7199 [4:19:13<21:06:57, 13.22s/it]"
     ]
    },
    {
     "name": "stdout",
     "output_type": "stream",
     "text": [
      "index 1449, number 19 not in dictionary.\n"
     ]
    },
    {
     "name": "stderr",
     "output_type": "stream",
     "text": [
      " 20%|██        | 1471/7199 [4:22:41<16:46:11, 10.54s/it]"
     ]
    },
    {
     "name": "stdout",
     "output_type": "stream",
     "text": [
      "index 1470, number 11 not in dictionary.\n"
     ]
    },
    {
     "name": "stderr",
     "output_type": "stream",
     "text": [
      " 21%|██        | 1482/7199 [4:24:23<18:51:12, 11.87s/it]"
     ]
    },
    {
     "name": "stdout",
     "output_type": "stream",
     "text": [
      "index 1482, number 6 not in dictionary.\n",
      "index 1482, number 7 not in dictionary.\n"
     ]
    },
    {
     "name": "stderr",
     "output_type": "stream",
     "text": [
      "\r",
      " 21%|██        | 1483/7199 [4:24:31<16:49:11, 10.59s/it]"
     ]
    },
    {
     "name": "stdout",
     "output_type": "stream",
     "text": [
      "index 1482, number 9 not in dictionary.\n"
     ]
    },
    {
     "name": "stderr",
     "output_type": "stream",
     "text": [
      " 21%|██        | 1487/7199 [4:25:01<13:20:16,  8.41s/it]"
     ]
    },
    {
     "name": "stdout",
     "output_type": "stream",
     "text": [
      "index 1487, number 10 not in dictionary.\n",
      "index 1487, number 11 not in dictionary.\n",
      "index 1487, number 12 not in dictionary.\n",
      "index 1487, number 13 not in dictionary.\n",
      "index 1487, number 14 not in dictionary.\n"
     ]
    },
    {
     "name": "stderr",
     "output_type": "stream",
     "text": [
      " 21%|██        | 1492/7199 [4:25:56<15:14:34,  9.62s/it]"
     ]
    },
    {
     "name": "stdout",
     "output_type": "stream",
     "text": [
      "index 1492, number 10 not in dictionary.\n",
      "index 1492, number 11 not in dictionary.\n",
      "index 1492, number 12 not in dictionary.\n",
      "index 1492, number 13 not in dictionary.\n",
      "index 1492, number 14 not in dictionary.\n"
     ]
    },
    {
     "name": "stderr",
     "output_type": "stream",
     "text": [
      " 21%|██        | 1500/7199 [4:27:29<19:02:50, 12.03s/it]"
     ]
    },
    {
     "name": "stdout",
     "output_type": "stream",
     "text": [
      "index 1499, number 19 not in dictionary.\n"
     ]
    },
    {
     "name": "stderr",
     "output_type": "stream",
     "text": [
      " 21%|██        | 1506/7199 [4:28:21<12:18:43,  7.79s/it]"
     ]
    },
    {
     "name": "stdout",
     "output_type": "stream",
     "text": [
      "index 1506, number 10 not in dictionary.\n",
      "index 1506, number 11 not in dictionary.\n",
      "index 1506, number 12 not in dictionary.\n"
     ]
    },
    {
     "name": "stderr",
     "output_type": "stream",
     "text": [
      " 21%|██        | 1529/7199 [4:31:59<9:36:41,  6.10s/it] "
     ]
    },
    {
     "name": "stdout",
     "output_type": "stream",
     "text": [
      "index 1529, number 16 not in dictionary.\n",
      "index 1529, number 17 not in dictionary.\n"
     ]
    },
    {
     "name": "stderr",
     "output_type": "stream",
     "text": [
      "\r",
      " 21%|██▏       | 1530/7199 [4:32:12<13:09:26,  8.36s/it]"
     ]
    },
    {
     "name": "stdout",
     "output_type": "stream",
     "text": [
      "index 1529, number 18 not in dictionary.\n"
     ]
    },
    {
     "name": "stderr",
     "output_type": "stream",
     "text": [
      " 22%|██▏       | 1548/7199 [4:35:12<16:01:31, 10.21s/it]"
     ]
    },
    {
     "name": "stdout",
     "output_type": "stream",
     "text": [
      "index 1548, number 10 not in dictionary.\n",
      "index 1548, number 11 not in dictionary.\n",
      "index 1548, number 12 not in dictionary.\n",
      "index 1548, number 13 not in dictionary.\n",
      "index 1548, number 14 not in dictionary.\n"
     ]
    },
    {
     "name": "stderr",
     "output_type": "stream",
     "text": [
      " 22%|██▏       | 1579/7199 [4:40:26<15:10:44,  9.72s/it]"
     ]
    },
    {
     "name": "stdout",
     "output_type": "stream",
     "text": [
      "index 1579, number 7 not in dictionary.\n",
      "index 1579, number 8 not in dictionary.\n",
      "index 1579, number 9 not in dictionary.\n",
      "index 1579, number 10 not in dictionary.\n",
      "index 1579, number 11 not in dictionary.\n"
     ]
    },
    {
     "name": "stderr",
     "output_type": "stream",
     "text": [
      " 22%|██▏       | 1593/7199 [4:42:51<15:29:27,  9.95s/it]"
     ]
    },
    {
     "name": "stdout",
     "output_type": "stream",
     "text": [
      "index 1592, number 10 not in dictionary.\n"
     ]
    },
    {
     "name": "stderr",
     "output_type": "stream",
     "text": [
      " 22%|██▏       | 1595/7199 [4:43:15<17:43:54, 11.39s/it]"
     ]
    },
    {
     "name": "stdout",
     "output_type": "stream",
     "text": [
      "index 1595, number 15 not in dictionary.\n",
      "index 1595, number 16 not in dictionary.\n",
      "index 1595, number 17 not in dictionary.\n"
     ]
    },
    {
     "name": "stderr",
     "output_type": "stream",
     "text": [
      " 23%|██▎       | 1641/7199 [4:51:40<18:32:26, 12.01s/it]"
     ]
    },
    {
     "name": "stdout",
     "output_type": "stream",
     "text": [
      "index 1641, number 16 not in dictionary.\n",
      "index 1641, number 17 not in dictionary.\n",
      "index 1641, number 18 not in dictionary.\n"
     ]
    },
    {
     "name": "stderr",
     "output_type": "stream",
     "text": [
      " 23%|██▎       | 1651/7199 [4:54:05<22:28:15, 14.58s/it]"
     ]
    },
    {
     "name": "stdout",
     "output_type": "stream",
     "text": [
      "index 1651, number 11 not in dictionary.\n",
      "index 1651, number 12 not in dictionary.\n",
      "index 1651, number 13 not in dictionary.\n",
      "index 1651, number 14 not in dictionary.\n",
      "index 1651, number 15 not in dictionary.\n"
     ]
    },
    {
     "name": "stderr",
     "output_type": "stream",
     "text": [
      " 23%|██▎       | 1678/7199 [4:58:44<15:44:31, 10.26s/it]"
     ]
    },
    {
     "name": "stdout",
     "output_type": "stream",
     "text": [
      "index 1678, number 8 not in dictionary.\n",
      "index 1678, number 9 not in dictionary.\n"
     ]
    },
    {
     "name": "stderr",
     "output_type": "stream",
     "text": [
      "\r",
      " 23%|██▎       | 1679/7199 [4:58:53<15:04:27,  9.83s/it]"
     ]
    },
    {
     "name": "stdout",
     "output_type": "stream",
     "text": [
      "index 1678, number 10 not in dictionary.\n"
     ]
    },
    {
     "name": "stderr",
     "output_type": "stream",
     "text": [
      " 23%|██▎       | 1687/7199 [5:00:29<19:18:07, 12.61s/it]"
     ]
    },
    {
     "name": "stdout",
     "output_type": "stream",
     "text": [
      "index 1686, number 15 not in dictionary.\n"
     ]
    },
    {
     "name": "stderr",
     "output_type": "stream",
     "text": [
      "\r",
      " 23%|██▎       | 1688/7199 [5:00:43<20:10:19, 13.18s/it]"
     ]
    },
    {
     "name": "stdout",
     "output_type": "stream",
     "text": [
      "index 1688, number 13 not in dictionary.\n",
      "index 1688, number 14 not in dictionary.\n"
     ]
    },
    {
     "name": "stderr",
     "output_type": "stream",
     "text": [
      " 24%|██▍       | 1715/7199 [5:04:44<16:13:35, 10.65s/it]"
     ]
    },
    {
     "name": "stdout",
     "output_type": "stream",
     "text": [
      "index 1715, number 18 not in dictionary.\n"
     ]
    },
    {
     "name": "stderr",
     "output_type": "stream",
     "text": [
      "\r",
      " 24%|██▍       | 1716/7199 [5:04:59<18:09:41, 11.92s/it]"
     ]
    },
    {
     "name": "stdout",
     "output_type": "stream",
     "text": [
      "index 1715, number 19 not in dictionary.\n"
     ]
    },
    {
     "name": "stderr",
     "output_type": "stream",
     "text": [
      " 24%|██▍       | 1721/7199 [5:05:48<15:39:48, 10.29s/it]"
     ]
    },
    {
     "name": "stdout",
     "output_type": "stream",
     "text": [
      "index 1721, number 16 not in dictionary.\n",
      "index 1721, number 17 not in dictionary.\n",
      "index 1721, number 18 not in dictionary.\n"
     ]
    },
    {
     "name": "stderr",
     "output_type": "stream",
     "text": [
      " 24%|██▍       | 1732/7199 [5:07:36<14:55:17,  9.83s/it]"
     ]
    },
    {
     "name": "stdout",
     "output_type": "stream",
     "text": [
      "index 1732, number 1 not in dictionary.\n",
      "index 1732, number 2 not in dictionary.\n",
      "index 1732, number 3 not in dictionary.\n",
      "index 1732, number 4 not in dictionary.\n",
      "index 1732, number 5 not in dictionary.\n"
     ]
    },
    {
     "name": "stderr",
     "output_type": "stream",
     "text": [
      " 24%|██▍       | 1742/7199 [5:09:05<14:05:22,  9.29s/it]"
     ]
    },
    {
     "name": "stdout",
     "output_type": "stream",
     "text": [
      "index 1742, number 15 not in dictionary.\n",
      "index 1742, number 17 not in dictionary.\n",
      "index 1742, number 18 not in dictionary.\n"
     ]
    },
    {
     "name": "stderr",
     "output_type": "stream",
     "text": [
      "\r",
      " 24%|██▍       | 1743/7199 [5:09:19<16:06:57, 10.63s/it]"
     ]
    },
    {
     "name": "stdout",
     "output_type": "stream",
     "text": [
      "index 1742, number 19 not in dictionary.\n"
     ]
    },
    {
     "name": "stderr",
     "output_type": "stream",
     "text": [
      " 24%|██▍       | 1748/7199 [5:10:07<15:39:28, 10.34s/it]"
     ]
    },
    {
     "name": "stdout",
     "output_type": "stream",
     "text": [
      "index 1748, number 10 not in dictionary.\n",
      "index 1748, number 11 not in dictionary.\n",
      "index 1748, number 12 not in dictionary.\n",
      "index 1748, number 13 not in dictionary.\n"
     ]
    },
    {
     "name": "stderr",
     "output_type": "stream",
     "text": [
      "\r",
      " 24%|██▍       | 1749/7199 [5:10:19<16:22:53, 10.82s/it]"
     ]
    },
    {
     "name": "stdout",
     "output_type": "stream",
     "text": [
      "index 1748, number 14 not in dictionary.\n"
     ]
    },
    {
     "name": "stderr",
     "output_type": "stream",
     "text": [
      " 25%|██▍       | 1765/7199 [5:12:44<17:22:31, 11.51s/it]"
     ]
    },
    {
     "name": "stdout",
     "output_type": "stream",
     "text": [
      "index 1765, number 16 not in dictionary.\n"
     ]
    },
    {
     "name": "stderr",
     "output_type": "stream",
     "text": [
      "\r",
      " 25%|██▍       | 1766/7199 [5:12:55<16:48:15, 11.13s/it]"
     ]
    },
    {
     "name": "stdout",
     "output_type": "stream",
     "text": [
      "index 1765, number 17 not in dictionary.\n"
     ]
    },
    {
     "name": "stderr",
     "output_type": "stream",
     "text": [
      " 25%|██▍       | 1790/7199 [5:17:05<21:59:37, 14.64s/it]"
     ]
    },
    {
     "name": "stdout",
     "output_type": "stream",
     "text": [
      "index 1790, number 15 not in dictionary.\n"
     ]
    },
    {
     "name": "stderr",
     "output_type": "stream",
     "text": [
      "\r",
      " 25%|██▍       | 1791/7199 [5:17:20<22:20:43, 14.87s/it]"
     ]
    },
    {
     "name": "stdout",
     "output_type": "stream",
     "text": [
      "index 1791, number 16 not in dictionary.\n"
     ]
    },
    {
     "name": "stderr",
     "output_type": "stream",
     "text": [
      " 25%|██▌       | 1809/7199 [5:20:29<16:04:03, 10.73s/it]"
     ]
    },
    {
     "name": "stdout",
     "output_type": "stream",
     "text": [
      "index 1809, number 12 not in dictionary.\n",
      "index 1809, number 13 not in dictionary.\n",
      "index 1809, number 14 not in dictionary.\n",
      "index 1809, number 15 not in dictionary.\n",
      "index 1809, number 16 not in dictionary.\n"
     ]
    },
    {
     "name": "stderr",
     "output_type": "stream",
     "text": [
      " 25%|██▌       | 1814/7199 [5:21:32<19:34:50, 13.09s/it]"
     ]
    },
    {
     "name": "stdout",
     "output_type": "stream",
     "text": [
      "index 1814, number 13 not in dictionary.\n"
     ]
    },
    {
     "name": "stderr",
     "output_type": "stream",
     "text": [
      " 25%|██▌       | 1822/7199 [5:23:05<14:06:27,  9.45s/it]"
     ]
    },
    {
     "name": "stdout",
     "output_type": "stream",
     "text": [
      "index 1822, number 13 not in dictionary.\n"
     ]
    },
    {
     "name": "stderr",
     "output_type": "stream",
     "text": [
      "\r",
      " 25%|██▌       | 1823/7199 [5:23:16<14:46:37,  9.90s/it]"
     ]
    },
    {
     "name": "stdout",
     "output_type": "stream",
     "text": [
      "index 1822, number 14 not in dictionary.\n"
     ]
    },
    {
     "name": "stderr",
     "output_type": "stream",
     "text": [
      " 25%|██▌       | 1827/7199 [5:24:02<16:17:06, 10.91s/it]"
     ]
    },
    {
     "name": "stdout",
     "output_type": "stream",
     "text": [
      "index 1827, number 17 not in dictionary.\n"
     ]
    },
    {
     "name": "stderr",
     "output_type": "stream",
     "text": [
      " 26%|██▌       | 1840/7199 [5:26:29<18:11:52, 12.22s/it]"
     ]
    },
    {
     "name": "stdout",
     "output_type": "stream",
     "text": [
      "index 1839, number 19 not in dictionary.\n"
     ]
    },
    {
     "name": "stderr",
     "output_type": "stream",
     "text": [
      " 26%|██▌       | 1857/7199 [5:29:18<14:17:29,  9.63s/it]"
     ]
    },
    {
     "name": "stdout",
     "output_type": "stream",
     "text": [
      "index 1857, number 15 not in dictionary.\n",
      "index 1857, number 16 not in dictionary.\n"
     ]
    },
    {
     "name": "stderr",
     "output_type": "stream",
     "text": [
      " 27%|██▋       | 1915/7199 [5:39:48<19:10:40, 13.07s/it]"
     ]
    },
    {
     "name": "stdout",
     "output_type": "stream",
     "text": [
      "index 1915, number 16 not in dictionary.\n",
      "index 1915, number 17 not in dictionary.\n",
      "index 1915, number 18 not in dictionary.\n",
      "index 1915, number 19 not in dictionary.\n"
     ]
    },
    {
     "name": "stderr",
     "output_type": "stream",
     "text": [
      " 27%|██▋       | 1934/7199 [5:42:43<16:32:16, 11.31s/it]"
     ]
    },
    {
     "name": "stdout",
     "output_type": "stream",
     "text": [
      "index 1934, number 11 not in dictionary.\n"
     ]
    },
    {
     "name": "stderr",
     "output_type": "stream",
     "text": [
      "\r",
      " 27%|██▋       | 1935/7199 [5:42:55<16:32:22, 11.31s/it]"
     ]
    },
    {
     "name": "stdout",
     "output_type": "stream",
     "text": [
      "index 1934, number 12 not in dictionary.\n"
     ]
    },
    {
     "name": "stderr",
     "output_type": "stream",
     "text": [
      " 27%|██▋       | 1958/7199 [5:46:45<12:10:53,  8.37s/it]"
     ]
    },
    {
     "name": "stdout",
     "output_type": "stream",
     "text": [
      "index 1958, number 11 not in dictionary.\n",
      "index 1958, number 12 not in dictionary.\n",
      "index 1958, number 13 not in dictionary.\n",
      "index 1958, number 14 not in dictionary.\n",
      "index 1958, number 15 not in dictionary.\n"
     ]
    },
    {
     "name": "stderr",
     "output_type": "stream",
     "text": [
      " 27%|██▋       | 1963/7199 [5:47:40<15:34:08, 10.70s/it]"
     ]
    },
    {
     "name": "stdout",
     "output_type": "stream",
     "text": [
      "index 1963, number 2 not in dictionary.\n",
      "index 1963, number 3 not in dictionary.\n",
      "index 1963, number 4 not in dictionary.\n",
      "index 1963, number 5 not in dictionary.\n",
      "index 1963, number 6 not in dictionary.\n"
     ]
    },
    {
     "name": "stderr",
     "output_type": "stream",
     "text": [
      " 27%|██▋       | 1968/7199 [5:48:27<12:42:49,  8.75s/it]"
     ]
    },
    {
     "name": "stdout",
     "output_type": "stream",
     "text": [
      "index 1968, number 15 not in dictionary.\n"
     ]
    },
    {
     "name": "stderr",
     "output_type": "stream",
     "text": [
      "\r",
      " 27%|██▋       | 1969/7199 [5:48:41<15:19:57, 10.55s/it]"
     ]
    },
    {
     "name": "stdout",
     "output_type": "stream",
     "text": [
      "index 1968, number 16 not in dictionary.\n"
     ]
    },
    {
     "name": "stderr",
     "output_type": "stream",
     "text": [
      " 28%|██▊       | 2032/7199 [5:59:22<17:33:42, 12.24s/it]"
     ]
    },
    {
     "name": "stdout",
     "output_type": "stream",
     "text": [
      "index 2032, number 15 not in dictionary.\n",
      "index 2032, number 16 not in dictionary.\n",
      "index 2032, number 17 not in dictionary.\n",
      "index 2032, number 18 not in dictionary.\n"
     ]
    },
    {
     "name": "stderr",
     "output_type": "stream",
     "text": [
      "\r",
      " 28%|██▊       | 2033/7199 [5:59:33<17:06:10, 11.92s/it]"
     ]
    },
    {
     "name": "stdout",
     "output_type": "stream",
     "text": [
      "index 2032, number 19 not in dictionary.\n"
     ]
    },
    {
     "name": "stderr",
     "output_type": "stream",
     "text": [
      " 28%|██▊       | 2050/7199 [6:01:47<12:31:38,  8.76s/it]"
     ]
    },
    {
     "name": "stdout",
     "output_type": "stream",
     "text": [
      "index 2049, number 18 not in dictionary.\n"
     ]
    },
    {
     "name": "stderr",
     "output_type": "stream",
     "text": [
      " 29%|██▉       | 2084/7199 [6:07:17<16:20:09, 11.50s/it]"
     ]
    },
    {
     "name": "stdout",
     "output_type": "stream",
     "text": [
      "index 2084, number 6 not in dictionary.\n",
      "index 2084, number 7 not in dictionary.\n"
     ]
    },
    {
     "name": "stderr",
     "output_type": "stream",
     "text": [
      " 29%|██▉       | 2111/7199 [6:12:38<13:13:04,  9.35s/it]"
     ]
    },
    {
     "name": "stdout",
     "output_type": "stream",
     "text": [
      "index 2111, number 5 not in dictionary.\n",
      "index 2111, number 6 not in dictionary.\n",
      "index 2111, number 7 not in dictionary.\n",
      "index 2111, number 8 not in dictionary.\n",
      "index 2111, number 9 not in dictionary.\n"
     ]
    },
    {
     "name": "stderr",
     "output_type": "stream",
     "text": [
      "\r",
      " 29%|██▉       | 2112/7199 [6:12:54<16:03:32, 11.36s/it]"
     ]
    },
    {
     "name": "stdout",
     "output_type": "stream",
     "text": [
      "index 2112, number 6 not in dictionary.\n",
      "index 2112, number 7 not in dictionary.\n",
      "index 2112, number 8 not in dictionary.\n",
      "index 2112, number 9 not in dictionary.\n",
      "index 2112, number 10 not in dictionary.\n"
     ]
    },
    {
     "name": "stderr",
     "output_type": "stream",
     "text": [
      " 29%|██▉       | 2114/7199 [6:13:25<18:30:37, 13.10s/it]"
     ]
    },
    {
     "name": "stdout",
     "output_type": "stream",
     "text": [
      "index 2114, number 10 not in dictionary.\n",
      "index 2114, number 11 not in dictionary.\n",
      "index 2114, number 12 not in dictionary.\n"
     ]
    },
    {
     "name": "stderr",
     "output_type": "stream",
     "text": [
      " 30%|██▉       | 2130/7199 [6:16:02<13:14:44,  9.41s/it]"
     ]
    },
    {
     "name": "stdout",
     "output_type": "stream",
     "text": [
      "index 2130, number 15 not in dictionary.\n",
      "index 2130, number 16 not in dictionary.\n",
      "index 2130, number 17 not in dictionary.\n",
      "index 2130, number 18 not in dictionary.\n"
     ]
    },
    {
     "name": "stderr",
     "output_type": "stream",
     "text": [
      "\r",
      " 30%|██▉       | 2131/7199 [6:16:18<16:06:12, 11.44s/it]"
     ]
    },
    {
     "name": "stdout",
     "output_type": "stream",
     "text": [
      "index 2130, number 19 not in dictionary.\n"
     ]
    },
    {
     "name": "stderr",
     "output_type": "stream",
     "text": [
      " 30%|██▉       | 2140/7199 [6:17:49<15:48:29, 11.25s/it]"
     ]
    },
    {
     "name": "stdout",
     "output_type": "stream",
     "text": [
      "index 2140, number 11 not in dictionary.\n",
      "index 2140, number 12 not in dictionary.\n",
      "index 2140, number 13 not in dictionary.\n",
      "index 2140, number 14 not in dictionary.\n",
      "index 2140, number 15 not in dictionary.\n"
     ]
    },
    {
     "name": "stderr",
     "output_type": "stream",
     "text": [
      " 30%|██▉       | 2152/7199 [6:20:14<17:02:44, 12.16s/it]"
     ]
    },
    {
     "name": "stdout",
     "output_type": "stream",
     "text": [
      "index 2151, number 19 not in dictionary.\n"
     ]
    },
    {
     "name": "stderr",
     "output_type": "stream",
     "text": [
      " 30%|██▉       | 2154/7199 [6:20:32<14:48:30, 10.57s/it]"
     ]
    },
    {
     "name": "stdout",
     "output_type": "stream",
     "text": [
      "index 2154, number 6 not in dictionary.\n"
     ]
    },
    {
     "name": "stderr",
     "output_type": "stream",
     "text": [
      " 30%|███       | 2189/7199 [6:26:51<16:16:27, 11.69s/it]"
     ]
    },
    {
     "name": "stdout",
     "output_type": "stream",
     "text": [
      "index 2189, number 14 not in dictionary.\n",
      "index 2189, number 15 not in dictionary.\n",
      "index 2189, number 16 not in dictionary.\n",
      "index 2189, number 17 not in dictionary.\n",
      "index 2189, number 18 not in dictionary.\n"
     ]
    },
    {
     "name": "stderr",
     "output_type": "stream",
     "text": [
      " 31%|███       | 2203/7199 [6:29:47<18:44:18, 13.50s/it]"
     ]
    },
    {
     "name": "stdout",
     "output_type": "stream",
     "text": [
      "index 2203, number 15 not in dictionary.\n",
      "index 2203, number 16 not in dictionary.\n",
      "index 2203, number 17 not in dictionary.\n"
     ]
    },
    {
     "name": "stderr",
     "output_type": "stream",
     "text": [
      " 31%|███       | 2225/7199 [6:33:19<13:08:47,  9.51s/it]"
     ]
    },
    {
     "name": "stdout",
     "output_type": "stream",
     "text": [
      "index 2225, number 10 not in dictionary.\n",
      "index 2225, number 12 not in dictionary.\n",
      "index 2225, number 14 not in dictionary.\n"
     ]
    },
    {
     "name": "stderr",
     "output_type": "stream",
     "text": [
      " 31%|███       | 2227/7199 [6:33:51<17:43:49, 12.84s/it]"
     ]
    },
    {
     "name": "stdout",
     "output_type": "stream",
     "text": [
      "index 2227, number 13 not in dictionary.\n",
      "index 2227, number 14 not in dictionary.\n",
      "index 2227, number 15 not in dictionary.\n",
      "index 2227, number 16 not in dictionary.\n"
     ]
    },
    {
     "name": "stderr",
     "output_type": "stream",
     "text": [
      "\r",
      " 31%|███       | 2228/7199 [6:34:10<19:59:26, 14.48s/it]"
     ]
    },
    {
     "name": "stdout",
     "output_type": "stream",
     "text": [
      "index 2228, number 10 not in dictionary.\n",
      "index 2228, number 11 not in dictionary.\n",
      "index 2228, number 12 not in dictionary.\n",
      "index 2228, number 13 not in dictionary.\n",
      "index 2228, number 14 not in dictionary.\n"
     ]
    },
    {
     "name": "stderr",
     "output_type": "stream",
     "text": [
      " 31%|███       | 2234/7199 [6:35:10<13:15:03,  9.61s/it]"
     ]
    },
    {
     "name": "stdout",
     "output_type": "stream",
     "text": [
      "index 2234, number 10 not in dictionary.\n",
      "index 2234, number 11 not in dictionary.\n",
      "index 2234, number 12 not in dictionary.\n",
      "index 2234, number 13 not in dictionary.\n"
     ]
    },
    {
     "name": "stderr",
     "output_type": "stream",
     "text": [
      "\r",
      " 31%|███       | 2235/7199 [6:35:19<12:56:36,  9.39s/it]"
     ]
    },
    {
     "name": "stdout",
     "output_type": "stream",
     "text": [
      "index 2234, number 14 not in dictionary.\n"
     ]
    },
    {
     "name": "stderr",
     "output_type": "stream",
     "text": [
      " 31%|███       | 2237/7199 [6:35:37<13:07:42,  9.52s/it]"
     ]
    },
    {
     "name": "stdout",
     "output_type": "stream",
     "text": [
      "index 2237, number 15 not in dictionary.\n"
     ]
    },
    {
     "name": "stderr",
     "output_type": "stream",
     "text": [
      " 31%|███       | 2243/7199 [6:36:34<11:35:34,  8.42s/it]"
     ]
    },
    {
     "name": "stdout",
     "output_type": "stream",
     "text": [
      "index 2243, number 12 not in dictionary.\n",
      "index 2243, number 13 not in dictionary.\n",
      "index 2243, number 14 not in dictionary.\n",
      "index 2243, number 15 not in dictionary.\n",
      "index 2243, number 16 not in dictionary.\n"
     ]
    },
    {
     "name": "stderr",
     "output_type": "stream",
     "text": [
      " 31%|███▏      | 2251/7199 [6:37:52<13:42:39,  9.98s/it]"
     ]
    },
    {
     "name": "stdout",
     "output_type": "stream",
     "text": [
      "index 2250, number 13 not in dictionary.\n",
      "index 2251, number 16 not in dictionary.\n",
      "index 2251, number 17 not in dictionary.\n",
      "index 2251, number 18 not in dictionary.\n"
     ]
    },
    {
     "name": "stderr",
     "output_type": "stream",
     "text": [
      "\r",
      " 31%|███▏      | 2252/7199 [6:38:10<16:43:57, 12.18s/it]"
     ]
    },
    {
     "name": "stdout",
     "output_type": "stream",
     "text": [
      "index 2251, number 19 not in dictionary.\n"
     ]
    },
    {
     "name": "stderr",
     "output_type": "stream",
     "text": [
      " 31%|███▏      | 2257/7199 [6:39:00<13:58:47, 10.18s/it]"
     ]
    },
    {
     "name": "stdout",
     "output_type": "stream",
     "text": [
      "index 2257, number 2 not in dictionary.\n",
      "index 2257, number 3 not in dictionary.\n",
      "index 2257, number 4 not in dictionary.\n",
      "index 2257, number 5 not in dictionary.\n",
      "index 2257, number 6 not in dictionary.\n"
     ]
    },
    {
     "name": "stderr",
     "output_type": "stream",
     "text": [
      " 31%|███▏      | 2267/7199 [6:40:41<15:06:15, 11.02s/it]"
     ]
    },
    {
     "name": "stdout",
     "output_type": "stream",
     "text": [
      "index 2267, number 15 not in dictionary.\n",
      "index 2267, number 16 not in dictionary.\n",
      "index 2267, number 17 not in dictionary.\n"
     ]
    },
    {
     "name": "stderr",
     "output_type": "stream",
     "text": [
      "\r",
      " 32%|███▏      | 2268/7199 [6:40:54<16:01:10, 11.70s/it]"
     ]
    },
    {
     "name": "stdout",
     "output_type": "stream",
     "text": [
      "index 2267, number 18 not in dictionary.\n"
     ]
    },
    {
     "name": "stderr",
     "output_type": "stream",
     "text": [
      " 32%|███▏      | 2295/7199 [6:45:19<11:24:42,  8.38s/it]"
     ]
    },
    {
     "name": "stdout",
     "output_type": "stream",
     "text": [
      "index 2295, number 14 not in dictionary.\n",
      "index 2295, number 15 not in dictionary.\n",
      "index 2295, number 16 not in dictionary.\n",
      "index 2295, number 17 not in dictionary.\n",
      "index 2295, number 18 not in dictionary.\n"
     ]
    },
    {
     "name": "stderr",
     "output_type": "stream",
     "text": [
      " 32%|███▏      | 2300/7199 [6:46:21<15:51:10, 11.65s/it]"
     ]
    },
    {
     "name": "stdout",
     "output_type": "stream",
     "text": [
      "index 2300, number 14 not in dictionary.\n",
      "index 2300, number 15 not in dictionary.\n"
     ]
    },
    {
     "name": "stderr",
     "output_type": "stream",
     "text": [
      " 32%|███▏      | 2302/7199 [6:46:49<17:20:53, 12.75s/it]"
     ]
    },
    {
     "name": "stdout",
     "output_type": "stream",
     "text": [
      "index 2302, number 12 not in dictionary.\n",
      "index 2302, number 13 not in dictionary.\n",
      "index 2302, number 14 not in dictionary.\n",
      "index 2302, number 15 not in dictionary.\n",
      "index 2302, number 16 not in dictionary.\n"
     ]
    },
    {
     "name": "stderr",
     "output_type": "stream",
     "text": [
      " 32%|███▏      | 2320/7199 [6:49:33<14:08:53, 10.44s/it]"
     ]
    },
    {
     "name": "stdout",
     "output_type": "stream",
     "text": [
      "index 2320, number 13 not in dictionary.\n",
      "index 2320, number 14 not in dictionary.\n",
      "index 2320, number 15 not in dictionary.\n",
      "index 2320, number 16 not in dictionary.\n"
     ]
    },
    {
     "name": "stderr",
     "output_type": "stream",
     "text": [
      "\r",
      " 32%|███▏      | 2321/7199 [6:49:48<16:14:23, 11.99s/it]"
     ]
    },
    {
     "name": "stdout",
     "output_type": "stream",
     "text": [
      "index 2320, number 17 not in dictionary.\n"
     ]
    },
    {
     "name": "stderr",
     "output_type": "stream",
     "text": [
      " 33%|███▎      | 2365/7199 [6:57:44<16:43:30, 12.46s/it]"
     ]
    },
    {
     "name": "stdout",
     "output_type": "stream",
     "text": [
      "index 2365, number 15 not in dictionary.\n"
     ]
    },
    {
     "name": "stderr",
     "output_type": "stream",
     "text": [
      " 33%|███▎      | 2370/7199 [6:58:41<16:47:45, 12.52s/it]"
     ]
    },
    {
     "name": "stdout",
     "output_type": "stream",
     "text": [
      "index 2370, number 17 not in dictionary.\n",
      "index 2370, number 18 not in dictionary.\n"
     ]
    },
    {
     "name": "stderr",
     "output_type": "stream",
     "text": [
      "\r",
      " 33%|███▎      | 2371/7199 [6:58:55<17:11:14, 12.82s/it]"
     ]
    },
    {
     "name": "stdout",
     "output_type": "stream",
     "text": [
      "index 2370, number 19 not in dictionary.\n"
     ]
    },
    {
     "name": "stderr",
     "output_type": "stream",
     "text": [
      " 33%|███▎      | 2387/7199 [7:01:13<12:26:12,  9.30s/it]"
     ]
    },
    {
     "name": "stdout",
     "output_type": "stream",
     "text": [
      "index 2387, number 16 not in dictionary.\n",
      "index 2387, number 17 not in dictionary.\n",
      "index 2387, number 18 not in dictionary.\n"
     ]
    },
    {
     "name": "stderr",
     "output_type": "stream",
     "text": [
      "\r",
      " 33%|███▎      | 2388/7199 [7:01:31<15:45:32, 11.79s/it]"
     ]
    },
    {
     "name": "stdout",
     "output_type": "stream",
     "text": [
      "index 2388, number 15 not in dictionary.\n",
      "index 2388, number 16 not in dictionary.\n",
      "index 2388, number 17 not in dictionary.\n"
     ]
    },
    {
     "name": "stderr",
     "output_type": "stream",
     "text": [
      "\r",
      " 33%|███▎      | 2389/7199 [7:01:45<16:57:21, 12.69s/it]"
     ]
    },
    {
     "name": "stdout",
     "output_type": "stream",
     "text": [
      "index 2388, number 18 not in dictionary.\n"
     ]
    },
    {
     "name": "stderr",
     "output_type": "stream",
     "text": [
      " 33%|███▎      | 2395/7199 [7:02:53<14:11:28, 10.63s/it]"
     ]
    },
    {
     "name": "stdout",
     "output_type": "stream",
     "text": [
      "index 2395, number 9 not in dictionary.\n",
      "index 2395, number 10 not in dictionary.\n",
      "index 2395, number 11 not in dictionary.\n",
      "index 2395, number 12 not in dictionary.\n",
      "index 2395, number 13 not in dictionary.\n"
     ]
    },
    {
     "name": "stderr",
     "output_type": "stream",
     "text": [
      " 33%|███▎      | 2399/7199 [7:03:47<16:10:28, 12.13s/it]"
     ]
    },
    {
     "name": "stdout",
     "output_type": "stream",
     "text": [
      "index 2399, number 16 not in dictionary.\n",
      "index 2399, number 17 not in dictionary.\n"
     ]
    },
    {
     "name": "stderr",
     "output_type": "stream",
     "text": [
      "\r",
      " 33%|███▎      | 2400/7199 [7:04:02<17:11:23, 12.90s/it]"
     ]
    },
    {
     "name": "stdout",
     "output_type": "stream",
     "text": [
      "index 2399, number 18 not in dictionary.\n"
     ]
    },
    {
     "name": "stderr",
     "output_type": "stream",
     "text": [
      " 33%|███▎      | 2403/7199 [7:04:35<15:42:54, 11.80s/it]"
     ]
    },
    {
     "name": "stdout",
     "output_type": "stream",
     "text": [
      "index 2403, number 15 not in dictionary.\n",
      "index 2403, number 16 not in dictionary.\n"
     ]
    },
    {
     "name": "stderr",
     "output_type": "stream",
     "text": [
      " 34%|███▎      | 2418/7199 [7:07:17<11:50:51,  8.92s/it]"
     ]
    },
    {
     "name": "stdout",
     "output_type": "stream",
     "text": [
      "index 2418, number 18 not in dictionary.\n"
     ]
    },
    {
     "name": "stderr",
     "output_type": "stream",
     "text": [
      "\r",
      " 34%|███▎      | 2419/7199 [7:07:31<14:10:15, 10.67s/it]"
     ]
    },
    {
     "name": "stdout",
     "output_type": "stream",
     "text": [
      "index 2418, number 19 not in dictionary.\n"
     ]
    },
    {
     "name": "stderr",
     "output_type": "stream",
     "text": [
      " 34%|███▍      | 2442/7199 [7:11:56<13:35:42, 10.29s/it]"
     ]
    },
    {
     "name": "stdout",
     "output_type": "stream",
     "text": [
      "index 2441, number 20 not in dictionary.\n"
     ]
    },
    {
     "name": "stderr",
     "output_type": "stream",
     "text": [
      " 34%|███▍      | 2472/7199 [7:17:27<14:13:01, 10.83s/it]"
     ]
    },
    {
     "name": "stdout",
     "output_type": "stream",
     "text": [
      "index 2472, number 18 not in dictionary.\n"
     ]
    },
    {
     "name": "stderr",
     "output_type": "stream",
     "text": [
      "\r",
      " 34%|███▍      | 2473/7199 [7:17:39<14:19:47, 10.92s/it]"
     ]
    },
    {
     "name": "stdout",
     "output_type": "stream",
     "text": [
      "index 2472, number 19 not in dictionary.\n"
     ]
    },
    {
     "name": "stderr",
     "output_type": "stream",
     "text": [
      "\r",
      " 34%|███▍      | 2474/7199 [7:17:48<13:49:54, 10.54s/it]"
     ]
    },
    {
     "name": "stdout",
     "output_type": "stream",
     "text": [
      "index 2474, number 15 not in dictionary.\n",
      "index 2474, number 16 not in dictionary.\n",
      "index 2474, number 17 not in dictionary.\n",
      "index 2474, number 18 not in dictionary.\n"
     ]
    },
    {
     "name": "stderr",
     "output_type": "stream",
     "text": [
      "\r",
      " 34%|███▍      | 2475/7199 [7:18:05<16:11:03, 12.33s/it]"
     ]
    },
    {
     "name": "stdout",
     "output_type": "stream",
     "text": [
      "index 2474, number 19 not in dictionary.\n"
     ]
    },
    {
     "name": "stderr",
     "output_type": "stream",
     "text": [
      " 35%|███▍      | 2487/7199 [7:20:23<13:31:29, 10.33s/it]"
     ]
    },
    {
     "name": "stdout",
     "output_type": "stream",
     "text": [
      "index 2487, number 12 not in dictionary.\n",
      "index 2487, number 13 not in dictionary.\n",
      "index 2487, number 14 not in dictionary.\n",
      "index 2487, number 15 not in dictionary.\n",
      "index 2487, number 16 not in dictionary.\n"
     ]
    },
    {
     "name": "stderr",
     "output_type": "stream",
     "text": [
      " 35%|███▍      | 2497/7199 [7:21:53<11:23:20,  8.72s/it]"
     ]
    },
    {
     "name": "stdout",
     "output_type": "stream",
     "text": [
      "index 2497, number 17 not in dictionary.\n",
      "index 2497, number 18 not in dictionary.\n"
     ]
    },
    {
     "name": "stderr",
     "output_type": "stream",
     "text": [
      "\r",
      " 35%|███▍      | 2498/7199 [7:22:07<13:26:14, 10.29s/it]"
     ]
    },
    {
     "name": "stdout",
     "output_type": "stream",
     "text": [
      "index 2497, number 19 not in dictionary.\n"
     ]
    },
    {
     "name": "stderr",
     "output_type": "stream",
     "text": [
      " 35%|███▍      | 2500/7199 [7:22:24<12:02:10,  9.22s/it]"
     ]
    },
    {
     "name": "stdout",
     "output_type": "stream",
     "text": [
      "index 2500, number 15 not in dictionary.\n",
      "index 2500, number 16 not in dictionary.\n",
      "index 2500, number 17 not in dictionary.\n",
      "index 2500, number 18 not in dictionary.\n"
     ]
    },
    {
     "name": "stderr",
     "output_type": "stream",
     "text": [
      "\r",
      " 35%|███▍      | 2501/7199 [7:22:36<13:13:25, 10.13s/it]"
     ]
    },
    {
     "name": "stdout",
     "output_type": "stream",
     "text": [
      "index 2500, number 19 not in dictionary.\n"
     ]
    },
    {
     "name": "stderr",
     "output_type": "stream",
     "text": [
      " 35%|███▍      | 2518/7199 [7:25:05<11:10:32,  8.59s/it]"
     ]
    },
    {
     "name": "stdout",
     "output_type": "stream",
     "text": [
      "index 2518, number 10 not in dictionary.\n",
      "index 2518, number 11 not in dictionary.\n",
      "index 2518, number 12 not in dictionary.\n",
      "index 2518, number 13 not in dictionary.\n",
      "index 2518, number 14 not in dictionary.\n"
     ]
    },
    {
     "name": "stderr",
     "output_type": "stream",
     "text": [
      "\r",
      " 35%|███▍      | 2519/7199 [7:25:14<11:32:54,  8.88s/it]"
     ]
    },
    {
     "name": "stdout",
     "output_type": "stream",
     "text": [
      "index 2519, number 17 not in dictionary.\n",
      "index 2519, number 18 not in dictionary.\n"
     ]
    },
    {
     "name": "stderr",
     "output_type": "stream",
     "text": [
      "\r",
      " 35%|███▌      | 2520/7199 [7:25:26<12:47:25,  9.84s/it]"
     ]
    },
    {
     "name": "stdout",
     "output_type": "stream",
     "text": [
      "index 2519, number 19 not in dictionary.\n"
     ]
    },
    {
     "name": "stderr",
     "output_type": "stream",
     "text": [
      " 35%|███▌      | 2526/7199 [7:26:20<12:32:00,  9.66s/it]"
     ]
    },
    {
     "name": "stdout",
     "output_type": "stream",
     "text": [
      "index 2526, number 10 not in dictionary.\n",
      "index 2526, number 11 not in dictionary.\n",
      "index 2526, number 12 not in dictionary.\n",
      "index 2526, number 13 not in dictionary.\n",
      "index 2526, number 14 not in dictionary.\n"
     ]
    },
    {
     "name": "stderr",
     "output_type": "stream",
     "text": [
      " 35%|███▌      | 2528/7199 [7:26:51<16:14:15, 12.51s/it]"
     ]
    },
    {
     "name": "stdout",
     "output_type": "stream",
     "text": [
      "index 2528, number 3 not in dictionary.\n",
      "index 2528, number 4 not in dictionary.\n",
      "index 2528, number 5 not in dictionary.\n",
      "index 2528, number 6 not in dictionary.\n",
      "index 2528, number 7 not in dictionary.\n"
     ]
    },
    {
     "name": "stderr",
     "output_type": "stream",
     "text": [
      " 35%|███▌      | 2533/7199 [7:27:41<15:00:43, 11.58s/it]"
     ]
    },
    {
     "name": "stdout",
     "output_type": "stream",
     "text": [
      "index 2533, number 18 not in dictionary.\n"
     ]
    },
    {
     "name": "stderr",
     "output_type": "stream",
     "text": [
      "\r",
      " 35%|███▌      | 2534/7199 [7:27:56<16:15:50, 12.55s/it]"
     ]
    },
    {
     "name": "stdout",
     "output_type": "stream",
     "text": [
      "index 2533, number 19 not in dictionary.\n"
     ]
    },
    {
     "name": "stderr",
     "output_type": "stream",
     "text": [
      " 35%|███▌      | 2552/7199 [7:31:14<14:24:02, 11.16s/it]"
     ]
    },
    {
     "name": "stdout",
     "output_type": "stream",
     "text": [
      "index 2552, number 10 not in dictionary.\n",
      "index 2552, number 11 not in dictionary.\n",
      "index 2552, number 12 not in dictionary.\n"
     ]
    },
    {
     "name": "stderr",
     "output_type": "stream",
     "text": [
      "\r",
      " 35%|███▌      | 2553/7199 [7:31:23<13:47:51, 10.69s/it]"
     ]
    },
    {
     "name": "stdout",
     "output_type": "stream",
     "text": [
      "index 2552, number 13 not in dictionary.\n"
     ]
    },
    {
     "name": "stderr",
     "output_type": "stream",
     "text": [
      " 36%|███▌      | 2566/7199 [7:33:51<13:41:19, 10.64s/it]"
     ]
    },
    {
     "name": "stdout",
     "output_type": "stream",
     "text": [
      "index 2566, number 10 not in dictionary.\n",
      "index 2566, number 11 not in dictionary.\n",
      "index 2566, number 14 not in dictionary.\n"
     ]
    },
    {
     "name": "stderr",
     "output_type": "stream",
     "text": [
      " 36%|███▌      | 2587/7199 [7:37:52<14:25:28, 11.26s/it]"
     ]
    },
    {
     "name": "stdout",
     "output_type": "stream",
     "text": [
      "index 2587, number 7 not in dictionary.\n",
      "index 2587, number 8 not in dictionary.\n",
      "index 2587, number 9 not in dictionary.\n",
      "index 2587, number 10 not in dictionary.\n",
      "index 2587, number 11 not in dictionary.\n"
     ]
    },
    {
     "name": "stderr",
     "output_type": "stream",
     "text": [
      " 36%|███▌      | 2602/7199 [7:40:42<15:22:11, 12.04s/it]"
     ]
    },
    {
     "name": "stdout",
     "output_type": "stream",
     "text": [
      "index 2602, number 16 not in dictionary.\n"
     ]
    },
    {
     "name": "stderr",
     "output_type": "stream",
     "text": [
      " 36%|███▋      | 2610/7199 [7:42:23<13:13:11, 10.37s/it]"
     ]
    },
    {
     "name": "stdout",
     "output_type": "stream",
     "text": [
      "index 2610, number 14 not in dictionary.\n"
     ]
    },
    {
     "name": "stderr",
     "output_type": "stream",
     "text": [
      " 36%|███▋      | 2621/7199 [7:44:35<15:41:57, 12.35s/it]"
     ]
    },
    {
     "name": "stdout",
     "output_type": "stream",
     "text": [
      "index 2620, number 16 not in dictionary.\n",
      "index 2621, number 10 not in dictionary.\n",
      "index 2621, number 11 not in dictionary.\n",
      "index 2621, number 12 not in dictionary.\n",
      "index 2621, number 13 not in dictionary.\n",
      "index 2621, number 14 not in dictionary.\n"
     ]
    },
    {
     "name": "stderr",
     "output_type": "stream",
     "text": [
      " 37%|███▋      | 2647/7199 [7:49:39<12:45:23, 10.09s/it]"
     ]
    },
    {
     "name": "stdout",
     "output_type": "stream",
     "text": [
      "index 2647, number 13 not in dictionary.\n",
      "index 2647, number 14 not in dictionary.\n",
      "index 2647, number 15 not in dictionary.\n",
      "index 2647, number 16 not in dictionary.\n",
      "index 2647, number 17 not in dictionary.\n"
     ]
    },
    {
     "name": "stderr",
     "output_type": "stream",
     "text": [
      " 37%|███▋      | 2651/7199 [7:50:18<12:52:04, 10.19s/it]"
     ]
    },
    {
     "name": "stdout",
     "output_type": "stream",
     "text": [
      "index 2650, number 20 not in dictionary.\n"
     ]
    },
    {
     "name": "stderr",
     "output_type": "stream",
     "text": [
      " 37%|███▋      | 2668/7199 [7:53:18<12:27:49,  9.90s/it]"
     ]
    },
    {
     "name": "stdout",
     "output_type": "stream",
     "text": [
      "index 2668, number 18 not in dictionary.\n"
     ]
    },
    {
     "name": "stderr",
     "output_type": "stream",
     "text": [
      "\r",
      " 37%|███▋      | 2669/7199 [7:53:35<14:57:12, 11.88s/it]"
     ]
    },
    {
     "name": "stdout",
     "output_type": "stream",
     "text": [
      "index 2669, number 10 not in dictionary.\n"
     ]
    },
    {
     "name": "stderr",
     "output_type": "stream",
     "text": [
      "\r",
      " 37%|███▋      | 2670/7199 [7:53:42<13:21:58, 10.62s/it]"
     ]
    },
    {
     "name": "stdout",
     "output_type": "stream",
     "text": [
      "index 2669, number 11 not in dictionary.\n"
     ]
    },
    {
     "name": "stderr",
     "output_type": "stream",
     "text": [
      " 37%|███▋      | 2697/7199 [7:58:35<13:25:13, 10.73s/it]"
     ]
    },
    {
     "name": "stdout",
     "output_type": "stream",
     "text": [
      "index 2697, number 16 not in dictionary.\n"
     ]
    },
    {
     "name": "stderr",
     "output_type": "stream",
     "text": [
      " 38%|███▊      | 2708/7199 [8:00:53<15:50:32, 12.70s/it]"
     ]
    },
    {
     "name": "stdout",
     "output_type": "stream",
     "text": [
      "index 2708, number 4 not in dictionary.\n",
      "index 2708, number 5 not in dictionary.\n",
      "index 2708, number 6 not in dictionary.\n"
     ]
    },
    {
     "name": "stderr",
     "output_type": "stream",
     "text": [
      " 38%|███▊      | 2730/7199 [8:05:41<17:49:25, 14.36s/it]"
     ]
    },
    {
     "name": "stdout",
     "output_type": "stream",
     "text": [
      "index 2730, number 10 not in dictionary.\n"
     ]
    },
    {
     "name": "stderr",
     "output_type": "stream",
     "text": [
      "\r",
      " 38%|███▊      | 2731/7199 [8:05:48<15:04:48, 12.15s/it]"
     ]
    },
    {
     "name": "stdout",
     "output_type": "stream",
     "text": [
      "index 2730, number 11 not in dictionary.\n"
     ]
    },
    {
     "name": "stderr",
     "output_type": "stream",
     "text": [
      " 38%|███▊      | 2746/7199 [8:08:24<15:08:13, 12.24s/it]"
     ]
    },
    {
     "name": "stdout",
     "output_type": "stream",
     "text": [
      "index 2746, number 15 not in dictionary.\n",
      "index 2746, number 17 not in dictionary.\n"
     ]
    },
    {
     "name": "stderr",
     "output_type": "stream",
     "text": [
      " 38%|███▊      | 2750/7199 [8:09:10<12:59:29, 10.51s/it]"
     ]
    },
    {
     "name": "stdout",
     "output_type": "stream",
     "text": [
      "index 2750, number 18 not in dictionary.\n"
     ]
    },
    {
     "name": "stderr",
     "output_type": "stream",
     "text": [
      "\r",
      " 38%|███▊      | 2751/7199 [8:09:27<15:19:07, 12.40s/it]"
     ]
    },
    {
     "name": "stdout",
     "output_type": "stream",
     "text": [
      "index 2750, number 19 not in dictionary.\n"
     ]
    },
    {
     "name": "stderr",
     "output_type": "stream",
     "text": [
      " 38%|███▊      | 2763/7199 [8:11:22<11:19:51,  9.20s/it]"
     ]
    },
    {
     "name": "stdout",
     "output_type": "stream",
     "text": [
      "index 2763, number 10 not in dictionary.\n",
      "index 2763, number 11 not in dictionary.\n",
      "index 2763, number 12 not in dictionary.\n",
      "index 2763, number 13 not in dictionary.\n"
     ]
    },
    {
     "name": "stderr",
     "output_type": "stream",
     "text": [
      "\r",
      " 38%|███▊      | 2764/7199 [8:11:33<12:09:02,  9.86s/it]"
     ]
    },
    {
     "name": "stdout",
     "output_type": "stream",
     "text": [
      "index 2763, number 14 not in dictionary.\n"
     ]
    },
    {
     "name": "stderr",
     "output_type": "stream",
     "text": [
      " 39%|███▊      | 2775/7199 [8:13:37<13:57:17, 11.36s/it]"
     ]
    },
    {
     "name": "stdout",
     "output_type": "stream",
     "text": [
      "index 2775, number 14 not in dictionary.\n",
      "index 2775, number 15 not in dictionary.\n",
      "index 2775, number 16 not in dictionary.\n",
      "index 2775, number 17 not in dictionary.\n",
      "index 2775, number 18 not in dictionary.\n"
     ]
    },
    {
     "name": "stderr",
     "output_type": "stream",
     "text": [
      " 39%|███▉      | 2790/7199 [8:16:12<8:56:50,  7.31s/it] "
     ]
    },
    {
     "name": "stdout",
     "output_type": "stream",
     "text": [
      "index 2790, number 14 not in dictionary.\n"
     ]
    },
    {
     "name": "stderr",
     "output_type": "stream",
     "text": [
      " 39%|███▉      | 2805/7199 [8:18:58<16:19:49, 13.38s/it]"
     ]
    },
    {
     "name": "stdout",
     "output_type": "stream",
     "text": [
      "index 2805, number 10 not in dictionary.\n",
      "index 2805, number 11 not in dictionary.\n",
      "index 2805, number 12 not in dictionary.\n",
      "index 2805, number 13 not in dictionary.\n",
      "index 2805, number 14 not in dictionary.\n"
     ]
    },
    {
     "name": "stderr",
     "output_type": "stream",
     "text": [
      " 39%|███▉      | 2807/7199 [8:19:30<18:09:09, 14.88s/it]"
     ]
    },
    {
     "name": "stdout",
     "output_type": "stream",
     "text": [
      "index 2807, number 11 not in dictionary.\n",
      "index 2807, number 12 not in dictionary.\n",
      "index 2807, number 13 not in dictionary.\n",
      "index 2807, number 14 not in dictionary.\n",
      "index 2807, number 15 not in dictionary.\n"
     ]
    },
    {
     "name": "stderr",
     "output_type": "stream",
     "text": [
      " 39%|███▉      | 2816/7199 [8:21:11<10:13:06,  8.39s/it]"
     ]
    },
    {
     "name": "stdout",
     "output_type": "stream",
     "text": [
      "index 2816, number 10 not in dictionary.\n",
      "index 2816, number 11 not in dictionary.\n",
      "index 2816, number 12 not in dictionary.\n",
      "index 2816, number 13 not in dictionary.\n",
      "index 2816, number 14 not in dictionary.\n"
     ]
    },
    {
     "name": "stderr",
     "output_type": "stream",
     "text": [
      " 39%|███▉      | 2826/7199 [8:22:52<11:21:37,  9.35s/it]"
     ]
    },
    {
     "name": "stdout",
     "output_type": "stream",
     "text": [
      "index 2826, number 13 not in dictionary.\n",
      "index 2826, number 14 not in dictionary.\n",
      "index 2826, number 15 not in dictionary.\n",
      "index 2826, number 16 not in dictionary.\n"
     ]
    },
    {
     "name": "stderr",
     "output_type": "stream",
     "text": [
      "\r",
      " 39%|███▉      | 2827/7199 [8:23:08<13:41:21, 11.27s/it]"
     ]
    },
    {
     "name": "stdout",
     "output_type": "stream",
     "text": [
      "index 2826, number 17 not in dictionary.\n"
     ]
    },
    {
     "name": "stderr",
     "output_type": "stream",
     "text": [
      " 39%|███▉      | 2836/7199 [8:24:27<10:42:38,  8.84s/it]"
     ]
    },
    {
     "name": "stdout",
     "output_type": "stream",
     "text": [
      "index 2836, number 10 not in dictionary.\n",
      "index 2836, number 11 not in dictionary.\n",
      "index 2836, number 12 not in dictionary.\n",
      "index 2836, number 13 not in dictionary.\n"
     ]
    },
    {
     "name": "stderr",
     "output_type": "stream",
     "text": [
      "\r",
      " 39%|███▉      | 2837/7199 [8:24:40<12:11:12, 10.06s/it]"
     ]
    },
    {
     "name": "stdout",
     "output_type": "stream",
     "text": [
      "index 2836, number 14 not in dictionary.\n"
     ]
    },
    {
     "name": "stderr",
     "output_type": "stream",
     "text": [
      " 39%|███▉      | 2841/7199 [8:25:10<10:04:38,  8.32s/it]"
     ]
    },
    {
     "name": "stdout",
     "output_type": "stream",
     "text": [
      "index 2841, number 14 not in dictionary.\n"
     ]
    },
    {
     "name": "stderr",
     "output_type": "stream",
     "text": [
      " 40%|███▉      | 2852/7199 [8:27:06<14:35:58, 12.09s/it]"
     ]
    },
    {
     "name": "stdout",
     "output_type": "stream",
     "text": [
      "index 2852, number 2 not in dictionary.\n",
      "index 2852, number 3 not in dictionary.\n",
      "index 2852, number 4 not in dictionary.\n",
      "index 2852, number 5 not in dictionary.\n"
     ]
    },
    {
     "name": "stderr",
     "output_type": "stream",
     "text": [
      " 40%|████      | 2910/7199 [8:36:50<12:02:05, 10.10s/it]"
     ]
    },
    {
     "name": "stdout",
     "output_type": "stream",
     "text": [
      "index 2910, number 13 not in dictionary.\n"
     ]
    },
    {
     "name": "stderr",
     "output_type": "stream",
     "text": [
      "\r",
      " 40%|████      | 2911/7199 [8:37:00<12:01:45, 10.10s/it]"
     ]
    },
    {
     "name": "stdout",
     "output_type": "stream",
     "text": [
      "index 2910, number 14 not in dictionary.\n"
     ]
    },
    {
     "name": "stderr",
     "output_type": "stream",
     "text": [
      " 41%|████      | 2930/7199 [8:40:09<13:52:09, 11.70s/it]"
     ]
    },
    {
     "name": "stdout",
     "output_type": "stream",
     "text": [
      "index 2929, number 20 not in dictionary.\n"
     ]
    },
    {
     "name": "stderr",
     "output_type": "stream",
     "text": [
      " 41%|████      | 2936/7199 [8:41:18<12:25:49, 10.50s/it]"
     ]
    },
    {
     "name": "stdout",
     "output_type": "stream",
     "text": [
      "index 2936, number 14 not in dictionary.\n",
      "index 2936, number 15 not in dictionary.\n",
      "index 2936, number 16 not in dictionary.\n",
      "index 2936, number 17 not in dictionary.\n",
      "index 2936, number 18 not in dictionary.\n"
     ]
    },
    {
     "name": "stderr",
     "output_type": "stream",
     "text": [
      " 42%|████▏     | 2988/7199 [8:50:26<15:14:56, 13.04s/it]"
     ]
    },
    {
     "name": "stdout",
     "output_type": "stream",
     "text": [
      "index 2988, number 12 not in dictionary.\n",
      "index 2988, number 13 not in dictionary.\n",
      "index 2988, number 14 not in dictionary.\n",
      "index 2988, number 15 not in dictionary.\n",
      "index 2988, number 16 not in dictionary.\n"
     ]
    },
    {
     "name": "stderr",
     "output_type": "stream",
     "text": [
      " 42%|████▏     | 2996/7199 [8:51:53<11:10:11,  9.57s/it]"
     ]
    },
    {
     "name": "stdout",
     "output_type": "stream",
     "text": [
      "index 2996, number 10 not in dictionary.\n",
      "index 2996, number 11 not in dictionary.\n",
      "index 2996, number 13 not in dictionary.\n",
      "index 2996, number 14 not in dictionary.\n"
     ]
    },
    {
     "name": "stderr",
     "output_type": "stream",
     "text": [
      " 42%|████▏     | 2998/7199 [8:52:17<11:53:38, 10.19s/it]"
     ]
    },
    {
     "name": "stdout",
     "output_type": "stream",
     "text": [
      "index 2998, number 10 not in dictionary.\n",
      "index 2998, number 11 not in dictionary.\n",
      "index 2998, number 12 not in dictionary.\n",
      "index 2998, number 13 not in dictionary.\n",
      "index 2998, number 14 not in dictionary.\n"
     ]
    },
    {
     "name": "stderr",
     "output_type": "stream",
     "text": [
      " 42%|████▏     | 3006/7199 [8:53:50<13:25:55, 11.53s/it]"
     ]
    },
    {
     "name": "stdout",
     "output_type": "stream",
     "text": [
      "index 3006, number 3 not in dictionary.\n",
      "index 3006, number 4 not in dictionary.\n",
      "index 3006, number 5 not in dictionary.\n",
      "index 3006, number 6 not in dictionary.\n",
      "index 3006, number 7 not in dictionary.\n"
     ]
    },
    {
     "name": "stderr",
     "output_type": "stream",
     "text": [
      " 42%|████▏     | 3028/7199 [8:56:53<8:30:09,  7.34s/it] "
     ]
    },
    {
     "name": "stdout",
     "output_type": "stream",
     "text": [
      "index 3028, number 11 not in dictionary.\n"
     ]
    },
    {
     "name": "stderr",
     "output_type": "stream",
     "text": [
      " 42%|████▏     | 3034/7199 [8:57:57<10:26:55,  9.03s/it]"
     ]
    },
    {
     "name": "stdout",
     "output_type": "stream",
     "text": [
      "index 3034, number 8 not in dictionary.\n",
      "index 3034, number 9 not in dictionary.\n",
      "index 3034, number 10 not in dictionary.\n",
      "index 3034, number 11 not in dictionary.\n"
     ]
    },
    {
     "name": "stderr",
     "output_type": "stream",
     "text": [
      " 42%|████▏     | 3048/7199 [9:00:42<11:34:27, 10.04s/it]"
     ]
    },
    {
     "name": "stdout",
     "output_type": "stream",
     "text": [
      "index 3048, number 15 not in dictionary.\n",
      "index 3048, number 16 not in dictionary.\n"
     ]
    },
    {
     "name": "stderr",
     "output_type": "stream",
     "text": [
      " 43%|████▎     | 3060/7199 [9:02:56<12:02:25, 10.47s/it]"
     ]
    },
    {
     "name": "stdout",
     "output_type": "stream",
     "text": [
      "index 3060, number 12 not in dictionary.\n"
     ]
    },
    {
     "name": "stderr",
     "output_type": "stream",
     "text": [
      " 43%|████▎     | 3071/7199 [9:04:55<13:59:42, 12.20s/it]"
     ]
    },
    {
     "name": "stdout",
     "output_type": "stream",
     "text": [
      "index 3071, number 18 not in dictionary.\n"
     ]
    },
    {
     "name": "stderr",
     "output_type": "stream",
     "text": [
      " 43%|████▎     | 3084/7199 [9:07:19<11:18:28,  9.89s/it]"
     ]
    },
    {
     "name": "stdout",
     "output_type": "stream",
     "text": [
      "index 3083, number 19 not in dictionary.\n"
     ]
    },
    {
     "name": "stderr",
     "output_type": "stream",
     "text": [
      " 43%|████▎     | 3097/7199 [9:09:13<9:14:09,  8.11s/it] "
     ]
    },
    {
     "name": "stdout",
     "output_type": "stream",
     "text": [
      "index 3097, number 10 not in dictionary.\n",
      "index 3097, number 11 not in dictionary.\n",
      "index 3097, number 12 not in dictionary.\n",
      "index 3097, number 13 not in dictionary.\n",
      "index 3097, number 14 not in dictionary.\n"
     ]
    },
    {
     "name": "stderr",
     "output_type": "stream",
     "text": [
      " 44%|████▎     | 3148/7199 [9:18:17<13:55:02, 12.37s/it]"
     ]
    },
    {
     "name": "stdout",
     "output_type": "stream",
     "text": [
      "index 3148, number 11 not in dictionary.\n",
      "index 3148, number 12 not in dictionary.\n",
      "index 3148, number 13 not in dictionary.\n",
      "index 3148, number 14 not in dictionary.\n"
     ]
    },
    {
     "name": "stderr",
     "output_type": "stream",
     "text": [
      " 44%|████▍     | 3161/7199 [9:20:39<12:06:19, 10.79s/it]"
     ]
    },
    {
     "name": "stdout",
     "output_type": "stream",
     "text": [
      "index 3161, number 15 not in dictionary.\n"
     ]
    },
    {
     "name": "stderr",
     "output_type": "stream",
     "text": [
      " 44%|████▍     | 3164/7199 [9:21:10<11:05:51,  9.90s/it]"
     ]
    },
    {
     "name": "stdout",
     "output_type": "stream",
     "text": [
      "index 3164, number 10 not in dictionary.\n",
      "index 3164, number 11 not in dictionary.\n",
      "index 3164, number 12 not in dictionary.\n",
      "index 3164, number 13 not in dictionary.\n",
      "index 3164, number 14 not in dictionary.\n"
     ]
    },
    {
     "name": "stderr",
     "output_type": "stream",
     "text": [
      " 44%|████▍     | 3178/7199 [9:23:59<12:59:39, 11.63s/it]"
     ]
    },
    {
     "name": "stdout",
     "output_type": "stream",
     "text": [
      "index 3178, number 15 not in dictionary.\n"
     ]
    },
    {
     "name": "stderr",
     "output_type": "stream",
     "text": [
      "\r",
      " 44%|████▍     | 3179/7199 [9:24:10<12:51:53, 11.52s/it]"
     ]
    },
    {
     "name": "stdout",
     "output_type": "stream",
     "text": [
      "index 3178, number 16 not in dictionary.\n",
      "index 3179, number 16 not in dictionary.\n",
      "index 3179, number 17 not in dictionary.\n"
     ]
    },
    {
     "name": "stderr",
     "output_type": "stream",
     "text": [
      "\r",
      " 44%|████▍     | 3180/7199 [9:24:24<13:39:50, 12.24s/it]"
     ]
    },
    {
     "name": "stdout",
     "output_type": "stream",
     "text": [
      "index 3179, number 18 not in dictionary.\n"
     ]
    },
    {
     "name": "stderr",
     "output_type": "stream",
     "text": [
      "\r",
      " 44%|████▍     | 3181/7199 [9:24:38<14:15:30, 12.78s/it]"
     ]
    },
    {
     "name": "stdout",
     "output_type": "stream",
     "text": [
      "index 3181, number 9 not in dictionary.\n"
     ]
    },
    {
     "name": "stderr",
     "output_type": "stream",
     "text": [
      " 44%|████▍     | 3183/7199 [9:24:59<12:40:01, 11.35s/it]"
     ]
    },
    {
     "name": "stdout",
     "output_type": "stream",
     "text": [
      "index 3183, number 17 not in dictionary.\n"
     ]
    },
    {
     "name": "stderr",
     "output_type": "stream",
     "text": [
      " 44%|████▍     | 3189/7199 [9:26:12<14:05:01, 12.64s/it]"
     ]
    },
    {
     "name": "stdout",
     "output_type": "stream",
     "text": [
      "index 3189, number 10 not in dictionary.\n",
      "index 3189, number 11 not in dictionary.\n",
      "index 3189, number 12 not in dictionary.\n",
      "index 3189, number 13 not in dictionary.\n",
      "index 3189, number 14 not in dictionary.\n"
     ]
    },
    {
     "name": "stderr",
     "output_type": "stream",
     "text": [
      " 44%|████▍     | 3200/7199 [9:28:10<11:49:04, 10.64s/it]"
     ]
    },
    {
     "name": "stdout",
     "output_type": "stream",
     "text": [
      "index 3200, number 2 not in dictionary.\n",
      "index 3200, number 3 not in dictionary.\n",
      "index 3200, number 4 not in dictionary.\n",
      "index 3200, number 5 not in dictionary.\n"
     ]
    },
    {
     "name": "stderr",
     "output_type": "stream",
     "text": [
      "\r",
      " 44%|████▍     | 3201/7199 [9:28:24<12:52:06, 11.59s/it]"
     ]
    },
    {
     "name": "stdout",
     "output_type": "stream",
     "text": [
      "index 3201, number 11 not in dictionary.\n",
      "index 3201, number 12 not in dictionary.\n",
      "index 3201, number 13 not in dictionary.\n",
      "index 3201, number 14 not in dictionary.\n"
     ]
    },
    {
     "name": "stderr",
     "output_type": "stream",
     "text": [
      " 44%|████▍     | 3203/7199 [9:28:50<13:27:57, 12.13s/it]"
     ]
    },
    {
     "name": "stdout",
     "output_type": "stream",
     "text": [
      "index 3203, number 16 not in dictionary.\n"
     ]
    },
    {
     "name": "stderr",
     "output_type": "stream",
     "text": [
      " 45%|████▍     | 3206/7199 [9:29:34<14:42:06, 13.25s/it]"
     ]
    },
    {
     "name": "stdout",
     "output_type": "stream",
     "text": [
      "index 3206, number 13 not in dictionary.\n",
      "index 3206, number 14 not in dictionary.\n",
      "index 3206, number 15 not in dictionary.\n",
      "index 3206, number 16 not in dictionary.\n",
      "index 3206, number 17 not in dictionary.\n"
     ]
    },
    {
     "name": "stderr",
     "output_type": "stream",
     "text": [
      " 45%|████▍     | 3216/7199 [9:31:17<8:55:00,  8.06s/it] "
     ]
    },
    {
     "name": "stdout",
     "output_type": "stream",
     "text": [
      "index 3216, number 14 not in dictionary.\n"
     ]
    },
    {
     "name": "stderr",
     "output_type": "stream",
     "text": [
      " 45%|████▍     | 3237/7199 [9:34:39<8:18:09,  7.54s/it] "
     ]
    },
    {
     "name": "stdout",
     "output_type": "stream",
     "text": [
      "index 3237, number 14 not in dictionary.\n",
      "index 3237, number 15 not in dictionary.\n"
     ]
    },
    {
     "name": "stderr",
     "output_type": "stream",
     "text": [
      "\r",
      " 45%|████▍     | 3238/7199 [9:34:53<10:19:53,  9.39s/it]"
     ]
    },
    {
     "name": "stdout",
     "output_type": "stream",
     "text": [
      "index 3237, number 18 not in dictionary.\n"
     ]
    },
    {
     "name": "stderr",
     "output_type": "stream",
     "text": [
      " 45%|████▌     | 3257/7199 [9:38:23<12:21:25, 11.29s/it]"
     ]
    },
    {
     "name": "stdout",
     "output_type": "stream",
     "text": [
      "index 3257, number 5 not in dictionary.\n",
      "index 3257, number 6 not in dictionary.\n",
      "index 3257, number 7 not in dictionary.\n"
     ]
    },
    {
     "name": "stderr",
     "output_type": "stream",
     "text": [
      " 45%|████▌     | 3264/7199 [9:39:34<10:04:28,  9.22s/it]"
     ]
    },
    {
     "name": "stdout",
     "output_type": "stream",
     "text": [
      "index 3264, number 8 not in dictionary.\n"
     ]
    },
    {
     "name": "stderr",
     "output_type": "stream",
     "text": [
      " 45%|████▌     | 3269/7199 [9:40:22<8:07:49,  7.45s/it] "
     ]
    },
    {
     "name": "stdout",
     "output_type": "stream",
     "text": [
      "index 3269, number 15 not in dictionary.\n",
      "index 3269, number 16 not in dictionary.\n"
     ]
    },
    {
     "name": "stderr",
     "output_type": "stream",
     "text": [
      "\r",
      " 45%|████▌     | 3270/7199 [9:40:33<9:26:31,  8.65s/it]"
     ]
    },
    {
     "name": "stdout",
     "output_type": "stream",
     "text": [
      "index 3269, number 17 not in dictionary.\n"
     ]
    },
    {
     "name": "stderr",
     "output_type": "stream",
     "text": [
      " 46%|████▌     | 3284/7199 [9:42:55<11:14:02, 10.33s/it]"
     ]
    },
    {
     "name": "stdout",
     "output_type": "stream",
     "text": [
      "index 3283, number 10 not in dictionary.\n"
     ]
    },
    {
     "name": "stderr",
     "output_type": "stream",
     "text": [
      " 46%|████▌     | 3296/7199 [9:45:09<12:07:03, 11.18s/it]"
     ]
    },
    {
     "name": "stdout",
     "output_type": "stream",
     "text": [
      "index 3295, number 11 not in dictionary.\n"
     ]
    },
    {
     "name": "stderr",
     "output_type": "stream",
     "text": [
      " 47%|████▋     | 3370/7199 [9:58:08<10:08:01,  9.53s/it]"
     ]
    },
    {
     "name": "stdout",
     "output_type": "stream",
     "text": [
      "index 3369, number 3 not in dictionary.\n"
     ]
    },
    {
     "name": "stderr",
     "output_type": "stream",
     "text": [
      " 47%|████▋     | 3409/7199 [10:05:01<14:23:40, 13.67s/it]"
     ]
    },
    {
     "name": "stdout",
     "output_type": "stream",
     "text": [
      "index 3409, number 12 not in dictionary.\n",
      "index 3409, number 13 not in dictionary.\n"
     ]
    },
    {
     "name": "stderr",
     "output_type": "stream",
     "text": [
      " 48%|████▊     | 3470/7199 [10:16:13<9:22:36,  9.05s/it] "
     ]
    },
    {
     "name": "stdout",
     "output_type": "stream",
     "text": [
      "index 3470, number 11 not in dictionary.\n",
      "index 3470, number 12 not in dictionary.\n",
      "index 3470, number 13 not in dictionary.\n",
      "index 3470, number 14 not in dictionary.\n",
      "index 3470, number 15 not in dictionary.\n"
     ]
    },
    {
     "name": "stderr",
     "output_type": "stream",
     "text": [
      " 48%|████▊     | 3480/7199 [10:17:55<9:20:46,  9.05s/it] "
     ]
    },
    {
     "name": "stdout",
     "output_type": "stream",
     "text": [
      "index 3480, number 18 not in dictionary.\n"
     ]
    },
    {
     "name": "stderr",
     "output_type": "stream",
     "text": [
      "\r",
      " 48%|████▊     | 3481/7199 [10:18:09<10:49:29, 10.48s/it]"
     ]
    },
    {
     "name": "stdout",
     "output_type": "stream",
     "text": [
      "index 3480, number 19 not in dictionary.\n"
     ]
    },
    {
     "name": "stderr",
     "output_type": "stream",
     "text": [
      " 48%|████▊     | 3491/7199 [10:19:55<10:25:22, 10.12s/it]"
     ]
    },
    {
     "name": "stdout",
     "output_type": "stream",
     "text": [
      "index 3491, number 6 not in dictionary.\n"
     ]
    },
    {
     "name": "stderr",
     "output_type": "stream",
     "text": [
      " 49%|████▊     | 3494/7199 [10:20:24<10:37:13, 10.32s/it]"
     ]
    },
    {
     "name": "stdout",
     "output_type": "stream",
     "text": [
      "index 3494, number 10 not in dictionary.\n",
      "index 3494, number 11 not in dictionary.\n",
      "index 3494, number 12 not in dictionary.\n",
      "index 3494, number 13 not in dictionary.\n",
      "index 3494, number 14 not in dictionary.\n"
     ]
    },
    {
     "name": "stderr",
     "output_type": "stream",
     "text": [
      " 49%|████▊     | 3502/7199 [10:22:17<14:35:17, 14.21s/it]"
     ]
    },
    {
     "name": "stdout",
     "output_type": "stream",
     "text": [
      "index 3502, number 11 not in dictionary.\n",
      "index 3502, number 12 not in dictionary.\n",
      "index 3502, number 13 not in dictionary.\n",
      "index 3502, number 14 not in dictionary.\n",
      "index 3502, number 15 not in dictionary.\n"
     ]
    },
    {
     "name": "stderr",
     "output_type": "stream",
     "text": [
      " 49%|████▊     | 3504/7199 [10:22:46<14:32:40, 14.17s/it]"
     ]
    },
    {
     "name": "stdout",
     "output_type": "stream",
     "text": [
      "index 3504, number 10 not in dictionary.\n",
      "index 3504, number 11 not in dictionary.\n",
      "index 3504, number 12 not in dictionary.\n",
      "index 3504, number 13 not in dictionary.\n",
      "index 3504, number 14 not in dictionary.\n"
     ]
    },
    {
     "name": "stderr",
     "output_type": "stream",
     "text": [
      " 49%|████▉     | 3510/7199 [10:23:38<9:18:28,  9.08s/it] "
     ]
    },
    {
     "name": "stdout",
     "output_type": "stream",
     "text": [
      "index 3510, number 15 not in dictionary.\n",
      "index 3510, number 16 not in dictionary.\n"
     ]
    },
    {
     "name": "stderr",
     "output_type": "stream",
     "text": [
      " 49%|████▉     | 3513/7199 [10:24:10<10:25:53, 10.19s/it]"
     ]
    },
    {
     "name": "stdout",
     "output_type": "stream",
     "text": [
      "index 3513, number 4 not in dictionary.\n",
      "index 3513, number 5 not in dictionary.\n",
      "index 3513, number 6 not in dictionary.\n",
      "index 3513, number 7 not in dictionary.\n",
      "index 3513, number 8 not in dictionary.\n"
     ]
    },
    {
     "name": "stderr",
     "output_type": "stream",
     "text": [
      " 49%|████▉     | 3542/7199 [10:29:38<9:23:52,  9.25s/it] "
     ]
    },
    {
     "name": "stdout",
     "output_type": "stream",
     "text": [
      "index 3542, number 10 not in dictionary.\n",
      "index 3542, number 11 not in dictionary.\n",
      "index 3542, number 12 not in dictionary.\n",
      "index 3542, number 13 not in dictionary.\n",
      "index 3542, number 14 not in dictionary.\n"
     ]
    },
    {
     "name": "stderr",
     "output_type": "stream",
     "text": [
      " 49%|████▉     | 3545/7199 [10:30:19<12:10:07, 11.99s/it]"
     ]
    },
    {
     "name": "stdout",
     "output_type": "stream",
     "text": [
      "index 3545, number 12 not in dictionary.\n"
     ]
    },
    {
     "name": "stderr",
     "output_type": "stream",
     "text": [
      "\r",
      " 49%|████▉     | 3546/7199 [10:30:27<11:09:10, 10.99s/it]"
     ]
    },
    {
     "name": "stdout",
     "output_type": "stream",
     "text": [
      "index 3545, number 13 not in dictionary.\n"
     ]
    },
    {
     "name": "stderr",
     "output_type": "stream",
     "text": [
      " 49%|████▉     | 3558/7199 [10:32:25<10:29:53, 10.38s/it]"
     ]
    },
    {
     "name": "stdout",
     "output_type": "stream",
     "text": [
      "index 3557, number 11 not in dictionary.\n"
     ]
    },
    {
     "name": "stderr",
     "output_type": "stream",
     "text": [
      " 49%|████▉     | 3561/7199 [10:33:14<14:23:38, 14.24s/it]"
     ]
    },
    {
     "name": "stdout",
     "output_type": "stream",
     "text": [
      "index 3560, number 19 not in dictionary.\n"
     ]
    },
    {
     "name": "stderr",
     "output_type": "stream",
     "text": [
      " 50%|████▉     | 3580/7199 [10:36:35<11:30:30, 11.45s/it]"
     ]
    },
    {
     "name": "stdout",
     "output_type": "stream",
     "text": [
      "index 3580, number 18 not in dictionary.\n"
     ]
    },
    {
     "name": "stderr",
     "output_type": "stream",
     "text": [
      "\r",
      " 50%|████▉     | 3581/7199 [10:36:50<12:32:18, 12.48s/it]"
     ]
    },
    {
     "name": "stdout",
     "output_type": "stream",
     "text": [
      "index 3580, number 19 not in dictionary.\n"
     ]
    },
    {
     "name": "stderr",
     "output_type": "stream",
     "text": [
      " 50%|████▉     | 3583/7199 [10:37:13<12:12:14, 12.15s/it]"
     ]
    },
    {
     "name": "stdout",
     "output_type": "stream",
     "text": [
      "index 3583, number 6 not in dictionary.\n",
      "index 3583, number 7 not in dictionary.\n"
     ]
    },
    {
     "name": "stderr",
     "output_type": "stream",
     "text": [
      " 50%|████▉     | 3587/7199 [10:37:53<11:24:40, 11.37s/it]"
     ]
    },
    {
     "name": "stdout",
     "output_type": "stream",
     "text": [
      "index 3587, number 13 not in dictionary.\n"
     ]
    },
    {
     "name": "stderr",
     "output_type": "stream",
     "text": [
      " 50%|████▉     | 3595/7199 [10:39:14<9:34:45,  9.57s/it] "
     ]
    },
    {
     "name": "stdout",
     "output_type": "stream",
     "text": [
      "index 3595, number 17 not in dictionary.\n",
      "index 3595, number 18 not in dictionary.\n"
     ]
    },
    {
     "name": "stderr",
     "output_type": "stream",
     "text": [
      "\r",
      " 50%|████▉     | 3596/7199 [10:39:28<10:53:41, 10.89s/it]"
     ]
    },
    {
     "name": "stdout",
     "output_type": "stream",
     "text": [
      "index 3595, number 19 not in dictionary.\n"
     ]
    },
    {
     "name": "stderr",
     "output_type": "stream",
     "text": [
      " 50%|█████     | 3612/7199 [10:42:34<11:08:27, 11.18s/it]"
     ]
    },
    {
     "name": "stdout",
     "output_type": "stream",
     "text": [
      "index 3612, number 10 not in dictionary.\n",
      "index 3612, number 11 not in dictionary.\n",
      "index 3612, number 12 not in dictionary.\n",
      "index 3612, number 13 not in dictionary.\n",
      "index 3612, number 14 not in dictionary.\n"
     ]
    },
    {
     "name": "stderr",
     "output_type": "stream",
     "text": [
      "\r",
      " 50%|█████     | 3613/7199 [10:42:52<13:00:19, 13.06s/it]"
     ]
    },
    {
     "name": "stdout",
     "output_type": "stream",
     "text": [
      "index 3613, number 10 not in dictionary.\n",
      "index 3613, number 11 not in dictionary.\n",
      "index 3613, number 12 not in dictionary.\n",
      "index 3613, number 13 not in dictionary.\n",
      "index 3613, number 14 not in dictionary.\n"
     ]
    },
    {
     "name": "stderr",
     "output_type": "stream",
     "text": [
      " 50%|█████     | 3627/7199 [10:45:03<6:44:52,  6.80s/it] "
     ]
    },
    {
     "name": "stdout",
     "output_type": "stream",
     "text": [
      "index 3627, number 16 not in dictionary.\n",
      "index 3627, number 17 not in dictionary.\n",
      "index 3627, number 18 not in dictionary.\n"
     ]
    },
    {
     "name": "stderr",
     "output_type": "stream",
     "text": [
      "\r",
      " 50%|█████     | 3628/7199 [10:45:20<9:39:33,  9.74s/it]"
     ]
    },
    {
     "name": "stdout",
     "output_type": "stream",
     "text": [
      "index 3627, number 19 not in dictionary.\n"
     ]
    },
    {
     "name": "stderr",
     "output_type": "stream",
     "text": [
      " 51%|█████     | 3646/7199 [10:48:32<11:13:47, 11.38s/it]"
     ]
    },
    {
     "name": "stdout",
     "output_type": "stream",
     "text": [
      "index 3646, number 12 not in dictionary.\n"
     ]
    },
    {
     "name": "stderr",
     "output_type": "stream",
     "text": [
      " 51%|█████     | 3679/7199 [10:54:51<10:56:17, 11.19s/it]"
     ]
    },
    {
     "name": "stdout",
     "output_type": "stream",
     "text": [
      "index 3679, number 1 not in dictionary.\n",
      "index 3679, number 2 not in dictionary.\n",
      "index 3679, number 3 not in dictionary.\n",
      "index 3679, number 4 not in dictionary.\n",
      "index 3679, number 5 not in dictionary.\n"
     ]
    },
    {
     "name": "stderr",
     "output_type": "stream",
     "text": [
      " 51%|█████     | 3685/7199 [10:55:51<10:21:33, 10.61s/it]"
     ]
    },
    {
     "name": "stdout",
     "output_type": "stream",
     "text": [
      "index 3685, number 10 not in dictionary.\n",
      "index 3685, number 11 not in dictionary.\n",
      "index 3685, number 12 not in dictionary.\n",
      "index 3685, number 13 not in dictionary.\n",
      "index 3685, number 14 not in dictionary.\n"
     ]
    },
    {
     "name": "stderr",
     "output_type": "stream",
     "text": [
      " 51%|█████     | 3689/7199 [10:56:37<10:17:37, 10.56s/it]"
     ]
    },
    {
     "name": "stdout",
     "output_type": "stream",
     "text": [
      "index 3688, number 14 not in dictionary.\n"
     ]
    },
    {
     "name": "stderr",
     "output_type": "stream",
     "text": [
      " 52%|█████▏    | 3723/7199 [11:02:59<11:31:14, 11.93s/it]"
     ]
    },
    {
     "name": "stdout",
     "output_type": "stream",
     "text": [
      "index 3723, number 12 not in dictionary.\n"
     ]
    },
    {
     "name": "stderr",
     "output_type": "stream",
     "text": [
      " 52%|█████▏    | 3725/7199 [11:03:22<11:12:57, 11.62s/it]"
     ]
    },
    {
     "name": "stdout",
     "output_type": "stream",
     "text": [
      "index 3725, number 12 not in dictionary.\n",
      "index 3725, number 13 not in dictionary.\n",
      "index 3725, number 14 not in dictionary.\n",
      "index 3725, number 15 not in dictionary.\n",
      "index 3725, number 16 not in dictionary.\n"
     ]
    },
    {
     "name": "stderr",
     "output_type": "stream",
     "text": [
      " 53%|█████▎    | 3785/7199 [11:14:14<9:56:59, 10.49s/it] "
     ]
    },
    {
     "name": "stdout",
     "output_type": "stream",
     "text": [
      "index 3784, number 18 not in dictionary.\n",
      "index 3785, number 2 not in dictionary.\n",
      "index 3785, number 3 not in dictionary.\n",
      "index 3785, number 4 not in dictionary.\n",
      "index 3785, number 5 not in dictionary.\n",
      "index 3785, number 6 not in dictionary.\n"
     ]
    },
    {
     "name": "stderr",
     "output_type": "stream",
     "text": [
      " 53%|█████▎    | 3814/7199 [11:19:24<12:50:21, 13.65s/it]"
     ]
    },
    {
     "name": "stdout",
     "output_type": "stream",
     "text": [
      "index 3814, number 12 not in dictionary.\n",
      "index 3814, number 13 not in dictionary.\n"
     ]
    },
    {
     "name": "stderr",
     "output_type": "stream",
     "text": [
      "\r",
      " 53%|█████▎    | 3815/7199 [11:19:35<11:54:16, 12.66s/it]"
     ]
    },
    {
     "name": "stdout",
     "output_type": "stream",
     "text": [
      "index 3814, number 14 not in dictionary.\n"
     ]
    },
    {
     "name": "stderr",
     "output_type": "stream",
     "text": [
      " 54%|█████▎    | 3853/7199 [11:25:58<9:41:10, 10.42s/it] "
     ]
    },
    {
     "name": "stdout",
     "output_type": "stream",
     "text": [
      "index 3853, number 10 not in dictionary.\n",
      "index 3853, number 11 not in dictionary.\n",
      "index 3853, number 12 not in dictionary.\n",
      "index 3853, number 13 not in dictionary.\n",
      "index 3853, number 14 not in dictionary.\n"
     ]
    },
    {
     "name": "stderr",
     "output_type": "stream",
     "text": [
      " 54%|█████▎    | 3862/7199 [11:27:47<11:52:11, 12.81s/it]"
     ]
    },
    {
     "name": "stdout",
     "output_type": "stream",
     "text": [
      "index 3861, number 19 not in dictionary.\n"
     ]
    },
    {
     "name": "stderr",
     "output_type": "stream",
     "text": [
      " 54%|█████▍    | 3875/7199 [11:30:05<10:18:56, 11.17s/it]"
     ]
    },
    {
     "name": "stdout",
     "output_type": "stream",
     "text": [
      "index 3875, number 10 not in dictionary.\n",
      "index 3875, number 11 not in dictionary.\n",
      "index 3875, number 12 not in dictionary.\n",
      "index 3875, number 13 not in dictionary.\n",
      "index 3875, number 14 not in dictionary.\n"
     ]
    },
    {
     "name": "stderr",
     "output_type": "stream",
     "text": [
      " 54%|█████▍    | 3879/7199 [11:30:50<11:01:49, 11.96s/it]"
     ]
    },
    {
     "name": "stdout",
     "output_type": "stream",
     "text": [
      "index 3878, number 19 not in dictionary.\n"
     ]
    },
    {
     "name": "stderr",
     "output_type": "stream",
     "text": [
      " 54%|█████▍    | 3895/7199 [11:33:29<8:06:58,  8.84s/it] "
     ]
    },
    {
     "name": "stdout",
     "output_type": "stream",
     "text": [
      "index 3895, number 15 not in dictionary.\n",
      "index 3895, number 16 not in dictionary.\n",
      "index 3895, number 17 not in dictionary.\n",
      "index 3895, number 18 not in dictionary.\n"
     ]
    },
    {
     "name": "stderr",
     "output_type": "stream",
     "text": [
      "\r",
      " 54%|█████▍    | 3896/7199 [11:33:43<9:45:11, 10.63s/it]"
     ]
    },
    {
     "name": "stdout",
     "output_type": "stream",
     "text": [
      "index 3895, number 19 not in dictionary.\n"
     ]
    },
    {
     "name": "stderr",
     "output_type": "stream",
     "text": [
      " 54%|█████▍    | 3899/7199 [11:34:08<7:38:32,  8.34s/it] "
     ]
    },
    {
     "name": "stdout",
     "output_type": "stream",
     "text": [
      "index 3900, number 10 not in dictionary.\n"
     ]
    },
    {
     "name": "stderr",
     "output_type": "stream",
     "text": [
      "\r",
      " 54%|█████▍    | 3901/7199 [11:34:17<6:31:30,  7.12s/it]"
     ]
    },
    {
     "name": "stdout",
     "output_type": "stream",
     "text": [
      "index 3900, number 11 not in dictionary.\n"
     ]
    },
    {
     "name": "stderr",
     "output_type": "stream",
     "text": [
      " 55%|█████▍    | 3938/7199 [11:40:01<8:31:26,  9.41s/it] "
     ]
    },
    {
     "name": "stdout",
     "output_type": "stream",
     "text": [
      "index 3937, number 19 not in dictionary.\n"
     ]
    },
    {
     "name": "stderr",
     "output_type": "stream",
     "text": [
      " 55%|█████▍    | 3944/7199 [11:40:53<6:32:56,  7.24s/it] "
     ]
    },
    {
     "name": "stdout",
     "output_type": "stream",
     "text": [
      "index 3944, number 11 not in dictionary.\n",
      "index 3944, number 12 not in dictionary.\n",
      "index 3944, number 13 not in dictionary.\n",
      "index 3944, number 14 not in dictionary.\n",
      "index 3944, number 15 not in dictionary.\n"
     ]
    },
    {
     "name": "stderr",
     "output_type": "stream",
     "text": [
      " 55%|█████▍    | 3959/7199 [11:43:36<10:13:16, 11.36s/it]"
     ]
    },
    {
     "name": "stdout",
     "output_type": "stream",
     "text": [
      "index 3958, number 18 not in dictionary.\n"
     ]
    },
    {
     "name": "stderr",
     "output_type": "stream",
     "text": [
      " 55%|█████▌    | 3962/7199 [11:43:57<7:36:16,  8.46s/it] "
     ]
    },
    {
     "name": "stdout",
     "output_type": "stream",
     "text": [
      "index 3961, number 11 not in dictionary.\n"
     ]
    },
    {
     "name": "stderr",
     "output_type": "stream",
     "text": [
      " 55%|█████▌    | 3985/7199 [11:48:16<10:26:29, 11.70s/it]"
     ]
    },
    {
     "name": "stdout",
     "output_type": "stream",
     "text": [
      "index 3985, number 15 not in dictionary.\n"
     ]
    },
    {
     "name": "stderr",
     "output_type": "stream",
     "text": [
      " 56%|█████▌    | 4022/7199 [11:54:20<8:41:15,  9.84s/it] "
     ]
    },
    {
     "name": "stdout",
     "output_type": "stream",
     "text": [
      "index 4022, number 7 not in dictionary.\n"
     ]
    },
    {
     "name": "stderr",
     "output_type": "stream",
     "text": [
      " 56%|█████▌    | 4025/7199 [11:54:56<10:02:54, 11.40s/it]"
     ]
    },
    {
     "name": "stdout",
     "output_type": "stream",
     "text": [
      "index 4025, number 1 not in dictionary.\n",
      "index 4025, number 2 not in dictionary.\n",
      "index 4025, number 3 not in dictionary.\n",
      "index 4025, number 4 not in dictionary.\n",
      "index 4025, number 5 not in dictionary.\n"
     ]
    },
    {
     "name": "stderr",
     "output_type": "stream",
     "text": [
      " 56%|█████▌    | 4037/7199 [11:56:43<7:16:46,  8.29s/it] "
     ]
    },
    {
     "name": "stdout",
     "output_type": "stream",
     "text": [
      "index 4037, number 15 not in dictionary.\n",
      "index 4037, number 16 not in dictionary.\n",
      "index 4037, number 17 not in dictionary.\n"
     ]
    },
    {
     "name": "stderr",
     "output_type": "stream",
     "text": [
      "\r",
      " 56%|█████▌    | 4038/7199 [11:56:58<8:59:31, 10.24s/it]"
     ]
    },
    {
     "name": "stdout",
     "output_type": "stream",
     "text": [
      "index 4037, number 18 not in dictionary.\n"
     ]
    },
    {
     "name": "stderr",
     "output_type": "stream",
     "text": [
      " 56%|█████▌    | 4049/7199 [11:59:15<9:02:01, 10.32s/it] "
     ]
    },
    {
     "name": "stdout",
     "output_type": "stream",
     "text": [
      "index 4049, number 17 not in dictionary.\n"
     ]
    },
    {
     "name": "stderr",
     "output_type": "stream",
     "text": [
      " 56%|█████▋    | 4062/7199 [12:01:33<9:22:08, 10.75s/it] "
     ]
    },
    {
     "name": "stdout",
     "output_type": "stream",
     "text": [
      "index 4062, number 10 not in dictionary.\n",
      "index 4062, number 11 not in dictionary.\n",
      "index 4062, number 12 not in dictionary.\n",
      "index 4062, number 13 not in dictionary.\n"
     ]
    },
    {
     "name": "stderr",
     "output_type": "stream",
     "text": [
      " 57%|█████▋    | 4073/7199 [12:03:50<10:51:48, 12.51s/it]"
     ]
    },
    {
     "name": "stdout",
     "output_type": "stream",
     "text": [
      "index 4073, number 10 not in dictionary.\n",
      "index 4073, number 11 not in dictionary.\n",
      "index 4073, number 12 not in dictionary.\n",
      "index 4073, number 13 not in dictionary.\n"
     ]
    },
    {
     "name": "stderr",
     "output_type": "stream",
     "text": [
      "\r",
      " 57%|█████▋    | 4074/7199 [12:04:02<10:43:15, 12.35s/it]"
     ]
    },
    {
     "name": "stdout",
     "output_type": "stream",
     "text": [
      "index 4073, number 14 not in dictionary.\n"
     ]
    },
    {
     "name": "stderr",
     "output_type": "stream",
     "text": [
      " 57%|█████▋    | 4092/7199 [12:07:09<8:46:46, 10.17s/it] "
     ]
    },
    {
     "name": "stdout",
     "output_type": "stream",
     "text": [
      "index 4092, number 10 not in dictionary.\n",
      "index 4092, number 11 not in dictionary.\n",
      "index 4092, number 12 not in dictionary.\n",
      "index 4092, number 13 not in dictionary.\n",
      "index 4092, number 14 not in dictionary.\n"
     ]
    },
    {
     "name": "stderr",
     "output_type": "stream",
     "text": [
      "\r",
      " 57%|█████▋    | 4093/7199 [12:07:25<10:11:28, 11.81s/it]"
     ]
    },
    {
     "name": "stdout",
     "output_type": "stream",
     "text": [
      "index 4093, number 10 not in dictionary.\n",
      "index 4093, number 11 not in dictionary.\n",
      "index 4093, number 12 not in dictionary.\n",
      "index 4093, number 13 not in dictionary.\n",
      "index 4093, number 14 not in dictionary.\n"
     ]
    },
    {
     "name": "stderr",
     "output_type": "stream",
     "text": [
      " 57%|█████▋    | 4132/7199 [12:14:49<8:05:00,  9.49s/it] "
     ]
    },
    {
     "name": "stdout",
     "output_type": "stream",
     "text": [
      "index 4132, number 2 not in dictionary.\n",
      "index 4132, number 3 not in dictionary.\n",
      "index 4132, number 4 not in dictionary.\n",
      "index 4132, number 5 not in dictionary.\n",
      "index 4132, number 6 not in dictionary.\n"
     ]
    },
    {
     "name": "stderr",
     "output_type": "stream",
     "text": [
      " 57%|█████▋    | 4137/7199 [12:15:56<11:12:47, 13.18s/it]"
     ]
    },
    {
     "name": "stdout",
     "output_type": "stream",
     "text": [
      "index 4137, number 10 not in dictionary.\n",
      "index 4137, number 11 not in dictionary.\n",
      "index 4137, number 12 not in dictionary.\n"
     ]
    },
    {
     "name": "stderr",
     "output_type": "stream",
     "text": [
      "\r",
      " 57%|█████▋    | 4138/7199 [12:16:08<10:55:44, 12.85s/it]"
     ]
    },
    {
     "name": "stdout",
     "output_type": "stream",
     "text": [
      "index 4137, number 13 not in dictionary.\n"
     ]
    },
    {
     "name": "stderr",
     "output_type": "stream",
     "text": [
      " 58%|█████▊    | 4141/7199 [12:16:35<8:49:28, 10.39s/it] "
     ]
    },
    {
     "name": "stdout",
     "output_type": "stream",
     "text": [
      "index 4141, number 11 not in dictionary.\n",
      "index 4141, number 12 not in dictionary.\n",
      "index 4141, number 13 not in dictionary.\n",
      "index 4141, number 15 not in dictionary.\n"
     ]
    },
    {
     "name": "stderr",
     "output_type": "stream",
     "text": [
      " 58%|█████▊    | 4157/7199 [12:19:40<8:29:15, 10.04s/it] "
     ]
    },
    {
     "name": "stdout",
     "output_type": "stream",
     "text": [
      "index 4157, number 12 not in dictionary.\n"
     ]
    },
    {
     "name": "stderr",
     "output_type": "stream",
     "text": [
      " 58%|█████▊    | 4166/7199 [12:21:18<10:43:27, 12.73s/it]"
     ]
    },
    {
     "name": "stdout",
     "output_type": "stream",
     "text": [
      "index 4166, number 12 not in dictionary.\n",
      "index 4166, number 13 not in dictionary.\n",
      "index 4166, number 14 not in dictionary.\n",
      "index 4166, number 15 not in dictionary.\n"
     ]
    },
    {
     "name": "stderr",
     "output_type": "stream",
     "text": [
      " 58%|█████▊    | 4184/7199 [12:24:35<9:14:31, 11.04s/it] "
     ]
    },
    {
     "name": "stdout",
     "output_type": "stream",
     "text": [
      "index 4183, number 18 not in dictionary.\n"
     ]
    },
    {
     "name": "stderr",
     "output_type": "stream",
     "text": [
      " 58%|█████▊    | 4188/7199 [12:25:18<8:52:48, 10.62s/it] "
     ]
    },
    {
     "name": "stdout",
     "output_type": "stream",
     "text": [
      "index 4188, number 12 not in dictionary.\n",
      "index 4188, number 13 not in dictionary.\n",
      "index 4188, number 14 not in dictionary.\n",
      "index 4188, number 15 not in dictionary.\n",
      "index 4188, number 16 not in dictionary.\n"
     ]
    },
    {
     "name": "stderr",
     "output_type": "stream",
     "text": [
      " 58%|█████▊    | 4190/7199 [12:25:52<11:35:07, 13.86s/it]"
     ]
    },
    {
     "name": "stdout",
     "output_type": "stream",
     "text": [
      "index 4190, number 1 not in dictionary.\n",
      "index 4190, number 2 not in dictionary.\n",
      "index 4190, number 3 not in dictionary.\n",
      "index 4190, number 4 not in dictionary.\n",
      "index 4190, number 5 not in dictionary.\n"
     ]
    },
    {
     "name": "stderr",
     "output_type": "stream",
     "text": [
      " 59%|█████▊    | 4223/7199 [12:31:20<11:20:22, 13.72s/it]"
     ]
    },
    {
     "name": "stdout",
     "output_type": "stream",
     "text": [
      "index 4223, number 10 not in dictionary.\n",
      "index 4223, number 11 not in dictionary.\n",
      "index 4223, number 12 not in dictionary.\n",
      "index 4223, number 13 not in dictionary.\n"
     ]
    },
    {
     "name": "stderr",
     "output_type": "stream",
     "text": [
      " 59%|█████▉    | 4231/7199 [12:32:59<8:54:49, 10.81s/it] "
     ]
    },
    {
     "name": "stdout",
     "output_type": "stream",
     "text": [
      "index 4231, number 14 not in dictionary.\n",
      "index 4231, number 15 not in dictionary.\n",
      "index 4231, number 16 not in dictionary.\n",
      "index 4231, number 17 not in dictionary.\n",
      "index 4231, number 18 not in dictionary.\n"
     ]
    },
    {
     "name": "stderr",
     "output_type": "stream",
     "text": [
      " 59%|█████▉    | 4241/7199 [12:34:36<7:21:30,  8.96s/it]"
     ]
    },
    {
     "name": "stdout",
     "output_type": "stream",
     "text": [
      "index 4241, number 13 not in dictionary.\n"
     ]
    },
    {
     "name": "stderr",
     "output_type": "stream",
     "text": [
      "\r",
      " 59%|█████▉    | 4242/7199 [12:34:47<7:54:52,  9.64s/it]"
     ]
    },
    {
     "name": "stdout",
     "output_type": "stream",
     "text": [
      "index 4241, number 14 not in dictionary.\n"
     ]
    },
    {
     "name": "stderr",
     "output_type": "stream",
     "text": [
      " 59%|█████▉    | 4257/7199 [12:37:33<8:51:01, 10.83s/it] "
     ]
    },
    {
     "name": "stdout",
     "output_type": "stream",
     "text": [
      "index 4257, number 14 not in dictionary.\n",
      "index 4257, number 15 not in dictionary.\n",
      "index 4257, number 16 not in dictionary.\n",
      "index 4257, number 17 not in dictionary.\n",
      "index 4257, number 18 not in dictionary.\n"
     ]
    },
    {
     "name": "stderr",
     "output_type": "stream",
     "text": [
      " 60%|█████▉    | 4287/7199 [12:42:54<10:14:52, 12.67s/it]"
     ]
    },
    {
     "name": "stdout",
     "output_type": "stream",
     "text": [
      "index 4287, number 15 not in dictionary.\n",
      "index 4287, number 16 not in dictionary.\n"
     ]
    },
    {
     "name": "stderr",
     "output_type": "stream",
     "text": [
      " 60%|█████▉    | 4301/7199 [12:45:12<10:18:24, 12.80s/it]"
     ]
    },
    {
     "name": "stdout",
     "output_type": "stream",
     "text": [
      "index 4301, number 10 not in dictionary.\n",
      "index 4301, number 11 not in dictionary.\n",
      "index 4301, number 12 not in dictionary.\n",
      "index 4301, number 13 not in dictionary.\n",
      "index 4301, number 14 not in dictionary.\n"
     ]
    },
    {
     "name": "stderr",
     "output_type": "stream",
     "text": [
      " 60%|█████▉    | 4305/7199 [12:46:02<9:57:08, 12.38s/it] "
     ]
    },
    {
     "name": "stdout",
     "output_type": "stream",
     "text": [
      "index 4305, number 12 not in dictionary.\n",
      "index 4305, number 13 not in dictionary.\n",
      "index 4305, number 14 not in dictionary.\n",
      "index 4305, number 15 not in dictionary.\n",
      "index 4305, number 16 not in dictionary.\n"
     ]
    },
    {
     "name": "stderr",
     "output_type": "stream",
     "text": [
      " 60%|██████    | 4330/7199 [12:50:04<9:34:23, 12.01s/it] "
     ]
    },
    {
     "name": "stdout",
     "output_type": "stream",
     "text": [
      "index 4330, number 10 not in dictionary.\n"
     ]
    },
    {
     "name": "stderr",
     "output_type": "stream",
     "text": [
      " 60%|██████    | 4332/7199 [12:50:33<10:52:25, 13.65s/it]"
     ]
    },
    {
     "name": "stdout",
     "output_type": "stream",
     "text": [
      "index 4332, number 14 not in dictionary.\n"
     ]
    },
    {
     "name": "stderr",
     "output_type": "stream",
     "text": [
      " 60%|██████    | 4342/7199 [12:52:35<10:12:10, 12.86s/it]"
     ]
    },
    {
     "name": "stdout",
     "output_type": "stream",
     "text": [
      "index 4342, number 14 not in dictionary.\n",
      "index 4342, number 15 not in dictionary.\n",
      "index 4342, number 16 not in dictionary.\n",
      "index 4342, number 17 not in dictionary.\n",
      "index 4342, number 18 not in dictionary.\n"
     ]
    },
    {
     "name": "stderr",
     "output_type": "stream",
     "text": [
      " 61%|██████    | 4374/7199 [12:58:29<8:02:25, 10.25s/it] "
     ]
    },
    {
     "name": "stdout",
     "output_type": "stream",
     "text": [
      "index 4374, number 17 not in dictionary.\n",
      "index 4374, number 18 not in dictionary.\n"
     ]
    },
    {
     "name": "stderr",
     "output_type": "stream",
     "text": [
      "\r",
      " 61%|██████    | 4375/7199 [12:58:42<8:44:38, 11.15s/it]"
     ]
    },
    {
     "name": "stdout",
     "output_type": "stream",
     "text": [
      "index 4374, number 19 not in dictionary.\n"
     ]
    },
    {
     "name": "stderr",
     "output_type": "stream",
     "text": [
      " 61%|██████    | 4384/7199 [13:00:17<9:43:44, 12.44s/it]"
     ]
    },
    {
     "name": "stdout",
     "output_type": "stream",
     "text": [
      "index 4384, number 10 not in dictionary.\n",
      "index 4384, number 11 not in dictionary.\n",
      "index 4384, number 12 not in dictionary.\n"
     ]
    },
    {
     "name": "stderr",
     "output_type": "stream",
     "text": [
      " 61%|██████    | 4401/7199 [13:03:20<8:39:09, 11.13s/it] "
     ]
    },
    {
     "name": "stdout",
     "output_type": "stream",
     "text": [
      "index 4401, number 16 not in dictionary.\n",
      "index 4401, number 17 not in dictionary.\n",
      "index 4401, number 18 not in dictionary.\n"
     ]
    },
    {
     "name": "stderr",
     "output_type": "stream",
     "text": [
      " 61%|██████    | 4404/7199 [13:04:03<10:11:54, 13.14s/it]"
     ]
    },
    {
     "name": "stdout",
     "output_type": "stream",
     "text": [
      "index 4404, number 2 not in dictionary.\n",
      "index 4404, number 3 not in dictionary.\n",
      "index 4404, number 4 not in dictionary.\n",
      "index 4404, number 5 not in dictionary.\n",
      "index 4404, number 6 not in dictionary.\n"
     ]
    },
    {
     "name": "stderr",
     "output_type": "stream",
     "text": [
      " 62%|██████▏   | 4433/7199 [13:09:33<6:22:56,  8.31s/it] "
     ]
    },
    {
     "name": "stdout",
     "output_type": "stream",
     "text": [
      "index 4433, number 13 not in dictionary.\n",
      "index 4433, number 16 not in dictionary.\n"
     ]
    },
    {
     "name": "stderr",
     "output_type": "stream",
     "text": [
      " 62%|██████▏   | 4448/7199 [13:12:07<7:07:11,  9.32s/it]"
     ]
    },
    {
     "name": "stdout",
     "output_type": "stream",
     "text": [
      "index 4448, number 15 not in dictionary.\n",
      "index 4448, number 16 not in dictionary.\n",
      "index 4448, number 17 not in dictionary.\n",
      "index 4448, number 18 not in dictionary.\n"
     ]
    },
    {
     "name": "stderr",
     "output_type": "stream",
     "text": [
      "\r",
      " 62%|██████▏   | 4449/7199 [13:12:23<8:44:46, 11.45s/it]"
     ]
    },
    {
     "name": "stdout",
     "output_type": "stream",
     "text": [
      "index 4448, number 19 not in dictionary.\n"
     ]
    },
    {
     "name": "stderr",
     "output_type": "stream",
     "text": [
      " 62%|██████▏   | 4461/7199 [13:14:31<8:47:53, 11.57s/it]"
     ]
    },
    {
     "name": "stdout",
     "output_type": "stream",
     "text": [
      "index 4461, number 12 not in dictionary.\n",
      "index 4461, number 13 not in dictionary.\n",
      "index 4461, number 14 not in dictionary.\n",
      "index 4461, number 15 not in dictionary.\n",
      "index 4461, number 16 not in dictionary.\n"
     ]
    },
    {
     "name": "stderr",
     "output_type": "stream",
     "text": [
      " 62%|██████▏   | 4474/7199 [13:17:01<6:56:00,  9.16s/it] "
     ]
    },
    {
     "name": "stdout",
     "output_type": "stream",
     "text": [
      "index 4474, number 12 not in dictionary.\n"
     ]
    },
    {
     "name": "stderr",
     "output_type": "stream",
     "text": [
      "\r",
      " 62%|██████▏   | 4475/7199 [13:17:11<7:09:39,  9.46s/it]"
     ]
    },
    {
     "name": "stdout",
     "output_type": "stream",
     "text": [
      "index 4474, number 13 not in dictionary.\n"
     ]
    },
    {
     "name": "stderr",
     "output_type": "stream",
     "text": [
      " 62%|██████▏   | 4486/7199 [13:18:44<5:07:27,  6.80s/it]"
     ]
    },
    {
     "name": "stdout",
     "output_type": "stream",
     "text": [
      "index 4486, number 4 not in dictionary.\n",
      "index 4486, number 5 not in dictionary.\n",
      "index 4486, number 6 not in dictionary.\n",
      "index 4486, number 7 not in dictionary.\n",
      "index 4486, number 8 not in dictionary.\n"
     ]
    },
    {
     "name": "stderr",
     "output_type": "stream",
     "text": [
      " 62%|██████▏   | 4489/7199 [13:19:16<6:32:24,  8.69s/it]"
     ]
    },
    {
     "name": "stdout",
     "output_type": "stream",
     "text": [
      "index 4489, number 20 not in dictionary.\n",
      "index 4489, number 21 not in dictionary.\n"
     ]
    },
    {
     "name": "stderr",
     "output_type": "stream",
     "text": [
      "\r",
      " 62%|██████▏   | 4490/7199 [13:19:35<8:55:10, 11.85s/it]"
     ]
    },
    {
     "name": "stdout",
     "output_type": "stream",
     "text": [
      "index 4489, number 22 not in dictionary.\n"
     ]
    },
    {
     "name": "stderr",
     "output_type": "stream",
     "text": [
      "\r",
      " 62%|██████▏   | 4491/7199 [13:19:46<8:53:11, 11.81s/it]"
     ]
    },
    {
     "name": "stdout",
     "output_type": "stream",
     "text": [
      "index 4491, number 13 not in dictionary.\n",
      "index 4491, number 14 not in dictionary.\n"
     ]
    },
    {
     "name": "stderr",
     "output_type": "stream",
     "text": [
      " 63%|██████▎   | 4519/7199 [13:24:53<8:14:03, 11.06s/it] "
     ]
    },
    {
     "name": "stdout",
     "output_type": "stream",
     "text": [
      "index 4519, number 16 not in dictionary.\n"
     ]
    },
    {
     "name": "stderr",
     "output_type": "stream",
     "text": [
      "\r",
      " 63%|██████▎   | 4520/7199 [13:25:07<8:55:24, 11.99s/it]"
     ]
    },
    {
     "name": "stdout",
     "output_type": "stream",
     "text": [
      "index 4519, number 17 not in dictionary.\n"
     ]
    },
    {
     "name": "stderr",
     "output_type": "stream",
     "text": [
      " 63%|██████▎   | 4549/7199 [13:30:01<7:45:13, 10.53s/it]"
     ]
    },
    {
     "name": "stdout",
     "output_type": "stream",
     "text": [
      "index 4549, number 10 not in dictionary.\n",
      "index 4549, number 11 not in dictionary.\n"
     ]
    },
    {
     "name": "stderr",
     "output_type": "stream",
     "text": [
      "\r",
      " 63%|██████▎   | 4550/7199 [13:30:13<8:05:40, 11.00s/it]"
     ]
    },
    {
     "name": "stdout",
     "output_type": "stream",
     "text": [
      "index 4550, number 14 not in dictionary.\n",
      "index 4550, number 15 not in dictionary.\n",
      "index 4550, number 16 not in dictionary.\n",
      "index 4550, number 17 not in dictionary.\n",
      "index 4550, number 18 not in dictionary.\n"
     ]
    },
    {
     "name": "stderr",
     "output_type": "stream",
     "text": [
      " 63%|██████▎   | 4553/7199 [13:30:57<9:51:15, 13.41s/it]"
     ]
    },
    {
     "name": "stdout",
     "output_type": "stream",
     "text": [
      "index 4552, number 19 not in dictionary.\n"
     ]
    },
    {
     "name": "stderr",
     "output_type": "stream",
     "text": [
      " 63%|██████▎   | 4556/7199 [13:31:34<9:27:29, 12.88s/it] "
     ]
    },
    {
     "name": "stdout",
     "output_type": "stream",
     "text": [
      "index 4556, number 10 not in dictionary.\n",
      "index 4556, number 11 not in dictionary.\n",
      "index 4556, number 12 not in dictionary.\n",
      "index 4556, number 13 not in dictionary.\n",
      "index 4556, number 14 not in dictionary.\n"
     ]
    },
    {
     "name": "stderr",
     "output_type": "stream",
     "text": [
      " 63%|██████▎   | 4563/7199 [13:33:07<9:15:22, 12.64s/it] "
     ]
    },
    {
     "name": "stdout",
     "output_type": "stream",
     "text": [
      "index 4563, number 7 not in dictionary.\n",
      "index 4563, number 8 not in dictionary.\n",
      "index 4563, number 9 not in dictionary.\n",
      "index 4563, number 10 not in dictionary.\n",
      "index 4563, number 11 not in dictionary.\n"
     ]
    },
    {
     "name": "stderr",
     "output_type": "stream",
     "text": [
      " 64%|██████▍   | 4609/7199 [13:41:27<8:51:54, 12.32s/it] "
     ]
    },
    {
     "name": "stdout",
     "output_type": "stream",
     "text": [
      "index 4609, number 10 not in dictionary.\n",
      "index 4609, number 11 not in dictionary.\n"
     ]
    },
    {
     "name": "stderr",
     "output_type": "stream",
     "text": [
      "\r",
      " 64%|██████▍   | 4610/7199 [13:41:38<8:26:02, 11.73s/it]"
     ]
    },
    {
     "name": "stdout",
     "output_type": "stream",
     "text": [
      "index 4609, number 12 not in dictionary.\n"
     ]
    },
    {
     "name": "stderr",
     "output_type": "stream",
     "text": [
      " 64%|██████▍   | 4620/7199 [13:43:27<6:50:24,  9.55s/it]"
     ]
    },
    {
     "name": "stdout",
     "output_type": "stream",
     "text": [
      "index 4620, number 16 not in dictionary.\n",
      "index 4620, number 17 not in dictionary.\n",
      "index 4620, number 18 not in dictionary.\n"
     ]
    },
    {
     "name": "stderr",
     "output_type": "stream",
     "text": [
      "\r",
      " 64%|██████▍   | 4621/7199 [13:43:38<7:14:14, 10.11s/it]"
     ]
    },
    {
     "name": "stdout",
     "output_type": "stream",
     "text": [
      "index 4620, number 19 not in dictionary.\n"
     ]
    },
    {
     "name": "stderr",
     "output_type": "stream",
     "text": [
      " 65%|██████▍   | 4648/7199 [13:48:42<9:34:51, 13.52s/it] "
     ]
    },
    {
     "name": "stdout",
     "output_type": "stream",
     "text": [
      "index 4648, number 17 not in dictionary.\n",
      "index 4648, number 18 not in dictionary.\n"
     ]
    },
    {
     "name": "stderr",
     "output_type": "stream",
     "text": [
      "\r",
      " 65%|██████▍   | 4649/7199 [13:48:54<9:15:30, 13.07s/it]"
     ]
    },
    {
     "name": "stdout",
     "output_type": "stream",
     "text": [
      "index 4648, number 19 not in dictionary.\n"
     ]
    },
    {
     "name": "stderr",
     "output_type": "stream",
     "text": [
      " 65%|██████▍   | 4656/7199 [13:50:06<7:56:27, 11.24s/it]"
     ]
    },
    {
     "name": "stdout",
     "output_type": "stream",
     "text": [
      "index 4656, number 6 not in dictionary.\n",
      "index 4656, number 7 not in dictionary.\n",
      "index 4656, number 8 not in dictionary.\n",
      "index 4656, number 9 not in dictionary.\n",
      "index 4656, number 10 not in dictionary.\n"
     ]
    },
    {
     "name": "stderr",
     "output_type": "stream",
     "text": [
      " 65%|██████▍   | 4665/7199 [13:51:24<6:50:10,  9.71s/it]"
     ]
    },
    {
     "name": "stdout",
     "output_type": "stream",
     "text": [
      "index 4665, number 13 not in dictionary.\n",
      "index 4665, number 14 not in dictionary.\n",
      "index 4665, number 17 not in dictionary.\n"
     ]
    },
    {
     "name": "stderr",
     "output_type": "stream",
     "text": [
      " 65%|██████▍   | 4674/7199 [13:52:49<6:32:17,  9.32s/it]"
     ]
    },
    {
     "name": "stdout",
     "output_type": "stream",
     "text": [
      "index 4673, number 15 not in dictionary.\n"
     ]
    },
    {
     "name": "stderr",
     "output_type": "stream",
     "text": [
      " 65%|██████▍   | 4676/7199 [13:53:03<5:52:54,  8.39s/it]"
     ]
    },
    {
     "name": "stdout",
     "output_type": "stream",
     "text": [
      "index 4676, number 6 not in dictionary.\n",
      "index 4676, number 8 not in dictionary.\n",
      "index 4676, number 9 not in dictionary.\n",
      "index 4676, number 10 not in dictionary.\n"
     ]
    },
    {
     "name": "stderr",
     "output_type": "stream",
     "text": [
      " 65%|██████▌   | 4701/7199 [13:57:17<5:38:05,  8.12s/it]"
     ]
    },
    {
     "name": "stdout",
     "output_type": "stream",
     "text": [
      "index 4701, number 18 not in dictionary.\n"
     ]
    },
    {
     "name": "stderr",
     "output_type": "stream",
     "text": [
      "\r",
      " 65%|██████▌   | 4702/7199 [13:57:35<7:34:07, 10.91s/it]"
     ]
    },
    {
     "name": "stdout",
     "output_type": "stream",
     "text": [
      "index 4701, number 19 not in dictionary.\n"
     ]
    },
    {
     "name": "stderr",
     "output_type": "stream",
     "text": [
      " 65%|██████▌   | 4708/7199 [13:58:28<7:15:00, 10.48s/it]"
     ]
    },
    {
     "name": "stdout",
     "output_type": "stream",
     "text": [
      "index 4708, number 16 not in dictionary.\n"
     ]
    },
    {
     "name": "stderr",
     "output_type": "stream",
     "text": [
      "\r",
      " 65%|██████▌   | 4709/7199 [13:58:42<7:59:48, 11.56s/it]"
     ]
    },
    {
     "name": "stdout",
     "output_type": "stream",
     "text": [
      "index 4708, number 17 not in dictionary.\n"
     ]
    },
    {
     "name": "stderr",
     "output_type": "stream",
     "text": [
      " 66%|██████▌   | 4718/7199 [14:00:19<6:30:06,  9.43s/it]"
     ]
    },
    {
     "name": "stdout",
     "output_type": "stream",
     "text": [
      "index 4718, number 18 not in dictionary.\n"
     ]
    },
    {
     "name": "stderr",
     "output_type": "stream",
     "text": [
      "\r",
      " 66%|██████▌   | 4719/7199 [14:00:34<7:44:23, 11.24s/it]"
     ]
    },
    {
     "name": "stdout",
     "output_type": "stream",
     "text": [
      "index 4718, number 19 not in dictionary.\n"
     ]
    },
    {
     "name": "stderr",
     "output_type": "stream",
     "text": [
      " 66%|██████▋   | 4772/7199 [14:09:26<5:30:14,  8.16s/it]"
     ]
    },
    {
     "name": "stdout",
     "output_type": "stream",
     "text": [
      "index 4772, number 15 not in dictionary.\n",
      "index 4772, number 16 not in dictionary.\n",
      "index 4772, number 17 not in dictionary.\n",
      "index 4772, number 18 not in dictionary.\n",
      "index 4772, number 19 not in dictionary.\n"
     ]
    },
    {
     "name": "stderr",
     "output_type": "stream",
     "text": [
      " 67%|██████▋   | 4803/7199 [14:15:21<7:48:52, 11.74s/it]"
     ]
    },
    {
     "name": "stdout",
     "output_type": "stream",
     "text": [
      "index 4803, number 18 not in dictionary.\n"
     ]
    },
    {
     "name": "stderr",
     "output_type": "stream",
     "text": [
      " 67%|██████▋   | 4806/7199 [14:15:55<6:58:08, 10.48s/it]"
     ]
    },
    {
     "name": "stdout",
     "output_type": "stream",
     "text": [
      "index 4806, number 15 not in dictionary.\n"
     ]
    },
    {
     "name": "stderr",
     "output_type": "stream",
     "text": [
      " 67%|██████▋   | 4812/7199 [14:17:08<7:35:47, 11.46s/it]"
     ]
    },
    {
     "name": "stdout",
     "output_type": "stream",
     "text": [
      "index 4811, number 10 not in dictionary.\n"
     ]
    },
    {
     "name": "stderr",
     "output_type": "stream",
     "text": [
      "\r",
      " 67%|██████▋   | 4813/7199 [14:17:21<7:53:24, 11.90s/it]"
     ]
    },
    {
     "name": "stdout",
     "output_type": "stream",
     "text": [
      "index 4813, number 12 not in dictionary.\n",
      "index 4813, number 13 not in dictionary.\n",
      "index 4813, number 14 not in dictionary.\n",
      "index 4813, number 15 not in dictionary.\n",
      "index 4813, number 16 not in dictionary.\n"
     ]
    },
    {
     "name": "stderr",
     "output_type": "stream",
     "text": [
      " 67%|██████▋   | 4826/7199 [14:19:03<4:44:39,  7.20s/it]"
     ]
    },
    {
     "name": "stdout",
     "output_type": "stream",
     "text": [
      "index 4826, number 10 not in dictionary.\n",
      "index 4826, number 11 not in dictionary.\n"
     ]
    },
    {
     "name": "stderr",
     "output_type": "stream",
     "text": [
      " 67%|██████▋   | 4832/7199 [14:20:10<7:41:58, 11.71s/it]"
     ]
    },
    {
     "name": "stdout",
     "output_type": "stream",
     "text": [
      "index 4832, number 10 not in dictionary.\n",
      "index 4832, number 11 not in dictionary.\n",
      "index 4832, number 12 not in dictionary.\n",
      "index 4832, number 13 not in dictionary.\n",
      "index 4832, number 14 not in dictionary.\n"
     ]
    },
    {
     "name": "stderr",
     "output_type": "stream",
     "text": [
      " 67%|██████▋   | 4849/7199 [14:23:21<8:01:07, 12.28s/it]"
     ]
    },
    {
     "name": "stdout",
     "output_type": "stream",
     "text": [
      "index 4849, number 10 not in dictionary.\n",
      "index 4849, number 11 not in dictionary.\n",
      "index 4849, number 12 not in dictionary.\n",
      "index 4849, number 13 not in dictionary.\n",
      "index 4849, number 14 not in dictionary.\n"
     ]
    },
    {
     "name": "stderr",
     "output_type": "stream",
     "text": [
      " 68%|██████▊   | 4862/7199 [14:25:50<6:55:19, 10.66s/it]"
     ]
    },
    {
     "name": "stdout",
     "output_type": "stream",
     "text": [
      "index 4862, number 14 not in dictionary.\n",
      "index 4862, number 15 not in dictionary.\n",
      "index 4862, number 16 not in dictionary.\n",
      "index 4862, number 17 not in dictionary.\n",
      "index 4862, number 18 not in dictionary.\n"
     ]
    },
    {
     "name": "stderr",
     "output_type": "stream",
     "text": [
      " 68%|██████▊   | 4871/7199 [14:27:22<7:10:45, 11.10s/it]"
     ]
    },
    {
     "name": "stdout",
     "output_type": "stream",
     "text": [
      "index 4870, number 16 not in dictionary.\n"
     ]
    },
    {
     "name": "stderr",
     "output_type": "stream",
     "text": [
      " 68%|██████▊   | 4884/7199 [14:29:43<7:10:36, 11.16s/it]"
     ]
    },
    {
     "name": "stdout",
     "output_type": "stream",
     "text": [
      "index 4884, number 11 not in dictionary.\n",
      "index 4884, number 12 not in dictionary.\n",
      "index 4884, number 13 not in dictionary.\n",
      "index 4884, number 14 not in dictionary.\n",
      "index 4884, number 15 not in dictionary.\n"
     ]
    },
    {
     "name": "stderr",
     "output_type": "stream",
     "text": [
      " 68%|██████▊   | 4902/7199 [14:32:56<6:01:11,  9.43s/it]"
     ]
    },
    {
     "name": "stdout",
     "output_type": "stream",
     "text": [
      "index 4902, number 17 not in dictionary.\n",
      "index 4902, number 18 not in dictionary.\n"
     ]
    },
    {
     "name": "stderr",
     "output_type": "stream",
     "text": [
      "\r",
      " 68%|██████▊   | 4903/7199 [14:33:10<6:59:07, 10.95s/it]"
     ]
    },
    {
     "name": "stdout",
     "output_type": "stream",
     "text": [
      "index 4902, number 19 not in dictionary.\n"
     ]
    },
    {
     "name": "stderr",
     "output_type": "stream",
     "text": [
      " 69%|██████▉   | 4978/7199 [14:46:16<7:25:46, 12.04s/it]"
     ]
    },
    {
     "name": "stdout",
     "output_type": "stream",
     "text": [
      "index 4977, number 20 not in dictionary.\n"
     ]
    },
    {
     "name": "stderr",
     "output_type": "stream",
     "text": [
      " 70%|██████▉   | 5014/7199 [14:52:56<8:18:14, 13.68s/it]"
     ]
    },
    {
     "name": "stdout",
     "output_type": "stream",
     "text": [
      "index 5014, number 3 not in dictionary.\n",
      "index 5014, number 4 not in dictionary.\n",
      "index 5014, number 5 not in dictionary.\n",
      "index 5014, number 6 not in dictionary.\n",
      "index 5014, number 7 not in dictionary.\n"
     ]
    },
    {
     "name": "stderr",
     "output_type": "stream",
     "text": [
      " 70%|███████   | 5046/7199 [14:58:53<6:35:03, 11.01s/it]"
     ]
    },
    {
     "name": "stdout",
     "output_type": "stream",
     "text": [
      "index 5046, number 10 not in dictionary.\n",
      "index 5046, number 11 not in dictionary.\n",
      "index 5046, number 12 not in dictionary.\n"
     ]
    },
    {
     "name": "stderr",
     "output_type": "stream",
     "text": [
      "\r",
      " 70%|███████   | 5047/7199 [14:59:03<6:27:40, 10.81s/it]"
     ]
    },
    {
     "name": "stdout",
     "output_type": "stream",
     "text": [
      "index 5046, number 13 not in dictionary.\n"
     ]
    },
    {
     "name": "stderr",
     "output_type": "stream",
     "text": [
      " 70%|███████   | 5050/7199 [14:59:41<7:05:49, 11.89s/it]"
     ]
    },
    {
     "name": "stdout",
     "output_type": "stream",
     "text": [
      "index 5049, number 19 not in dictionary.\n"
     ]
    },
    {
     "name": "stderr",
     "output_type": "stream",
     "text": [
      " 71%|███████   | 5084/7199 [15:05:24<4:56:00,  8.40s/it]"
     ]
    },
    {
     "name": "stdout",
     "output_type": "stream",
     "text": [
      "index 5084, number 12 not in dictionary.\n",
      "index 5084, number 13 not in dictionary.\n",
      "index 5084, number 14 not in dictionary.\n",
      "index 5084, number 15 not in dictionary.\n",
      "index 5084, number 16 not in dictionary.\n"
     ]
    },
    {
     "name": "stderr",
     "output_type": "stream",
     "text": [
      " 71%|███████   | 5089/7199 [15:06:27<6:29:33, 11.08s/it]"
     ]
    },
    {
     "name": "stdout",
     "output_type": "stream",
     "text": [
      "index 5089, number 8 not in dictionary.\n"
     ]
    },
    {
     "name": "stderr",
     "output_type": "stream",
     "text": [
      " 71%|███████   | 5108/7199 [15:10:13<6:40:33, 11.49s/it]"
     ]
    },
    {
     "name": "stdout",
     "output_type": "stream",
     "text": [
      "index 5108, number 8 not in dictionary.\n"
     ]
    },
    {
     "name": "stderr",
     "output_type": "stream",
     "text": [
      " 72%|███████▏  | 5163/7199 [15:18:26<4:17:37,  7.59s/it]"
     ]
    },
    {
     "name": "stdout",
     "output_type": "stream",
     "text": [
      "index 5163, number 18 not in dictionary.\n"
     ]
    },
    {
     "name": "stderr",
     "output_type": "stream",
     "text": [
      "\r",
      " 72%|███████▏  | 5164/7199 [15:18:39<5:11:18,  9.18s/it]"
     ]
    },
    {
     "name": "stdout",
     "output_type": "stream",
     "text": [
      "index 5163, number 19 not in dictionary.\n"
     ]
    },
    {
     "name": "stderr",
     "output_type": "stream",
     "text": [
      " 72%|███████▏  | 5173/7199 [15:20:11<5:51:29, 10.41s/it]"
     ]
    },
    {
     "name": "stdout",
     "output_type": "stream",
     "text": [
      "index 5173, number 17 not in dictionary.\n",
      "index 5173, number 18 not in dictionary.\n"
     ]
    },
    {
     "name": "stderr",
     "output_type": "stream",
     "text": [
      "\r",
      " 72%|███████▏  | 5174/7199 [15:20:25<6:26:19, 11.45s/it]"
     ]
    },
    {
     "name": "stdout",
     "output_type": "stream",
     "text": [
      "index 5173, number 19 not in dictionary.\n"
     ]
    },
    {
     "name": "stderr",
     "output_type": "stream",
     "text": [
      "\r",
      " 72%|███████▏  | 5175/7199 [15:20:31<5:32:06,  9.85s/it]"
     ]
    },
    {
     "name": "stdout",
     "output_type": "stream",
     "text": [
      "index 5174, number 10 not in dictionary.\n"
     ]
    },
    {
     "name": "stderr",
     "output_type": "stream",
     "text": [
      " 72%|███████▏  | 5207/7199 [15:25:45<5:04:52,  9.18s/it]"
     ]
    },
    {
     "name": "stdout",
     "output_type": "stream",
     "text": [
      "index 5207, number 2 not in dictionary.\n",
      "index 5207, number 3 not in dictionary.\n",
      "index 5207, number 4 not in dictionary.\n",
      "index 5207, number 5 not in dictionary.\n",
      "index 5207, number 6 not in dictionary.\n"
     ]
    },
    {
     "name": "stderr",
     "output_type": "stream",
     "text": [
      " 73%|███████▎  | 5238/7199 [15:31:05<5:18:55,  9.76s/it]"
     ]
    },
    {
     "name": "stdout",
     "output_type": "stream",
     "text": [
      "index 5237, number 19 not in dictionary.\n"
     ]
    },
    {
     "name": "stderr",
     "output_type": "stream",
     "text": [
      " 73%|███████▎  | 5243/7199 [15:32:00<5:54:12, 10.87s/it]"
     ]
    },
    {
     "name": "stdout",
     "output_type": "stream",
     "text": [
      "index 5242, number 19 not in dictionary.\n"
     ]
    },
    {
     "name": "stderr",
     "output_type": "stream",
     "text": [
      " 73%|███████▎  | 5246/7199 [15:32:31<5:17:07,  9.74s/it]"
     ]
    },
    {
     "name": "stdout",
     "output_type": "stream",
     "text": [
      "index 5246, number 12 not in dictionary.\n",
      "index 5246, number 13 not in dictionary.\n",
      "index 5246, number 14 not in dictionary.\n",
      "index 5246, number 15 not in dictionary.\n",
      "index 5246, number 16 not in dictionary.\n"
     ]
    },
    {
     "name": "stderr",
     "output_type": "stream",
     "text": [
      " 74%|███████▎  | 5306/7199 [15:43:32<6:37:48, 12.61s/it]"
     ]
    },
    {
     "name": "stdout",
     "output_type": "stream",
     "text": [
      "index 5306, number 3 not in dictionary.\n",
      "index 5306, number 4 not in dictionary.\n",
      "index 5306, number 5 not in dictionary.\n",
      "index 5306, number 6 not in dictionary.\n",
      "index 5306, number 7 not in dictionary.\n"
     ]
    },
    {
     "name": "stderr",
     "output_type": "stream",
     "text": [
      " 74%|███████▎  | 5309/7199 [15:44:09<6:08:17, 11.69s/it]"
     ]
    },
    {
     "name": "stdout",
     "output_type": "stream",
     "text": [
      "index 5309, number 12 not in dictionary.\n",
      "index 5309, number 13 not in dictionary.\n",
      "index 5309, number 14 not in dictionary.\n",
      "index 5309, number 15 not in dictionary.\n",
      "index 5309, number 16 not in dictionary.\n"
     ]
    },
    {
     "name": "stderr",
     "output_type": "stream",
     "text": [
      " 74%|███████▍  | 5316/7199 [15:45:46<6:39:57, 12.74s/it]"
     ]
    },
    {
     "name": "stdout",
     "output_type": "stream",
     "text": [
      "index 5316, number 14 not in dictionary.\n"
     ]
    },
    {
     "name": "stderr",
     "output_type": "stream",
     "text": [
      "\r",
      " 74%|███████▍  | 5317/7199 [15:45:58<6:35:28, 12.61s/it]"
     ]
    },
    {
     "name": "stdout",
     "output_type": "stream",
     "text": [
      "index 5316, number 15 not in dictionary.\n"
     ]
    },
    {
     "name": "stderr",
     "output_type": "stream",
     "text": [
      " 74%|███████▍  | 5322/7199 [15:46:37<4:17:33,  8.23s/it]"
     ]
    },
    {
     "name": "stdout",
     "output_type": "stream",
     "text": [
      "index 5322, number 14 not in dictionary.\n"
     ]
    },
    {
     "name": "stderr",
     "output_type": "stream",
     "text": [
      " 74%|███████▍  | 5330/7199 [15:48:02<5:20:15, 10.28s/it]"
     ]
    },
    {
     "name": "stdout",
     "output_type": "stream",
     "text": [
      "index 5330, number 14 not in dictionary.\n",
      "index 5330, number 15 not in dictionary.\n",
      "index 5330, number 16 not in dictionary.\n",
      "index 5330, number 17 not in dictionary.\n"
     ]
    },
    {
     "name": "stderr",
     "output_type": "stream",
     "text": [
      " 75%|███████▍  | 5366/7199 [15:54:22<4:44:08,  9.30s/it]"
     ]
    },
    {
     "name": "stdout",
     "output_type": "stream",
     "text": [
      "index 5366, number 7 not in dictionary.\n",
      "index 5366, number 8 not in dictionary.\n",
      "index 5366, number 9 not in dictionary.\n",
      "index 5366, number 10 not in dictionary.\n",
      "index 5366, number 11 not in dictionary.\n"
     ]
    },
    {
     "name": "stderr",
     "output_type": "stream",
     "text": [
      " 75%|███████▍  | 5370/7199 [15:55:17<6:28:41, 12.75s/it]"
     ]
    },
    {
     "name": "stdout",
     "output_type": "stream",
     "text": [
      "index 5369, number 19 not in dictionary.\n",
      "index 5370, number 1 not in dictionary.\n",
      "index 5370, number 2 not in dictionary.\n",
      "index 5370, number 3 not in dictionary.\n",
      "index 5370, number 4 not in dictionary.\n",
      "index 5370, number 5 not in dictionary.\n"
     ]
    },
    {
     "name": "stderr",
     "output_type": "stream",
     "text": [
      " 75%|███████▍  | 5377/7199 [15:56:27<5:19:02, 10.51s/it]"
     ]
    },
    {
     "name": "stdout",
     "output_type": "stream",
     "text": [
      "index 5376, number 13 not in dictionary.\n"
     ]
    },
    {
     "name": "stderr",
     "output_type": "stream",
     "text": [
      " 75%|███████▍  | 5392/7199 [15:59:35<6:25:37, 12.80s/it]"
     ]
    },
    {
     "name": "stdout",
     "output_type": "stream",
     "text": [
      "index 5392, number 14 not in dictionary.\n"
     ]
    },
    {
     "name": "stderr",
     "output_type": "stream",
     "text": [
      " 75%|███████▍  | 5394/7199 [15:59:55<5:24:07, 10.77s/it]"
     ]
    },
    {
     "name": "stdout",
     "output_type": "stream",
     "text": [
      "index 5394, number 10 not in dictionary.\n",
      "index 5394, number 11 not in dictionary.\n",
      "index 5394, number 12 not in dictionary.\n",
      "index 5394, number 13 not in dictionary.\n"
     ]
    },
    {
     "name": "stderr",
     "output_type": "stream",
     "text": [
      " 75%|███████▌  | 5402/7199 [16:01:15<5:01:49, 10.08s/it]"
     ]
    },
    {
     "name": "stdout",
     "output_type": "stream",
     "text": [
      "index 5402, number 14 not in dictionary.\n",
      "index 5402, number 15 not in dictionary.\n",
      "index 5402, number 16 not in dictionary.\n",
      "index 5402, number 17 not in dictionary.\n",
      "index 5402, number 18 not in dictionary.\n"
     ]
    },
    {
     "name": "stderr",
     "output_type": "stream",
     "text": [
      " 75%|███████▌  | 5414/7199 [16:02:55<3:34:43,  7.22s/it]"
     ]
    },
    {
     "name": "stdout",
     "output_type": "stream",
     "text": [
      "index 5414, number 17 not in dictionary.\n",
      "index 5414, number 18 not in dictionary.\n"
     ]
    },
    {
     "name": "stderr",
     "output_type": "stream",
     "text": [
      " 75%|███████▌  | 5423/7199 [16:04:08<4:04:00,  8.24s/it]"
     ]
    },
    {
     "name": "stdout",
     "output_type": "stream",
     "text": [
      "index 5423, number 12 not in dictionary.\n",
      "index 5423, number 13 not in dictionary.\n"
     ]
    },
    {
     "name": "stderr",
     "output_type": "stream",
     "text": [
      " 76%|███████▌  | 5450/7199 [16:08:20<4:58:15, 10.23s/it]"
     ]
    },
    {
     "name": "stdout",
     "output_type": "stream",
     "text": [
      "index 5450, number 18 not in dictionary.\n"
     ]
    },
    {
     "name": "stderr",
     "output_type": "stream",
     "text": [
      "\r",
      " 76%|███████▌  | 5451/7199 [16:08:37<5:54:16, 12.16s/it]"
     ]
    },
    {
     "name": "stdout",
     "output_type": "stream",
     "text": [
      "index 5450, number 19 not in dictionary.\n"
     ]
    },
    {
     "name": "stderr",
     "output_type": "stream",
     "text": [
      " 76%|███████▌  | 5473/7199 [16:11:57<3:47:11,  7.90s/it]"
     ]
    },
    {
     "name": "stdout",
     "output_type": "stream",
     "text": [
      "index 5472, number 11 not in dictionary.\n"
     ]
    },
    {
     "name": "stderr",
     "output_type": "stream",
     "text": [
      " 76%|███████▌  | 5489/7199 [16:14:32<3:33:22,  7.49s/it]"
     ]
    },
    {
     "name": "stdout",
     "output_type": "stream",
     "text": [
      "index 5489, number 15 not in dictionary.\n",
      "index 5489, number 16 not in dictionary.\n"
     ]
    },
    {
     "name": "stderr",
     "output_type": "stream",
     "text": [
      " 77%|███████▋  | 5523/7199 [16:21:04<6:03:33, 13.02s/it]"
     ]
    },
    {
     "name": "stdout",
     "output_type": "stream",
     "text": [
      "index 5523, number 4 not in dictionary.\n",
      "index 5523, number 5 not in dictionary.\n",
      "index 5523, number 6 not in dictionary.\n",
      "index 5523, number 7 not in dictionary.\n",
      "index 5523, number 8 not in dictionary.\n"
     ]
    },
    {
     "name": "stderr",
     "output_type": "stream",
     "text": [
      " 77%|███████▋  | 5528/7199 [16:22:00<5:11:57, 11.20s/it]"
     ]
    },
    {
     "name": "stdout",
     "output_type": "stream",
     "text": [
      "index 5528, number 15 not in dictionary.\n"
     ]
    },
    {
     "name": "stderr",
     "output_type": "stream",
     "text": [
      " 77%|███████▋  | 5544/7199 [16:25:07<4:16:49,  9.31s/it]"
     ]
    },
    {
     "name": "stdout",
     "output_type": "stream",
     "text": [
      "index 5544, number 11 not in dictionary.\n",
      "index 5544, number 12 not in dictionary.\n",
      "index 5544, number 13 not in dictionary.\n",
      "index 5544, number 14 not in dictionary.\n",
      "index 5544, number 15 not in dictionary.\n"
     ]
    },
    {
     "name": "stderr",
     "output_type": "stream",
     "text": [
      " 77%|███████▋  | 5567/7199 [16:29:10<4:17:18,  9.46s/it]"
     ]
    },
    {
     "name": "stdout",
     "output_type": "stream",
     "text": [
      "index 5567, number 18 not in dictionary.\n"
     ]
    },
    {
     "name": "stderr",
     "output_type": "stream",
     "text": [
      " 78%|███████▊  | 5595/7199 [16:33:30<4:27:53, 10.02s/it]"
     ]
    },
    {
     "name": "stdout",
     "output_type": "stream",
     "text": [
      "index 5595, number 18 not in dictionary.\n"
     ]
    },
    {
     "name": "stderr",
     "output_type": "stream",
     "text": [
      "\r",
      " 78%|███████▊  | 5596/7199 [16:33:44<5:05:12, 11.42s/it]"
     ]
    },
    {
     "name": "stdout",
     "output_type": "stream",
     "text": [
      "index 5595, number 19 not in dictionary.\n"
     ]
    },
    {
     "name": "stderr",
     "output_type": "stream",
     "text": [
      " 78%|███████▊  | 5626/7199 [16:39:07<5:51:05, 13.39s/it]"
     ]
    },
    {
     "name": "stdout",
     "output_type": "stream",
     "text": [
      "index 5626, number 18 not in dictionary.\n"
     ]
    },
    {
     "name": "stderr",
     "output_type": "stream",
     "text": [
      " 78%|███████▊  | 5639/7199 [16:41:06<3:21:00,  7.73s/it]"
     ]
    },
    {
     "name": "stdout",
     "output_type": "stream",
     "text": [
      "index 5639, number 16 not in dictionary.\n"
     ]
    },
    {
     "name": "stderr",
     "output_type": "stream",
     "text": [
      " 78%|███████▊  | 5642/7199 [16:41:38<4:02:48,  9.36s/it]"
     ]
    },
    {
     "name": "stdout",
     "output_type": "stream",
     "text": [
      "index 5642, number 7 not in dictionary.\n",
      "index 5642, number 8 not in dictionary.\n",
      "index 5642, number 9 not in dictionary.\n"
     ]
    },
    {
     "name": "stderr",
     "output_type": "stream",
     "text": [
      "\r",
      " 78%|███████▊  | 5643/7199 [16:41:46<3:56:42,  9.13s/it]"
     ]
    },
    {
     "name": "stdout",
     "output_type": "stream",
     "text": [
      "index 5642, number 10 not in dictionary.\n"
     ]
    },
    {
     "name": "stderr",
     "output_type": "stream",
     "text": [
      " 79%|███████▊  | 5659/7199 [16:44:41<4:34:51, 10.71s/it]"
     ]
    },
    {
     "name": "stdout",
     "output_type": "stream",
     "text": [
      "index 5659, number 10 not in dictionary.\n",
      "index 5659, number 11 not in dictionary.\n",
      "index 5659, number 12 not in dictionary.\n",
      "index 5659, number 13 not in dictionary.\n",
      "index 5659, number 14 not in dictionary.\n"
     ]
    },
    {
     "name": "stderr",
     "output_type": "stream",
     "text": [
      " 79%|███████▉  | 5683/7199 [16:49:18<4:47:54, 11.39s/it]"
     ]
    },
    {
     "name": "stdout",
     "output_type": "stream",
     "text": [
      "index 5683, number 14 not in dictionary.\n"
     ]
    },
    {
     "name": "stderr",
     "output_type": "stream",
     "text": [
      " 79%|███████▉  | 5707/7199 [16:53:47<4:51:09, 11.71s/it]"
     ]
    },
    {
     "name": "stdout",
     "output_type": "stream",
     "text": [
      "index 5707, number 8 not in dictionary.\n",
      "index 5707, number 9 not in dictionary.\n",
      "index 5707, number 10 not in dictionary.\n",
      "index 5707, number 11 not in dictionary.\n",
      "index 5707, number 12 not in dictionary.\n"
     ]
    },
    {
     "name": "stderr",
     "output_type": "stream",
     "text": [
      " 79%|███████▉  | 5710/7199 [16:54:20<4:32:15, 10.97s/it]"
     ]
    },
    {
     "name": "stdout",
     "output_type": "stream",
     "text": [
      "index 5709, number 19 not in dictionary.\n"
     ]
    },
    {
     "name": "stderr",
     "output_type": "stream",
     "text": [
      " 79%|███████▉  | 5715/7199 [16:55:12<4:13:30, 10.25s/it]"
     ]
    },
    {
     "name": "stdout",
     "output_type": "stream",
     "text": [
      "index 5715, number 14 not in dictionary.\n",
      "index 5715, number 15 not in dictionary.\n",
      "index 5715, number 16 not in dictionary.\n",
      "index 5715, number 17 not in dictionary.\n",
      "index 5715, number 18 not in dictionary.\n"
     ]
    },
    {
     "name": "stderr",
     "output_type": "stream",
     "text": [
      " 80%|███████▉  | 5742/7199 [17:00:22<5:02:43, 12.47s/it]"
     ]
    },
    {
     "name": "stdout",
     "output_type": "stream",
     "text": [
      "index 5742, number 17 not in dictionary.\n",
      "index 5742, number 18 not in dictionary.\n",
      "index 5742, number 19 not in dictionary.\n"
     ]
    },
    {
     "name": "stderr",
     "output_type": "stream",
     "text": [
      "\r",
      " 80%|███████▉  | 5743/7199 [17:00:38<5:30:13, 13.61s/it]"
     ]
    },
    {
     "name": "stdout",
     "output_type": "stream",
     "text": [
      "index 5742, number 20 not in dictionary.\n"
     ]
    },
    {
     "name": "stderr",
     "output_type": "stream",
     "text": [
      " 80%|████████  | 5760/7199 [17:03:20<3:11:05,  7.97s/it]"
     ]
    },
    {
     "name": "stdout",
     "output_type": "stream",
     "text": [
      "index 5760, number 2 not in dictionary.\n",
      "index 5760, number 3 not in dictionary.\n",
      "index 5760, number 4 not in dictionary.\n",
      "index 5760, number 5 not in dictionary.\n",
      "index 5760, number 6 not in dictionary.\n"
     ]
    },
    {
     "name": "stderr",
     "output_type": "stream",
     "text": [
      " 80%|████████  | 5764/7199 [17:04:08<4:06:06, 10.29s/it]"
     ]
    },
    {
     "name": "stdout",
     "output_type": "stream",
     "text": [
      "index 5764, number 10 not in dictionary.\n",
      "index 5764, number 11 not in dictionary.\n",
      "index 5764, number 12 not in dictionary.\n",
      "index 5764, number 13 not in dictionary.\n"
     ]
    },
    {
     "name": "stderr",
     "output_type": "stream",
     "text": [
      "\r",
      " 80%|████████  | 5765/7199 [17:04:18<4:06:30, 10.31s/it]"
     ]
    },
    {
     "name": "stdout",
     "output_type": "stream",
     "text": [
      "index 5764, number 14 not in dictionary.\n"
     ]
    },
    {
     "name": "stderr",
     "output_type": "stream",
     "text": [
      " 80%|████████  | 5779/7199 [17:06:42<5:03:46, 12.84s/it]"
     ]
    },
    {
     "name": "stdout",
     "output_type": "stream",
     "text": [
      "index 5779, number 3 not in dictionary.\n",
      "index 5779, number 4 not in dictionary.\n",
      "index 5779, number 5 not in dictionary.\n",
      "index 5779, number 6 not in dictionary.\n",
      "index 5779, number 7 not in dictionary.\n"
     ]
    },
    {
     "name": "stderr",
     "output_type": "stream",
     "text": [
      " 80%|████████  | 5786/7199 [17:08:00<4:18:51, 10.99s/it]"
     ]
    },
    {
     "name": "stdout",
     "output_type": "stream",
     "text": [
      "index 5786, number 10 not in dictionary.\n",
      "index 5786, number 11 not in dictionary.\n"
     ]
    },
    {
     "name": "stderr",
     "output_type": "stream",
     "text": [
      "\r",
      " 80%|████████  | 5787/7199 [17:08:07<3:49:38,  9.76s/it]"
     ]
    },
    {
     "name": "stdout",
     "output_type": "stream",
     "text": [
      "index 5786, number 12 not in dictionary.\n"
     ]
    },
    {
     "name": "stderr",
     "output_type": "stream",
     "text": [
      " 80%|████████  | 5793/7199 [17:09:06<3:23:03,  8.67s/it]"
     ]
    },
    {
     "name": "stdout",
     "output_type": "stream",
     "text": [
      "index 5793, number 10 not in dictionary.\n",
      "index 5793, number 11 not in dictionary.\n"
     ]
    },
    {
     "name": "stderr",
     "output_type": "stream",
     "text": [
      " 81%|████████  | 5796/7199 [17:09:35<3:19:05,  8.51s/it]"
     ]
    },
    {
     "name": "stdout",
     "output_type": "stream",
     "text": [
      "index 5796, number 18 not in dictionary.\n"
     ]
    },
    {
     "name": "stderr",
     "output_type": "stream",
     "text": [
      "\r",
      " 81%|████████  | 5797/7199 [17:09:48<3:49:22,  9.82s/it]"
     ]
    },
    {
     "name": "stdout",
     "output_type": "stream",
     "text": [
      "index 5796, number 19 not in dictionary.\n"
     ]
    },
    {
     "name": "stderr",
     "output_type": "stream",
     "text": [
      " 81%|████████  | 5808/7199 [17:11:28<3:14:14,  8.38s/it]"
     ]
    },
    {
     "name": "stdout",
     "output_type": "stream",
     "text": [
      "index 5808, number 15 not in dictionary.\n",
      "index 5808, number 16 not in dictionary.\n",
      "index 5808, number 17 not in dictionary.\n",
      "index 5808, number 18 not in dictionary.\n"
     ]
    },
    {
     "name": "stderr",
     "output_type": "stream",
     "text": [
      "\r",
      " 81%|████████  | 5809/7199 [17:11:43<3:58:33, 10.30s/it]"
     ]
    },
    {
     "name": "stdout",
     "output_type": "stream",
     "text": [
      "index 5808, number 19 not in dictionary.\n"
     ]
    },
    {
     "name": "stderr",
     "output_type": "stream",
     "text": [
      " 81%|████████  | 5812/7199 [17:12:25<4:45:24, 12.35s/it]"
     ]
    },
    {
     "name": "stdout",
     "output_type": "stream",
     "text": [
      "index 5811, number 16 not in dictionary.\n"
     ]
    },
    {
     "name": "stderr",
     "output_type": "stream",
     "text": [
      " 81%|████████▏ | 5856/7199 [17:20:24<4:32:14, 12.16s/it]"
     ]
    },
    {
     "name": "stdout",
     "output_type": "stream",
     "text": [
      "index 5855, number 19 not in dictionary.\n"
     ]
    },
    {
     "name": "stderr",
     "output_type": "stream",
     "text": [
      " 81%|████████▏ | 5862/7199 [17:21:41<5:12:21, 14.02s/it]"
     ]
    },
    {
     "name": "stdout",
     "output_type": "stream",
     "text": [
      "index 5862, number 13 not in dictionary.\n",
      "index 5862, number 14 not in dictionary.\n",
      "index 5862, number 15 not in dictionary.\n"
     ]
    },
    {
     "name": "stderr",
     "output_type": "stream",
     "text": [
      " 82%|████████▏ | 5882/7199 [17:24:53<4:10:11, 11.40s/it]"
     ]
    },
    {
     "name": "stdout",
     "output_type": "stream",
     "text": [
      "index 5882, number 14 not in dictionary.\n",
      "index 5882, number 15 not in dictionary.\n",
      "index 5882, number 16 not in dictionary.\n",
      "index 5882, number 17 not in dictionary.\n",
      "index 5882, number 18 not in dictionary.\n"
     ]
    },
    {
     "name": "stderr",
     "output_type": "stream",
     "text": [
      " 82%|████████▏ | 5931/7199 [17:33:46<4:24:35, 12.52s/it]"
     ]
    },
    {
     "name": "stdout",
     "output_type": "stream",
     "text": [
      "index 5931, number 10 not in dictionary.\n",
      "index 5931, number 11 not in dictionary.\n",
      "index 5931, number 12 not in dictionary.\n",
      "index 5931, number 13 not in dictionary.\n",
      "index 5931, number 14 not in dictionary.\n"
     ]
    },
    {
     "name": "stderr",
     "output_type": "stream",
     "text": [
      " 82%|████████▏ | 5938/7199 [17:35:08<3:45:51, 10.75s/it]"
     ]
    },
    {
     "name": "stdout",
     "output_type": "stream",
     "text": [
      "index 5937, number 14 not in dictionary.\n"
     ]
    },
    {
     "name": "stderr",
     "output_type": "stream",
     "text": [
      " 83%|████████▎ | 5942/7199 [17:35:40<2:55:22,  8.37s/it]"
     ]
    },
    {
     "name": "stdout",
     "output_type": "stream",
     "text": [
      "index 5942, number 10 not in dictionary.\n",
      "index 5942, number 11 not in dictionary.\n",
      "index 5942, number 12 not in dictionary.\n"
     ]
    },
    {
     "name": "stderr",
     "output_type": "stream",
     "text": [
      " 83%|████████▎ | 5946/7199 [17:36:12<2:20:57,  6.75s/it]"
     ]
    },
    {
     "name": "stdout",
     "output_type": "stream",
     "text": [
      "index 5946, number 17 not in dictionary.\n"
     ]
    },
    {
     "name": "stderr",
     "output_type": "stream",
     "text": [
      " 83%|████████▎ | 5949/7199 [17:36:43<2:53:37,  8.33s/it]"
     ]
    },
    {
     "name": "stdout",
     "output_type": "stream",
     "text": [
      "index 5949, number 12 not in dictionary.\n",
      "index 5949, number 13 not in dictionary.\n",
      "index 5949, number 14 not in dictionary.\n",
      "index 5949, number 15 not in dictionary.\n",
      "index 5949, number 16 not in dictionary.\n"
     ]
    },
    {
     "name": "stderr",
     "output_type": "stream",
     "text": [
      " 83%|████████▎ | 5965/7199 [17:39:42<3:08:35,  9.17s/it]"
     ]
    },
    {
     "name": "stdout",
     "output_type": "stream",
     "text": [
      "index 5965, number 10 not in dictionary.\n",
      "index 5965, number 11 not in dictionary.\n",
      "index 5965, number 12 not in dictionary.\n",
      "index 5965, number 13 not in dictionary.\n",
      "index 5965, number 14 not in dictionary.\n"
     ]
    },
    {
     "name": "stderr",
     "output_type": "stream",
     "text": [
      " 83%|████████▎ | 5969/7199 [17:40:37<4:03:57, 11.90s/it]"
     ]
    },
    {
     "name": "stdout",
     "output_type": "stream",
     "text": [
      "index 5969, number 14 not in dictionary.\n",
      "index 5969, number 15 not in dictionary.\n",
      "index 5969, number 16 not in dictionary.\n",
      "index 5969, number 17 not in dictionary.\n",
      "index 5969, number 18 not in dictionary.\n"
     ]
    },
    {
     "name": "stderr",
     "output_type": "stream",
     "text": [
      " 83%|████████▎ | 5975/7199 [17:41:51<4:10:00, 12.26s/it]"
     ]
    },
    {
     "name": "stdout",
     "output_type": "stream",
     "text": [
      "index 5974, number 19 not in dictionary.\n"
     ]
    },
    {
     "name": "stderr",
     "output_type": "stream",
     "text": [
      " 83%|████████▎ | 5983/7199 [17:43:31<3:44:17, 11.07s/it]"
     ]
    },
    {
     "name": "stdout",
     "output_type": "stream",
     "text": [
      "index 5983, number 12 not in dictionary.\n",
      "index 5983, number 13 not in dictionary.\n"
     ]
    },
    {
     "name": "stderr",
     "output_type": "stream",
     "text": [
      "\r",
      " 83%|████████▎ | 5984/7199 [17:43:43<3:44:48, 11.10s/it]"
     ]
    },
    {
     "name": "stdout",
     "output_type": "stream",
     "text": [
      "index 5983, number 14 not in dictionary.\n"
     ]
    },
    {
     "name": "stderr",
     "output_type": "stream",
     "text": [
      " 84%|████████▎ | 6027/7199 [17:50:40<3:26:39, 10.58s/it]"
     ]
    },
    {
     "name": "stdout",
     "output_type": "stream",
     "text": [
      "index 6027, number 10 not in dictionary.\n",
      "index 6027, number 11 not in dictionary.\n",
      "index 6027, number 12 not in dictionary.\n",
      "index 6027, number 13 not in dictionary.\n",
      "index 6027, number 14 not in dictionary.\n"
     ]
    },
    {
     "name": "stderr",
     "output_type": "stream",
     "text": [
      " 85%|████████▍ | 6096/7199 [18:03:33<3:49:01, 12.46s/it]"
     ]
    },
    {
     "name": "stdout",
     "output_type": "stream",
     "text": [
      "index 6096, number 18 not in dictionary.\n"
     ]
    },
    {
     "name": "stderr",
     "output_type": "stream",
     "text": [
      "\r",
      " 85%|████████▍ | 6097/7199 [18:03:47<3:56:53, 12.90s/it]"
     ]
    },
    {
     "name": "stdout",
     "output_type": "stream",
     "text": [
      "index 6096, number 19 not in dictionary.\n"
     ]
    },
    {
     "name": "stderr",
     "output_type": "stream",
     "text": [
      " 85%|████████▌ | 6139/7199 [18:11:06<3:06:30, 10.56s/it]"
     ]
    },
    {
     "name": "stdout",
     "output_type": "stream",
     "text": [
      "index 6138, number 14 not in dictionary.\n"
     ]
    },
    {
     "name": "stderr",
     "output_type": "stream",
     "text": [
      "\r",
      " 85%|████████▌ | 6140/7199 [18:11:13<2:46:47,  9.45s/it]"
     ]
    },
    {
     "name": "stdout",
     "output_type": "stream",
     "text": [
      "index 6140, number 10 not in dictionary.\n",
      "index 6140, number 11 not in dictionary.\n"
     ]
    },
    {
     "name": "stderr",
     "output_type": "stream",
     "text": [
      "\r",
      " 85%|████████▌ | 6141/7199 [18:11:21<2:42:33,  9.22s/it]"
     ]
    },
    {
     "name": "stdout",
     "output_type": "stream",
     "text": [
      "index 6140, number 12 not in dictionary.\n"
     ]
    },
    {
     "name": "stderr",
     "output_type": "stream",
     "text": [
      " 85%|████████▌ | 6146/7199 [18:12:27<3:54:48, 13.38s/it]"
     ]
    },
    {
     "name": "stdout",
     "output_type": "stream",
     "text": [
      "index 6146, number 1 not in dictionary.\n",
      "index 6146, number 2 not in dictionary.\n",
      "index 6146, number 3 not in dictionary.\n",
      "index 6146, number 4 not in dictionary.\n",
      "index 6146, number 5 not in dictionary.\n"
     ]
    },
    {
     "name": "stderr",
     "output_type": "stream",
     "text": [
      " 85%|████████▌ | 6155/7199 [18:14:11<4:04:09, 14.03s/it]"
     ]
    },
    {
     "name": "stdout",
     "output_type": "stream",
     "text": [
      "index 6155, number 3 not in dictionary.\n",
      "index 6155, number 4 not in dictionary.\n",
      "index 6155, number 5 not in dictionary.\n",
      "index 6155, number 6 not in dictionary.\n",
      "index 6155, number 7 not in dictionary.\n"
     ]
    },
    {
     "name": "stderr",
     "output_type": "stream",
     "text": [
      " 86%|████████▌ | 6171/7199 [18:16:51<3:08:23, 11.00s/it]"
     ]
    },
    {
     "name": "stdout",
     "output_type": "stream",
     "text": [
      "index 6171, number 2 not in dictionary.\n",
      "index 6171, number 3 not in dictionary.\n",
      "index 6171, number 4 not in dictionary.\n",
      "index 6171, number 5 not in dictionary.\n",
      "index 6171, number 6 not in dictionary.\n"
     ]
    },
    {
     "name": "stderr",
     "output_type": "stream",
     "text": [
      " 86%|████████▋ | 6216/7199 [18:24:53<2:40:33,  9.80s/it]"
     ]
    },
    {
     "name": "stdout",
     "output_type": "stream",
     "text": [
      "index 6216, number 13 not in dictionary.\n",
      "index 6216, number 14 not in dictionary.\n"
     ]
    },
    {
     "name": "stderr",
     "output_type": "stream",
     "text": [
      " 87%|████████▋ | 6232/7199 [18:27:46<2:45:41, 10.28s/it]"
     ]
    },
    {
     "name": "stdout",
     "output_type": "stream",
     "text": [
      "index 6232, number 14 not in dictionary.\n"
     ]
    },
    {
     "name": "stderr",
     "output_type": "stream",
     "text": [
      " 87%|████████▋ | 6243/7199 [18:29:55<2:27:35,  9.26s/it]"
     ]
    },
    {
     "name": "stdout",
     "output_type": "stream",
     "text": [
      "index 6243, number 6 not in dictionary.\n",
      "index 6243, number 7 not in dictionary.\n",
      "index 6243, number 8 not in dictionary.\n"
     ]
    },
    {
     "name": "stderr",
     "output_type": "stream",
     "text": [
      "\r",
      " 87%|████████▋ | 6244/7199 [18:30:03<2:20:37,  8.84s/it]"
     ]
    },
    {
     "name": "stdout",
     "output_type": "stream",
     "text": [
      "index 6243, number 9 not in dictionary.\n"
     ]
    },
    {
     "name": "stderr",
     "output_type": "stream",
     "text": [
      " 87%|████████▋ | 6278/7199 [18:35:28<3:03:53, 11.98s/it]"
     ]
    },
    {
     "name": "stdout",
     "output_type": "stream",
     "text": [
      "index 6278, number 13 not in dictionary.\n",
      "index 6278, number 14 not in dictionary.\n"
     ]
    },
    {
     "name": "stderr",
     "output_type": "stream",
     "text": [
      " 87%|████████▋ | 6287/7199 [18:37:12<2:48:45, 11.10s/it]"
     ]
    },
    {
     "name": "stdout",
     "output_type": "stream",
     "text": [
      "index 6286, number 10 not in dictionary.\n"
     ]
    },
    {
     "name": "stderr",
     "output_type": "stream",
     "text": [
      " 88%|████████▊ | 6332/7199 [18:44:44<2:13:35,  9.24s/it]"
     ]
    },
    {
     "name": "stdout",
     "output_type": "stream",
     "text": [
      "index 6332, number 10 not in dictionary.\n",
      "index 6332, number 11 not in dictionary.\n"
     ]
    },
    {
     "name": "stderr",
     "output_type": "stream",
     "text": [
      "\r",
      " 88%|████████▊ | 6333/7199 [18:44:54<2:18:39,  9.61s/it]"
     ]
    },
    {
     "name": "stdout",
     "output_type": "stream",
     "text": [
      "index 6332, number 12 not in dictionary.\n"
     ]
    },
    {
     "name": "stderr",
     "output_type": "stream",
     "text": [
      " 88%|████████▊ | 6342/7199 [18:46:22<2:18:59,  9.73s/it]"
     ]
    },
    {
     "name": "stdout",
     "output_type": "stream",
     "text": [
      "index 6342, number 13 not in dictionary.\n",
      "index 6342, number 14 not in dictionary.\n",
      "index 6342, number 15 not in dictionary.\n",
      "index 6342, number 16 not in dictionary.\n",
      "index 6342, number 17 not in dictionary.\n"
     ]
    },
    {
     "name": "stderr",
     "output_type": "stream",
     "text": [
      " 88%|████████▊ | 6346/7199 [18:47:00<2:10:46,  9.20s/it]"
     ]
    },
    {
     "name": "stdout",
     "output_type": "stream",
     "text": [
      "index 6346, number 15 not in dictionary.\n",
      "index 6346, number 16 not in dictionary.\n"
     ]
    },
    {
     "name": "stderr",
     "output_type": "stream",
     "text": [
      "\r",
      " 88%|████████▊ | 6347/7199 [18:47:13<2:27:04, 10.36s/it]"
     ]
    },
    {
     "name": "stdout",
     "output_type": "stream",
     "text": [
      "index 6346, number 17 not in dictionary.\n"
     ]
    },
    {
     "name": "stderr",
     "output_type": "stream",
     "text": [
      " 88%|████████▊ | 6359/7199 [18:49:38<2:53:13, 12.37s/it]"
     ]
    },
    {
     "name": "stdout",
     "output_type": "stream",
     "text": [
      "index 6359, number 6 not in dictionary.\n"
     ]
    },
    {
     "name": "stderr",
     "output_type": "stream",
     "text": [
      " 88%|████████▊ | 6368/7199 [18:51:41<2:48:30, 12.17s/it]"
     ]
    },
    {
     "name": "stdout",
     "output_type": "stream",
     "text": [
      "index 6368, number 12 not in dictionary.\n",
      "index 6368, number 13 not in dictionary.\n",
      "index 6368, number 14 not in dictionary.\n",
      "index 6368, number 15 not in dictionary.\n",
      "index 6368, number 16 not in dictionary.\n"
     ]
    },
    {
     "name": "stderr",
     "output_type": "stream",
     "text": [
      " 89%|████████▉ | 6393/7199 [18:56:01<1:45:09,  7.83s/it]"
     ]
    },
    {
     "name": "stdout",
     "output_type": "stream",
     "text": [
      "index 6393, number 14 not in dictionary.\n",
      "index 6393, number 15 not in dictionary.\n",
      "index 6393, number 16 not in dictionary.\n",
      "index 6393, number 17 not in dictionary.\n",
      "index 6393, number 18 not in dictionary.\n"
     ]
    },
    {
     "name": "stderr",
     "output_type": "stream",
     "text": [
      " 89%|████████▉ | 6405/7199 [18:58:24<2:24:36, 10.93s/it]"
     ]
    },
    {
     "name": "stdout",
     "output_type": "stream",
     "text": [
      "index 6404, number 10 not in dictionary.\n"
     ]
    },
    {
     "name": "stderr",
     "output_type": "stream",
     "text": [
      " 89%|████████▉ | 6418/7199 [19:00:34<2:00:14,  9.24s/it]"
     ]
    },
    {
     "name": "stdout",
     "output_type": "stream",
     "text": [
      "index 6418, number 6 not in dictionary.\n",
      "index 6418, number 7 not in dictionary.\n",
      "index 6418, number 8 not in dictionary.\n",
      "index 6418, number 9 not in dictionary.\n"
     ]
    },
    {
     "name": "stderr",
     "output_type": "stream",
     "text": [
      "\r",
      " 89%|████████▉ | 6419/7199 [19:00:41<1:51:20,  8.57s/it]"
     ]
    },
    {
     "name": "stdout",
     "output_type": "stream",
     "text": [
      "index 6418, number 10 not in dictionary.\n"
     ]
    },
    {
     "name": "stderr",
     "output_type": "stream",
     "text": [
      " 90%|████████▉ | 6476/7199 [19:10:50<2:18:14, 11.47s/it]"
     ]
    },
    {
     "name": "stdout",
     "output_type": "stream",
     "text": [
      "index 6476, number 10 not in dictionary.\n",
      "index 6476, number 11 not in dictionary.\n",
      "index 6476, number 12 not in dictionary.\n",
      "index 6476, number 13 not in dictionary.\n",
      "index 6476, number 14 not in dictionary.\n"
     ]
    },
    {
     "name": "stderr",
     "output_type": "stream",
     "text": [
      " 90%|████████▉ | 6478/7199 [19:11:09<1:58:01,  9.82s/it]"
     ]
    },
    {
     "name": "stdout",
     "output_type": "stream",
     "text": [
      "index 6478, number 10 not in dictionary.\n",
      "index 6478, number 11 not in dictionary.\n",
      "index 6478, number 12 not in dictionary.\n",
      "index 6478, number 13 not in dictionary.\n",
      "index 6478, number 14 not in dictionary.\n"
     ]
    },
    {
     "name": "stderr",
     "output_type": "stream",
     "text": [
      " 90%|█████████ | 6510/7199 [19:17:39<2:37:34, 13.72s/it]"
     ]
    },
    {
     "name": "stdout",
     "output_type": "stream",
     "text": [
      "index 6509, number 19 not in dictionary.\n"
     ]
    },
    {
     "name": "stderr",
     "output_type": "stream",
     "text": [
      " 91%|█████████ | 6516/7199 [19:18:34<1:40:13,  8.80s/it]"
     ]
    },
    {
     "name": "stdout",
     "output_type": "stream",
     "text": [
      "index 6515, number 11 not in dictionary.\n"
     ]
    },
    {
     "name": "stderr",
     "output_type": "stream",
     "text": [
      " 91%|█████████ | 6529/7199 [19:20:48<1:39:55,  8.95s/it]"
     ]
    },
    {
     "name": "stdout",
     "output_type": "stream",
     "text": [
      "index 6529, number 15 not in dictionary.\n",
      "index 6529, number 16 not in dictionary.\n",
      "index 6529, number 17 not in dictionary.\n"
     ]
    },
    {
     "name": "stderr",
     "output_type": "stream",
     "text": [
      " 91%|█████████ | 6532/7199 [19:21:33<2:20:58, 12.68s/it]"
     ]
    },
    {
     "name": "stdout",
     "output_type": "stream",
     "text": [
      "index 6532, number 11 not in dictionary.\n",
      "index 6532, number 12 not in dictionary.\n",
      "index 6532, number 13 not in dictionary.\n",
      "index 6532, number 14 not in dictionary.\n"
     ]
    },
    {
     "name": "stderr",
     "output_type": "stream",
     "text": [
      " 91%|█████████ | 6539/7199 [19:23:08<2:22:38, 12.97s/it]"
     ]
    },
    {
     "name": "stdout",
     "output_type": "stream",
     "text": [
      "index 6539, number 14 not in dictionary.\n",
      "index 6539, number 15 not in dictionary.\n",
      "index 6539, number 16 not in dictionary.\n",
      "index 6539, number 17 not in dictionary.\n",
      "index 6539, number 18 not in dictionary.\n"
     ]
    },
    {
     "name": "stderr",
     "output_type": "stream",
     "text": [
      " 91%|█████████ | 6542/7199 [19:23:51<2:28:08, 13.53s/it]"
     ]
    },
    {
     "name": "stdout",
     "output_type": "stream",
     "text": [
      "index 6541, number 13 not in dictionary.\n"
     ]
    },
    {
     "name": "stderr",
     "output_type": "stream",
     "text": [
      " 91%|█████████ | 6545/7199 [19:24:10<1:39:37,  9.14s/it]"
     ]
    },
    {
     "name": "stdout",
     "output_type": "stream",
     "text": [
      "index 6545, number 13 not in dictionary.\n"
     ]
    },
    {
     "name": "stderr",
     "output_type": "stream",
     "text": [
      " 91%|█████████ | 6549/7199 [19:25:01<1:58:35, 10.95s/it]"
     ]
    },
    {
     "name": "stdout",
     "output_type": "stream",
     "text": [
      "index 6549, number 10 not in dictionary.\n",
      "index 6549, number 11 not in dictionary.\n",
      "index 6549, number 12 not in dictionary.\n",
      "index 6549, number 13 not in dictionary.\n",
      "index 6549, number 14 not in dictionary.\n"
     ]
    },
    {
     "name": "stderr",
     "output_type": "stream",
     "text": [
      "\r",
      " 91%|█████████ | 6550/7199 [19:25:18<2:16:24, 12.61s/it]"
     ]
    },
    {
     "name": "stdout",
     "output_type": "stream",
     "text": [
      "index 6550, number 12 not in dictionary.\n",
      "index 6550, number 13 not in dictionary.\n",
      "index 6550, number 14 not in dictionary.\n",
      "index 6550, number 15 not in dictionary.\n",
      "index 6550, number 16 not in dictionary.\n"
     ]
    },
    {
     "name": "stderr",
     "output_type": "stream",
     "text": [
      " 91%|█████████ | 6561/7199 [19:27:23<1:53:55, 10.71s/it]"
     ]
    },
    {
     "name": "stdout",
     "output_type": "stream",
     "text": [
      "index 6561, number 17 not in dictionary.\n"
     ]
    },
    {
     "name": "stderr",
     "output_type": "stream",
     "text": [
      " 91%|█████████▏| 6574/7199 [19:29:45<1:37:21,  9.35s/it]"
     ]
    },
    {
     "name": "stdout",
     "output_type": "stream",
     "text": [
      "index 6574, number 10 not in dictionary.\n",
      "index 6574, number 11 not in dictionary.\n",
      "index 6574, number 12 not in dictionary.\n",
      "index 6574, number 13 not in dictionary.\n",
      "index 6574, number 14 not in dictionary.\n"
     ]
    },
    {
     "name": "stderr",
     "output_type": "stream",
     "text": [
      " 92%|█████████▏| 6615/7199 [19:36:37<1:46:09, 10.91s/it]"
     ]
    },
    {
     "name": "stdout",
     "output_type": "stream",
     "text": [
      "index 6615, number 14 not in dictionary.\n"
     ]
    },
    {
     "name": "stderr",
     "output_type": "stream",
     "text": [
      " 92%|█████████▏| 6625/7199 [19:38:42<2:13:51, 13.99s/it]"
     ]
    },
    {
     "name": "stdout",
     "output_type": "stream",
     "text": [
      "index 6625, number 15 not in dictionary.\n"
     ]
    },
    {
     "name": "stderr",
     "output_type": "stream",
     "text": [
      " 92%|█████████▏| 6644/7199 [19:41:52<1:29:39,  9.69s/it]"
     ]
    },
    {
     "name": "stdout",
     "output_type": "stream",
     "text": [
      "index 6644, number 18 not in dictionary.\n"
     ]
    },
    {
     "name": "stderr",
     "output_type": "stream",
     "text": [
      " 92%|█████████▏| 6656/7199 [19:44:04<1:20:10,  8.86s/it]"
     ]
    },
    {
     "name": "stdout",
     "output_type": "stream",
     "text": [
      "index 6656, number 12 not in dictionary.\n",
      "index 6656, number 13 not in dictionary.\n",
      "index 6656, number 14 not in dictionary.\n",
      "index 6656, number 15 not in dictionary.\n"
     ]
    },
    {
     "name": "stderr",
     "output_type": "stream",
     "text": [
      "\r",
      " 92%|█████████▏| 6657/7199 [19:44:15<1:26:36,  9.59s/it]"
     ]
    },
    {
     "name": "stdout",
     "output_type": "stream",
     "text": [
      "index 6656, number 16 not in dictionary.\n"
     ]
    },
    {
     "name": "stderr",
     "output_type": "stream",
     "text": [
      " 93%|█████████▎| 6663/7199 [19:45:23<1:40:17, 11.23s/it]"
     ]
    },
    {
     "name": "stdout",
     "output_type": "stream",
     "text": [
      "index 6662, number 19 not in dictionary.\n"
     ]
    },
    {
     "name": "stderr",
     "output_type": "stream",
     "text": [
      " 93%|█████████▎| 6665/7199 [19:45:44<1:38:30, 11.07s/it]"
     ]
    },
    {
     "name": "stdout",
     "output_type": "stream",
     "text": [
      "index 6665, number 16 not in dictionary.\n",
      "index 6665, number 17 not in dictionary.\n"
     ]
    },
    {
     "name": "stderr",
     "output_type": "stream",
     "text": [
      " 93%|█████████▎| 6678/7199 [19:48:09<1:55:42, 13.33s/it]"
     ]
    },
    {
     "name": "stdout",
     "output_type": "stream",
     "text": [
      "index 6678, number 14 not in dictionary.\n",
      "index 6678, number 15 not in dictionary.\n",
      "index 6678, number 16 not in dictionary.\n",
      "index 6678, number 17 not in dictionary.\n",
      "index 6678, number 18 not in dictionary.\n"
     ]
    },
    {
     "name": "stderr",
     "output_type": "stream",
     "text": [
      " 93%|█████████▎| 6727/7199 [19:57:13<1:10:47,  9.00s/it]"
     ]
    },
    {
     "name": "stdout",
     "output_type": "stream",
     "text": [
      "index 6726, number 17 not in dictionary.\n"
     ]
    },
    {
     "name": "stderr",
     "output_type": "stream",
     "text": [
      " 93%|█████████▎| 6730/7199 [19:57:52<1:33:30, 11.96s/it]"
     ]
    },
    {
     "name": "stdout",
     "output_type": "stream",
     "text": [
      "index 6729, number 18 not in dictionary.\n"
     ]
    },
    {
     "name": "stderr",
     "output_type": "stream",
     "text": [
      "\r",
      " 93%|█████████▎| 6731/7199 [19:58:05<1:35:57, 12.30s/it]"
     ]
    },
    {
     "name": "stdout",
     "output_type": "stream",
     "text": [
      "index 6731, number 16 not in dictionary.\n"
     ]
    },
    {
     "name": "stderr",
     "output_type": "stream",
     "text": [
      " 94%|█████████▎| 6736/7199 [19:59:15<1:37:14, 12.60s/it]"
     ]
    },
    {
     "name": "stdout",
     "output_type": "stream",
     "text": [
      "index 6736, number 11 not in dictionary.\n",
      "index 6736, number 12 not in dictionary.\n",
      "index 6736, number 13 not in dictionary.\n",
      "index 6736, number 14 not in dictionary.\n",
      "index 6736, number 15 not in dictionary.\n"
     ]
    },
    {
     "name": "stderr",
     "output_type": "stream",
     "text": [
      " 94%|█████████▍| 6782/7199 [20:07:10<1:25:11, 12.26s/it]"
     ]
    },
    {
     "name": "stdout",
     "output_type": "stream",
     "text": [
      "index 6782, number 2 not in dictionary.\n",
      "index 6782, number 3 not in dictionary.\n",
      "index 6782, number 4 not in dictionary.\n",
      "index 6782, number 5 not in dictionary.\n",
      "index 6782, number 6 not in dictionary.\n"
     ]
    },
    {
     "name": "stderr",
     "output_type": "stream",
     "text": [
      " 94%|█████████▍| 6787/7199 [20:08:11<1:34:52, 13.82s/it]"
     ]
    },
    {
     "name": "stdout",
     "output_type": "stream",
     "text": [
      "index 6787, number 15 not in dictionary.\n",
      "index 6787, number 16 not in dictionary.\n",
      "index 6787, number 17 not in dictionary.\n",
      "index 6787, number 18 not in dictionary.\n"
     ]
    },
    {
     "name": "stderr",
     "output_type": "stream",
     "text": [
      "\r",
      " 94%|█████████▍| 6788/7199 [20:08:26<1:37:51, 14.29s/it]"
     ]
    },
    {
     "name": "stdout",
     "output_type": "stream",
     "text": [
      "index 6787, number 19 not in dictionary.\n"
     ]
    },
    {
     "name": "stderr",
     "output_type": "stream",
     "text": [
      " 95%|█████████▍| 6834/7199 [20:15:48<1:03:01, 10.36s/it]"
     ]
    },
    {
     "name": "stdout",
     "output_type": "stream",
     "text": [
      "index 6834, number 11 not in dictionary.\n",
      "index 6834, number 12 not in dictionary.\n",
      "index 6834, number 13 not in dictionary.\n",
      "index 6834, number 14 not in dictionary.\n",
      "index 6834, number 15 not in dictionary.\n"
     ]
    },
    {
     "name": "stderr",
     "output_type": "stream",
     "text": [
      " 95%|█████████▍| 6836/7199 [20:16:12<1:05:48, 10.88s/it]"
     ]
    },
    {
     "name": "stdout",
     "output_type": "stream",
     "text": [
      "index 6836, number 13 not in dictionary.\n",
      "index 6836, number 14 not in dictionary.\n",
      "index 6836, number 15 not in dictionary.\n",
      "index 6836, number 16 not in dictionary.\n",
      "index 6836, number 17 not in dictionary.\n"
     ]
    },
    {
     "name": "stderr",
     "output_type": "stream",
     "text": [
      " 95%|█████████▌| 6840/7199 [20:17:00<1:06:07, 11.05s/it]"
     ]
    },
    {
     "name": "stdout",
     "output_type": "stream",
     "text": [
      "index 6840, number 10 not in dictionary.\n",
      "index 6840, number 11 not in dictionary.\n"
     ]
    },
    {
     "name": "stderr",
     "output_type": "stream",
     "text": [
      "\r",
      " 95%|█████████▌| 6841/7199 [20:17:09<1:01:45, 10.35s/it]"
     ]
    },
    {
     "name": "stdout",
     "output_type": "stream",
     "text": [
      "index 6840, number 12 not in dictionary.\n"
     ]
    },
    {
     "name": "stderr",
     "output_type": "stream",
     "text": [
      " 95%|█████████▌| 6850/7199 [20:18:43<1:01:50, 10.63s/it]"
     ]
    },
    {
     "name": "stdout",
     "output_type": "stream",
     "text": [
      "index 6850, number 14 not in dictionary.\n"
     ]
    },
    {
     "name": "stderr",
     "output_type": "stream",
     "text": [
      " 96%|█████████▌| 6881/7199 [20:24:13<56:03, 10.58s/it]  "
     ]
    },
    {
     "name": "stdout",
     "output_type": "stream",
     "text": [
      "index 6880, number 19 not in dictionary.\n"
     ]
    },
    {
     "name": "stderr",
     "output_type": "stream",
     "text": [
      " 96%|█████████▌| 6928/7199 [20:31:05<42:56,  9.51s/it]  "
     ]
    },
    {
     "name": "stdout",
     "output_type": "stream",
     "text": [
      "index 6928, number 6 not in dictionary.\n",
      "index 6928, number 7 not in dictionary.\n",
      "index 6928, number 8 not in dictionary.\n",
      "index 6928, number 9 not in dictionary.\n"
     ]
    },
    {
     "name": "stderr",
     "output_type": "stream",
     "text": [
      " 96%|█████████▋| 6934/7199 [20:32:12<50:03, 11.33s/it]"
     ]
    },
    {
     "name": "stdout",
     "output_type": "stream",
     "text": [
      "index 6934, number 13 not in dictionary.\n"
     ]
    },
    {
     "name": "stderr",
     "output_type": "stream",
     "text": [
      "\r",
      " 96%|█████████▋| 6935/7199 [20:32:25<53:03, 12.06s/it]"
     ]
    },
    {
     "name": "stdout",
     "output_type": "stream",
     "text": [
      "index 6935, number 10 not in dictionary.\n",
      "index 6935, number 11 not in dictionary.\n",
      "index 6935, number 12 not in dictionary.\n",
      "index 6935, number 13 not in dictionary.\n",
      "index 6935, number 14 not in dictionary.\n"
     ]
    },
    {
     "name": "stderr",
     "output_type": "stream",
     "text": [
      " 97%|█████████▋| 6949/7199 [20:35:00<41:07,  9.87s/it]  "
     ]
    },
    {
     "name": "stdout",
     "output_type": "stream",
     "text": [
      "index 6949, number 16 not in dictionary.\n"
     ]
    },
    {
     "name": "stderr",
     "output_type": "stream",
     "text": [
      " 97%|█████████▋| 6963/7199 [20:37:02<25:04,  6.38s/it]"
     ]
    },
    {
     "name": "stdout",
     "output_type": "stream",
     "text": [
      "index 6963, number 11 not in dictionary.\n",
      "index 6963, number 12 not in dictionary.\n",
      "index 6963, number 13 not in dictionary.\n",
      "index 6963, number 14 not in dictionary.\n"
     ]
    },
    {
     "name": "stderr",
     "output_type": "stream",
     "text": [
      " 97%|█████████▋| 6965/7199 [20:37:23<32:03,  8.22s/it]"
     ]
    },
    {
     "name": "stdout",
     "output_type": "stream",
     "text": [
      "index 6965, number 16 not in dictionary.\n",
      "index 6965, number 17 not in dictionary.\n",
      "index 6965, number 18 not in dictionary.\n"
     ]
    },
    {
     "name": "stderr",
     "output_type": "stream",
     "text": [
      "\r",
      " 97%|█████████▋| 6966/7199 [20:37:37<38:43,  9.97s/it]"
     ]
    },
    {
     "name": "stdout",
     "output_type": "stream",
     "text": [
      "index 6965, number 19 not in dictionary.\n"
     ]
    },
    {
     "name": "stderr",
     "output_type": "stream",
     "text": [
      "\r",
      " 97%|█████████▋| 6967/7199 [20:37:54<46:13, 11.96s/it]"
     ]
    },
    {
     "name": "stdout",
     "output_type": "stream",
     "text": [
      "index 6966, number 19 not in dictionary.\n"
     ]
    },
    {
     "name": "stderr",
     "output_type": "stream",
     "text": [
      " 97%|█████████▋| 6985/7199 [20:40:59<37:55, 10.63s/it]"
     ]
    },
    {
     "name": "stdout",
     "output_type": "stream",
     "text": [
      "index 6985, number 13 not in dictionary.\n",
      "index 6985, number 14 not in dictionary.\n",
      "index 6985, number 15 not in dictionary.\n",
      "index 6985, number 16 not in dictionary.\n"
     ]
    },
    {
     "name": "stderr",
     "output_type": "stream",
     "text": [
      " 97%|█████████▋| 6990/7199 [20:42:01<40:31, 11.64s/it]"
     ]
    },
    {
     "name": "stdout",
     "output_type": "stream",
     "text": [
      "index 6990, number 10 not in dictionary.\n",
      "index 6990, number 11 not in dictionary.\n",
      "index 6990, number 12 not in dictionary.\n",
      "index 6990, number 13 not in dictionary.\n",
      "index 6990, number 14 not in dictionary.\n"
     ]
    },
    {
     "name": "stderr",
     "output_type": "stream",
     "text": [
      " 98%|█████████▊| 7020/7199 [20:47:29<33:56, 11.38s/it]"
     ]
    },
    {
     "name": "stdout",
     "output_type": "stream",
     "text": [
      "index 7020, number 15 not in dictionary.\n",
      "index 7020, number 16 not in dictionary.\n"
     ]
    },
    {
     "name": "stderr",
     "output_type": "stream",
     "text": [
      "\r",
      " 98%|█████████▊| 7021/7199 [20:47:42<35:20, 11.91s/it]"
     ]
    },
    {
     "name": "stdout",
     "output_type": "stream",
     "text": [
      "index 7020, number 17 not in dictionary.\n"
     ]
    },
    {
     "name": "stderr",
     "output_type": "stream",
     "text": [
      " 98%|█████████▊| 7028/7199 [20:49:10<33:06, 11.62s/it]"
     ]
    },
    {
     "name": "stdout",
     "output_type": "stream",
     "text": [
      "index 7028, number 10 not in dictionary.\n",
      "index 7028, number 11 not in dictionary.\n",
      "index 7028, number 12 not in dictionary.\n",
      "index 7028, number 13 not in dictionary.\n",
      "index 7028, number 14 not in dictionary.\n"
     ]
    },
    {
     "name": "stderr",
     "output_type": "stream",
     "text": [
      " 98%|█████████▊| 7040/7199 [20:51:22<29:54, 11.29s/it]"
     ]
    },
    {
     "name": "stdout",
     "output_type": "stream",
     "text": [
      "index 7040, number 11 not in dictionary.\n",
      "index 7040, number 12 not in dictionary.\n",
      "index 7040, number 13 not in dictionary.\n",
      "index 7040, number 14 not in dictionary.\n",
      "index 7040, number 15 not in dictionary.\n"
     ]
    },
    {
     "name": "stderr",
     "output_type": "stream",
     "text": [
      " 98%|█████████▊| 7070/7199 [20:56:55<25:16, 11.75s/it]"
     ]
    },
    {
     "name": "stdout",
     "output_type": "stream",
     "text": [
      "index 7070, number 13 not in dictionary.\n",
      "index 7070, number 14 not in dictionary.\n",
      "index 7070, number 15 not in dictionary.\n",
      "index 7070, number 16 not in dictionary.\n",
      "index 7070, number 17 not in dictionary.\n"
     ]
    },
    {
     "name": "stderr",
     "output_type": "stream",
     "text": [
      " 98%|█████████▊| 7072/7199 [20:57:27<29:05, 13.75s/it]"
     ]
    },
    {
     "name": "stdout",
     "output_type": "stream",
     "text": [
      "index 7072, number 4 not in dictionary.\n",
      "index 7072, number 5 not in dictionary.\n",
      "index 7072, number 6 not in dictionary.\n",
      "index 7072, number 7 not in dictionary.\n",
      "index 7072, number 8 not in dictionary.\n"
     ]
    },
    {
     "name": "stderr",
     "output_type": "stream",
     "text": [
      " 98%|█████████▊| 7084/7199 [20:59:26<21:41, 11.32s/it]"
     ]
    },
    {
     "name": "stdout",
     "output_type": "stream",
     "text": [
      "index 7084, number 10 not in dictionary.\n",
      "index 7084, number 11 not in dictionary.\n",
      "index 7084, number 12 not in dictionary.\n"
     ]
    },
    {
     "name": "stderr",
     "output_type": "stream",
     "text": [
      "\r",
      " 98%|█████████▊| 7085/7199 [20:59:34<19:32, 10.29s/it]"
     ]
    },
    {
     "name": "stdout",
     "output_type": "stream",
     "text": [
      "index 7085, number 17 not in dictionary.\n"
     ]
    },
    {
     "name": "stderr",
     "output_type": "stream",
     "text": [
      "\r",
      " 98%|█████████▊| 7086/7199 [20:59:48<21:22, 11.35s/it]"
     ]
    },
    {
     "name": "stdout",
     "output_type": "stream",
     "text": [
      "index 7085, number 18 not in dictionary.\n",
      "index 7086, number 5 not in dictionary.\n",
      "index 7086, number 6 not in dictionary.\n",
      "index 7086, number 7 not in dictionary.\n",
      "index 7086, number 8 not in dictionary.\n",
      "index 7086, number 9 not in dictionary.\n"
     ]
    },
    {
     "name": "stderr",
     "output_type": "stream",
     "text": [
      " 99%|█████████▊| 7109/7199 [21:03:42<10:49,  7.22s/it]"
     ]
    },
    {
     "name": "stdout",
     "output_type": "stream",
     "text": [
      "index 7109, number 15 not in dictionary.\n"
     ]
    },
    {
     "name": "stderr",
     "output_type": "stream",
     "text": [
      " 99%|█████████▉| 7115/7199 [21:04:41<14:12, 10.15s/it]"
     ]
    },
    {
     "name": "stdout",
     "output_type": "stream",
     "text": [
      "index 7114, number 15 not in dictionary.\n"
     ]
    },
    {
     "name": "stderr",
     "output_type": "stream",
     "text": [
      " 99%|█████████▉| 7125/7199 [21:06:20<09:39,  7.83s/it]"
     ]
    },
    {
     "name": "stdout",
     "output_type": "stream",
     "text": [
      "index 7125, number 6 not in dictionary.\n",
      "index 7125, number 7 not in dictionary.\n",
      "index 7125, number 8 not in dictionary.\n",
      "index 7125, number 9 not in dictionary.\n",
      "index 7125, number 10 not in dictionary.\n"
     ]
    },
    {
     "name": "stderr",
     "output_type": "stream",
     "text": [
      "100%|█████████▉| 7169/7199 [21:13:41<05:11, 10.37s/it]"
     ]
    },
    {
     "name": "stdout",
     "output_type": "stream",
     "text": [
      "index 7169, number 10 not in dictionary.\n",
      "index 7169, number 11 not in dictionary.\n",
      "index 7169, number 12 not in dictionary.\n",
      "index 7169, number 13 not in dictionary.\n",
      "index 7169, number 14 not in dictionary.\n"
     ]
    },
    {
     "name": "stderr",
     "output_type": "stream",
     "text": [
      "100%|█████████▉| 7198/7199 [21:19:11<00:11, 11.27s/it]"
     ]
    },
    {
     "name": "stdout",
     "output_type": "stream",
     "text": [
      "index 7198, number 17 not in dictionary.\n",
      "index 7198, number 18 not in dictionary.\n"
     ]
    },
    {
     "name": "stderr",
     "output_type": "stream",
     "text": [
      "100%|██████████| 7199/7199 [21:19:26<00:00, 10.66s/it]\n"
     ]
    }
   ],
   "source": [
    "adversarial_claims = get_adversarial_list_of_texts()"
   ]
  },
  {
   "cell_type": "code",
   "execution_count": 21,
   "id": "59dbc57e",
   "metadata": {
    "scrolled": false
   },
   "outputs": [
    {
     "name": "stdout",
     "output_type": "stream",
     "text": [
      "In the text below two people are discussing a story.\n",
      "\n",
      "Story:\n",
      "Did you know that Albert Einstein could not speak until he was four years old, and did not read until he was At age four? His parents and teachers worried about his rnenta1ability. \n",
      "\n",
      "Beethoven's music teacher said about him,\"As a composer he is hopeless.\" What if this young boy believed it? \n",
      "\n",
      "When Thomas Edison was a young boy,his teachers said he was so stupid that he could never learn anything.He once said,''I remember I used to never be able to get along at schoo1.I was always at the foot of my class...My father thought I was stupid,and I almost decided that l was a stupid person.\"What if young Thomas believed what may said about him? \n",
      "\n",
      "When the sculptor Auguste Rodin was young; he had difficulty Reading and writing and write.:. Today, we may say he had a learning disability. His father said of him, \"I have an idiot for a son. \"His uncle agreed. \"He's uneducable,\" he said. What if Rodin had doubted his ability? \n",
      "\n",
      "Walt Disney was once fired by a newspaper editor because he was thought to have no \"good ideas\". Enrico Caruso was told by one music teacher, \"you can't sing. You have no voice at all. \" And an editor told Louisa May Alcott that she was unable to write anything that would have popular appeal. \n",
      "\n",
      "What if these people had listened and become discouraged? Where would our world be without the music of Beethoven, the art of Rodin or the ideas of Albert Einstein and Walt Disney? As Oscar Levant once said, \"It's not what you are but what you don't become that hurts. \" \n",
      "\n",
      "You have great potential.When you believe in all you can be, rather than all you cannot become, you will find your place on earth.\n",
      "\n",
      "Discussion:\n",
      "Q: When did he start reading?\n",
      "A: At age four\n",
      "Q: What did he have difficulty with as a youngster?\n",
      "A: Reading and writing\n",
      "\n"
     ]
    }
   ],
   "source": [
    "print(adversarial_claims[10])"
   ]
  },
  {
   "cell_type": "code",
   "execution_count": 22,
   "id": "ba5d9072",
   "metadata": {
    "scrolled": true
   },
   "outputs": [],
   "source": [
    "json.dump(adversarial_claims, open('../data/adversarial_claims.json', 'w'))"
   ]
  },
  {
   "cell_type": "code",
   "execution_count": null,
   "id": "74af6a20",
   "metadata": {},
   "outputs": [],
   "source": []
  }
 ],
 "metadata": {
  "kernelspec": {
   "display_name": "dispatcher",
   "language": "python",
   "name": "dispatcher"
  },
  "language_info": {
   "codemirror_mode": {
    "name": "ipython",
    "version": 3
   },
   "file_extension": ".py",
   "mimetype": "text/x-python",
   "name": "python",
   "nbconvert_exporter": "python",
   "pygments_lexer": "ipython3",
   "version": "3.6.9"
  }
 },
 "nbformat": 4,
 "nbformat_minor": 5
}
