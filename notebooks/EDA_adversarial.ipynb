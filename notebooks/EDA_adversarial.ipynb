{
 "cells": [
  {
   "cell_type": "code",
   "execution_count": 1,
   "id": "e43aac28",
   "metadata": {},
   "outputs": [],
   "source": [
    "import json\n",
    "import torch\n",
    "import torch.nn as nn\n",
    "import random\n",
    "from tqdm import tqdm\n",
    "from transformers import GPT2LMHeadModel, GPT2Tokenizer"
   ]
  },
  {
   "cell_type": "code",
   "execution_count": 2,
   "id": "adf11ef2",
   "metadata": {},
   "outputs": [],
   "source": [
    "tokenizer = GPT2Tokenizer.from_pretrained('gpt2')"
   ]
  },
  {
   "cell_type": "code",
   "execution_count": 3,
   "id": "f2d45915",
   "metadata": {},
   "outputs": [],
   "source": [
    "tokenizer = GPT2Tokenizer.from_pretrained('gpt2')\n",
    "fact_checking_model = GPT2LMHeadModel.from_pretrained('gpt2')\n",
    "fact_checking_model.cuda()\n",
    "checkpoint = torch.load('save_fever2')\n",
    "fact_checking_model.load_state_dict(checkpoint['model_state_dict'])\n",
    "_ = fact_checking_model.eval()"
   ]
  },
  {
   "cell_type": "code",
   "execution_count": 4,
   "id": "4e61a090",
   "metadata": {},
   "outputs": [],
   "source": [
    "def get_text_up_to_question(text):\n",
    "    _claim_yn = 'The evidence supports the claim:\\n'\n",
    "    return text[:text.find(_claim_yn) + len(_claim_yn)]"
   ]
  },
  {
   "cell_type": "code",
   "execution_count": 5,
   "id": "ef5b4345",
   "metadata": {},
   "outputs": [],
   "source": [
    "def get_answer_from_text(text):\n",
    "    _claim_yn = 'The evidence supports the claim:\\n'\n",
    "    pos = text.find(_claim_yn) + len(_claim_yn)\n",
    "    return text[pos]"
   ]
  },
  {
   "cell_type": "code",
   "execution_count": 6,
   "id": "ca1ac830",
   "metadata": {},
   "outputs": [],
   "source": [
    "def generate_answer(model, text):\n",
    "    prompt = get_text_up_to_question(text)\n",
    "    tokens = tokenizer.encode(prompt, return_tensors='pt')\n",
    "    _length = 1\n",
    "    tokens_length = tokens.shape[1]\n",
    "    if tokens_length + _length >= 1024:\n",
    "        raise RuntimeError('Text is longer than 1024')\n",
    "    output = model.generate(\n",
    "             tokens.cuda(),\n",
    "             max_length=tokens_length + _length, \n",
    "             pad_token_id=50256\n",
    "    )\n",
    "    to_return = tokenizer.decode(output[0], skip_special_tokens=True)\n",
    "    perplexity = float(model(output, labels=output)[0])\n",
    "    return get_answer_from_text(to_return), perplexity"
   ]
  },
  {
   "cell_type": "markdown",
   "id": "11228648",
   "metadata": {},
   "source": [
    "# Question Answering part"
   ]
  },
  {
   "cell_type": "code",
   "execution_count": 7,
   "id": "a387526c",
   "metadata": {},
   "outputs": [],
   "source": [
    "_question_prompt = '\\nQ: '\n",
    "_answer_prompt = '\\nA: '\n",
    "    \n",
    "def get_text_up_to_question_number(text, number):\n",
    "    pos = text.find(_answer_prompt)\n",
    "    for _ in range(number):\n",
    "        pos = text.find(_answer_prompt, pos + 1)\n",
    "    return text[0:pos + 1]\n",
    "    \n",
    "def get_answers_number(text):\n",
    "    return text.count(_answer_prompt)\n",
    "\n",
    "def get_answer_number(text, number):\n",
    "    pos = text.find(_answer_prompt)\n",
    "    for _ in range(number):\n",
    "        pos = text.find(_answer_prompt, pos + 1)\n",
    "    end = text.find('\\n', pos + len(_answer_prompt))\n",
    "    return text[pos + len(_answer_prompt):end]\n",
    "\n",
    "def get_question_number(text, number):\n",
    "    pos = text.find(_question_prompt)\n",
    "    for _ in range(number):\n",
    "        pos = text.find(_question_prompt, pos + 1)\n",
    "    end = text.find('\\n', pos + len(_question_prompt))\n",
    "    return text[pos + len(_question_prompt):end]\n",
    "\n",
    "def get_all_answers(dev_dict, dev_index):\n",
    "    answers = [[item['input_text'] for item in dev_dict['data'][dev_index]['answers']]]\n",
    "    return [list(set([answers[j][i] for j in range(len(answers))])) for i in range(len(answers[0]))]"
   ]
  },
  {
   "cell_type": "code",
   "execution_count": 8,
   "id": "977eab6e",
   "metadata": {},
   "outputs": [],
   "source": [
    "def get_text_up_to_discussion(item):\n",
    "    text = 'In the text below two people are discussing a story.\\n\\n'\n",
    "    text += 'Story:\\n' + item['story'] + '\\n\\n'\n",
    "    text += 'Discussion:\\n'\n",
    "    return text"
   ]
  },
  {
   "cell_type": "code",
   "execution_count": 9,
   "id": "f6e96c5c",
   "metadata": {},
   "outputs": [],
   "source": [
    "def get_text_from_data_item(item, max_num_questions=0, question_number=-1, last_question=True):\n",
    "    text = 'In the text below two people are discussing a story.\\n\\n'\n",
    "    text += 'Story:\\n' + item['story'] + '\\n\\n'\n",
    "    text += 'Discussion:\\n'\n",
    "    text += '\\n'.join(['Q: ' + q['input_text'] \n",
    "                       + '\\nA: ' + a['input_text'] \n",
    "                       for q, a in zip(item['questions'][max(0,question_number-max_num_questions):question_number+1], \n",
    "                                       item['answers'][max(0,question_number-max_num_questions):question_number+1]) \n",
    "                      ])\n",
    "    if not last_question:\n",
    "        text = '\\n'.join(text.split('\\n')[:-1]) + '\\n'\n",
    "    return text"
   ]
  },
  {
   "cell_type": "code",
   "execution_count": 10,
   "id": "54c90911",
   "metadata": {},
   "outputs": [],
   "source": [
    "train_dict = json.load(open('../data/coqa-train-v1.0.json', encoding='utf8'))\n",
    "train_list = json.load(open('../data/qa_train_list.json', encoding='utf8'))\n",
    "dev_dict = json.load(open('../data/coqa-dev-v1.0.json', encoding='utf8'))\n",
    "dev_list = json.load(open('../data/qa_dev_list.json', encoding='utf8'))"
   ]
  },
  {
   "cell_type": "code",
   "execution_count": 11,
   "id": "ab274b17",
   "metadata": {},
   "outputs": [],
   "source": [
    "def get_text_from_data_item(item, max_num_questions=0, question_number=-1, last_question=True):\n",
    "    text = 'In the text below two people are discussing a story.\\n\\n'\n",
    "    text += 'Story:\\n' + item['story'] + '\\n\\n'\n",
    "    text += 'Discussion:\\n'\n",
    "    text += '\\n'.join(['Q: ' + q['input_text'] \n",
    "                       + '\\nA: ' + a['input_text'] \n",
    "                       for q, a in zip(item['questions'][max(0,question_number-max_num_questions):question_number+1], \n",
    "                                       item['answers'][max(0,question_number-max_num_questions):question_number+1]) \n",
    "                      ])\n",
    "    if not last_question:\n",
    "        text = '\\n'.join(text.split('\\n')[:-1]) + '\\n'\n",
    "    return text"
   ]
  },
  {
   "cell_type": "code",
   "execution_count": 12,
   "id": "9c35f97d",
   "metadata": {},
   "outputs": [],
   "source": [
    "def get_description_from_data_item(item):\n",
    "    return item['story']\n",
    "\n",
    "def get_dialogue_from_data_item(item, max_num_questions=0, question_number=-1, last_question=True):\n",
    "    text = ''\n",
    "    text += ' '.join([q['input_text'] + ' ' + a['input_text'] + '.'\n",
    "                       for q, a in zip(item['questions'][max(0,question_number-max_num_questions):question_number+1], \n",
    "                                       item['answers'][max(0,question_number-max_num_questions):question_number+1]) \n",
    "                      ])\n",
    "    if not last_question:\n",
    "        text = '?'.join(text.split('?')[:-1]) + '?'\n",
    "    return text"
   ]
  },
  {
   "cell_type": "code",
   "execution_count": 13,
   "id": "10a39d38",
   "metadata": {},
   "outputs": [],
   "source": [
    "def create_claim_from_description_and_dialogue(description, dialogue):\n",
    "    if dialogue[-1] == '.':\n",
    "        dialogue = dialogue[:-1]\n",
    "    text = 'Evidence:\\n'\n",
    "    text += description.replace('\\n\\n', '\\n') + '\\n\\n'\n",
    "    text += 'Claim:\\n'\n",
    "    text += dialogue + '\\n\\n'\n",
    "    text += 'The evidence supports the claim:\\n'\n",
    "    return text"
   ]
  },
  {
   "cell_type": "code",
   "execution_count": 14,
   "id": "2f077e87",
   "metadata": {},
   "outputs": [],
   "source": [
    "def get_positive_list_of_claims():\n",
    "    claims = []\n",
    "    \n",
    "    total_number_of_questions = 0\n",
    "    correct_answers = 0\n",
    "    wrong_predictions = []\n",
    "    false_positives = []\n",
    "    dlist = train_list\n",
    "    for index, text in tqdm(enumerate(dlist), total=len(dlist)):\n",
    "        total_questions = get_answers_number(text)\n",
    "        all_answers = get_all_answers(train_dict, index)\n",
    "        for number in range(total_questions):\n",
    "            small_text = get_text_from_data_item(train_dict['data'][index], \n",
    "                                                 max_num_questions=5,\n",
    "                                                 question_number=number,\n",
    "                                                 last_question=False)\n",
    "            description = get_description_from_data_item(train_dict['data'][index])\n",
    "            dialogue = get_dialogue_from_data_item(train_dict['data'][index],\n",
    "                                       max_num_questions=5, \n",
    "                                       question_number=number,\n",
    "                                       last_question=True)\n",
    "            \n",
    "            last_answer = dialogue.split('?')[-1].strip().lower()\n",
    "            if stripped_answer(last_answer) not in ['yes', 'no']:\n",
    "                continue\n",
    "        \n",
    "            claims.append(create_claim_from_description_and_dialogue(description, dialogue) + 'Y')\n",
    "    return claims"
   ]
  },
  {
   "cell_type": "code",
   "execution_count": 15,
   "id": "b7739c2f",
   "metadata": {},
   "outputs": [],
   "source": [
    "model = GPT2LMHeadModel.from_pretrained('gpt2')\n",
    "model.cuda()\n",
    "checkpoint = torch.load('save_small' + str(0))\n",
    "model.load_state_dict(checkpoint['model_state_dict'])\n",
    "_ = model.eval()"
   ]
  },
  {
   "cell_type": "code",
   "execution_count": 16,
   "id": "269d3d49",
   "metadata": {},
   "outputs": [],
   "source": [
    "def generate_multiple_answers(model, prompt, num_replicas=2):\n",
    "    tokens = tokenizer.encode(prompt, return_tensors='pt')\n",
    "    _length = 50\n",
    "    tokens_length = tokens.shape[1]\n",
    "    if tokens_length + _length > 1024:\n",
    "        return ''\n",
    "    \n",
    "    outputs = []\n",
    "    for _ in range(num_replicas):\n",
    "        output = model.generate(\n",
    "             tokens.cuda(),\n",
    "             max_length=tokens_length + _length,\n",
    "             pad_token_id=50256\n",
    "        )\n",
    "        output = tokenizer.decode(output[0], skip_special_tokens=True)\n",
    "        offset = len(prompt)\n",
    "        start = offset + 1\n",
    "        end = output.find('\\n', start)\n",
    "        outputs.append(output[start:end].split(':')[-1].strip())\n",
    "        \n",
    "    return list(set(outputs))"
   ]
  },
  {
   "cell_type": "code",
   "execution_count": 17,
   "id": "b8f73f63",
   "metadata": {},
   "outputs": [],
   "source": [
    "def stripped_answer(text):\n",
    "    return text.lower().strip().replace('.', '')"
   ]
  },
  {
   "cell_type": "code",
   "execution_count": 18,
   "id": "8b59d9d5",
   "metadata": {},
   "outputs": [],
   "source": [
    "def answers_are_consistent(lhs, rhs):\n",
    "    prediction = stripped_answer(lhs)\n",
    "    label = stripped_answer(rhs)\n",
    "    if prediction.lower() == label.lower():\n",
    "        return True\n",
    "    elif prediction.lower() in label.lower():\n",
    "        return True\n",
    "    elif label.lower() in prediction.lower():\n",
    "        return True\n",
    "    return False"
   ]
  },
  {
   "cell_type": "code",
   "execution_count": 19,
   "id": "546ff0a8",
   "metadata": {},
   "outputs": [],
   "source": [
    "import random\n",
    "random.seed(42)\n",
    "\n",
    "def get_adversarial_list_of_texts():\n",
    "    texts = []\n",
    "    \n",
    "    total_number_of_questions = 0\n",
    "    correct_answers = 0\n",
    "    wrong_predictions = []\n",
    "\n",
    "    false_positives = []\n",
    "    dlist = train_list\n",
    "    random.shuffle(dlist)\n",
    "    for index, text in tqdm(enumerate(dlist), total=len(dlist)):\n",
    "        total_questions = get_answers_number(text)\n",
    "        all_answers = get_all_answers(train_dict, index)\n",
    "        substitution_pair_list = []\n",
    "        discussion = ''\n",
    "        new_text = get_text_up_to_discussion(train_dict['data'][index])\n",
    "        for number in range(total_questions):\n",
    "            small_text = get_text_from_data_item(train_dict['data'][index],\n",
    "                                                 max_num_questions=5,\n",
    "                                                 question_number=number,\n",
    "                                                 last_question=False)\n",
    "            dialogue = get_dialogue_from_data_item(train_dict['data'][index],\n",
    "                           max_num_questions=5, \n",
    "                           question_number=number,\n",
    "                           last_question=True)\n",
    "            last_answer = dialogue.split('?')[-1].strip().lower()\n",
    "            dialogue = '?'.join(dialogue.split('?')[:-1]) + '?'\n",
    "            wrong_answer = ''\n",
    "            if stripped_answer(last_answer) in ['yes', 'no', 'unknown']:\n",
    "                continue\n",
    "\n",
    "            else:\n",
    "                generated_answers = generate_multiple_answers(model, small_text)\n",
    "                for candidate in generated_answers:\n",
    "                    if not answers_are_consistent(candidate, last_answer):\n",
    "                        wrong_answer = candidate\n",
    "                        break\n",
    "\n",
    "            if not wrong_answer:\n",
    "                continue\n",
    "                \n",
    "            if stripped_answer(wrong_answer) in ['yes', 'no', 'unknown']:\n",
    "                continue\n",
    "            \n",
    "            if last_answer.replace('.', '') not in new_text:\n",
    "                continue\n",
    "                        \n",
    "            try:\n",
    "                substitution_pair_list.append((last_answer, wrong_answer))\n",
    "                discussion += 'Q: ' + train_dict['data'][index]['questions'][number]['input_text'] + '\\n'\n",
    "                discussion += 'A: ' + wrong_answer + '\\n'\n",
    "            except:\n",
    "                print(f'index {index}, number {number} not in dictionary.')\n",
    "                continue\n",
    "        \n",
    "        if not substitution_pair_list:\n",
    "            continue\n",
    "        \n",
    "        for correct_answer, wrong_answer in substitution_pair_list:\n",
    "            new_text = new_text.replace(correct_answer.replace('.', ''), wrong_answer)\n",
    "        texts.append(new_text + discussion)\n",
    "    return texts"
   ]
  },
  {
   "cell_type": "code",
   "execution_count": 20,
   "id": "241e5cc4",
   "metadata": {
    "scrolled": true
   },
   "outputs": [
    {
     "name": "stderr",
     "output_type": "stream",
     "text": [
      "  1%|          | 45/7199 [07:37<21:33:30, 10.85s/it]"
     ]
    },
    {
     "name": "stdout",
     "output_type": "stream",
     "text": [
      "index 45, number 11 not in dictionary.\n",
      "index 45, number 12 not in dictionary.\n",
      "index 45, number 13 not in dictionary.\n"
     ]
    },
    {
     "name": "stderr",
     "output_type": "stream",
     "text": [
      "  1%|          | 53/7199 [09:08<24:27:56, 12.33s/it]"
     ]
    },
    {
     "name": "stdout",
     "output_type": "stream",
     "text": [
      "index 53, number 1 not in dictionary.\n",
      "index 53, number 2 not in dictionary.\n",
      "index 53, number 3 not in dictionary.\n",
      "index 53, number 4 not in dictionary.\n",
      "index 53, number 5 not in dictionary.\n"
     ]
    },
    {
     "name": "stderr",
     "output_type": "stream",
     "text": [
      "  1%|          | 55/7199 [09:35<25:42:26, 12.95s/it]"
     ]
    },
    {
     "name": "stdout",
     "output_type": "stream",
     "text": [
      "index 55, number 10 not in dictionary.\n",
      "index 55, number 11 not in dictionary.\n",
      "index 55, number 12 not in dictionary.\n",
      "index 55, number 13 not in dictionary.\n"
     ]
    },
    {
     "name": "stderr",
     "output_type": "stream",
     "text": [
      "\r",
      "  1%|          | 56/7199 [09:48<25:49:30, 13.02s/it]"
     ]
    },
    {
     "name": "stdout",
     "output_type": "stream",
     "text": [
      "index 55, number 14 not in dictionary.\n",
      "index 56, number 10 not in dictionary.\n",
      "index 56, number 11 not in dictionary.\n",
      "index 56, number 12 not in dictionary.\n",
      "index 56, number 13 not in dictionary.\n",
      "index 56, number 14 not in dictionary.\n"
     ]
    },
    {
     "name": "stderr",
     "output_type": "stream",
     "text": [
      "  1%|          | 71/7199 [12:32<20:40:16, 10.44s/it]"
     ]
    },
    {
     "name": "stdout",
     "output_type": "stream",
     "text": [
      "index 71, number 14 not in dictionary.\n"
     ]
    },
    {
     "name": "stderr",
     "output_type": "stream",
     "text": [
      "  1%|▏         | 102/7199 [18:23<23:14:51, 11.79s/it]"
     ]
    },
    {
     "name": "stdout",
     "output_type": "stream",
     "text": [
      "index 102, number 10 not in dictionary.\n",
      "index 102, number 11 not in dictionary.\n",
      "index 102, number 12 not in dictionary.\n",
      "index 102, number 13 not in dictionary.\n",
      "index 102, number 14 not in dictionary.\n"
     ]
    },
    {
     "name": "stderr",
     "output_type": "stream",
     "text": [
      "  2%|▏         | 123/7199 [21:59<21:48:08, 11.09s/it]"
     ]
    },
    {
     "name": "stdout",
     "output_type": "stream",
     "text": [
      "index 123, number 6 not in dictionary.\n"
     ]
    },
    {
     "name": "stderr",
     "output_type": "stream",
     "text": [
      "  2%|▏         | 144/7199 [26:17<23:28:17, 11.98s/it]"
     ]
    },
    {
     "name": "stdout",
     "output_type": "stream",
     "text": [
      "index 144, number 11 not in dictionary.\n",
      "index 144, number 12 not in dictionary.\n",
      "index 144, number 13 not in dictionary.\n",
      "index 144, number 14 not in dictionary.\n",
      "index 144, number 15 not in dictionary.\n"
     ]
    },
    {
     "name": "stderr",
     "output_type": "stream",
     "text": [
      "  2%|▏         | 156/7199 [28:14<18:45:46,  9.59s/it]"
     ]
    },
    {
     "name": "stdout",
     "output_type": "stream",
     "text": [
      "index 156, number 11 not in dictionary.\n",
      "index 156, number 12 not in dictionary.\n",
      "index 156, number 13 not in dictionary.\n",
      "index 156, number 14 not in dictionary.\n",
      "index 156, number 15 not in dictionary.\n"
     ]
    },
    {
     "name": "stderr",
     "output_type": "stream",
     "text": [
      "  2%|▏         | 163/7199 [29:26<18:52:36,  9.66s/it]Token indices sequence length is longer than the specified maximum sequence length for this model (1038 > 1024). Running this sequence through the model will result in indexing errors\n",
      "  3%|▎         | 188/7199 [34:15<22:50:30, 11.73s/it]"
     ]
    },
    {
     "name": "stdout",
     "output_type": "stream",
     "text": [
      "index 187, number 19 not in dictionary.\n"
     ]
    },
    {
     "name": "stderr",
     "output_type": "stream",
     "text": [
      "  3%|▎         | 192/7199 [34:56<20:32:03, 10.55s/it]"
     ]
    },
    {
     "name": "stdout",
     "output_type": "stream",
     "text": [
      "index 192, number 10 not in dictionary.\n",
      "index 192, number 11 not in dictionary.\n",
      "index 192, number 12 not in dictionary.\n"
     ]
    },
    {
     "name": "stderr",
     "output_type": "stream",
     "text": [
      "  3%|▎         | 198/7199 [36:03<21:33:38, 11.09s/it]"
     ]
    },
    {
     "name": "stdout",
     "output_type": "stream",
     "text": [
      "index 198, number 18 not in dictionary.\n"
     ]
    },
    {
     "name": "stderr",
     "output_type": "stream",
     "text": [
      "\r",
      "  3%|▎         | 199/7199 [36:17<23:39:07, 12.16s/it]"
     ]
    },
    {
     "name": "stdout",
     "output_type": "stream",
     "text": [
      "index 198, number 19 not in dictionary.\n"
     ]
    },
    {
     "name": "stderr",
     "output_type": "stream",
     "text": [
      "  3%|▎         | 203/7199 [37:16<29:03:37, 14.95s/it]"
     ]
    },
    {
     "name": "stdout",
     "output_type": "stream",
     "text": [
      "index 203, number 20 not in dictionary.\n"
     ]
    },
    {
     "name": "stderr",
     "output_type": "stream",
     "text": [
      "\r",
      "  3%|▎         | 204/7199 [37:29<27:34:05, 14.19s/it]"
     ]
    },
    {
     "name": "stdout",
     "output_type": "stream",
     "text": [
      "index 203, number 21 not in dictionary.\n"
     ]
    },
    {
     "name": "stderr",
     "output_type": "stream",
     "text": [
      "  3%|▎         | 222/7199 [40:05<17:06:48,  8.83s/it]"
     ]
    },
    {
     "name": "stdout",
     "output_type": "stream",
     "text": [
      "index 221, number 20 not in dictionary.\n"
     ]
    },
    {
     "name": "stderr",
     "output_type": "stream",
     "text": [
      "  4%|▎         | 258/7199 [46:26<9:00:19,  4.67s/it] "
     ]
    },
    {
     "name": "stdout",
     "output_type": "stream",
     "text": [
      "index 258, number 10 not in dictionary.\n",
      "index 258, number 11 not in dictionary.\n",
      "index 258, number 12 not in dictionary.\n",
      "index 258, number 13 not in dictionary.\n",
      "index 258, number 14 not in dictionary.\n"
     ]
    },
    {
     "name": "stderr",
     "output_type": "stream",
     "text": [
      "  4%|▎         | 262/7199 [47:22<21:58:10, 11.40s/it]"
     ]
    },
    {
     "name": "stdout",
     "output_type": "stream",
     "text": [
      "index 262, number 12 not in dictionary.\n",
      "index 262, number 13 not in dictionary.\n",
      "index 262, number 14 not in dictionary.\n"
     ]
    },
    {
     "name": "stderr",
     "output_type": "stream",
     "text": [
      "  4%|▍         | 316/7199 [56:51<18:31:29,  9.69s/it]"
     ]
    },
    {
     "name": "stdout",
     "output_type": "stream",
     "text": [
      "index 316, number 2 not in dictionary.\n",
      "index 316, number 3 not in dictionary.\n",
      "index 316, number 4 not in dictionary.\n",
      "index 316, number 5 not in dictionary.\n",
      "index 316, number 6 not in dictionary.\n"
     ]
    },
    {
     "name": "stderr",
     "output_type": "stream",
     "text": [
      "  5%|▍         | 332/7199 [59:32<18:30:15,  9.70s/it]"
     ]
    },
    {
     "name": "stdout",
     "output_type": "stream",
     "text": [
      "index 332, number 15 not in dictionary.\n",
      "index 332, number 16 not in dictionary.\n"
     ]
    },
    {
     "name": "stderr",
     "output_type": "stream",
     "text": [
      "  5%|▍         | 342/7199 [1:01:16<16:33:48,  8.70s/it]"
     ]
    },
    {
     "name": "stdout",
     "output_type": "stream",
     "text": [
      "index 342, number 1 not in dictionary.\n",
      "index 342, number 2 not in dictionary.\n",
      "index 342, number 3 not in dictionary.\n",
      "index 342, number 4 not in dictionary.\n",
      "index 342, number 5 not in dictionary.\n"
     ]
    },
    {
     "name": "stderr",
     "output_type": "stream",
     "text": [
      "  5%|▌         | 369/7199 [1:06:38<17:45:36,  9.36s/it]"
     ]
    },
    {
     "name": "stdout",
     "output_type": "stream",
     "text": [
      "index 369, number 12 not in dictionary.\n",
      "index 369, number 13 not in dictionary.\n"
     ]
    },
    {
     "name": "stderr",
     "output_type": "stream",
     "text": [
      "\r",
      "  5%|▌         | 370/7199 [1:06:50<19:24:43, 10.23s/it]"
     ]
    },
    {
     "name": "stdout",
     "output_type": "stream",
     "text": [
      "index 369, number 14 not in dictionary.\n"
     ]
    },
    {
     "name": "stderr",
     "output_type": "stream",
     "text": [
      "  5%|▌         | 374/7199 [1:07:48<26:29:59, 13.98s/it]"
     ]
    },
    {
     "name": "stdout",
     "output_type": "stream",
     "text": [
      "index 374, number 15 not in dictionary.\n",
      "index 374, number 16 not in dictionary.\n",
      "index 374, number 17 not in dictionary.\n",
      "index 374, number 18 not in dictionary.\n"
     ]
    },
    {
     "name": "stderr",
     "output_type": "stream",
     "text": [
      "\r",
      "  5%|▌         | 375/7199 [1:08:02<26:33:59, 14.02s/it]"
     ]
    },
    {
     "name": "stdout",
     "output_type": "stream",
     "text": [
      "index 374, number 19 not in dictionary.\n"
     ]
    },
    {
     "name": "stderr",
     "output_type": "stream",
     "text": [
      "  5%|▌         | 378/7199 [1:08:33<22:01:12, 11.62s/it]"
     ]
    },
    {
     "name": "stdout",
     "output_type": "stream",
     "text": [
      "index 378, number 14 not in dictionary.\n"
     ]
    },
    {
     "name": "stderr",
     "output_type": "stream",
     "text": [
      "  5%|▌         | 387/7199 [1:10:17<21:14:12, 11.22s/it]"
     ]
    },
    {
     "name": "stdout",
     "output_type": "stream",
     "text": [
      "index 387, number 11 not in dictionary.\n",
      "index 387, number 12 not in dictionary.\n",
      "index 387, number 13 not in dictionary.\n",
      "index 387, number 14 not in dictionary.\n",
      "index 387, number 15 not in dictionary.\n"
     ]
    },
    {
     "name": "stderr",
     "output_type": "stream",
     "text": [
      "\r",
      "  5%|▌         | 388/7199 [1:10:33<23:52:21, 12.62s/it]"
     ]
    },
    {
     "name": "stdout",
     "output_type": "stream",
     "text": [
      "index 388, number 15 not in dictionary.\n"
     ]
    },
    {
     "name": "stderr",
     "output_type": "stream",
     "text": [
      "  5%|▌         | 395/7199 [1:11:52<20:20:29, 10.76s/it]"
     ]
    },
    {
     "name": "stdout",
     "output_type": "stream",
     "text": [
      "index 395, number 10 not in dictionary.\n",
      "index 395, number 11 not in dictionary.\n",
      "index 395, number 12 not in dictionary.\n"
     ]
    },
    {
     "name": "stderr",
     "output_type": "stream",
     "text": [
      "\r",
      "  6%|▌         | 396/7199 [1:12:03<20:15:21, 10.72s/it]"
     ]
    },
    {
     "name": "stdout",
     "output_type": "stream",
     "text": [
      "index 395, number 13 not in dictionary.\n"
     ]
    },
    {
     "name": "stderr",
     "output_type": "stream",
     "text": [
      "  6%|▌         | 404/7199 [1:13:20<17:46:43,  9.42s/it]"
     ]
    },
    {
     "name": "stdout",
     "output_type": "stream",
     "text": [
      "index 404, number 12 not in dictionary.\n",
      "index 404, number 13 not in dictionary.\n",
      "index 404, number 14 not in dictionary.\n",
      "index 404, number 15 not in dictionary.\n",
      "index 404, number 16 not in dictionary.\n"
     ]
    },
    {
     "name": "stderr",
     "output_type": "stream",
     "text": [
      "  6%|▌         | 408/7199 [1:14:01<16:58:29,  9.00s/it]"
     ]
    },
    {
     "name": "stdout",
     "output_type": "stream",
     "text": [
      "index 408, number 10 not in dictionary.\n",
      "index 408, number 11 not in dictionary.\n",
      "index 408, number 12 not in dictionary.\n",
      "index 408, number 13 not in dictionary.\n"
     ]
    },
    {
     "name": "stderr",
     "output_type": "stream",
     "text": [
      "  6%|▌         | 423/7199 [1:16:55<20:45:59, 11.03s/it]"
     ]
    },
    {
     "name": "stdout",
     "output_type": "stream",
     "text": [
      "index 423, number 10 not in dictionary.\n",
      "index 423, number 11 not in dictionary.\n"
     ]
    },
    {
     "name": "stderr",
     "output_type": "stream",
     "text": [
      "\r",
      "  6%|▌         | 424/7199 [1:17:06<21:00:55, 11.17s/it]"
     ]
    },
    {
     "name": "stdout",
     "output_type": "stream",
     "text": [
      "index 423, number 12 not in dictionary.\n"
     ]
    },
    {
     "name": "stderr",
     "output_type": "stream",
     "text": [
      "  6%|▌         | 438/7199 [1:19:31<20:59:27, 11.18s/it]"
     ]
    },
    {
     "name": "stdout",
     "output_type": "stream",
     "text": [
      "index 438, number 14 not in dictionary.\n",
      "index 438, number 15 not in dictionary.\n"
     ]
    },
    {
     "name": "stderr",
     "output_type": "stream",
     "text": [
      "\r",
      "  6%|▌         | 439/7199 [1:19:45<22:45:44, 12.12s/it]"
     ]
    },
    {
     "name": "stdout",
     "output_type": "stream",
     "text": [
      "index 438, number 16 not in dictionary.\n"
     ]
    },
    {
     "name": "stderr",
     "output_type": "stream",
     "text": [
      "  7%|▋         | 473/7199 [1:26:30<20:36:08, 11.03s/it]"
     ]
    },
    {
     "name": "stdout",
     "output_type": "stream",
     "text": [
      "index 473, number 1 not in dictionary.\n",
      "index 473, number 2 not in dictionary.\n",
      "index 473, number 3 not in dictionary.\n",
      "index 473, number 4 not in dictionary.\n",
      "index 473, number 5 not in dictionary.\n"
     ]
    },
    {
     "name": "stderr",
     "output_type": "stream",
     "text": [
      "  7%|▋         | 478/7199 [1:27:25<19:46:21, 10.59s/it]"
     ]
    },
    {
     "name": "stdout",
     "output_type": "stream",
     "text": [
      "index 478, number 11 not in dictionary.\n",
      "index 478, number 12 not in dictionary.\n",
      "index 478, number 13 not in dictionary.\n",
      "index 478, number 14 not in dictionary.\n",
      "index 478, number 15 not in dictionary.\n"
     ]
    },
    {
     "name": "stderr",
     "output_type": "stream",
     "text": [
      "  7%|▋         | 499/7199 [1:30:56<17:16:20,  9.28s/it]"
     ]
    },
    {
     "name": "stdout",
     "output_type": "stream",
     "text": [
      "index 499, number 14 not in dictionary.\n",
      "index 499, number 15 not in dictionary.\n",
      "index 499, number 16 not in dictionary.\n"
     ]
    },
    {
     "name": "stderr",
     "output_type": "stream",
     "text": [
      "  7%|▋         | 524/7199 [1:35:31<19:09:39, 10.33s/it]"
     ]
    },
    {
     "name": "stdout",
     "output_type": "stream",
     "text": [
      "index 524, number 3 not in dictionary.\n",
      "index 524, number 4 not in dictionary.\n",
      "index 524, number 5 not in dictionary.\n",
      "index 524, number 6 not in dictionary.\n",
      "index 524, number 7 not in dictionary.\n"
     ]
    },
    {
     "name": "stderr",
     "output_type": "stream",
     "text": [
      "  8%|▊         | 556/7199 [1:41:26<16:04:45,  8.71s/it]"
     ]
    },
    {
     "name": "stdout",
     "output_type": "stream",
     "text": [
      "index 556, number 13 not in dictionary.\n",
      "index 556, number 14 not in dictionary.\n",
      "index 556, number 15 not in dictionary.\n"
     ]
    },
    {
     "name": "stderr",
     "output_type": "stream",
     "text": [
      "  8%|▊         | 563/7199 [1:42:41<19:52:33, 10.78s/it]"
     ]
    },
    {
     "name": "stdout",
     "output_type": "stream",
     "text": [
      "index 563, number 19 not in dictionary.\n"
     ]
    },
    {
     "name": "stderr",
     "output_type": "stream",
     "text": [
      "  8%|▊         | 571/7199 [1:44:22<20:33:02, 11.16s/it]"
     ]
    },
    {
     "name": "stdout",
     "output_type": "stream",
     "text": [
      "index 571, number 11 not in dictionary.\n",
      "index 571, number 12 not in dictionary.\n",
      "index 571, number 13 not in dictionary.\n",
      "index 571, number 14 not in dictionary.\n",
      "index 571, number 15 not in dictionary.\n"
     ]
    },
    {
     "name": "stderr",
     "output_type": "stream",
     "text": [
      "  8%|▊         | 574/7199 [1:44:54<20:34:49, 11.18s/it]"
     ]
    },
    {
     "name": "stdout",
     "output_type": "stream",
     "text": [
      "index 574, number 10 not in dictionary.\n",
      "index 574, number 11 not in dictionary.\n",
      "index 574, number 12 not in dictionary.\n",
      "index 574, number 13 not in dictionary.\n",
      "index 574, number 14 not in dictionary.\n"
     ]
    },
    {
     "name": "stderr",
     "output_type": "stream",
     "text": [
      "  8%|▊         | 581/7199 [1:46:31<25:18:10, 13.76s/it]"
     ]
    },
    {
     "name": "stdout",
     "output_type": "stream",
     "text": [
      "index 581, number 4 not in dictionary.\n",
      "index 581, number 5 not in dictionary.\n",
      "index 581, number 6 not in dictionary.\n",
      "index 581, number 7 not in dictionary.\n",
      "index 581, number 8 not in dictionary.\n"
     ]
    },
    {
     "name": "stderr",
     "output_type": "stream",
     "text": [
      "  8%|▊         | 606/7199 [1:50:54<14:24:53,  7.87s/it]"
     ]
    },
    {
     "name": "stdout",
     "output_type": "stream",
     "text": [
      "index 605, number 1 not in dictionary.\n",
      "index 606, number 12 not in dictionary.\n",
      "index 606, number 13 not in dictionary.\n",
      "index 606, number 16 not in dictionary.\n"
     ]
    },
    {
     "name": "stderr",
     "output_type": "stream",
     "text": [
      "  8%|▊         | 608/7199 [1:51:21<20:05:54, 10.98s/it]"
     ]
    },
    {
     "name": "stdout",
     "output_type": "stream",
     "text": [
      "index 608, number 12 not in dictionary.\n",
      "index 608, number 13 not in dictionary.\n",
      "index 608, number 14 not in dictionary.\n",
      "index 608, number 15 not in dictionary.\n",
      "index 608, number 16 not in dictionary.\n"
     ]
    },
    {
     "name": "stderr",
     "output_type": "stream",
     "text": [
      "  9%|▊         | 624/7199 [1:54:23<19:49:53, 10.86s/it]"
     ]
    },
    {
     "name": "stdout",
     "output_type": "stream",
     "text": [
      "index 624, number 10 not in dictionary.\n",
      "index 624, number 11 not in dictionary.\n",
      "index 624, number 12 not in dictionary.\n",
      "index 624, number 13 not in dictionary.\n",
      "index 624, number 14 not in dictionary.\n"
     ]
    },
    {
     "name": "stderr",
     "output_type": "stream",
     "text": [
      "  9%|▉         | 667/7199 [2:02:24<24:23:56, 13.45s/it]"
     ]
    },
    {
     "name": "stdout",
     "output_type": "stream",
     "text": [
      "index 667, number 10 not in dictionary.\n",
      "index 667, number 11 not in dictionary.\n",
      "index 667, number 12 not in dictionary.\n",
      "index 667, number 13 not in dictionary.\n",
      "index 667, number 14 not in dictionary.\n"
     ]
    },
    {
     "name": "stderr",
     "output_type": "stream",
     "text": [
      "  9%|▉         | 683/7199 [2:05:20<24:13:55, 13.39s/it]"
     ]
    },
    {
     "name": "stdout",
     "output_type": "stream",
     "text": [
      "index 683, number 10 not in dictionary.\n",
      "index 683, number 11 not in dictionary.\n",
      "index 683, number 12 not in dictionary.\n",
      "index 683, number 13 not in dictionary.\n"
     ]
    },
    {
     "name": "stderr",
     "output_type": "stream",
     "text": [
      "\r",
      " 10%|▉         | 684/7199 [2:05:33<23:34:13, 13.02s/it]"
     ]
    },
    {
     "name": "stdout",
     "output_type": "stream",
     "text": [
      "index 683, number 14 not in dictionary.\n"
     ]
    },
    {
     "name": "stderr",
     "output_type": "stream",
     "text": [
      " 10%|▉         | 688/7199 [2:06:03<16:05:54,  8.90s/it]"
     ]
    },
    {
     "name": "stdout",
     "output_type": "stream",
     "text": [
      "index 688, number 15 not in dictionary.\n",
      "index 688, number 16 not in dictionary.\n",
      "index 688, number 17 not in dictionary.\n",
      "index 688, number 18 not in dictionary.\n"
     ]
    },
    {
     "name": "stderr",
     "output_type": "stream",
     "text": [
      "\r",
      " 10%|▉         | 689/7199 [2:06:15<17:59:18,  9.95s/it]"
     ]
    },
    {
     "name": "stdout",
     "output_type": "stream",
     "text": [
      "index 688, number 19 not in dictionary.\n"
     ]
    },
    {
     "name": "stderr",
     "output_type": "stream",
     "text": [
      " 10%|█         | 733/7199 [2:13:01<18:13:12, 10.14s/it]"
     ]
    },
    {
     "name": "stdout",
     "output_type": "stream",
     "text": [
      "index 733, number 15 not in dictionary.\n",
      "index 733, number 16 not in dictionary.\n"
     ]
    },
    {
     "name": "stderr",
     "output_type": "stream",
     "text": [
      " 10%|█         | 745/7199 [2:15:15<20:11:03, 11.26s/it]"
     ]
    },
    {
     "name": "stdout",
     "output_type": "stream",
     "text": [
      "index 745, number 17 not in dictionary.\n"
     ]
    },
    {
     "name": "stderr",
     "output_type": "stream",
     "text": [
      " 10%|█         | 753/7199 [2:16:48<19:46:06, 11.04s/it]"
     ]
    },
    {
     "name": "stdout",
     "output_type": "stream",
     "text": [
      "index 753, number 15 not in dictionary.\n",
      "index 753, number 16 not in dictionary.\n",
      "index 753, number 17 not in dictionary.\n",
      "index 753, number 18 not in dictionary.\n"
     ]
    },
    {
     "name": "stderr",
     "output_type": "stream",
     "text": [
      "\r",
      " 10%|█         | 754/7199 [2:17:02<21:27:07, 11.98s/it]"
     ]
    },
    {
     "name": "stdout",
     "output_type": "stream",
     "text": [
      "index 753, number 19 not in dictionary.\n"
     ]
    },
    {
     "name": "stderr",
     "output_type": "stream",
     "text": [
      " 11%|█         | 759/7199 [2:18:08<21:39:59, 12.11s/it]"
     ]
    },
    {
     "name": "stdout",
     "output_type": "stream",
     "text": [
      "index 759, number 15 not in dictionary.\n"
     ]
    },
    {
     "name": "stderr",
     "output_type": "stream",
     "text": [
      " 11%|█         | 800/7199 [2:26:11<18:49:08, 10.59s/it]"
     ]
    },
    {
     "name": "stdout",
     "output_type": "stream",
     "text": [
      "index 800, number 2 not in dictionary.\n",
      "index 800, number 3 not in dictionary.\n",
      "index 800, number 4 not in dictionary.\n",
      "index 800, number 5 not in dictionary.\n",
      "index 800, number 6 not in dictionary.\n"
     ]
    },
    {
     "name": "stderr",
     "output_type": "stream",
     "text": [
      "\r",
      " 11%|█         | 801/7199 [2:26:29<22:42:42, 12.78s/it]"
     ]
    },
    {
     "name": "stdout",
     "output_type": "stream",
     "text": [
      "index 801, number 14 not in dictionary.\n"
     ]
    },
    {
     "name": "stderr",
     "output_type": "stream",
     "text": [
      " 11%|█▏        | 814/7199 [2:28:55<19:00:19, 10.72s/it]"
     ]
    },
    {
     "name": "stdout",
     "output_type": "stream",
     "text": [
      "index 814, number 11 not in dictionary.\n",
      "index 814, number 12 not in dictionary.\n",
      "index 814, number 13 not in dictionary.\n",
      "index 814, number 14 not in dictionary.\n",
      "index 814, number 15 not in dictionary.\n"
     ]
    },
    {
     "name": "stderr",
     "output_type": "stream",
     "text": [
      " 11%|█▏        | 823/7199 [2:30:44<21:16:06, 12.01s/it]"
     ]
    },
    {
     "name": "stdout",
     "output_type": "stream",
     "text": [
      "index 822, number 19 not in dictionary.\n"
     ]
    },
    {
     "name": "stderr",
     "output_type": "stream",
     "text": [
      " 12%|█▏        | 832/7199 [2:32:37<20:38:54, 11.67s/it]"
     ]
    },
    {
     "name": "stdout",
     "output_type": "stream",
     "text": [
      "index 832, number 14 not in dictionary.\n"
     ]
    },
    {
     "name": "stderr",
     "output_type": "stream",
     "text": [
      " 12%|█▏        | 854/7199 [2:37:10<21:04:12, 11.95s/it]"
     ]
    },
    {
     "name": "stdout",
     "output_type": "stream",
     "text": [
      "index 854, number 16 not in dictionary.\n",
      "index 854, number 17 not in dictionary.\n",
      "index 854, number 18 not in dictionary.\n"
     ]
    },
    {
     "name": "stderr",
     "output_type": "stream",
     "text": [
      "\r",
      " 12%|█▏        | 855/7199 [2:37:28<24:19:29, 13.80s/it]"
     ]
    },
    {
     "name": "stdout",
     "output_type": "stream",
     "text": [
      "index 854, number 19 not in dictionary.\n"
     ]
    },
    {
     "name": "stderr",
     "output_type": "stream",
     "text": [
      " 12%|█▏        | 888/7199 [2:42:03<12:33:14,  7.16s/it]"
     ]
    },
    {
     "name": "stdout",
     "output_type": "stream",
     "text": [
      "index 888, number 3 not in dictionary.\n",
      "index 888, number 4 not in dictionary.\n",
      "index 888, number 5 not in dictionary.\n",
      "index 888, number 6 not in dictionary.\n",
      "index 888, number 7 not in dictionary.\n"
     ]
    },
    {
     "name": "stderr",
     "output_type": "stream",
     "text": [
      " 12%|█▏        | 893/7199 [2:42:53<17:25:58,  9.95s/it]"
     ]
    },
    {
     "name": "stdout",
     "output_type": "stream",
     "text": [
      "index 893, number 11 not in dictionary.\n",
      "index 893, number 12 not in dictionary.\n",
      "index 893, number 13 not in dictionary.\n",
      "index 893, number 14 not in dictionary.\n"
     ]
    },
    {
     "name": "stderr",
     "output_type": "stream",
     "text": [
      " 12%|█▏        | 895/7199 [2:43:21<20:33:10, 11.74s/it]"
     ]
    },
    {
     "name": "stdout",
     "output_type": "stream",
     "text": [
      "index 895, number 12 not in dictionary.\n",
      "index 895, number 13 not in dictionary.\n",
      "index 895, number 14 not in dictionary.\n",
      "index 895, number 15 not in dictionary.\n",
      "index 895, number 16 not in dictionary.\n"
     ]
    },
    {
     "name": "stderr",
     "output_type": "stream",
     "text": [
      "\r",
      " 12%|█▏        | 896/7199 [2:43:37<22:45:31, 13.00s/it]"
     ]
    },
    {
     "name": "stdout",
     "output_type": "stream",
     "text": [
      "index 896, number 5 not in dictionary.\n",
      "index 896, number 6 not in dictionary.\n",
      "index 896, number 7 not in dictionary.\n",
      "index 896, number 8 not in dictionary.\n",
      "index 896, number 9 not in dictionary.\n"
     ]
    },
    {
     "name": "stderr",
     "output_type": "stream",
     "text": [
      " 13%|█▎        | 910/7199 [2:46:37<22:53:03, 13.10s/it]"
     ]
    },
    {
     "name": "stdout",
     "output_type": "stream",
     "text": [
      "index 909, number 19 not in dictionary.\n"
     ]
    },
    {
     "name": "stderr",
     "output_type": "stream",
     "text": [
      " 13%|█▎        | 927/7199 [2:50:18<20:56:34, 12.02s/it]"
     ]
    },
    {
     "name": "stdout",
     "output_type": "stream",
     "text": [
      "index 927, number 6 not in dictionary.\n",
      "index 927, number 7 not in dictionary.\n",
      "index 927, number 8 not in dictionary.\n",
      "index 927, number 9 not in dictionary.\n",
      "index 927, number 10 not in dictionary.\n"
     ]
    },
    {
     "name": "stderr",
     "output_type": "stream",
     "text": [
      " 13%|█▎        | 938/7199 [2:52:36<21:57:31, 12.63s/it]"
     ]
    },
    {
     "name": "stdout",
     "output_type": "stream",
     "text": [
      "index 938, number 11 not in dictionary.\n",
      "index 938, number 12 not in dictionary.\n",
      "index 938, number 13 not in dictionary.\n",
      "index 938, number 14 not in dictionary.\n"
     ]
    },
    {
     "name": "stderr",
     "output_type": "stream",
     "text": [
      " 13%|█▎        | 957/7199 [2:56:24<17:13:25,  9.93s/it]"
     ]
    },
    {
     "name": "stdout",
     "output_type": "stream",
     "text": [
      "index 957, number 14 not in dictionary.\n",
      "index 957, number 15 not in dictionary.\n",
      "index 957, number 16 not in dictionary.\n",
      "index 957, number 17 not in dictionary.\n",
      "index 957, number 18 not in dictionary.\n"
     ]
    },
    {
     "name": "stderr",
     "output_type": "stream",
     "text": [
      " 13%|█▎        | 966/7199 [2:58:10<18:17:14, 10.56s/it]"
     ]
    },
    {
     "name": "stdout",
     "output_type": "stream",
     "text": [
      "index 966, number 9 not in dictionary.\n",
      "index 966, number 10 not in dictionary.\n",
      "index 966, number 11 not in dictionary.\n",
      "index 966, number 12 not in dictionary.\n",
      "index 966, number 13 not in dictionary.\n"
     ]
    },
    {
     "name": "stderr",
     "output_type": "stream",
     "text": [
      " 13%|█▎        | 969/7199 [2:58:51<20:54:10, 12.08s/it]"
     ]
    },
    {
     "name": "stdout",
     "output_type": "stream",
     "text": [
      "index 969, number 10 not in dictionary.\n",
      "index 969, number 11 not in dictionary.\n",
      "index 969, number 12 not in dictionary.\n",
      "index 969, number 13 not in dictionary.\n",
      "index 969, number 14 not in dictionary.\n"
     ]
    },
    {
     "name": "stderr",
     "output_type": "stream",
     "text": [
      " 14%|█▎        | 974/7199 [3:00:06<25:47:41, 14.92s/it]"
     ]
    },
    {
     "name": "stdout",
     "output_type": "stream",
     "text": [
      "index 973, number 19 not in dictionary.\n"
     ]
    },
    {
     "name": "stderr",
     "output_type": "stream",
     "text": [
      " 14%|█▎        | 985/7199 [3:01:46<12:47:23,  7.41s/it]"
     ]
    },
    {
     "name": "stdout",
     "output_type": "stream",
     "text": [
      "index 985, number 15 not in dictionary.\n"
     ]
    },
    {
     "name": "stderr",
     "output_type": "stream",
     "text": [
      "\r",
      " 14%|█▎        | 986/7199 [3:01:59<15:43:55,  9.12s/it]"
     ]
    },
    {
     "name": "stdout",
     "output_type": "stream",
     "text": [
      "index 985, number 16 not in dictionary.\n"
     ]
    },
    {
     "name": "stderr",
     "output_type": "stream",
     "text": [
      " 14%|█▍        | 996/7199 [3:03:40<18:04:50, 10.49s/it]"
     ]
    },
    {
     "name": "stdout",
     "output_type": "stream",
     "text": [
      "index 996, number 8 not in dictionary.\n"
     ]
    },
    {
     "name": "stderr",
     "output_type": "stream",
     "text": [
      "\r",
      " 14%|█▍        | 997/7199 [3:03:46<15:47:50,  9.17s/it]"
     ]
    },
    {
     "name": "stdout",
     "output_type": "stream",
     "text": [
      "index 996, number 9 not in dictionary.\n"
     ]
    },
    {
     "name": "stderr",
     "output_type": "stream",
     "text": [
      " 14%|█▍        | 1009/7199 [3:05:24<13:03:30,  7.59s/it]"
     ]
    },
    {
     "name": "stdout",
     "output_type": "stream",
     "text": [
      "index 1009, number 15 not in dictionary.\n",
      "index 1009, number 16 not in dictionary.\n",
      "index 1009, number 17 not in dictionary.\n",
      "index 1009, number 18 not in dictionary.\n"
     ]
    },
    {
     "name": "stderr",
     "output_type": "stream",
     "text": [
      " 14%|█▍        | 1030/7199 [3:09:33<23:04:52, 13.47s/it]"
     ]
    },
    {
     "name": "stdout",
     "output_type": "stream",
     "text": [
      "index 1030, number 16 not in dictionary.\n"
     ]
    },
    {
     "name": "stderr",
     "output_type": "stream",
     "text": [
      " 15%|█▍        | 1049/7199 [3:13:03<17:11:12, 10.06s/it]"
     ]
    },
    {
     "name": "stdout",
     "output_type": "stream",
     "text": [
      "index 1049, number 10 not in dictionary.\n",
      "index 1049, number 11 not in dictionary.\n",
      "index 1049, number 12 not in dictionary.\n",
      "index 1049, number 13 not in dictionary.\n",
      "index 1049, number 14 not in dictionary.\n"
     ]
    },
    {
     "name": "stderr",
     "output_type": "stream",
     "text": [
      " 15%|█▍        | 1058/7199 [3:14:30<18:29:09, 10.84s/it]"
     ]
    },
    {
     "name": "stdout",
     "output_type": "stream",
     "text": [
      "index 1058, number 15 not in dictionary.\n",
      "index 1058, number 16 not in dictionary.\n"
     ]
    },
    {
     "name": "stderr",
     "output_type": "stream",
     "text": [
      "\r",
      " 15%|█▍        | 1059/7199 [3:14:43<19:38:29, 11.52s/it]"
     ]
    },
    {
     "name": "stdout",
     "output_type": "stream",
     "text": [
      "index 1058, number 17 not in dictionary.\n"
     ]
    },
    {
     "name": "stderr",
     "output_type": "stream",
     "text": [
      " 15%|█▌        | 1112/7199 [3:23:06<18:12:11, 10.77s/it]"
     ]
    },
    {
     "name": "stdout",
     "output_type": "stream",
     "text": [
      "index 1112, number 10 not in dictionary.\n",
      "index 1112, number 11 not in dictionary.\n"
     ]
    },
    {
     "name": "stderr",
     "output_type": "stream",
     "text": [
      " 16%|█▌        | 1138/7199 [3:27:40<19:58:26, 11.86s/it]"
     ]
    },
    {
     "name": "stdout",
     "output_type": "stream",
     "text": [
      "index 1138, number 8 not in dictionary.\n",
      "index 1138, number 9 not in dictionary.\n",
      "index 1138, number 10 not in dictionary.\n"
     ]
    },
    {
     "name": "stderr",
     "output_type": "stream",
     "text": [
      "\r",
      " 16%|█▌        | 1139/7199 [3:27:50<19:19:43, 11.48s/it]"
     ]
    },
    {
     "name": "stdout",
     "output_type": "stream",
     "text": [
      "index 1138, number 11 not in dictionary.\n"
     ]
    },
    {
     "name": "stderr",
     "output_type": "stream",
     "text": [
      " 16%|█▌        | 1150/7199 [3:29:46<16:57:07, 10.09s/it]"
     ]
    },
    {
     "name": "stdout",
     "output_type": "stream",
     "text": [
      "index 1149, number 15 not in dictionary.\n"
     ]
    },
    {
     "name": "stderr",
     "output_type": "stream",
     "text": [
      " 17%|█▋        | 1223/7199 [3:42:09<17:57:19, 10.82s/it]"
     ]
    },
    {
     "name": "stdout",
     "output_type": "stream",
     "text": [
      "index 1223, number 11 not in dictionary.\n",
      "index 1223, number 12 not in dictionary.\n",
      "index 1223, number 13 not in dictionary.\n",
      "index 1223, number 14 not in dictionary.\n",
      "index 1223, number 15 not in dictionary.\n"
     ]
    },
    {
     "name": "stderr",
     "output_type": "stream",
     "text": [
      " 17%|█▋        | 1245/7199 [3:46:35<21:46:03, 13.16s/it]"
     ]
    },
    {
     "name": "stdout",
     "output_type": "stream",
     "text": [
      "index 1244, number 20 not in dictionary.\n"
     ]
    },
    {
     "name": "stderr",
     "output_type": "stream",
     "text": [
      " 18%|█▊        | 1283/7199 [3:53:01<14:28:29,  8.81s/it]"
     ]
    },
    {
     "name": "stdout",
     "output_type": "stream",
     "text": [
      "index 1283, number 12 not in dictionary.\n",
      "index 1283, number 13 not in dictionary.\n",
      "index 1283, number 14 not in dictionary.\n",
      "index 1283, number 15 not in dictionary.\n",
      "index 1283, number 16 not in dictionary.\n"
     ]
    },
    {
     "name": "stderr",
     "output_type": "stream",
     "text": [
      "\r",
      " 18%|█▊        | 1284/7199 [3:53:16<17:33:40, 10.69s/it]"
     ]
    },
    {
     "name": "stdout",
     "output_type": "stream",
     "text": [
      "index 1284, number 15 not in dictionary.\n"
     ]
    },
    {
     "name": "stderr",
     "output_type": "stream",
     "text": [
      " 18%|█▊        | 1295/7199 [3:55:16<17:02:42, 10.39s/it]"
     ]
    },
    {
     "name": "stdout",
     "output_type": "stream",
     "text": [
      "index 1295, number 18 not in dictionary.\n"
     ]
    },
    {
     "name": "stderr",
     "output_type": "stream",
     "text": [
      " 18%|█▊        | 1331/7199 [4:01:57<18:53:43, 11.59s/it]"
     ]
    },
    {
     "name": "stdout",
     "output_type": "stream",
     "text": [
      "index 1330, number 19 not in dictionary.\n"
     ]
    },
    {
     "name": "stderr",
     "output_type": "stream",
     "text": [
      " 20%|█▉        | 1415/7199 [4:16:08<18:29:39, 11.51s/it]"
     ]
    },
    {
     "name": "stdout",
     "output_type": "stream",
     "text": [
      "index 1415, number 15 not in dictionary.\n",
      "index 1415, number 16 not in dictionary.\n",
      "index 1415, number 17 not in dictionary.\n",
      "index 1415, number 18 not in dictionary.\n"
     ]
    },
    {
     "name": "stderr",
     "output_type": "stream",
     "text": [
      "\r",
      " 20%|█▉        | 1416/7199 [4:16:22<19:46:08, 12.31s/it]"
     ]
    },
    {
     "name": "stdout",
     "output_type": "stream",
     "text": [
      "index 1415, number 19 not in dictionary.\n"
     ]
    },
    {
     "name": "stderr",
     "output_type": "stream",
     "text": [
      " 20%|█▉        | 1432/7199 [4:19:30<14:34:57,  9.10s/it]"
     ]
    },
    {
     "name": "stdout",
     "output_type": "stream",
     "text": [
      "index 1432, number 6 not in dictionary.\n",
      "index 1432, number 7 not in dictionary.\n",
      "index 1432, number 8 not in dictionary.\n",
      "index 1432, number 9 not in dictionary.\n",
      "index 1432, number 10 not in dictionary.\n"
     ]
    },
    {
     "name": "stderr",
     "output_type": "stream",
     "text": [
      " 20%|█▉        | 1435/7199 [4:20:13<19:09:49, 11.97s/it]"
     ]
    },
    {
     "name": "stdout",
     "output_type": "stream",
     "text": [
      "index 1435, number 9 not in dictionary.\n",
      "index 1435, number 10 not in dictionary.\n",
      "index 1435, number 11 not in dictionary.\n",
      "index 1435, number 12 not in dictionary.\n",
      "index 1435, number 13 not in dictionary.\n"
     ]
    },
    {
     "name": "stderr",
     "output_type": "stream",
     "text": [
      " 20%|██        | 1442/7199 [4:21:23<14:21:16,  8.98s/it]"
     ]
    },
    {
     "name": "stdout",
     "output_type": "stream",
     "text": [
      "index 1442, number 10 not in dictionary.\n",
      "index 1442, number 11 not in dictionary.\n",
      "index 1442, number 12 not in dictionary.\n",
      "index 1442, number 13 not in dictionary.\n",
      "index 1442, number 14 not in dictionary.\n"
     ]
    },
    {
     "name": "stderr",
     "output_type": "stream",
     "text": [
      " 20%|██        | 1448/7199 [4:22:40<18:07:35, 11.35s/it]"
     ]
    },
    {
     "name": "stdout",
     "output_type": "stream",
     "text": [
      "index 1448, number 18 not in dictionary.\n",
      "index 1448, number 19 not in dictionary.\n",
      "index 1448, number 20 not in dictionary.\n"
     ]
    },
    {
     "name": "stderr",
     "output_type": "stream",
     "text": [
      "\r",
      " 20%|██        | 1449/7199 [4:22:58<20:56:28, 13.11s/it]"
     ]
    },
    {
     "name": "stdout",
     "output_type": "stream",
     "text": [
      "index 1448, number 21 not in dictionary.\n"
     ]
    },
    {
     "name": "stderr",
     "output_type": "stream",
     "text": [
      "\r",
      " 20%|██        | 1450/7199 [4:23:14<22:38:32, 14.18s/it]"
     ]
    },
    {
     "name": "stdout",
     "output_type": "stream",
     "text": [
      "index 1449, number 19 not in dictionary.\n"
     ]
    },
    {
     "name": "stderr",
     "output_type": "stream",
     "text": [
      " 20%|██        | 1471/7199 [4:26:56<17:26:51, 10.97s/it]"
     ]
    },
    {
     "name": "stdout",
     "output_type": "stream",
     "text": [
      "index 1470, number 11 not in dictionary.\n"
     ]
    },
    {
     "name": "stderr",
     "output_type": "stream",
     "text": [
      " 21%|██        | 1482/7199 [4:28:40<19:08:30, 12.05s/it]"
     ]
    },
    {
     "name": "stdout",
     "output_type": "stream",
     "text": [
      "index 1482, number 6 not in dictionary.\n",
      "index 1482, number 7 not in dictionary.\n"
     ]
    },
    {
     "name": "stderr",
     "output_type": "stream",
     "text": [
      "\r",
      " 21%|██        | 1483/7199 [4:28:48<17:04:28, 10.75s/it]"
     ]
    },
    {
     "name": "stdout",
     "output_type": "stream",
     "text": [
      "index 1482, number 9 not in dictionary.\n"
     ]
    },
    {
     "name": "stderr",
     "output_type": "stream",
     "text": [
      " 21%|██        | 1487/7199 [4:29:19<13:30:42,  8.52s/it]"
     ]
    },
    {
     "name": "stdout",
     "output_type": "stream",
     "text": [
      "index 1487, number 10 not in dictionary.\n",
      "index 1487, number 11 not in dictionary.\n",
      "index 1487, number 12 not in dictionary.\n",
      "index 1487, number 13 not in dictionary.\n",
      "index 1487, number 14 not in dictionary.\n"
     ]
    },
    {
     "name": "stderr",
     "output_type": "stream",
     "text": [
      " 21%|██        | 1492/7199 [4:30:14<15:25:46,  9.73s/it]"
     ]
    },
    {
     "name": "stdout",
     "output_type": "stream",
     "text": [
      "index 1492, number 10 not in dictionary.\n",
      "index 1492, number 11 not in dictionary.\n",
      "index 1492, number 12 not in dictionary.\n",
      "index 1492, number 13 not in dictionary.\n",
      "index 1492, number 14 not in dictionary.\n"
     ]
    },
    {
     "name": "stderr",
     "output_type": "stream",
     "text": [
      " 21%|██        | 1500/7199 [4:31:49<19:20:29, 12.22s/it]"
     ]
    },
    {
     "name": "stdout",
     "output_type": "stream",
     "text": [
      "index 1499, number 19 not in dictionary.\n"
     ]
    },
    {
     "name": "stderr",
     "output_type": "stream",
     "text": [
      " 21%|██        | 1506/7199 [4:32:42<12:35:39,  7.96s/it]"
     ]
    },
    {
     "name": "stdout",
     "output_type": "stream",
     "text": [
      "index 1506, number 10 not in dictionary.\n",
      "index 1506, number 11 not in dictionary.\n",
      "index 1506, number 12 not in dictionary.\n"
     ]
    },
    {
     "name": "stderr",
     "output_type": "stream",
     "text": [
      " 21%|██        | 1529/7199 [4:36:23<9:48:22,  6.23s/it] "
     ]
    },
    {
     "name": "stdout",
     "output_type": "stream",
     "text": [
      "index 1529, number 16 not in dictionary.\n",
      "index 1529, number 17 not in dictionary.\n"
     ]
    },
    {
     "name": "stderr",
     "output_type": "stream",
     "text": [
      "\r",
      " 21%|██▏       | 1530/7199 [4:36:37<13:26:21,  8.53s/it]"
     ]
    },
    {
     "name": "stdout",
     "output_type": "stream",
     "text": [
      "index 1529, number 18 not in dictionary.\n"
     ]
    },
    {
     "name": "stderr",
     "output_type": "stream",
     "text": [
      " 22%|██▏       | 1548/7199 [4:39:40<16:23:31, 10.44s/it]"
     ]
    },
    {
     "name": "stdout",
     "output_type": "stream",
     "text": [
      "index 1548, number 10 not in dictionary.\n",
      "index 1548, number 11 not in dictionary.\n",
      "index 1548, number 12 not in dictionary.\n",
      "index 1548, number 13 not in dictionary.\n",
      "index 1548, number 14 not in dictionary.\n"
     ]
    },
    {
     "name": "stderr",
     "output_type": "stream",
     "text": [
      " 22%|██▏       | 1579/7199 [4:45:03<15:34:18,  9.97s/it]"
     ]
    },
    {
     "name": "stdout",
     "output_type": "stream",
     "text": [
      "index 1579, number 7 not in dictionary.\n",
      "index 1579, number 8 not in dictionary.\n",
      "index 1579, number 9 not in dictionary.\n",
      "index 1579, number 10 not in dictionary.\n",
      "index 1579, number 11 not in dictionary.\n"
     ]
    },
    {
     "name": "stderr",
     "output_type": "stream",
     "text": [
      " 22%|██▏       | 1593/7199 [4:47:32<15:47:48, 10.14s/it]"
     ]
    },
    {
     "name": "stdout",
     "output_type": "stream",
     "text": [
      "index 1592, number 10 not in dictionary.\n"
     ]
    },
    {
     "name": "stderr",
     "output_type": "stream",
     "text": [
      " 22%|██▏       | 1595/7199 [4:47:55<18:01:52, 11.58s/it]"
     ]
    },
    {
     "name": "stdout",
     "output_type": "stream",
     "text": [
      "index 1595, number 15 not in dictionary.\n",
      "index 1595, number 16 not in dictionary.\n",
      "index 1595, number 17 not in dictionary.\n"
     ]
    },
    {
     "name": "stderr",
     "output_type": "stream",
     "text": [
      " 23%|██▎       | 1641/7199 [4:56:30<18:35:12, 12.04s/it]"
     ]
    },
    {
     "name": "stdout",
     "output_type": "stream",
     "text": [
      "index 1641, number 16 not in dictionary.\n",
      "index 1641, number 17 not in dictionary.\n",
      "index 1641, number 18 not in dictionary.\n"
     ]
    },
    {
     "name": "stderr",
     "output_type": "stream",
     "text": [
      " 23%|██▎       | 1651/7199 [4:58:56<22:33:24, 14.64s/it]"
     ]
    },
    {
     "name": "stdout",
     "output_type": "stream",
     "text": [
      "index 1651, number 11 not in dictionary.\n",
      "index 1651, number 12 not in dictionary.\n",
      "index 1651, number 13 not in dictionary.\n",
      "index 1651, number 14 not in dictionary.\n",
      "index 1651, number 15 not in dictionary.\n"
     ]
    },
    {
     "name": "stderr",
     "output_type": "stream",
     "text": [
      " 23%|██▎       | 1678/7199 [5:03:38<15:56:34, 10.40s/it]"
     ]
    },
    {
     "name": "stdout",
     "output_type": "stream",
     "text": [
      "index 1678, number 8 not in dictionary.\n",
      "index 1678, number 9 not in dictionary.\n"
     ]
    },
    {
     "name": "stderr",
     "output_type": "stream",
     "text": [
      "\r",
      " 23%|██▎       | 1679/7199 [5:03:47<15:15:28,  9.95s/it]"
     ]
    },
    {
     "name": "stdout",
     "output_type": "stream",
     "text": [
      "index 1678, number 10 not in dictionary.\n"
     ]
    },
    {
     "name": "stderr",
     "output_type": "stream",
     "text": [
      " 23%|██▎       | 1687/7199 [5:05:24<19:27:48, 12.71s/it]"
     ]
    },
    {
     "name": "stdout",
     "output_type": "stream",
     "text": [
      "index 1686, number 15 not in dictionary.\n"
     ]
    },
    {
     "name": "stderr",
     "output_type": "stream",
     "text": [
      "\r",
      " 23%|██▎       | 1688/7199 [5:05:38<20:21:27, 13.30s/it]"
     ]
    },
    {
     "name": "stdout",
     "output_type": "stream",
     "text": [
      "index 1688, number 13 not in dictionary.\n",
      "index 1688, number 14 not in dictionary.\n"
     ]
    },
    {
     "name": "stderr",
     "output_type": "stream",
     "text": [
      " 24%|██▍       | 1715/7199 [5:09:42<16:22:15, 10.75s/it]"
     ]
    },
    {
     "name": "stdout",
     "output_type": "stream",
     "text": [
      "index 1715, number 18 not in dictionary.\n"
     ]
    },
    {
     "name": "stderr",
     "output_type": "stream",
     "text": [
      "\r",
      " 24%|██▍       | 1716/7199 [5:09:57<18:18:16, 12.02s/it]"
     ]
    },
    {
     "name": "stdout",
     "output_type": "stream",
     "text": [
      "index 1715, number 19 not in dictionary.\n"
     ]
    },
    {
     "name": "stderr",
     "output_type": "stream",
     "text": [
      " 24%|██▍       | 1721/7199 [5:10:46<15:53:41, 10.45s/it]"
     ]
    },
    {
     "name": "stdout",
     "output_type": "stream",
     "text": [
      "index 1721, number 16 not in dictionary.\n",
      "index 1721, number 17 not in dictionary.\n",
      "index 1721, number 18 not in dictionary.\n"
     ]
    },
    {
     "name": "stderr",
     "output_type": "stream",
     "text": [
      " 24%|██▍       | 1732/7199 [5:12:37<15:15:39, 10.05s/it]"
     ]
    },
    {
     "name": "stdout",
     "output_type": "stream",
     "text": [
      "index 1732, number 1 not in dictionary.\n",
      "index 1732, number 2 not in dictionary.\n",
      "index 1732, number 3 not in dictionary.\n",
      "index 1732, number 4 not in dictionary.\n",
      "index 1732, number 5 not in dictionary.\n"
     ]
    },
    {
     "name": "stderr",
     "output_type": "stream",
     "text": [
      " 24%|██▍       | 1742/7199 [5:14:08<14:25:08,  9.51s/it]"
     ]
    },
    {
     "name": "stdout",
     "output_type": "stream",
     "text": [
      "index 1742, number 15 not in dictionary.\n",
      "index 1742, number 17 not in dictionary.\n",
      "index 1742, number 18 not in dictionary.\n"
     ]
    },
    {
     "name": "stderr",
     "output_type": "stream",
     "text": [
      "\r",
      " 24%|██▍       | 1743/7199 [5:14:22<16:26:34, 10.85s/it]"
     ]
    },
    {
     "name": "stdout",
     "output_type": "stream",
     "text": [
      "index 1742, number 19 not in dictionary.\n"
     ]
    },
    {
     "name": "stderr",
     "output_type": "stream",
     "text": [
      " 24%|██▍       | 1748/7199 [5:15:11<15:54:25, 10.51s/it]"
     ]
    },
    {
     "name": "stdout",
     "output_type": "stream",
     "text": [
      "index 1748, number 10 not in dictionary.\n",
      "index 1748, number 11 not in dictionary.\n",
      "index 1748, number 12 not in dictionary.\n",
      "index 1748, number 13 not in dictionary.\n"
     ]
    },
    {
     "name": "stderr",
     "output_type": "stream",
     "text": [
      "\r",
      " 24%|██▍       | 1749/7199 [5:15:23<16:34:09, 10.94s/it]"
     ]
    },
    {
     "name": "stdout",
     "output_type": "stream",
     "text": [
      "index 1748, number 14 not in dictionary.\n"
     ]
    },
    {
     "name": "stderr",
     "output_type": "stream",
     "text": [
      " 25%|██▍       | 1765/7199 [5:17:51<17:39:09, 11.69s/it]"
     ]
    },
    {
     "name": "stdout",
     "output_type": "stream",
     "text": [
      "index 1765, number 16 not in dictionary.\n"
     ]
    },
    {
     "name": "stderr",
     "output_type": "stream",
     "text": [
      "\r",
      " 25%|██▍       | 1766/7199 [5:18:01<17:04:45, 11.32s/it]"
     ]
    },
    {
     "name": "stdout",
     "output_type": "stream",
     "text": [
      "index 1765, number 17 not in dictionary.\n"
     ]
    },
    {
     "name": "stderr",
     "output_type": "stream",
     "text": [
      " 25%|██▍       | 1790/7199 [5:22:15<22:17:40, 14.84s/it]"
     ]
    },
    {
     "name": "stdout",
     "output_type": "stream",
     "text": [
      "index 1790, number 15 not in dictionary.\n"
     ]
    },
    {
     "name": "stderr",
     "output_type": "stream",
     "text": [
      "\r",
      " 25%|██▍       | 1791/7199 [5:22:31<22:38:42, 15.07s/it]"
     ]
    },
    {
     "name": "stdout",
     "output_type": "stream",
     "text": [
      "index 1791, number 16 not in dictionary.\n"
     ]
    },
    {
     "name": "stderr",
     "output_type": "stream",
     "text": [
      " 25%|██▌       | 1809/7199 [5:25:42<16:23:28, 10.95s/it]"
     ]
    },
    {
     "name": "stdout",
     "output_type": "stream",
     "text": [
      "index 1809, number 12 not in dictionary.\n",
      "index 1809, number 13 not in dictionary.\n",
      "index 1809, number 14 not in dictionary.\n",
      "index 1809, number 15 not in dictionary.\n",
      "index 1809, number 16 not in dictionary.\n"
     ]
    },
    {
     "name": "stderr",
     "output_type": "stream",
     "text": [
      " 25%|██▌       | 1814/7199 [5:26:47<20:02:46, 13.40s/it]"
     ]
    },
    {
     "name": "stdout",
     "output_type": "stream",
     "text": [
      "index 1814, number 13 not in dictionary.\n"
     ]
    },
    {
     "name": "stderr",
     "output_type": "stream",
     "text": [
      " 25%|██▌       | 1822/7199 [5:28:21<14:20:05,  9.60s/it]"
     ]
    },
    {
     "name": "stdout",
     "output_type": "stream",
     "text": [
      "index 1822, number 13 not in dictionary.\n"
     ]
    },
    {
     "name": "stderr",
     "output_type": "stream",
     "text": [
      "\r",
      " 25%|██▌       | 1823/7199 [5:28:32<14:59:31, 10.04s/it]"
     ]
    },
    {
     "name": "stdout",
     "output_type": "stream",
     "text": [
      "index 1822, number 14 not in dictionary.\n"
     ]
    },
    {
     "name": "stderr",
     "output_type": "stream",
     "text": [
      " 25%|██▌       | 1827/7199 [5:29:19<16:28:48, 11.04s/it]"
     ]
    },
    {
     "name": "stdout",
     "output_type": "stream",
     "text": [
      "index 1827, number 17 not in dictionary.\n"
     ]
    },
    {
     "name": "stderr",
     "output_type": "stream",
     "text": [
      " 26%|██▌       | 1840/7199 [5:31:52<18:45:20, 12.60s/it]"
     ]
    },
    {
     "name": "stdout",
     "output_type": "stream",
     "text": [
      "index 1839, number 19 not in dictionary.\n"
     ]
    },
    {
     "name": "stderr",
     "output_type": "stream",
     "text": [
      " 26%|██▌       | 1857/7199 [5:34:53<15:27:54, 10.42s/it]"
     ]
    },
    {
     "name": "stdout",
     "output_type": "stream",
     "text": [
      "index 1857, number 15 not in dictionary.\n",
      "index 1857, number 16 not in dictionary.\n"
     ]
    },
    {
     "name": "stderr",
     "output_type": "stream",
     "text": [
      " 27%|██▋       | 1915/7199 [5:45:40<19:37:18, 13.37s/it]"
     ]
    },
    {
     "name": "stdout",
     "output_type": "stream",
     "text": [
      "index 1915, number 16 not in dictionary.\n",
      "index 1915, number 17 not in dictionary.\n",
      "index 1915, number 18 not in dictionary.\n",
      "index 1915, number 19 not in dictionary.\n"
     ]
    },
    {
     "name": "stderr",
     "output_type": "stream",
     "text": [
      " 27%|██▋       | 1934/7199 [5:48:37<16:47:02, 11.48s/it]"
     ]
    },
    {
     "name": "stdout",
     "output_type": "stream",
     "text": [
      "index 1934, number 11 not in dictionary.\n"
     ]
    },
    {
     "name": "stderr",
     "output_type": "stream",
     "text": [
      "\r",
      " 27%|██▋       | 1935/7199 [5:48:49<16:47:56, 11.49s/it]"
     ]
    },
    {
     "name": "stdout",
     "output_type": "stream",
     "text": [
      "index 1934, number 12 not in dictionary.\n"
     ]
    },
    {
     "name": "stderr",
     "output_type": "stream",
     "text": [
      " 27%|██▋       | 1958/7199 [5:52:43<12:22:30,  8.50s/it]"
     ]
    },
    {
     "name": "stdout",
     "output_type": "stream",
     "text": [
      "index 1958, number 11 not in dictionary.\n",
      "index 1958, number 12 not in dictionary.\n",
      "index 1958, number 13 not in dictionary.\n",
      "index 1958, number 14 not in dictionary.\n",
      "index 1958, number 15 not in dictionary.\n"
     ]
    },
    {
     "name": "stderr",
     "output_type": "stream",
     "text": [
      " 27%|██▋       | 1963/7199 [5:53:39<15:45:51, 10.84s/it]"
     ]
    },
    {
     "name": "stdout",
     "output_type": "stream",
     "text": [
      "index 1963, number 2 not in dictionary.\n",
      "index 1963, number 3 not in dictionary.\n",
      "index 1963, number 4 not in dictionary.\n",
      "index 1963, number 5 not in dictionary.\n",
      "index 1963, number 6 not in dictionary.\n"
     ]
    },
    {
     "name": "stderr",
     "output_type": "stream",
     "text": [
      " 27%|██▋       | 1968/7199 [5:54:26<12:51:59,  8.85s/it]"
     ]
    },
    {
     "name": "stdout",
     "output_type": "stream",
     "text": [
      "index 1968, number 15 not in dictionary.\n"
     ]
    },
    {
     "name": "stderr",
     "output_type": "stream",
     "text": [
      "\r",
      " 27%|██▋       | 1969/7199 [5:54:41<15:31:25, 10.69s/it]"
     ]
    },
    {
     "name": "stdout",
     "output_type": "stream",
     "text": [
      "index 1968, number 16 not in dictionary.\n"
     ]
    },
    {
     "name": "stderr",
     "output_type": "stream",
     "text": [
      " 28%|██▊       | 2032/7199 [6:05:46<18:03:59, 12.59s/it]"
     ]
    },
    {
     "name": "stdout",
     "output_type": "stream",
     "text": [
      "index 2032, number 15 not in dictionary.\n",
      "index 2032, number 16 not in dictionary.\n",
      "index 2032, number 17 not in dictionary.\n",
      "index 2032, number 18 not in dictionary.\n"
     ]
    },
    {
     "name": "stderr",
     "output_type": "stream",
     "text": [
      "\r",
      " 28%|██▊       | 2033/7199 [6:05:57<17:36:00, 12.26s/it]"
     ]
    },
    {
     "name": "stdout",
     "output_type": "stream",
     "text": [
      "index 2032, number 19 not in dictionary.\n"
     ]
    },
    {
     "name": "stderr",
     "output_type": "stream",
     "text": [
      " 28%|██▊       | 2050/7199 [6:08:15<12:53:26,  9.01s/it]"
     ]
    },
    {
     "name": "stdout",
     "output_type": "stream",
     "text": [
      "index 2049, number 18 not in dictionary.\n"
     ]
    },
    {
     "name": "stderr",
     "output_type": "stream",
     "text": [
      " 29%|██▉       | 2084/7199 [6:13:54<16:44:32, 11.78s/it]"
     ]
    },
    {
     "name": "stdout",
     "output_type": "stream",
     "text": [
      "index 2084, number 6 not in dictionary.\n",
      "index 2084, number 7 not in dictionary.\n"
     ]
    },
    {
     "name": "stderr",
     "output_type": "stream",
     "text": [
      " 29%|██▉       | 2111/7199 [6:19:23<13:31:12,  9.57s/it]"
     ]
    },
    {
     "name": "stdout",
     "output_type": "stream",
     "text": [
      "index 2111, number 5 not in dictionary.\n",
      "index 2111, number 6 not in dictionary.\n",
      "index 2111, number 7 not in dictionary.\n",
      "index 2111, number 8 not in dictionary.\n",
      "index 2111, number 9 not in dictionary.\n"
     ]
    },
    {
     "name": "stderr",
     "output_type": "stream",
     "text": [
      "\r",
      " 29%|██▉       | 2112/7199 [6:19:39<16:24:49, 11.62s/it]"
     ]
    },
    {
     "name": "stdout",
     "output_type": "stream",
     "text": [
      "index 2112, number 6 not in dictionary.\n",
      "index 2112, number 7 not in dictionary.\n",
      "index 2112, number 8 not in dictionary.\n",
      "index 2112, number 9 not in dictionary.\n",
      "index 2112, number 10 not in dictionary.\n"
     ]
    },
    {
     "name": "stderr",
     "output_type": "stream",
     "text": [
      " 29%|██▉       | 2114/7199 [6:20:10<18:55:43, 13.40s/it]"
     ]
    },
    {
     "name": "stdout",
     "output_type": "stream",
     "text": [
      "index 2114, number 10 not in dictionary.\n",
      "index 2114, number 11 not in dictionary.\n",
      "index 2114, number 12 not in dictionary.\n"
     ]
    },
    {
     "name": "stderr",
     "output_type": "stream",
     "text": [
      " 30%|██▉       | 2130/7199 [6:22:51<13:33:09,  9.63s/it]"
     ]
    },
    {
     "name": "stdout",
     "output_type": "stream",
     "text": [
      "index 2130, number 15 not in dictionary.\n",
      "index 2130, number 16 not in dictionary.\n",
      "index 2130, number 17 not in dictionary.\n",
      "index 2130, number 18 not in dictionary.\n"
     ]
    },
    {
     "name": "stderr",
     "output_type": "stream",
     "text": [
      "\r",
      " 30%|██▉       | 2131/7199 [6:23:07<16:28:42, 11.71s/it]"
     ]
    },
    {
     "name": "stdout",
     "output_type": "stream",
     "text": [
      "index 2130, number 19 not in dictionary.\n"
     ]
    },
    {
     "name": "stderr",
     "output_type": "stream",
     "text": [
      " 30%|██▉       | 2140/7199 [6:24:41<16:03:33, 11.43s/it]"
     ]
    },
    {
     "name": "stdout",
     "output_type": "stream",
     "text": [
      "index 2140, number 11 not in dictionary.\n",
      "index 2140, number 12 not in dictionary.\n",
      "index 2140, number 13 not in dictionary.\n",
      "index 2140, number 14 not in dictionary.\n",
      "index 2140, number 15 not in dictionary.\n"
     ]
    },
    {
     "name": "stderr",
     "output_type": "stream",
     "text": [
      " 30%|██▉       | 2152/7199 [6:27:06<17:09:04, 12.23s/it]"
     ]
    },
    {
     "name": "stdout",
     "output_type": "stream",
     "text": [
      "index 2151, number 19 not in dictionary.\n"
     ]
    },
    {
     "name": "stderr",
     "output_type": "stream",
     "text": [
      " 30%|██▉       | 2154/7199 [6:27:25<14:52:13, 10.61s/it]"
     ]
    },
    {
     "name": "stdout",
     "output_type": "stream",
     "text": [
      "index 2154, number 6 not in dictionary.\n"
     ]
    },
    {
     "name": "stderr",
     "output_type": "stream",
     "text": [
      " 30%|███       | 2189/7199 [6:33:49<16:46:15, 12.05s/it]"
     ]
    },
    {
     "name": "stdout",
     "output_type": "stream",
     "text": [
      "index 2189, number 14 not in dictionary.\n",
      "index 2189, number 15 not in dictionary.\n",
      "index 2189, number 16 not in dictionary.\n",
      "index 2189, number 17 not in dictionary.\n",
      "index 2189, number 18 not in dictionary.\n"
     ]
    },
    {
     "name": "stderr",
     "output_type": "stream",
     "text": [
      " 31%|███       | 2203/7199 [6:36:47<19:00:48, 13.70s/it]"
     ]
    },
    {
     "name": "stdout",
     "output_type": "stream",
     "text": [
      "index 2203, number 15 not in dictionary.\n",
      "index 2203, number 16 not in dictionary.\n",
      "index 2203, number 17 not in dictionary.\n"
     ]
    },
    {
     "name": "stderr",
     "output_type": "stream",
     "text": [
      " 31%|███       | 2225/7199 [6:40:21<13:13:39,  9.57s/it]"
     ]
    },
    {
     "name": "stdout",
     "output_type": "stream",
     "text": [
      "index 2225, number 10 not in dictionary.\n",
      "index 2225, number 12 not in dictionary.\n",
      "index 2225, number 14 not in dictionary.\n"
     ]
    },
    {
     "name": "stderr",
     "output_type": "stream",
     "text": [
      " 31%|███       | 2227/7199 [6:40:53<17:47:23, 12.88s/it]"
     ]
    },
    {
     "name": "stdout",
     "output_type": "stream",
     "text": [
      "index 2227, number 13 not in dictionary.\n",
      "index 2227, number 14 not in dictionary.\n",
      "index 2227, number 15 not in dictionary.\n",
      "index 2227, number 16 not in dictionary.\n"
     ]
    },
    {
     "name": "stderr",
     "output_type": "stream",
     "text": [
      "\r",
      " 31%|███       | 2228/7199 [6:41:11<19:57:49, 14.46s/it]"
     ]
    },
    {
     "name": "stdout",
     "output_type": "stream",
     "text": [
      "index 2228, number 10 not in dictionary.\n",
      "index 2228, number 11 not in dictionary.\n",
      "index 2228, number 12 not in dictionary.\n",
      "index 2228, number 13 not in dictionary.\n",
      "index 2228, number 14 not in dictionary.\n"
     ]
    },
    {
     "name": "stderr",
     "output_type": "stream",
     "text": [
      " 31%|███       | 2234/7199 [6:42:12<13:23:09,  9.71s/it]"
     ]
    },
    {
     "name": "stdout",
     "output_type": "stream",
     "text": [
      "index 2234, number 10 not in dictionary.\n",
      "index 2234, number 11 not in dictionary.\n",
      "index 2234, number 12 not in dictionary.\n",
      "index 2234, number 13 not in dictionary.\n"
     ]
    },
    {
     "name": "stderr",
     "output_type": "stream",
     "text": [
      "\r",
      " 31%|███       | 2235/7199 [6:42:21<13:04:19,  9.48s/it]"
     ]
    },
    {
     "name": "stdout",
     "output_type": "stream",
     "text": [
      "index 2234, number 14 not in dictionary.\n"
     ]
    },
    {
     "name": "stderr",
     "output_type": "stream",
     "text": [
      " 31%|███       | 2237/7199 [6:42:39<13:17:05,  9.64s/it]"
     ]
    },
    {
     "name": "stdout",
     "output_type": "stream",
     "text": [
      "index 2237, number 15 not in dictionary.\n"
     ]
    },
    {
     "name": "stderr",
     "output_type": "stream",
     "text": [
      " 31%|███       | 2243/7199 [6:43:37<11:41:58,  8.50s/it]"
     ]
    },
    {
     "name": "stdout",
     "output_type": "stream",
     "text": [
      "index 2243, number 12 not in dictionary.\n",
      "index 2243, number 13 not in dictionary.\n",
      "index 2243, number 14 not in dictionary.\n",
      "index 2243, number 15 not in dictionary.\n",
      "index 2243, number 16 not in dictionary.\n"
     ]
    },
    {
     "name": "stderr",
     "output_type": "stream",
     "text": [
      " 31%|███▏      | 2251/7199 [6:44:56<13:54:36, 10.12s/it]"
     ]
    },
    {
     "name": "stdout",
     "output_type": "stream",
     "text": [
      "index 2250, number 13 not in dictionary.\n",
      "index 2251, number 16 not in dictionary.\n",
      "index 2251, number 17 not in dictionary.\n",
      "index 2251, number 18 not in dictionary.\n"
     ]
    },
    {
     "name": "stderr",
     "output_type": "stream",
     "text": [
      "\r",
      " 31%|███▏      | 2252/7199 [6:45:14<17:00:08, 12.37s/it]"
     ]
    },
    {
     "name": "stdout",
     "output_type": "stream",
     "text": [
      "index 2251, number 19 not in dictionary.\n"
     ]
    },
    {
     "name": "stderr",
     "output_type": "stream",
     "text": [
      " 31%|███▏      | 2257/7199 [6:46:06<14:24:24, 10.49s/it]"
     ]
    },
    {
     "name": "stdout",
     "output_type": "stream",
     "text": [
      "index 2257, number 2 not in dictionary.\n",
      "index 2257, number 3 not in dictionary.\n",
      "index 2257, number 4 not in dictionary.\n",
      "index 2257, number 5 not in dictionary.\n",
      "index 2257, number 6 not in dictionary.\n"
     ]
    },
    {
     "name": "stderr",
     "output_type": "stream",
     "text": [
      " 31%|███▏      | 2267/7199 [6:47:49<15:20:08, 11.19s/it]"
     ]
    },
    {
     "name": "stdout",
     "output_type": "stream",
     "text": [
      "index 2267, number 15 not in dictionary.\n",
      "index 2267, number 16 not in dictionary.\n",
      "index 2267, number 17 not in dictionary.\n"
     ]
    },
    {
     "name": "stderr",
     "output_type": "stream",
     "text": [
      "\r",
      " 32%|███▏      | 2268/7199 [6:48:02<16:07:08, 11.77s/it]"
     ]
    },
    {
     "name": "stdout",
     "output_type": "stream",
     "text": [
      "index 2267, number 18 not in dictionary.\n"
     ]
    },
    {
     "name": "stderr",
     "output_type": "stream",
     "text": [
      " 32%|███▏      | 2295/7199 [6:52:30<11:38:43,  8.55s/it]"
     ]
    },
    {
     "name": "stdout",
     "output_type": "stream",
     "text": [
      "index 2295, number 14 not in dictionary.\n",
      "index 2295, number 15 not in dictionary.\n",
      "index 2295, number 16 not in dictionary.\n",
      "index 2295, number 17 not in dictionary.\n",
      "index 2295, number 18 not in dictionary.\n"
     ]
    },
    {
     "name": "stderr",
     "output_type": "stream",
     "text": [
      " 32%|███▏      | 2300/7199 [6:53:33<16:11:13, 11.90s/it]"
     ]
    },
    {
     "name": "stdout",
     "output_type": "stream",
     "text": [
      "index 2300, number 14 not in dictionary.\n",
      "index 2300, number 15 not in dictionary.\n"
     ]
    },
    {
     "name": "stderr",
     "output_type": "stream",
     "text": [
      " 32%|███▏      | 2302/7199 [6:54:02<17:42:13, 13.01s/it]"
     ]
    },
    {
     "name": "stdout",
     "output_type": "stream",
     "text": [
      "index 2302, number 12 not in dictionary.\n",
      "index 2302, number 13 not in dictionary.\n",
      "index 2302, number 14 not in dictionary.\n",
      "index 2302, number 15 not in dictionary.\n",
      "index 2302, number 16 not in dictionary.\n"
     ]
    },
    {
     "name": "stderr",
     "output_type": "stream",
     "text": [
      " 32%|███▏      | 2320/7199 [6:56:49<14:22:09, 10.60s/it]"
     ]
    },
    {
     "name": "stdout",
     "output_type": "stream",
     "text": [
      "index 2320, number 13 not in dictionary.\n",
      "index 2320, number 14 not in dictionary.\n",
      "index 2320, number 15 not in dictionary.\n",
      "index 2320, number 16 not in dictionary.\n"
     ]
    },
    {
     "name": "stderr",
     "output_type": "stream",
     "text": [
      "\r",
      " 32%|███▏      | 2321/7199 [6:57:04<16:26:59, 12.14s/it]"
     ]
    },
    {
     "name": "stdout",
     "output_type": "stream",
     "text": [
      "index 2320, number 17 not in dictionary.\n"
     ]
    },
    {
     "name": "stderr",
     "output_type": "stream",
     "text": [
      " 33%|███▎      | 2365/7199 [7:05:10<17:13:03, 12.82s/it]"
     ]
    },
    {
     "name": "stdout",
     "output_type": "stream",
     "text": [
      "index 2365, number 15 not in dictionary.\n"
     ]
    },
    {
     "name": "stderr",
     "output_type": "stream",
     "text": [
      " 33%|███▎      | 2370/7199 [7:06:09<17:20:36, 12.93s/it]"
     ]
    },
    {
     "name": "stdout",
     "output_type": "stream",
     "text": [
      "index 2370, number 17 not in dictionary.\n",
      "index 2370, number 18 not in dictionary.\n"
     ]
    },
    {
     "name": "stderr",
     "output_type": "stream",
     "text": [
      "\r",
      " 33%|███▎      | 2371/7199 [7:06:23<17:42:21, 13.20s/it]"
     ]
    },
    {
     "name": "stdout",
     "output_type": "stream",
     "text": [
      "index 2370, number 19 not in dictionary.\n"
     ]
    },
    {
     "name": "stderr",
     "output_type": "stream",
     "text": [
      " 33%|███▎      | 2387/7199 [7:08:45<12:54:53,  9.66s/it]"
     ]
    },
    {
     "name": "stdout",
     "output_type": "stream",
     "text": [
      "index 2387, number 16 not in dictionary.\n",
      "index 2387, number 17 not in dictionary.\n",
      "index 2387, number 18 not in dictionary.\n"
     ]
    },
    {
     "name": "stderr",
     "output_type": "stream",
     "text": [
      "\r",
      " 33%|███▎      | 2388/7199 [7:09:03<16:15:34, 12.17s/it]"
     ]
    },
    {
     "name": "stdout",
     "output_type": "stream",
     "text": [
      "index 2388, number 15 not in dictionary.\n",
      "index 2388, number 16 not in dictionary.\n",
      "index 2388, number 17 not in dictionary.\n"
     ]
    },
    {
     "name": "stderr",
     "output_type": "stream",
     "text": [
      "\r",
      " 33%|███▎      | 2389/7199 [7:09:18<17:27:00, 13.06s/it]"
     ]
    },
    {
     "name": "stdout",
     "output_type": "stream",
     "text": [
      "index 2388, number 18 not in dictionary.\n"
     ]
    },
    {
     "name": "stderr",
     "output_type": "stream",
     "text": [
      " 33%|███▎      | 2395/7199 [7:10:28<14:33:41, 10.91s/it]"
     ]
    },
    {
     "name": "stdout",
     "output_type": "stream",
     "text": [
      "index 2395, number 9 not in dictionary.\n",
      "index 2395, number 10 not in dictionary.\n",
      "index 2395, number 11 not in dictionary.\n",
      "index 2395, number 12 not in dictionary.\n",
      "index 2395, number 13 not in dictionary.\n"
     ]
    },
    {
     "name": "stderr",
     "output_type": "stream",
     "text": [
      " 33%|███▎      | 2399/7199 [7:11:23<16:35:09, 12.44s/it]"
     ]
    },
    {
     "name": "stdout",
     "output_type": "stream",
     "text": [
      "index 2399, number 16 not in dictionary.\n",
      "index 2399, number 17 not in dictionary.\n"
     ]
    },
    {
     "name": "stderr",
     "output_type": "stream",
     "text": [
      "\r",
      " 33%|███▎      | 2400/7199 [7:11:38<17:37:35, 13.22s/it]"
     ]
    },
    {
     "name": "stdout",
     "output_type": "stream",
     "text": [
      "index 2399, number 18 not in dictionary.\n"
     ]
    },
    {
     "name": "stderr",
     "output_type": "stream",
     "text": [
      " 33%|███▎      | 2403/7199 [7:12:13<16:06:10, 12.09s/it]"
     ]
    },
    {
     "name": "stdout",
     "output_type": "stream",
     "text": [
      "index 2403, number 15 not in dictionary.\n",
      "index 2403, number 16 not in dictionary.\n"
     ]
    },
    {
     "name": "stderr",
     "output_type": "stream",
     "text": [
      " 34%|███▎      | 2418/7199 [7:14:59<12:10:56,  9.17s/it]"
     ]
    },
    {
     "name": "stdout",
     "output_type": "stream",
     "text": [
      "index 2418, number 18 not in dictionary.\n"
     ]
    },
    {
     "name": "stderr",
     "output_type": "stream",
     "text": [
      "\r",
      " 34%|███▎      | 2419/7199 [7:15:14<14:34:34, 10.98s/it]"
     ]
    },
    {
     "name": "stdout",
     "output_type": "stream",
     "text": [
      "index 2418, number 19 not in dictionary.\n"
     ]
    },
    {
     "name": "stderr",
     "output_type": "stream",
     "text": [
      " 34%|███▍      | 2442/7199 [7:19:45<13:57:28, 10.56s/it]"
     ]
    },
    {
     "name": "stdout",
     "output_type": "stream",
     "text": [
      "index 2441, number 20 not in dictionary.\n"
     ]
    },
    {
     "name": "stderr",
     "output_type": "stream",
     "text": [
      " 34%|███▍      | 2472/7199 [7:25:24<14:27:12, 11.01s/it]"
     ]
    },
    {
     "name": "stdout",
     "output_type": "stream",
     "text": [
      "index 2472, number 18 not in dictionary.\n"
     ]
    },
    {
     "name": "stderr",
     "output_type": "stream",
     "text": [
      "\r",
      " 34%|███▍      | 2473/7199 [7:25:36<14:33:49, 11.09s/it]"
     ]
    },
    {
     "name": "stdout",
     "output_type": "stream",
     "text": [
      "index 2472, number 19 not in dictionary.\n"
     ]
    },
    {
     "name": "stderr",
     "output_type": "stream",
     "text": [
      "\r",
      " 34%|███▍      | 2474/7199 [7:25:45<14:01:00, 10.68s/it]"
     ]
    },
    {
     "name": "stdout",
     "output_type": "stream",
     "text": [
      "index 2474, number 15 not in dictionary.\n",
      "index 2474, number 16 not in dictionary.\n",
      "index 2474, number 17 not in dictionary.\n",
      "index 2474, number 18 not in dictionary.\n"
     ]
    },
    {
     "name": "stderr",
     "output_type": "stream",
     "text": [
      "\r",
      " 34%|███▍      | 2475/7199 [7:26:02<16:21:04, 12.46s/it]"
     ]
    },
    {
     "name": "stdout",
     "output_type": "stream",
     "text": [
      "index 2474, number 19 not in dictionary.\n"
     ]
    },
    {
     "name": "stderr",
     "output_type": "stream",
     "text": [
      " 35%|███▍      | 2487/7199 [7:28:21<13:43:01, 10.48s/it]"
     ]
    },
    {
     "name": "stdout",
     "output_type": "stream",
     "text": [
      "index 2487, number 12 not in dictionary.\n",
      "index 2487, number 13 not in dictionary.\n",
      "index 2487, number 14 not in dictionary.\n",
      "index 2487, number 15 not in dictionary.\n",
      "index 2487, number 16 not in dictionary.\n"
     ]
    },
    {
     "name": "stderr",
     "output_type": "stream",
     "text": [
      " 35%|███▍      | 2497/7199 [7:29:53<11:34:15,  8.86s/it]"
     ]
    },
    {
     "name": "stdout",
     "output_type": "stream",
     "text": [
      "index 2497, number 17 not in dictionary.\n",
      "index 2497, number 18 not in dictionary.\n"
     ]
    },
    {
     "name": "stderr",
     "output_type": "stream",
     "text": [
      "\r",
      " 35%|███▍      | 2498/7199 [7:30:07<13:39:10, 10.46s/it]"
     ]
    },
    {
     "name": "stdout",
     "output_type": "stream",
     "text": [
      "index 2497, number 19 not in dictionary.\n"
     ]
    },
    {
     "name": "stderr",
     "output_type": "stream",
     "text": [
      " 35%|███▍      | 2500/7199 [7:30:25<12:12:55,  9.36s/it]"
     ]
    },
    {
     "name": "stdout",
     "output_type": "stream",
     "text": [
      "index 2500, number 15 not in dictionary.\n",
      "index 2500, number 16 not in dictionary.\n",
      "index 2500, number 17 not in dictionary.\n",
      "index 2500, number 18 not in dictionary.\n"
     ]
    },
    {
     "name": "stderr",
     "output_type": "stream",
     "text": [
      "\r",
      " 35%|███▍      | 2501/7199 [7:30:37<13:25:32, 10.29s/it]"
     ]
    },
    {
     "name": "stdout",
     "output_type": "stream",
     "text": [
      "index 2500, number 19 not in dictionary.\n"
     ]
    },
    {
     "name": "stderr",
     "output_type": "stream",
     "text": [
      " 35%|███▍      | 2518/7199 [7:33:06<11:17:19,  8.68s/it]"
     ]
    },
    {
     "name": "stdout",
     "output_type": "stream",
     "text": [
      "index 2518, number 10 not in dictionary.\n",
      "index 2518, number 11 not in dictionary.\n",
      "index 2518, number 12 not in dictionary.\n",
      "index 2518, number 13 not in dictionary.\n",
      "index 2518, number 14 not in dictionary.\n"
     ]
    },
    {
     "name": "stderr",
     "output_type": "stream",
     "text": [
      "\r",
      " 35%|███▍      | 2519/7199 [7:33:16<11:42:18,  9.00s/it]"
     ]
    },
    {
     "name": "stdout",
     "output_type": "stream",
     "text": [
      "index 2519, number 17 not in dictionary.\n",
      "index 2519, number 18 not in dictionary.\n"
     ]
    },
    {
     "name": "stderr",
     "output_type": "stream",
     "text": [
      "\r",
      " 35%|███▌      | 2520/7199 [7:33:28<12:59:45, 10.00s/it]"
     ]
    },
    {
     "name": "stdout",
     "output_type": "stream",
     "text": [
      "index 2519, number 19 not in dictionary.\n"
     ]
    },
    {
     "name": "stderr",
     "output_type": "stream",
     "text": [
      " 35%|███▌      | 2526/7199 [7:34:23<12:43:08,  9.80s/it]"
     ]
    },
    {
     "name": "stdout",
     "output_type": "stream",
     "text": [
      "index 2526, number 10 not in dictionary.\n",
      "index 2526, number 11 not in dictionary.\n",
      "index 2526, number 12 not in dictionary.\n",
      "index 2526, number 13 not in dictionary.\n",
      "index 2526, number 14 not in dictionary.\n"
     ]
    },
    {
     "name": "stderr",
     "output_type": "stream",
     "text": [
      " 35%|███▌      | 2528/7199 [7:34:55<16:27:00, 12.68s/it]"
     ]
    },
    {
     "name": "stdout",
     "output_type": "stream",
     "text": [
      "index 2528, number 3 not in dictionary.\n",
      "index 2528, number 4 not in dictionary.\n",
      "index 2528, number 5 not in dictionary.\n",
      "index 2528, number 6 not in dictionary.\n",
      "index 2528, number 7 not in dictionary.\n"
     ]
    },
    {
     "name": "stderr",
     "output_type": "stream",
     "text": [
      " 35%|███▌      | 2533/7199 [7:35:45<15:14:00, 11.75s/it]"
     ]
    },
    {
     "name": "stdout",
     "output_type": "stream",
     "text": [
      "index 2533, number 18 not in dictionary.\n"
     ]
    },
    {
     "name": "stderr",
     "output_type": "stream",
     "text": [
      "\r",
      " 35%|███▌      | 2534/7199 [7:36:00<16:30:15, 12.74s/it]"
     ]
    },
    {
     "name": "stdout",
     "output_type": "stream",
     "text": [
      "index 2533, number 19 not in dictionary.\n"
     ]
    },
    {
     "name": "stderr",
     "output_type": "stream",
     "text": [
      " 35%|███▌      | 2552/7199 [7:39:21<14:34:10, 11.29s/it]"
     ]
    },
    {
     "name": "stdout",
     "output_type": "stream",
     "text": [
      "index 2552, number 10 not in dictionary.\n",
      "index 2552, number 11 not in dictionary.\n",
      "index 2552, number 12 not in dictionary.\n"
     ]
    },
    {
     "name": "stderr",
     "output_type": "stream",
     "text": [
      "\r",
      " 35%|███▌      | 2553/7199 [7:39:30<13:57:21, 10.81s/it]"
     ]
    },
    {
     "name": "stdout",
     "output_type": "stream",
     "text": [
      "index 2552, number 13 not in dictionary.\n"
     ]
    },
    {
     "name": "stderr",
     "output_type": "stream",
     "text": [
      " 36%|███▌      | 2566/7199 [7:42:01<13:57:55, 10.85s/it]"
     ]
    },
    {
     "name": "stdout",
     "output_type": "stream",
     "text": [
      "index 2566, number 10 not in dictionary.\n",
      "index 2566, number 11 not in dictionary.\n",
      "index 2566, number 14 not in dictionary.\n"
     ]
    },
    {
     "name": "stderr",
     "output_type": "stream",
     "text": [
      " 36%|███▌      | 2587/7199 [7:46:05<14:39:55, 11.45s/it]"
     ]
    },
    {
     "name": "stdout",
     "output_type": "stream",
     "text": [
      "index 2587, number 7 not in dictionary.\n",
      "index 2587, number 8 not in dictionary.\n",
      "index 2587, number 9 not in dictionary.\n",
      "index 2587, number 10 not in dictionary.\n",
      "index 2587, number 11 not in dictionary.\n"
     ]
    },
    {
     "name": "stderr",
     "output_type": "stream",
     "text": [
      " 36%|███▌      | 2602/7199 [7:48:59<15:40:59, 12.28s/it]"
     ]
    },
    {
     "name": "stdout",
     "output_type": "stream",
     "text": [
      "index 2602, number 16 not in dictionary.\n"
     ]
    },
    {
     "name": "stderr",
     "output_type": "stream",
     "text": [
      " 36%|███▋      | 2610/7199 [7:50:42<13:28:04, 10.57s/it]"
     ]
    },
    {
     "name": "stdout",
     "output_type": "stream",
     "text": [
      "index 2610, number 14 not in dictionary.\n"
     ]
    },
    {
     "name": "stderr",
     "output_type": "stream",
     "text": [
      " 36%|███▋      | 2621/7199 [7:52:55<15:50:46, 12.46s/it]"
     ]
    },
    {
     "name": "stdout",
     "output_type": "stream",
     "text": [
      "index 2620, number 16 not in dictionary.\n",
      "index 2621, number 10 not in dictionary.\n",
      "index 2621, number 11 not in dictionary.\n",
      "index 2621, number 12 not in dictionary.\n",
      "index 2621, number 13 not in dictionary.\n",
      "index 2621, number 14 not in dictionary.\n"
     ]
    },
    {
     "name": "stderr",
     "output_type": "stream",
     "text": [
      " 37%|███▋      | 2647/7199 [7:58:02<12:50:36, 10.16s/it]"
     ]
    },
    {
     "name": "stdout",
     "output_type": "stream",
     "text": [
      "index 2647, number 13 not in dictionary.\n",
      "index 2647, number 14 not in dictionary.\n",
      "index 2647, number 15 not in dictionary.\n",
      "index 2647, number 16 not in dictionary.\n",
      "index 2647, number 17 not in dictionary.\n"
     ]
    },
    {
     "name": "stderr",
     "output_type": "stream",
     "text": [
      " 37%|███▋      | 2651/7199 [7:58:41<12:58:53, 10.28s/it]"
     ]
    },
    {
     "name": "stdout",
     "output_type": "stream",
     "text": [
      "index 2650, number 20 not in dictionary.\n"
     ]
    },
    {
     "name": "stderr",
     "output_type": "stream",
     "text": [
      " 37%|███▋      | 2668/7199 [8:01:43<12:33:36,  9.98s/it]"
     ]
    },
    {
     "name": "stdout",
     "output_type": "stream",
     "text": [
      "index 2668, number 18 not in dictionary.\n"
     ]
    },
    {
     "name": "stderr",
     "output_type": "stream",
     "text": [
      "\r",
      " 37%|███▋      | 2669/7199 [8:02:00<15:05:22, 11.99s/it]"
     ]
    },
    {
     "name": "stdout",
     "output_type": "stream",
     "text": [
      "index 2669, number 10 not in dictionary.\n"
     ]
    },
    {
     "name": "stderr",
     "output_type": "stream",
     "text": [
      "\r",
      " 37%|███▋      | 2670/7199 [8:02:07<13:29:22, 10.72s/it]"
     ]
    },
    {
     "name": "stdout",
     "output_type": "stream",
     "text": [
      "index 2669, number 11 not in dictionary.\n"
     ]
    },
    {
     "name": "stderr",
     "output_type": "stream",
     "text": [
      " 37%|███▋      | 2697/7199 [8:07:04<13:35:06, 10.86s/it]"
     ]
    },
    {
     "name": "stdout",
     "output_type": "stream",
     "text": [
      "index 2697, number 16 not in dictionary.\n"
     ]
    },
    {
     "name": "stderr",
     "output_type": "stream",
     "text": [
      " 38%|███▊      | 2708/7199 [8:09:23<16:02:49, 12.86s/it]"
     ]
    },
    {
     "name": "stdout",
     "output_type": "stream",
     "text": [
      "index 2708, number 4 not in dictionary.\n",
      "index 2708, number 5 not in dictionary.\n",
      "index 2708, number 6 not in dictionary.\n"
     ]
    },
    {
     "name": "stderr",
     "output_type": "stream",
     "text": [
      " 38%|███▊      | 2730/7199 [8:14:13<17:50:43, 14.38s/it]"
     ]
    },
    {
     "name": "stdout",
     "output_type": "stream",
     "text": [
      "index 2730, number 10 not in dictionary.\n"
     ]
    },
    {
     "name": "stderr",
     "output_type": "stream",
     "text": [
      "\r",
      " 38%|███▊      | 2731/7199 [8:14:20<15:05:58, 12.17s/it]"
     ]
    },
    {
     "name": "stdout",
     "output_type": "stream",
     "text": [
      "index 2730, number 11 not in dictionary.\n"
     ]
    },
    {
     "name": "stderr",
     "output_type": "stream",
     "text": [
      " 38%|███▊      | 2746/7199 [8:16:56<15:08:53, 12.25s/it]"
     ]
    },
    {
     "name": "stdout",
     "output_type": "stream",
     "text": [
      "index 2746, number 15 not in dictionary.\n",
      "index 2746, number 17 not in dictionary.\n"
     ]
    },
    {
     "name": "stderr",
     "output_type": "stream",
     "text": [
      " 38%|███▊      | 2750/7199 [8:17:43<13:00:22, 10.52s/it]"
     ]
    },
    {
     "name": "stdout",
     "output_type": "stream",
     "text": [
      "index 2750, number 18 not in dictionary.\n"
     ]
    },
    {
     "name": "stderr",
     "output_type": "stream",
     "text": [
      "\r",
      " 38%|███▊      | 2751/7199 [8:18:00<15:20:26, 12.42s/it]"
     ]
    },
    {
     "name": "stdout",
     "output_type": "stream",
     "text": [
      "index 2750, number 19 not in dictionary.\n"
     ]
    },
    {
     "name": "stderr",
     "output_type": "stream",
     "text": [
      " 38%|███▊      | 2763/7199 [8:19:55<11:20:18,  9.20s/it]"
     ]
    },
    {
     "name": "stdout",
     "output_type": "stream",
     "text": [
      "index 2763, number 10 not in dictionary.\n",
      "index 2763, number 11 not in dictionary.\n",
      "index 2763, number 12 not in dictionary.\n",
      "index 2763, number 13 not in dictionary.\n"
     ]
    },
    {
     "name": "stderr",
     "output_type": "stream",
     "text": [
      "\r",
      " 38%|███▊      | 2764/7199 [8:20:06<12:09:02,  9.86s/it]"
     ]
    },
    {
     "name": "stdout",
     "output_type": "stream",
     "text": [
      "index 2763, number 14 not in dictionary.\n"
     ]
    },
    {
     "name": "stderr",
     "output_type": "stream",
     "text": [
      " 39%|███▊      | 2775/7199 [8:22:11<14:10:58, 11.54s/it]"
     ]
    },
    {
     "name": "stdout",
     "output_type": "stream",
     "text": [
      "index 2775, number 14 not in dictionary.\n",
      "index 2775, number 15 not in dictionary.\n",
      "index 2775, number 16 not in dictionary.\n",
      "index 2775, number 17 not in dictionary.\n",
      "index 2775, number 18 not in dictionary.\n"
     ]
    },
    {
     "name": "stderr",
     "output_type": "stream",
     "text": [
      " 39%|███▉      | 2790/7199 [8:24:47<9:02:55,  7.39s/it] "
     ]
    },
    {
     "name": "stdout",
     "output_type": "stream",
     "text": [
      "index 2790, number 14 not in dictionary.\n"
     ]
    },
    {
     "name": "stderr",
     "output_type": "stream",
     "text": [
      " 39%|███▉      | 2805/7199 [8:27:36<16:35:39, 13.60s/it]"
     ]
    },
    {
     "name": "stdout",
     "output_type": "stream",
     "text": [
      "index 2805, number 10 not in dictionary.\n",
      "index 2805, number 11 not in dictionary.\n",
      "index 2805, number 12 not in dictionary.\n",
      "index 2805, number 13 not in dictionary.\n",
      "index 2805, number 14 not in dictionary.\n"
     ]
    },
    {
     "name": "stderr",
     "output_type": "stream",
     "text": [
      " 39%|███▉      | 2807/7199 [8:28:09<18:23:44, 15.08s/it]"
     ]
    },
    {
     "name": "stdout",
     "output_type": "stream",
     "text": [
      "index 2807, number 11 not in dictionary.\n",
      "index 2807, number 12 not in dictionary.\n",
      "index 2807, number 13 not in dictionary.\n",
      "index 2807, number 14 not in dictionary.\n",
      "index 2807, number 15 not in dictionary.\n"
     ]
    },
    {
     "name": "stderr",
     "output_type": "stream",
     "text": [
      " 39%|███▉      | 2816/7199 [8:29:50<10:21:57,  8.51s/it]"
     ]
    },
    {
     "name": "stdout",
     "output_type": "stream",
     "text": [
      "index 2816, number 10 not in dictionary.\n",
      "index 2816, number 11 not in dictionary.\n",
      "index 2816, number 12 not in dictionary.\n",
      "index 2816, number 13 not in dictionary.\n",
      "index 2816, number 14 not in dictionary.\n"
     ]
    },
    {
     "name": "stderr",
     "output_type": "stream",
     "text": [
      " 39%|███▉      | 2826/7199 [8:31:33<11:31:26,  9.49s/it]"
     ]
    },
    {
     "name": "stdout",
     "output_type": "stream",
     "text": [
      "index 2826, number 13 not in dictionary.\n",
      "index 2826, number 14 not in dictionary.\n",
      "index 2826, number 15 not in dictionary.\n",
      "index 2826, number 16 not in dictionary.\n"
     ]
    },
    {
     "name": "stderr",
     "output_type": "stream",
     "text": [
      "\r",
      " 39%|███▉      | 2827/7199 [8:31:49<13:53:26, 11.44s/it]"
     ]
    },
    {
     "name": "stdout",
     "output_type": "stream",
     "text": [
      "index 2826, number 17 not in dictionary.\n"
     ]
    },
    {
     "name": "stderr",
     "output_type": "stream",
     "text": [
      " 39%|███▉      | 2836/7199 [8:33:10<10:53:54,  8.99s/it]"
     ]
    },
    {
     "name": "stdout",
     "output_type": "stream",
     "text": [
      "index 2836, number 10 not in dictionary.\n",
      "index 2836, number 11 not in dictionary.\n",
      "index 2836, number 12 not in dictionary.\n",
      "index 2836, number 13 not in dictionary.\n"
     ]
    },
    {
     "name": "stderr",
     "output_type": "stream",
     "text": [
      "\r",
      " 39%|███▉      | 2837/7199 [8:33:23<12:23:35, 10.23s/it]"
     ]
    },
    {
     "name": "stdout",
     "output_type": "stream",
     "text": [
      "index 2836, number 14 not in dictionary.\n"
     ]
    },
    {
     "name": "stderr",
     "output_type": "stream",
     "text": [
      " 39%|███▉      | 2841/7199 [8:33:54<10:15:17,  8.47s/it]"
     ]
    },
    {
     "name": "stdout",
     "output_type": "stream",
     "text": [
      "index 2841, number 14 not in dictionary.\n"
     ]
    },
    {
     "name": "stderr",
     "output_type": "stream",
     "text": [
      " 40%|███▉      | 2852/7199 [8:35:51<14:51:44, 12.31s/it]"
     ]
    },
    {
     "name": "stdout",
     "output_type": "stream",
     "text": [
      "index 2852, number 2 not in dictionary.\n",
      "index 2852, number 3 not in dictionary.\n",
      "index 2852, number 4 not in dictionary.\n",
      "index 2852, number 5 not in dictionary.\n"
     ]
    },
    {
     "name": "stderr",
     "output_type": "stream",
     "text": [
      " 40%|████      | 2910/7199 [8:45:48<12:23:48, 10.41s/it]"
     ]
    },
    {
     "name": "stdout",
     "output_type": "stream",
     "text": [
      "index 2910, number 13 not in dictionary.\n"
     ]
    },
    {
     "name": "stderr",
     "output_type": "stream",
     "text": [
      "\r",
      " 40%|████      | 2911/7199 [8:45:58<12:23:39, 10.41s/it]"
     ]
    },
    {
     "name": "stdout",
     "output_type": "stream",
     "text": [
      "index 2910, number 14 not in dictionary.\n"
     ]
    },
    {
     "name": "stderr",
     "output_type": "stream",
     "text": [
      " 41%|████      | 2930/7199 [8:49:13<14:18:40, 12.07s/it]"
     ]
    },
    {
     "name": "stdout",
     "output_type": "stream",
     "text": [
      "index 2929, number 20 not in dictionary.\n"
     ]
    },
    {
     "name": "stderr",
     "output_type": "stream",
     "text": [
      " 41%|████      | 2936/7199 [8:50:24<12:45:43, 10.78s/it]"
     ]
    },
    {
     "name": "stdout",
     "output_type": "stream",
     "text": [
      "index 2936, number 14 not in dictionary.\n",
      "index 2936, number 15 not in dictionary.\n",
      "index 2936, number 16 not in dictionary.\n",
      "index 2936, number 17 not in dictionary.\n",
      "index 2936, number 18 not in dictionary.\n"
     ]
    },
    {
     "name": "stderr",
     "output_type": "stream",
     "text": [
      " 42%|████▏     | 2988/7199 [8:59:48<15:34:00, 13.31s/it]"
     ]
    },
    {
     "name": "stdout",
     "output_type": "stream",
     "text": [
      "index 2988, number 12 not in dictionary.\n",
      "index 2988, number 13 not in dictionary.\n",
      "index 2988, number 14 not in dictionary.\n",
      "index 2988, number 15 not in dictionary.\n",
      "index 2988, number 16 not in dictionary.\n"
     ]
    },
    {
     "name": "stderr",
     "output_type": "stream",
     "text": [
      " 42%|████▏     | 2996/7199 [9:01:18<11:30:14,  9.85s/it]"
     ]
    },
    {
     "name": "stdout",
     "output_type": "stream",
     "text": [
      "index 2996, number 10 not in dictionary.\n",
      "index 2996, number 11 not in dictionary.\n",
      "index 2996, number 13 not in dictionary.\n",
      "index 2996, number 14 not in dictionary.\n"
     ]
    },
    {
     "name": "stderr",
     "output_type": "stream",
     "text": [
      " 42%|████▏     | 2998/7199 [9:01:41<12:15:14, 10.50s/it]"
     ]
    },
    {
     "name": "stdout",
     "output_type": "stream",
     "text": [
      "index 2998, number 10 not in dictionary.\n",
      "index 2998, number 11 not in dictionary.\n",
      "index 2998, number 12 not in dictionary.\n",
      "index 2998, number 13 not in dictionary.\n",
      "index 2998, number 14 not in dictionary.\n"
     ]
    },
    {
     "name": "stderr",
     "output_type": "stream",
     "text": [
      " 42%|████▏     | 3006/7199 [9:03:17<13:49:00, 11.86s/it]"
     ]
    },
    {
     "name": "stdout",
     "output_type": "stream",
     "text": [
      "index 3006, number 3 not in dictionary.\n",
      "index 3006, number 4 not in dictionary.\n",
      "index 3006, number 5 not in dictionary.\n",
      "index 3006, number 6 not in dictionary.\n",
      "index 3006, number 7 not in dictionary.\n"
     ]
    },
    {
     "name": "stderr",
     "output_type": "stream",
     "text": [
      " 42%|████▏     | 3028/7199 [9:06:25<8:43:22,  7.53s/it] "
     ]
    },
    {
     "name": "stdout",
     "output_type": "stream",
     "text": [
      "index 3028, number 11 not in dictionary.\n"
     ]
    },
    {
     "name": "stderr",
     "output_type": "stream",
     "text": [
      " 42%|████▏     | 3034/7199 [9:07:30<10:42:39,  9.26s/it]"
     ]
    },
    {
     "name": "stdout",
     "output_type": "stream",
     "text": [
      "index 3034, number 8 not in dictionary.\n",
      "index 3034, number 9 not in dictionary.\n",
      "index 3034, number 10 not in dictionary.\n",
      "index 3034, number 11 not in dictionary.\n"
     ]
    },
    {
     "name": "stderr",
     "output_type": "stream",
     "text": [
      " 42%|████▏     | 3048/7199 [9:10:21<11:55:32, 10.34s/it]"
     ]
    },
    {
     "name": "stdout",
     "output_type": "stream",
     "text": [
      "index 3048, number 15 not in dictionary.\n",
      "index 3048, number 16 not in dictionary.\n"
     ]
    },
    {
     "name": "stderr",
     "output_type": "stream",
     "text": [
      " 43%|████▎     | 3060/7199 [9:12:38<12:19:25, 10.72s/it]"
     ]
    },
    {
     "name": "stdout",
     "output_type": "stream",
     "text": [
      "index 3060, number 12 not in dictionary.\n"
     ]
    },
    {
     "name": "stderr",
     "output_type": "stream",
     "text": [
      " 43%|████▎     | 3071/7199 [9:14:40<14:14:53, 12.43s/it]"
     ]
    },
    {
     "name": "stdout",
     "output_type": "stream",
     "text": [
      "index 3071, number 18 not in dictionary.\n"
     ]
    },
    {
     "name": "stderr",
     "output_type": "stream",
     "text": [
      " 43%|████▎     | 3084/7199 [9:17:07<11:31:11, 10.08s/it]"
     ]
    },
    {
     "name": "stdout",
     "output_type": "stream",
     "text": [
      "index 3083, number 19 not in dictionary.\n"
     ]
    },
    {
     "name": "stderr",
     "output_type": "stream",
     "text": [
      " 43%|████▎     | 3097/7199 [9:19:02<9:23:56,  8.25s/it] "
     ]
    },
    {
     "name": "stdout",
     "output_type": "stream",
     "text": [
      "index 3097, number 10 not in dictionary.\n",
      "index 3097, number 11 not in dictionary.\n",
      "index 3097, number 12 not in dictionary.\n",
      "index 3097, number 13 not in dictionary.\n",
      "index 3097, number 14 not in dictionary.\n"
     ]
    },
    {
     "name": "stderr",
     "output_type": "stream",
     "text": [
      " 44%|████▎     | 3148/7199 [9:28:17<14:03:25, 12.49s/it]"
     ]
    },
    {
     "name": "stdout",
     "output_type": "stream",
     "text": [
      "index 3148, number 11 not in dictionary.\n",
      "index 3148, number 12 not in dictionary.\n",
      "index 3148, number 13 not in dictionary.\n",
      "index 3148, number 14 not in dictionary.\n"
     ]
    },
    {
     "name": "stderr",
     "output_type": "stream",
     "text": [
      " 44%|████▍     | 3161/7199 [9:30:41<12:12:46, 10.89s/it]"
     ]
    },
    {
     "name": "stdout",
     "output_type": "stream",
     "text": [
      "index 3161, number 15 not in dictionary.\n"
     ]
    },
    {
     "name": "stderr",
     "output_type": "stream",
     "text": [
      " 44%|████▍     | 3164/7199 [9:31:13<11:11:40,  9.99s/it]"
     ]
    },
    {
     "name": "stdout",
     "output_type": "stream",
     "text": [
      "index 3164, number 10 not in dictionary.\n",
      "index 3164, number 11 not in dictionary.\n",
      "index 3164, number 12 not in dictionary.\n",
      "index 3164, number 13 not in dictionary.\n",
      "index 3164, number 14 not in dictionary.\n"
     ]
    },
    {
     "name": "stderr",
     "output_type": "stream",
     "text": [
      " 44%|████▍     | 3178/7199 [9:34:04<13:14:24, 11.85s/it]"
     ]
    },
    {
     "name": "stdout",
     "output_type": "stream",
     "text": [
      "index 3178, number 15 not in dictionary.\n"
     ]
    },
    {
     "name": "stderr",
     "output_type": "stream",
     "text": [
      "\r",
      " 44%|████▍     | 3179/7199 [9:34:16<13:06:48, 11.74s/it]"
     ]
    },
    {
     "name": "stdout",
     "output_type": "stream",
     "text": [
      "index 3178, number 16 not in dictionary.\n",
      "index 3179, number 16 not in dictionary.\n",
      "index 3179, number 17 not in dictionary.\n"
     ]
    },
    {
     "name": "stderr",
     "output_type": "stream",
     "text": [
      "\r",
      " 44%|████▍     | 3180/7199 [9:34:30<13:55:49, 12.48s/it]"
     ]
    },
    {
     "name": "stdout",
     "output_type": "stream",
     "text": [
      "index 3179, number 18 not in dictionary.\n"
     ]
    },
    {
     "name": "stderr",
     "output_type": "stream",
     "text": [
      "\r",
      " 44%|████▍     | 3181/7199 [9:34:44<14:32:18, 13.03s/it]"
     ]
    },
    {
     "name": "stdout",
     "output_type": "stream",
     "text": [
      "index 3181, number 9 not in dictionary.\n"
     ]
    },
    {
     "name": "stderr",
     "output_type": "stream",
     "text": [
      " 44%|████▍     | 3183/7199 [9:35:05<12:54:32, 11.57s/it]"
     ]
    },
    {
     "name": "stdout",
     "output_type": "stream",
     "text": [
      "index 3183, number 17 not in dictionary.\n"
     ]
    },
    {
     "name": "stderr",
     "output_type": "stream",
     "text": [
      " 44%|████▍     | 3189/7199 [9:36:20<14:21:18, 12.89s/it]"
     ]
    },
    {
     "name": "stdout",
     "output_type": "stream",
     "text": [
      "index 3189, number 10 not in dictionary.\n",
      "index 3189, number 11 not in dictionary.\n",
      "index 3189, number 12 not in dictionary.\n",
      "index 3189, number 13 not in dictionary.\n",
      "index 3189, number 14 not in dictionary.\n"
     ]
    },
    {
     "name": "stderr",
     "output_type": "stream",
     "text": [
      " 44%|████▍     | 3200/7199 [9:38:19<11:54:32, 10.72s/it]"
     ]
    },
    {
     "name": "stdout",
     "output_type": "stream",
     "text": [
      "index 3200, number 2 not in dictionary.\n",
      "index 3200, number 3 not in dictionary.\n",
      "index 3200, number 4 not in dictionary.\n",
      "index 3200, number 5 not in dictionary.\n"
     ]
    },
    {
     "name": "stderr",
     "output_type": "stream",
     "text": [
      "\r",
      " 44%|████▍     | 3201/7199 [9:38:33<12:58:20, 11.68s/it]"
     ]
    },
    {
     "name": "stdout",
     "output_type": "stream",
     "text": [
      "index 3201, number 11 not in dictionary.\n",
      "index 3201, number 12 not in dictionary.\n",
      "index 3201, number 13 not in dictionary.\n",
      "index 3201, number 14 not in dictionary.\n"
     ]
    },
    {
     "name": "stderr",
     "output_type": "stream",
     "text": [
      " 44%|████▍     | 3203/7199 [9:38:59<13:33:17, 12.21s/it]"
     ]
    },
    {
     "name": "stdout",
     "output_type": "stream",
     "text": [
      "index 3203, number 16 not in dictionary.\n"
     ]
    },
    {
     "name": "stderr",
     "output_type": "stream",
     "text": [
      " 45%|████▍     | 3206/7199 [9:39:43<14:46:20, 13.32s/it]"
     ]
    },
    {
     "name": "stdout",
     "output_type": "stream",
     "text": [
      "index 3206, number 13 not in dictionary.\n",
      "index 3206, number 14 not in dictionary.\n",
      "index 3206, number 15 not in dictionary.\n",
      "index 3206, number 16 not in dictionary.\n",
      "index 3206, number 17 not in dictionary.\n"
     ]
    },
    {
     "name": "stderr",
     "output_type": "stream",
     "text": [
      " 45%|████▍     | 3216/7199 [9:41:28<8:58:28,  8.11s/it] "
     ]
    },
    {
     "name": "stdout",
     "output_type": "stream",
     "text": [
      "index 3216, number 14 not in dictionary.\n"
     ]
    },
    {
     "name": "stderr",
     "output_type": "stream",
     "text": [
      " 45%|████▍     | 3237/7199 [9:44:51<8:20:26,  7.58s/it] "
     ]
    },
    {
     "name": "stdout",
     "output_type": "stream",
     "text": [
      "index 3237, number 14 not in dictionary.\n",
      "index 3237, number 15 not in dictionary.\n"
     ]
    },
    {
     "name": "stderr",
     "output_type": "stream",
     "text": [
      "\r",
      " 45%|████▍     | 3238/7199 [9:45:04<10:23:06,  9.44s/it]"
     ]
    },
    {
     "name": "stdout",
     "output_type": "stream",
     "text": [
      "index 3237, number 18 not in dictionary.\n"
     ]
    },
    {
     "name": "stderr",
     "output_type": "stream",
     "text": [
      " 45%|████▌     | 3257/7199 [9:48:37<12:35:16, 11.50s/it]"
     ]
    },
    {
     "name": "stdout",
     "output_type": "stream",
     "text": [
      "index 3257, number 5 not in dictionary.\n",
      "index 3257, number 6 not in dictionary.\n",
      "index 3257, number 7 not in dictionary.\n"
     ]
    },
    {
     "name": "stderr",
     "output_type": "stream",
     "text": [
      " 45%|████▌     | 3264/7199 [9:49:50<10:14:39,  9.37s/it]"
     ]
    },
    {
     "name": "stdout",
     "output_type": "stream",
     "text": [
      "index 3264, number 8 not in dictionary.\n"
     ]
    },
    {
     "name": "stderr",
     "output_type": "stream",
     "text": [
      " 45%|████▌     | 3269/7199 [9:50:37<8:11:24,  7.50s/it] "
     ]
    },
    {
     "name": "stdout",
     "output_type": "stream",
     "text": [
      "index 3269, number 15 not in dictionary.\n",
      "index 3269, number 16 not in dictionary.\n"
     ]
    },
    {
     "name": "stderr",
     "output_type": "stream",
     "text": [
      "\r",
      " 45%|████▌     | 3270/7199 [9:50:49<9:29:31,  8.70s/it]"
     ]
    },
    {
     "name": "stdout",
     "output_type": "stream",
     "text": [
      "index 3269, number 17 not in dictionary.\n"
     ]
    },
    {
     "name": "stderr",
     "output_type": "stream",
     "text": [
      " 46%|████▌     | 3284/7199 [9:53:11<11:17:17, 10.38s/it]"
     ]
    },
    {
     "name": "stdout",
     "output_type": "stream",
     "text": [
      "index 3283, number 10 not in dictionary.\n"
     ]
    },
    {
     "name": "stderr",
     "output_type": "stream",
     "text": [
      " 46%|████▌     | 3296/7199 [9:55:26<12:17:23, 11.34s/it]"
     ]
    },
    {
     "name": "stdout",
     "output_type": "stream",
     "text": [
      "index 3295, number 11 not in dictionary.\n"
     ]
    },
    {
     "name": "stderr",
     "output_type": "stream",
     "text": [
      " 47%|████▋     | 3370/7199 [10:08:38<10:25:30,  9.80s/it]"
     ]
    },
    {
     "name": "stdout",
     "output_type": "stream",
     "text": [
      "index 3369, number 3 not in dictionary.\n"
     ]
    },
    {
     "name": "stderr",
     "output_type": "stream",
     "text": [
      " 47%|████▋     | 3409/7199 [10:15:39<14:34:50, 13.85s/it]"
     ]
    },
    {
     "name": "stdout",
     "output_type": "stream",
     "text": [
      "index 3409, number 12 not in dictionary.\n",
      "index 3409, number 13 not in dictionary.\n"
     ]
    },
    {
     "name": "stderr",
     "output_type": "stream",
     "text": [
      " 48%|████▊     | 3470/7199 [10:27:07<9:36:31,  9.28s/it] "
     ]
    },
    {
     "name": "stdout",
     "output_type": "stream",
     "text": [
      "index 3470, number 11 not in dictionary.\n",
      "index 3470, number 12 not in dictionary.\n",
      "index 3470, number 13 not in dictionary.\n",
      "index 3470, number 14 not in dictionary.\n",
      "index 3470, number 15 not in dictionary.\n"
     ]
    },
    {
     "name": "stderr",
     "output_type": "stream",
     "text": [
      " 48%|████▊     | 3480/7199 [10:28:52<9:34:19,  9.27s/it] "
     ]
    },
    {
     "name": "stdout",
     "output_type": "stream",
     "text": [
      "index 3480, number 18 not in dictionary.\n"
     ]
    },
    {
     "name": "stderr",
     "output_type": "stream",
     "text": [
      "\r",
      " 48%|████▊     | 3481/7199 [10:29:06<11:04:12, 10.72s/it]"
     ]
    },
    {
     "name": "stdout",
     "output_type": "stream",
     "text": [
      "index 3480, number 19 not in dictionary.\n"
     ]
    },
    {
     "name": "stderr",
     "output_type": "stream",
     "text": [
      " 48%|████▊     | 3491/7199 [10:30:54<10:39:21, 10.35s/it]"
     ]
    },
    {
     "name": "stdout",
     "output_type": "stream",
     "text": [
      "index 3491, number 6 not in dictionary.\n"
     ]
    },
    {
     "name": "stderr",
     "output_type": "stream",
     "text": [
      " 49%|████▊     | 3494/7199 [10:31:24<10:52:25, 10.57s/it]"
     ]
    },
    {
     "name": "stdout",
     "output_type": "stream",
     "text": [
      "index 3494, number 10 not in dictionary.\n",
      "index 3494, number 11 not in dictionary.\n",
      "index 3494, number 12 not in dictionary.\n",
      "index 3494, number 13 not in dictionary.\n",
      "index 3494, number 14 not in dictionary.\n"
     ]
    },
    {
     "name": "stderr",
     "output_type": "stream",
     "text": [
      " 49%|████▊     | 3502/7199 [10:33:20<14:57:09, 14.56s/it]"
     ]
    },
    {
     "name": "stdout",
     "output_type": "stream",
     "text": [
      "index 3502, number 11 not in dictionary.\n",
      "index 3502, number 12 not in dictionary.\n",
      "index 3502, number 13 not in dictionary.\n",
      "index 3502, number 14 not in dictionary.\n",
      "index 3502, number 15 not in dictionary.\n"
     ]
    },
    {
     "name": "stderr",
     "output_type": "stream",
     "text": [
      " 49%|████▊     | 3504/7199 [10:33:50<14:54:00, 14.52s/it]"
     ]
    },
    {
     "name": "stdout",
     "output_type": "stream",
     "text": [
      "index 3504, number 10 not in dictionary.\n",
      "index 3504, number 11 not in dictionary.\n",
      "index 3504, number 12 not in dictionary.\n",
      "index 3504, number 13 not in dictionary.\n",
      "index 3504, number 14 not in dictionary.\n"
     ]
    },
    {
     "name": "stderr",
     "output_type": "stream",
     "text": [
      " 49%|████▉     | 3510/7199 [10:34:43<9:32:33,  9.31s/it] "
     ]
    },
    {
     "name": "stdout",
     "output_type": "stream",
     "text": [
      "index 3510, number 15 not in dictionary.\n",
      "index 3510, number 16 not in dictionary.\n"
     ]
    },
    {
     "name": "stderr",
     "output_type": "stream",
     "text": [
      " 49%|████▉     | 3513/7199 [10:35:16<10:41:35, 10.44s/it]"
     ]
    },
    {
     "name": "stdout",
     "output_type": "stream",
     "text": [
      "index 3513, number 4 not in dictionary.\n",
      "index 3513, number 5 not in dictionary.\n",
      "index 3513, number 6 not in dictionary.\n",
      "index 3513, number 7 not in dictionary.\n",
      "index 3513, number 8 not in dictionary.\n"
     ]
    },
    {
     "name": "stderr",
     "output_type": "stream",
     "text": [
      " 49%|████▉     | 3542/7199 [10:40:50<9:32:44,  9.40s/it] "
     ]
    },
    {
     "name": "stdout",
     "output_type": "stream",
     "text": [
      "index 3542, number 10 not in dictionary.\n",
      "index 3542, number 11 not in dictionary.\n",
      "index 3542, number 12 not in dictionary.\n",
      "index 3542, number 13 not in dictionary.\n",
      "index 3542, number 14 not in dictionary.\n"
     ]
    },
    {
     "name": "stderr",
     "output_type": "stream",
     "text": [
      " 49%|████▉     | 3545/7199 [10:41:32<12:23:08, 12.20s/it]"
     ]
    },
    {
     "name": "stdout",
     "output_type": "stream",
     "text": [
      "index 3545, number 12 not in dictionary.\n"
     ]
    },
    {
     "name": "stderr",
     "output_type": "stream",
     "text": [
      "\r",
      " 49%|████▉     | 3546/7199 [10:41:41<11:23:10, 11.22s/it]"
     ]
    },
    {
     "name": "stdout",
     "output_type": "stream",
     "text": [
      "index 3545, number 13 not in dictionary.\n"
     ]
    },
    {
     "name": "stderr",
     "output_type": "stream",
     "text": [
      " 49%|████▉     | 3558/7199 [10:43:41<10:39:42, 10.54s/it]"
     ]
    },
    {
     "name": "stdout",
     "output_type": "stream",
     "text": [
      "index 3557, number 11 not in dictionary.\n"
     ]
    },
    {
     "name": "stderr",
     "output_type": "stream",
     "text": [
      " 49%|████▉     | 3561/7199 [10:44:30<14:37:07, 14.47s/it]"
     ]
    },
    {
     "name": "stdout",
     "output_type": "stream",
     "text": [
      "index 3560, number 19 not in dictionary.\n"
     ]
    },
    {
     "name": "stderr",
     "output_type": "stream",
     "text": [
      " 50%|████▉     | 3580/7199 [10:47:55<11:37:35, 11.57s/it]"
     ]
    },
    {
     "name": "stdout",
     "output_type": "stream",
     "text": [
      "index 3580, number 18 not in dictionary.\n"
     ]
    },
    {
     "name": "stderr",
     "output_type": "stream",
     "text": [
      "\r",
      " 50%|████▉     | 3581/7199 [10:48:10<12:37:24, 12.56s/it]"
     ]
    },
    {
     "name": "stdout",
     "output_type": "stream",
     "text": [
      "index 3580, number 19 not in dictionary.\n"
     ]
    },
    {
     "name": "stderr",
     "output_type": "stream",
     "text": [
      " 50%|████▉     | 3583/7199 [10:48:32<12:13:47, 12.18s/it]"
     ]
    },
    {
     "name": "stdout",
     "output_type": "stream",
     "text": [
      "index 3583, number 6 not in dictionary.\n",
      "index 3583, number 7 not in dictionary.\n"
     ]
    },
    {
     "name": "stderr",
     "output_type": "stream",
     "text": [
      " 50%|████▉     | 3587/7199 [10:49:12<11:23:53, 11.36s/it]"
     ]
    },
    {
     "name": "stdout",
     "output_type": "stream",
     "text": [
      "index 3587, number 13 not in dictionary.\n"
     ]
    },
    {
     "name": "stderr",
     "output_type": "stream",
     "text": [
      " 50%|████▉     | 3595/7199 [10:50:34<9:39:50,  9.65s/it] "
     ]
    },
    {
     "name": "stdout",
     "output_type": "stream",
     "text": [
      "index 3595, number 17 not in dictionary.\n",
      "index 3595, number 18 not in dictionary.\n"
     ]
    },
    {
     "name": "stderr",
     "output_type": "stream",
     "text": [
      "\r",
      " 50%|████▉     | 3596/7199 [10:50:48<11:00:08, 10.99s/it]"
     ]
    },
    {
     "name": "stdout",
     "output_type": "stream",
     "text": [
      "index 3595, number 19 not in dictionary.\n"
     ]
    },
    {
     "name": "stderr",
     "output_type": "stream",
     "text": [
      " 50%|█████     | 3612/7199 [10:53:57<11:16:01, 11.31s/it]"
     ]
    },
    {
     "name": "stdout",
     "output_type": "stream",
     "text": [
      "index 3612, number 10 not in dictionary.\n",
      "index 3612, number 11 not in dictionary.\n",
      "index 3612, number 12 not in dictionary.\n",
      "index 3612, number 13 not in dictionary.\n",
      "index 3612, number 14 not in dictionary.\n"
     ]
    },
    {
     "name": "stderr",
     "output_type": "stream",
     "text": [
      "\r",
      " 50%|█████     | 3613/7199 [10:54:15<13:09:05, 13.20s/it]"
     ]
    },
    {
     "name": "stdout",
     "output_type": "stream",
     "text": [
      "index 3613, number 10 not in dictionary.\n",
      "index 3613, number 11 not in dictionary.\n",
      "index 3613, number 12 not in dictionary.\n",
      "index 3613, number 13 not in dictionary.\n",
      "index 3613, number 14 not in dictionary.\n"
     ]
    },
    {
     "name": "stderr",
     "output_type": "stream",
     "text": [
      " 50%|█████     | 3627/7199 [10:56:27<6:48:52,  6.87s/it] "
     ]
    },
    {
     "name": "stdout",
     "output_type": "stream",
     "text": [
      "index 3627, number 16 not in dictionary.\n",
      "index 3627, number 17 not in dictionary.\n",
      "index 3627, number 18 not in dictionary.\n"
     ]
    },
    {
     "name": "stderr",
     "output_type": "stream",
     "text": [
      "\r",
      " 50%|█████     | 3628/7199 [10:56:44<9:45:45,  9.84s/it]"
     ]
    },
    {
     "name": "stdout",
     "output_type": "stream",
     "text": [
      "index 3627, number 19 not in dictionary.\n"
     ]
    },
    {
     "name": "stderr",
     "output_type": "stream",
     "text": [
      " 51%|█████     | 3646/7199 [10:59:59<11:28:01, 11.62s/it]"
     ]
    },
    {
     "name": "stdout",
     "output_type": "stream",
     "text": [
      "index 3646, number 12 not in dictionary.\n"
     ]
    },
    {
     "name": "stderr",
     "output_type": "stream",
     "text": [
      " 51%|█████     | 3679/7199 [11:06:27<11:13:49, 11.49s/it]"
     ]
    },
    {
     "name": "stdout",
     "output_type": "stream",
     "text": [
      "index 3679, number 1 not in dictionary.\n",
      "index 3679, number 2 not in dictionary.\n",
      "index 3679, number 3 not in dictionary.\n",
      "index 3679, number 4 not in dictionary.\n",
      "index 3679, number 5 not in dictionary.\n"
     ]
    },
    {
     "name": "stderr",
     "output_type": "stream",
     "text": [
      " 51%|█████     | 3685/7199 [11:07:29<10:37:44, 10.89s/it]"
     ]
    },
    {
     "name": "stdout",
     "output_type": "stream",
     "text": [
      "index 3685, number 10 not in dictionary.\n",
      "index 3685, number 11 not in dictionary.\n",
      "index 3685, number 12 not in dictionary.\n",
      "index 3685, number 13 not in dictionary.\n",
      "index 3685, number 14 not in dictionary.\n"
     ]
    },
    {
     "name": "stderr",
     "output_type": "stream",
     "text": [
      " 51%|█████     | 3689/7199 [11:08:16<10:33:28, 10.83s/it]"
     ]
    },
    {
     "name": "stdout",
     "output_type": "stream",
     "text": [
      "index 3688, number 14 not in dictionary.\n"
     ]
    },
    {
     "name": "stderr",
     "output_type": "stream",
     "text": [
      " 52%|█████▏    | 3723/7199 [11:14:47<11:43:51, 12.15s/it]"
     ]
    },
    {
     "name": "stdout",
     "output_type": "stream",
     "text": [
      "index 3723, number 12 not in dictionary.\n"
     ]
    },
    {
     "name": "stderr",
     "output_type": "stream",
     "text": [
      " 52%|█████▏    | 3725/7199 [11:15:11<11:26:24, 11.86s/it]"
     ]
    },
    {
     "name": "stdout",
     "output_type": "stream",
     "text": [
      "index 3725, number 12 not in dictionary.\n",
      "index 3725, number 13 not in dictionary.\n",
      "index 3725, number 14 not in dictionary.\n",
      "index 3725, number 15 not in dictionary.\n",
      "index 3725, number 16 not in dictionary.\n"
     ]
    },
    {
     "name": "stderr",
     "output_type": "stream",
     "text": [
      " 53%|█████▎    | 3785/7199 [11:26:19<10:09:10, 10.71s/it]"
     ]
    },
    {
     "name": "stdout",
     "output_type": "stream",
     "text": [
      "index 3784, number 18 not in dictionary.\n",
      "index 3785, number 2 not in dictionary.\n",
      "index 3785, number 3 not in dictionary.\n",
      "index 3785, number 4 not in dictionary.\n",
      "index 3785, number 5 not in dictionary.\n",
      "index 3785, number 6 not in dictionary.\n"
     ]
    },
    {
     "name": "stderr",
     "output_type": "stream",
     "text": [
      " 53%|█████▎    | 3814/7199 [11:31:36<13:09:02, 13.99s/it]"
     ]
    },
    {
     "name": "stdout",
     "output_type": "stream",
     "text": [
      "index 3814, number 12 not in dictionary.\n",
      "index 3814, number 13 not in dictionary.\n"
     ]
    },
    {
     "name": "stderr",
     "output_type": "stream",
     "text": [
      "\r",
      " 53%|█████▎    | 3815/7199 [11:31:47<12:11:34, 12.97s/it]"
     ]
    },
    {
     "name": "stdout",
     "output_type": "stream",
     "text": [
      "index 3814, number 14 not in dictionary.\n"
     ]
    },
    {
     "name": "stderr",
     "output_type": "stream",
     "text": [
      " 54%|█████▎    | 3853/7199 [11:38:15<9:44:17, 10.48s/it] "
     ]
    },
    {
     "name": "stdout",
     "output_type": "stream",
     "text": [
      "index 3853, number 10 not in dictionary.\n",
      "index 3853, number 11 not in dictionary.\n",
      "index 3853, number 12 not in dictionary.\n",
      "index 3853, number 13 not in dictionary.\n",
      "index 3853, number 14 not in dictionary.\n"
     ]
    },
    {
     "name": "stderr",
     "output_type": "stream",
     "text": [
      " 54%|█████▎    | 3862/7199 [11:40:04<11:54:21, 12.84s/it]"
     ]
    },
    {
     "name": "stdout",
     "output_type": "stream",
     "text": [
      "index 3861, number 19 not in dictionary.\n"
     ]
    },
    {
     "name": "stderr",
     "output_type": "stream",
     "text": [
      " 54%|█████▍    | 3875/7199 [11:42:23<10:21:44, 11.22s/it]"
     ]
    },
    {
     "name": "stdout",
     "output_type": "stream",
     "text": [
      "index 3875, number 10 not in dictionary.\n",
      "index 3875, number 11 not in dictionary.\n",
      "index 3875, number 12 not in dictionary.\n",
      "index 3875, number 13 not in dictionary.\n",
      "index 3875, number 14 not in dictionary.\n"
     ]
    },
    {
     "name": "stderr",
     "output_type": "stream",
     "text": [
      " 54%|█████▍    | 3879/7199 [11:43:08<11:04:26, 12.01s/it]"
     ]
    },
    {
     "name": "stdout",
     "output_type": "stream",
     "text": [
      "index 3878, number 19 not in dictionary.\n"
     ]
    },
    {
     "name": "stderr",
     "output_type": "stream",
     "text": [
      " 54%|█████▍    | 3895/7199 [11:45:48<8:14:17,  8.98s/it] "
     ]
    },
    {
     "name": "stdout",
     "output_type": "stream",
     "text": [
      "index 3895, number 15 not in dictionary.\n",
      "index 3895, number 16 not in dictionary.\n",
      "index 3895, number 17 not in dictionary.\n",
      "index 3895, number 18 not in dictionary.\n"
     ]
    },
    {
     "name": "stderr",
     "output_type": "stream",
     "text": [
      "\r",
      " 54%|█████▍    | 3896/7199 [11:46:03<9:54:32, 10.80s/it]"
     ]
    },
    {
     "name": "stdout",
     "output_type": "stream",
     "text": [
      "index 3895, number 19 not in dictionary.\n"
     ]
    },
    {
     "name": "stderr",
     "output_type": "stream",
     "text": [
      " 54%|█████▍    | 3899/7199 [11:46:28<7:45:30,  8.46s/it] "
     ]
    },
    {
     "name": "stdout",
     "output_type": "stream",
     "text": [
      "index 3900, number 10 not in dictionary.\n"
     ]
    },
    {
     "name": "stderr",
     "output_type": "stream",
     "text": [
      "\r",
      " 54%|█████▍    | 3901/7199 [11:46:37<6:37:26,  7.23s/it]"
     ]
    },
    {
     "name": "stdout",
     "output_type": "stream",
     "text": [
      "index 3900, number 11 not in dictionary.\n"
     ]
    },
    {
     "name": "stderr",
     "output_type": "stream",
     "text": [
      " 55%|█████▍    | 3938/7199 [11:52:23<8:32:44,  9.43s/it] "
     ]
    },
    {
     "name": "stdout",
     "output_type": "stream",
     "text": [
      "index 3937, number 19 not in dictionary.\n"
     ]
    },
    {
     "name": "stderr",
     "output_type": "stream",
     "text": [
      " 55%|█████▍    | 3944/7199 [11:53:16<6:37:35,  7.33s/it] "
     ]
    },
    {
     "name": "stdout",
     "output_type": "stream",
     "text": [
      "index 3944, number 11 not in dictionary.\n",
      "index 3944, number 12 not in dictionary.\n",
      "index 3944, number 13 not in dictionary.\n",
      "index 3944, number 14 not in dictionary.\n",
      "index 3944, number 15 not in dictionary.\n"
     ]
    },
    {
     "name": "stderr",
     "output_type": "stream",
     "text": [
      " 55%|█████▍    | 3959/7199 [11:56:01<10:22:53, 11.53s/it]"
     ]
    },
    {
     "name": "stdout",
     "output_type": "stream",
     "text": [
      "index 3958, number 18 not in dictionary.\n"
     ]
    },
    {
     "name": "stderr",
     "output_type": "stream",
     "text": [
      " 55%|█████▌    | 3962/7199 [11:56:22<7:43:21,  8.59s/it] "
     ]
    },
    {
     "name": "stdout",
     "output_type": "stream",
     "text": [
      "index 3961, number 11 not in dictionary.\n"
     ]
    },
    {
     "name": "stderr",
     "output_type": "stream",
     "text": [
      " 55%|█████▌    | 3985/7199 [12:00:45<10:33:16, 11.82s/it]"
     ]
    },
    {
     "name": "stdout",
     "output_type": "stream",
     "text": [
      "index 3985, number 15 not in dictionary.\n"
     ]
    },
    {
     "name": "stderr",
     "output_type": "stream",
     "text": [
      " 56%|█████▌    | 4022/7199 [12:06:53<8:48:53,  9.99s/it] "
     ]
    },
    {
     "name": "stdout",
     "output_type": "stream",
     "text": [
      "index 4022, number 7 not in dictionary.\n"
     ]
    },
    {
     "name": "stderr",
     "output_type": "stream",
     "text": [
      " 56%|█████▌    | 4025/7199 [12:07:29<10:11:40, 11.56s/it]"
     ]
    },
    {
     "name": "stdout",
     "output_type": "stream",
     "text": [
      "index 4025, number 1 not in dictionary.\n",
      "index 4025, number 2 not in dictionary.\n",
      "index 4025, number 3 not in dictionary.\n",
      "index 4025, number 4 not in dictionary.\n",
      "index 4025, number 5 not in dictionary.\n"
     ]
    },
    {
     "name": "stderr",
     "output_type": "stream",
     "text": [
      " 56%|█████▌    | 4037/7199 [12:09:18<7:22:46,  8.40s/it] "
     ]
    },
    {
     "name": "stdout",
     "output_type": "stream",
     "text": [
      "index 4037, number 15 not in dictionary.\n",
      "index 4037, number 16 not in dictionary.\n",
      "index 4037, number 17 not in dictionary.\n"
     ]
    },
    {
     "name": "stderr",
     "output_type": "stream",
     "text": [
      "\r",
      " 56%|█████▌    | 4038/7199 [12:09:33<9:07:23, 10.39s/it]"
     ]
    },
    {
     "name": "stdout",
     "output_type": "stream",
     "text": [
      "index 4037, number 18 not in dictionary.\n"
     ]
    },
    {
     "name": "stderr",
     "output_type": "stream",
     "text": [
      " 56%|█████▌    | 4049/7199 [12:11:52<9:10:42, 10.49s/it] "
     ]
    },
    {
     "name": "stdout",
     "output_type": "stream",
     "text": [
      "index 4049, number 17 not in dictionary.\n"
     ]
    },
    {
     "name": "stderr",
     "output_type": "stream",
     "text": [
      " 56%|█████▋    | 4062/7199 [12:14:11<9:25:51, 10.82s/it] "
     ]
    },
    {
     "name": "stdout",
     "output_type": "stream",
     "text": [
      "index 4062, number 10 not in dictionary.\n",
      "index 4062, number 11 not in dictionary.\n",
      "index 4062, number 12 not in dictionary.\n",
      "index 4062, number 13 not in dictionary.\n"
     ]
    },
    {
     "name": "stderr",
     "output_type": "stream",
     "text": [
      " 57%|█████▋    | 4073/7199 [12:16:30<10:58:00, 12.63s/it]"
     ]
    },
    {
     "name": "stdout",
     "output_type": "stream",
     "text": [
      "index 4073, number 10 not in dictionary.\n",
      "index 4073, number 11 not in dictionary.\n",
      "index 4073, number 12 not in dictionary.\n",
      "index 4073, number 13 not in dictionary.\n"
     ]
    },
    {
     "name": "stderr",
     "output_type": "stream",
     "text": [
      "\r",
      " 57%|█████▋    | 4074/7199 [12:16:42<10:48:48, 12.46s/it]"
     ]
    },
    {
     "name": "stdout",
     "output_type": "stream",
     "text": [
      "index 4073, number 14 not in dictionary.\n"
     ]
    },
    {
     "name": "stderr",
     "output_type": "stream",
     "text": [
      " 57%|█████▋    | 4092/7199 [12:19:49<8:46:34, 10.17s/it] "
     ]
    },
    {
     "name": "stdout",
     "output_type": "stream",
     "text": [
      "index 4092, number 10 not in dictionary.\n",
      "index 4092, number 11 not in dictionary.\n",
      "index 4092, number 12 not in dictionary.\n",
      "index 4092, number 13 not in dictionary.\n",
      "index 4092, number 14 not in dictionary.\n"
     ]
    },
    {
     "name": "stderr",
     "output_type": "stream",
     "text": [
      "\r",
      " 57%|█████▋    | 4093/7199 [12:20:04<10:10:51, 11.80s/it]"
     ]
    },
    {
     "name": "stdout",
     "output_type": "stream",
     "text": [
      "index 4093, number 10 not in dictionary.\n",
      "index 4093, number 11 not in dictionary.\n",
      "index 4093, number 12 not in dictionary.\n",
      "index 4093, number 13 not in dictionary.\n",
      "index 4093, number 14 not in dictionary.\n"
     ]
    },
    {
     "name": "stderr",
     "output_type": "stream",
     "text": [
      " 57%|█████▋    | 4132/7199 [12:27:30<8:06:53,  9.53s/it] "
     ]
    },
    {
     "name": "stdout",
     "output_type": "stream",
     "text": [
      "index 4132, number 2 not in dictionary.\n",
      "index 4132, number 3 not in dictionary.\n",
      "index 4132, number 4 not in dictionary.\n",
      "index 4132, number 5 not in dictionary.\n",
      "index 4132, number 6 not in dictionary.\n"
     ]
    },
    {
     "name": "stderr",
     "output_type": "stream",
     "text": [
      " 57%|█████▋    | 4137/7199 [12:28:37<11:13:12, 13.19s/it]"
     ]
    },
    {
     "name": "stdout",
     "output_type": "stream",
     "text": [
      "index 4137, number 10 not in dictionary.\n",
      "index 4137, number 11 not in dictionary.\n",
      "index 4137, number 12 not in dictionary.\n"
     ]
    },
    {
     "name": "stderr",
     "output_type": "stream",
     "text": [
      "\r",
      " 57%|█████▋    | 4138/7199 [12:28:49<10:55:27, 12.85s/it]"
     ]
    },
    {
     "name": "stdout",
     "output_type": "stream",
     "text": [
      "index 4137, number 13 not in dictionary.\n"
     ]
    },
    {
     "name": "stderr",
     "output_type": "stream",
     "text": [
      " 58%|█████▊    | 4141/7199 [12:29:16<8:49:03, 10.38s/it] "
     ]
    },
    {
     "name": "stdout",
     "output_type": "stream",
     "text": [
      "index 4141, number 11 not in dictionary.\n",
      "index 4141, number 12 not in dictionary.\n",
      "index 4141, number 13 not in dictionary.\n",
      "index 4141, number 15 not in dictionary.\n"
     ]
    },
    {
     "name": "stderr",
     "output_type": "stream",
     "text": [
      " 58%|█████▊    | 4157/7199 [12:32:21<8:33:01, 10.12s/it] "
     ]
    },
    {
     "name": "stdout",
     "output_type": "stream",
     "text": [
      "index 4157, number 12 not in dictionary.\n"
     ]
    },
    {
     "name": "stderr",
     "output_type": "stream",
     "text": [
      " 58%|█████▊    | 4166/7199 [12:34:00<10:51:32, 12.89s/it]"
     ]
    },
    {
     "name": "stdout",
     "output_type": "stream",
     "text": [
      "index 4166, number 12 not in dictionary.\n",
      "index 4166, number 13 not in dictionary.\n",
      "index 4166, number 14 not in dictionary.\n",
      "index 4166, number 15 not in dictionary.\n"
     ]
    },
    {
     "name": "stderr",
     "output_type": "stream",
     "text": [
      " 58%|█████▊    | 4184/7199 [12:37:19<9:18:29, 11.11s/it] "
     ]
    },
    {
     "name": "stdout",
     "output_type": "stream",
     "text": [
      "index 4183, number 18 not in dictionary.\n"
     ]
    },
    {
     "name": "stderr",
     "output_type": "stream",
     "text": [
      " 58%|█████▊    | 4188/7199 [12:38:02<8:57:44, 10.72s/it] "
     ]
    },
    {
     "name": "stdout",
     "output_type": "stream",
     "text": [
      "index 4188, number 12 not in dictionary.\n",
      "index 4188, number 13 not in dictionary.\n",
      "index 4188, number 14 not in dictionary.\n",
      "index 4188, number 15 not in dictionary.\n",
      "index 4188, number 16 not in dictionary.\n"
     ]
    },
    {
     "name": "stderr",
     "output_type": "stream",
     "text": [
      " 58%|█████▊    | 4190/7199 [12:38:37<11:44:09, 14.04s/it]"
     ]
    },
    {
     "name": "stdout",
     "output_type": "stream",
     "text": [
      "index 4190, number 1 not in dictionary.\n",
      "index 4190, number 2 not in dictionary.\n",
      "index 4190, number 3 not in dictionary.\n",
      "index 4190, number 4 not in dictionary.\n",
      "index 4190, number 5 not in dictionary.\n"
     ]
    },
    {
     "name": "stderr",
     "output_type": "stream",
     "text": [
      " 59%|█████▊    | 4223/7199 [12:44:08<11:28:24, 13.88s/it]"
     ]
    },
    {
     "name": "stdout",
     "output_type": "stream",
     "text": [
      "index 4223, number 10 not in dictionary.\n",
      "index 4223, number 11 not in dictionary.\n",
      "index 4223, number 12 not in dictionary.\n",
      "index 4223, number 13 not in dictionary.\n"
     ]
    },
    {
     "name": "stderr",
     "output_type": "stream",
     "text": [
      " 59%|█████▉    | 4231/7199 [12:45:48<9:04:02, 11.00s/it] "
     ]
    },
    {
     "name": "stdout",
     "output_type": "stream",
     "text": [
      "index 4231, number 14 not in dictionary.\n",
      "index 4231, number 15 not in dictionary.\n",
      "index 4231, number 16 not in dictionary.\n",
      "index 4231, number 17 not in dictionary.\n",
      "index 4231, number 18 not in dictionary.\n"
     ]
    },
    {
     "name": "stderr",
     "output_type": "stream",
     "text": [
      " 59%|█████▉    | 4241/7199 [12:47:27<7:33:25,  9.20s/it] "
     ]
    },
    {
     "name": "stdout",
     "output_type": "stream",
     "text": [
      "index 4241, number 13 not in dictionary.\n"
     ]
    },
    {
     "name": "stderr",
     "output_type": "stream",
     "text": [
      "\r",
      " 59%|█████▉    | 4242/7199 [12:47:39<8:08:11,  9.91s/it]"
     ]
    },
    {
     "name": "stdout",
     "output_type": "stream",
     "text": [
      "index 4241, number 14 not in dictionary.\n"
     ]
    },
    {
     "name": "stderr",
     "output_type": "stream",
     "text": [
      " 59%|█████▉    | 4257/7199 [12:50:30<9:04:45, 11.11s/it] "
     ]
    },
    {
     "name": "stdout",
     "output_type": "stream",
     "text": [
      "index 4257, number 14 not in dictionary.\n",
      "index 4257, number 15 not in dictionary.\n",
      "index 4257, number 16 not in dictionary.\n",
      "index 4257, number 17 not in dictionary.\n",
      "index 4257, number 18 not in dictionary.\n"
     ]
    },
    {
     "name": "stderr",
     "output_type": "stream",
     "text": [
      " 60%|█████▉    | 4287/7199 [12:55:56<10:23:21, 12.84s/it]"
     ]
    },
    {
     "name": "stdout",
     "output_type": "stream",
     "text": [
      "index 4287, number 15 not in dictionary.\n",
      "index 4287, number 16 not in dictionary.\n"
     ]
    },
    {
     "name": "stderr",
     "output_type": "stream",
     "text": [
      " 60%|█████▉    | 4301/7199 [12:58:16<10:26:54, 12.98s/it]"
     ]
    },
    {
     "name": "stdout",
     "output_type": "stream",
     "text": [
      "index 4301, number 10 not in dictionary.\n",
      "index 4301, number 11 not in dictionary.\n",
      "index 4301, number 12 not in dictionary.\n",
      "index 4301, number 13 not in dictionary.\n",
      "index 4301, number 14 not in dictionary.\n"
     ]
    },
    {
     "name": "stderr",
     "output_type": "stream",
     "text": [
      " 60%|█████▉    | 4305/7199 [12:59:07<10:04:54, 12.54s/it]"
     ]
    },
    {
     "name": "stdout",
     "output_type": "stream",
     "text": [
      "index 4305, number 12 not in dictionary.\n",
      "index 4305, number 13 not in dictionary.\n",
      "index 4305, number 14 not in dictionary.\n",
      "index 4305, number 15 not in dictionary.\n",
      "index 4305, number 16 not in dictionary.\n"
     ]
    },
    {
     "name": "stderr",
     "output_type": "stream",
     "text": [
      " 60%|██████    | 4330/7199 [13:03:12<9:41:59, 12.17s/it] "
     ]
    },
    {
     "name": "stdout",
     "output_type": "stream",
     "text": [
      "index 4330, number 10 not in dictionary.\n"
     ]
    },
    {
     "name": "stderr",
     "output_type": "stream",
     "text": [
      " 60%|██████    | 4332/7199 [13:03:42<11:00:38, 13.83s/it]"
     ]
    },
    {
     "name": "stdout",
     "output_type": "stream",
     "text": [
      "index 4332, number 14 not in dictionary.\n"
     ]
    },
    {
     "name": "stderr",
     "output_type": "stream",
     "text": [
      " 60%|██████    | 4342/7199 [13:05:45<10:20:59, 13.04s/it]"
     ]
    },
    {
     "name": "stdout",
     "output_type": "stream",
     "text": [
      "index 4342, number 14 not in dictionary.\n",
      "index 4342, number 15 not in dictionary.\n",
      "index 4342, number 16 not in dictionary.\n",
      "index 4342, number 17 not in dictionary.\n",
      "index 4342, number 18 not in dictionary.\n"
     ]
    },
    {
     "name": "stderr",
     "output_type": "stream",
     "text": [
      " 61%|██████    | 4374/7199 [13:11:44<8:08:07, 10.37s/it] "
     ]
    },
    {
     "name": "stdout",
     "output_type": "stream",
     "text": [
      "index 4374, number 17 not in dictionary.\n",
      "index 4374, number 18 not in dictionary.\n"
     ]
    },
    {
     "name": "stderr",
     "output_type": "stream",
     "text": [
      "\r",
      " 61%|██████    | 4375/7199 [13:11:58<8:50:57, 11.28s/it]"
     ]
    },
    {
     "name": "stdout",
     "output_type": "stream",
     "text": [
      "index 4374, number 19 not in dictionary.\n"
     ]
    },
    {
     "name": "stderr",
     "output_type": "stream",
     "text": [
      " 61%|██████    | 4384/7199 [13:13:34<9:53:01, 12.64s/it]"
     ]
    },
    {
     "name": "stdout",
     "output_type": "stream",
     "text": [
      "index 4384, number 10 not in dictionary.\n",
      "index 4384, number 11 not in dictionary.\n",
      "index 4384, number 12 not in dictionary.\n"
     ]
    },
    {
     "name": "stderr",
     "output_type": "stream",
     "text": [
      " 61%|██████    | 4401/7199 [13:16:38<8:41:55, 11.19s/it] "
     ]
    },
    {
     "name": "stdout",
     "output_type": "stream",
     "text": [
      "index 4401, number 16 not in dictionary.\n",
      "index 4401, number 17 not in dictionary.\n",
      "index 4401, number 18 not in dictionary.\n"
     ]
    },
    {
     "name": "stderr",
     "output_type": "stream",
     "text": [
      " 61%|██████    | 4404/7199 [13:17:21<10:13:59, 13.18s/it]"
     ]
    },
    {
     "name": "stdout",
     "output_type": "stream",
     "text": [
      "index 4404, number 2 not in dictionary.\n",
      "index 4404, number 3 not in dictionary.\n",
      "index 4404, number 4 not in dictionary.\n",
      "index 4404, number 5 not in dictionary.\n",
      "index 4404, number 6 not in dictionary.\n"
     ]
    },
    {
     "name": "stderr",
     "output_type": "stream",
     "text": [
      " 62%|██████▏   | 4433/7199 [13:22:53<6:27:37,  8.41s/it] "
     ]
    },
    {
     "name": "stdout",
     "output_type": "stream",
     "text": [
      "index 4433, number 13 not in dictionary.\n",
      "index 4433, number 16 not in dictionary.\n"
     ]
    },
    {
     "name": "stderr",
     "output_type": "stream",
     "text": [
      " 62%|██████▏   | 4448/7199 [13:25:29<7:13:34,  9.46s/it]"
     ]
    },
    {
     "name": "stdout",
     "output_type": "stream",
     "text": [
      "index 4448, number 15 not in dictionary.\n",
      "index 4448, number 16 not in dictionary.\n",
      "index 4448, number 17 not in dictionary.\n",
      "index 4448, number 18 not in dictionary.\n"
     ]
    },
    {
     "name": "stderr",
     "output_type": "stream",
     "text": [
      "\r",
      " 62%|██████▏   | 4449/7199 [13:25:45<8:53:06, 11.63s/it]"
     ]
    },
    {
     "name": "stdout",
     "output_type": "stream",
     "text": [
      "index 4448, number 19 not in dictionary.\n"
     ]
    },
    {
     "name": "stderr",
     "output_type": "stream",
     "text": [
      " 62%|██████▏   | 4461/7199 [13:27:56<8:58:01, 11.79s/it]"
     ]
    },
    {
     "name": "stdout",
     "output_type": "stream",
     "text": [
      "index 4461, number 12 not in dictionary.\n",
      "index 4461, number 13 not in dictionary.\n",
      "index 4461, number 14 not in dictionary.\n",
      "index 4461, number 15 not in dictionary.\n",
      "index 4461, number 16 not in dictionary.\n"
     ]
    },
    {
     "name": "stderr",
     "output_type": "stream",
     "text": [
      " 62%|██████▏   | 4474/7199 [13:30:28<7:02:35,  9.30s/it] "
     ]
    },
    {
     "name": "stdout",
     "output_type": "stream",
     "text": [
      "index 4474, number 12 not in dictionary.\n"
     ]
    },
    {
     "name": "stderr",
     "output_type": "stream",
     "text": [
      "\r",
      " 62%|██████▏   | 4475/7199 [13:30:39<7:15:40,  9.60s/it]"
     ]
    },
    {
     "name": "stdout",
     "output_type": "stream",
     "text": [
      "index 4474, number 13 not in dictionary.\n"
     ]
    },
    {
     "name": "stderr",
     "output_type": "stream",
     "text": [
      " 62%|██████▏   | 4486/7199 [13:32:13<5:11:10,  6.88s/it]"
     ]
    },
    {
     "name": "stdout",
     "output_type": "stream",
     "text": [
      "index 4486, number 4 not in dictionary.\n",
      "index 4486, number 5 not in dictionary.\n",
      "index 4486, number 6 not in dictionary.\n",
      "index 4486, number 7 not in dictionary.\n",
      "index 4486, number 8 not in dictionary.\n"
     ]
    },
    {
     "name": "stderr",
     "output_type": "stream",
     "text": [
      " 62%|██████▏   | 4489/7199 [13:32:45<6:36:58,  8.79s/it]"
     ]
    },
    {
     "name": "stdout",
     "output_type": "stream",
     "text": [
      "index 4489, number 20 not in dictionary.\n",
      "index 4489, number 21 not in dictionary.\n"
     ]
    },
    {
     "name": "stderr",
     "output_type": "stream",
     "text": [
      "\r",
      " 62%|██████▏   | 4490/7199 [13:33:04<9:00:07, 11.96s/it]"
     ]
    },
    {
     "name": "stdout",
     "output_type": "stream",
     "text": [
      "index 4489, number 22 not in dictionary.\n"
     ]
    },
    {
     "name": "stderr",
     "output_type": "stream",
     "text": [
      "\r",
      " 62%|██████▏   | 4491/7199 [13:33:16<8:58:07, 11.92s/it]"
     ]
    },
    {
     "name": "stdout",
     "output_type": "stream",
     "text": [
      "index 4491, number 13 not in dictionary.\n",
      "index 4491, number 14 not in dictionary.\n"
     ]
    },
    {
     "name": "stderr",
     "output_type": "stream",
     "text": [
      " 63%|██████▎   | 4519/7199 [13:38:27<8:25:26, 11.32s/it] "
     ]
    },
    {
     "name": "stdout",
     "output_type": "stream",
     "text": [
      "index 4519, number 16 not in dictionary.\n"
     ]
    },
    {
     "name": "stderr",
     "output_type": "stream",
     "text": [
      "\r",
      " 63%|██████▎   | 4520/7199 [13:38:42<9:08:51, 12.29s/it]"
     ]
    },
    {
     "name": "stdout",
     "output_type": "stream",
     "text": [
      "index 4519, number 17 not in dictionary.\n"
     ]
    },
    {
     "name": "stderr",
     "output_type": "stream",
     "text": [
      " 63%|██████▎   | 4549/7199 [13:43:41<7:50:01, 10.64s/it]"
     ]
    },
    {
     "name": "stdout",
     "output_type": "stream",
     "text": [
      "index 4549, number 10 not in dictionary.\n",
      "index 4549, number 11 not in dictionary.\n"
     ]
    },
    {
     "name": "stderr",
     "output_type": "stream",
     "text": [
      "\r",
      " 63%|██████▎   | 4550/7199 [13:43:53<8:10:41, 11.11s/it]"
     ]
    },
    {
     "name": "stdout",
     "output_type": "stream",
     "text": [
      "index 4550, number 14 not in dictionary.\n",
      "index 4550, number 15 not in dictionary.\n",
      "index 4550, number 16 not in dictionary.\n",
      "index 4550, number 17 not in dictionary.\n",
      "index 4550, number 18 not in dictionary.\n"
     ]
    },
    {
     "name": "stderr",
     "output_type": "stream",
     "text": [
      " 63%|██████▎   | 4553/7199 [13:44:38<9:57:57, 13.56s/it]"
     ]
    },
    {
     "name": "stdout",
     "output_type": "stream",
     "text": [
      "index 4552, number 19 not in dictionary.\n"
     ]
    },
    {
     "name": "stderr",
     "output_type": "stream",
     "text": [
      " 63%|██████▎   | 4556/7199 [13:45:15<9:33:25, 13.02s/it] "
     ]
    },
    {
     "name": "stdout",
     "output_type": "stream",
     "text": [
      "index 4556, number 10 not in dictionary.\n",
      "index 4556, number 11 not in dictionary.\n",
      "index 4556, number 12 not in dictionary.\n",
      "index 4556, number 13 not in dictionary.\n",
      "index 4556, number 14 not in dictionary.\n"
     ]
    },
    {
     "name": "stderr",
     "output_type": "stream",
     "text": [
      " 63%|██████▎   | 4563/7199 [13:46:49<9:21:34, 12.78s/it] "
     ]
    },
    {
     "name": "stdout",
     "output_type": "stream",
     "text": [
      "index 4563, number 7 not in dictionary.\n",
      "index 4563, number 8 not in dictionary.\n",
      "index 4563, number 9 not in dictionary.\n",
      "index 4563, number 10 not in dictionary.\n",
      "index 4563, number 11 not in dictionary.\n"
     ]
    },
    {
     "name": "stderr",
     "output_type": "stream",
     "text": [
      " 64%|██████▍   | 4609/7199 [13:55:15<8:55:56, 12.42s/it] "
     ]
    },
    {
     "name": "stdout",
     "output_type": "stream",
     "text": [
      "index 4609, number 10 not in dictionary.\n",
      "index 4609, number 11 not in dictionary.\n"
     ]
    },
    {
     "name": "stderr",
     "output_type": "stream",
     "text": [
      "\r",
      " 64%|██████▍   | 4610/7199 [13:55:25<8:29:24, 11.81s/it]"
     ]
    },
    {
     "name": "stdout",
     "output_type": "stream",
     "text": [
      "index 4609, number 12 not in dictionary.\n"
     ]
    },
    {
     "name": "stderr",
     "output_type": "stream",
     "text": [
      " 64%|██████▍   | 4620/7199 [13:57:15<6:53:14,  9.61s/it]"
     ]
    },
    {
     "name": "stdout",
     "output_type": "stream",
     "text": [
      "index 4620, number 16 not in dictionary.\n",
      "index 4620, number 17 not in dictionary.\n",
      "index 4620, number 18 not in dictionary.\n"
     ]
    },
    {
     "name": "stderr",
     "output_type": "stream",
     "text": [
      "\r",
      " 64%|██████▍   | 4621/7199 [13:57:26<7:17:06, 10.17s/it]"
     ]
    },
    {
     "name": "stdout",
     "output_type": "stream",
     "text": [
      "index 4620, number 19 not in dictionary.\n"
     ]
    },
    {
     "name": "stderr",
     "output_type": "stream",
     "text": [
      " 65%|██████▍   | 4648/7199 [14:02:33<9:40:42, 13.66s/it] "
     ]
    },
    {
     "name": "stdout",
     "output_type": "stream",
     "text": [
      "index 4648, number 17 not in dictionary.\n",
      "index 4648, number 18 not in dictionary.\n"
     ]
    },
    {
     "name": "stderr",
     "output_type": "stream",
     "text": [
      "\r",
      " 65%|██████▍   | 4649/7199 [14:02:45<9:21:20, 13.21s/it]"
     ]
    },
    {
     "name": "stdout",
     "output_type": "stream",
     "text": [
      "index 4648, number 19 not in dictionary.\n"
     ]
    },
    {
     "name": "stderr",
     "output_type": "stream",
     "text": [
      " 65%|██████▍   | 4656/7199 [14:03:58<8:00:45, 11.34s/it]"
     ]
    },
    {
     "name": "stdout",
     "output_type": "stream",
     "text": [
      "index 4656, number 6 not in dictionary.\n",
      "index 4656, number 7 not in dictionary.\n",
      "index 4656, number 8 not in dictionary.\n",
      "index 4656, number 9 not in dictionary.\n",
      "index 4656, number 10 not in dictionary.\n"
     ]
    },
    {
     "name": "stderr",
     "output_type": "stream",
     "text": [
      " 65%|██████▍   | 4665/7199 [14:05:18<6:55:09,  9.83s/it]"
     ]
    },
    {
     "name": "stdout",
     "output_type": "stream",
     "text": [
      "index 4665, number 13 not in dictionary.\n",
      "index 4665, number 14 not in dictionary.\n",
      "index 4665, number 17 not in dictionary.\n"
     ]
    },
    {
     "name": "stderr",
     "output_type": "stream",
     "text": [
      " 65%|██████▍   | 4674/7199 [14:06:43<6:37:06,  9.44s/it]"
     ]
    },
    {
     "name": "stdout",
     "output_type": "stream",
     "text": [
      "index 4673, number 15 not in dictionary.\n"
     ]
    },
    {
     "name": "stderr",
     "output_type": "stream",
     "text": [
      " 65%|██████▍   | 4676/7199 [14:06:58<5:56:57,  8.49s/it]"
     ]
    },
    {
     "name": "stdout",
     "output_type": "stream",
     "text": [
      "index 4676, number 6 not in dictionary.\n",
      "index 4676, number 8 not in dictionary.\n",
      "index 4676, number 9 not in dictionary.\n",
      "index 4676, number 10 not in dictionary.\n"
     ]
    },
    {
     "name": "stderr",
     "output_type": "stream",
     "text": [
      " 65%|██████▌   | 4701/7199 [14:11:16<5:46:06,  8.31s/it]"
     ]
    },
    {
     "name": "stdout",
     "output_type": "stream",
     "text": [
      "index 4701, number 18 not in dictionary.\n"
     ]
    },
    {
     "name": "stderr",
     "output_type": "stream",
     "text": [
      "\r",
      " 65%|██████▌   | 4702/7199 [14:11:34<7:45:11, 11.18s/it]"
     ]
    },
    {
     "name": "stdout",
     "output_type": "stream",
     "text": [
      "index 4701, number 19 not in dictionary.\n"
     ]
    },
    {
     "name": "stderr",
     "output_type": "stream",
     "text": [
      " 65%|██████▌   | 4708/7199 [14:12:28<7:19:24, 10.58s/it]"
     ]
    },
    {
     "name": "stdout",
     "output_type": "stream",
     "text": [
      "index 4708, number 16 not in dictionary.\n"
     ]
    },
    {
     "name": "stderr",
     "output_type": "stream",
     "text": [
      "\r",
      " 65%|██████▌   | 4709/7199 [14:12:42<8:03:13, 11.64s/it]"
     ]
    },
    {
     "name": "stdout",
     "output_type": "stream",
     "text": [
      "index 4708, number 17 not in dictionary.\n"
     ]
    },
    {
     "name": "stderr",
     "output_type": "stream",
     "text": [
      " 66%|██████▌   | 4718/7199 [14:14:19<6:35:11,  9.56s/it]"
     ]
    },
    {
     "name": "stdout",
     "output_type": "stream",
     "text": [
      "index 4718, number 18 not in dictionary.\n"
     ]
    },
    {
     "name": "stderr",
     "output_type": "stream",
     "text": [
      "\r",
      " 66%|██████▌   | 4719/7199 [14:14:35<7:50:14, 11.38s/it]"
     ]
    },
    {
     "name": "stdout",
     "output_type": "stream",
     "text": [
      "index 4718, number 19 not in dictionary.\n"
     ]
    },
    {
     "name": "stderr",
     "output_type": "stream",
     "text": [
      " 66%|██████▋   | 4772/7199 [14:23:31<5:33:11,  8.24s/it]"
     ]
    },
    {
     "name": "stdout",
     "output_type": "stream",
     "text": [
      "index 4772, number 15 not in dictionary.\n",
      "index 4772, number 16 not in dictionary.\n",
      "index 4772, number 17 not in dictionary.\n",
      "index 4772, number 18 not in dictionary.\n",
      "index 4772, number 19 not in dictionary.\n"
     ]
    },
    {
     "name": "stderr",
     "output_type": "stream",
     "text": [
      " 67%|██████▋   | 4803/7199 [14:29:30<7:58:20, 11.98s/it]"
     ]
    },
    {
     "name": "stdout",
     "output_type": "stream",
     "text": [
      "index 4803, number 18 not in dictionary.\n"
     ]
    },
    {
     "name": "stderr",
     "output_type": "stream",
     "text": [
      " 67%|██████▋   | 4806/7199 [14:30:04<7:06:32, 10.69s/it]"
     ]
    },
    {
     "name": "stdout",
     "output_type": "stream",
     "text": [
      "index 4806, number 15 not in dictionary.\n"
     ]
    },
    {
     "name": "stderr",
     "output_type": "stream",
     "text": [
      " 67%|██████▋   | 4812/7199 [14:31:19<7:45:18, 11.70s/it]"
     ]
    },
    {
     "name": "stdout",
     "output_type": "stream",
     "text": [
      "index 4811, number 10 not in dictionary.\n"
     ]
    },
    {
     "name": "stderr",
     "output_type": "stream",
     "text": [
      "\r",
      " 67%|██████▋   | 4813/7199 [14:31:33<8:03:15, 12.15s/it]"
     ]
    },
    {
     "name": "stdout",
     "output_type": "stream",
     "text": [
      "index 4813, number 12 not in dictionary.\n",
      "index 4813, number 13 not in dictionary.\n",
      "index 4813, number 14 not in dictionary.\n",
      "index 4813, number 15 not in dictionary.\n",
      "index 4813, number 16 not in dictionary.\n"
     ]
    },
    {
     "name": "stderr",
     "output_type": "stream",
     "text": [
      " 67%|██████▋   | 4826/7199 [14:33:16<4:47:52,  7.28s/it]"
     ]
    },
    {
     "name": "stdout",
     "output_type": "stream",
     "text": [
      "index 4826, number 10 not in dictionary.\n",
      "index 4826, number 11 not in dictionary.\n"
     ]
    },
    {
     "name": "stderr",
     "output_type": "stream",
     "text": [
      " 67%|██████▋   | 4832/7199 [14:34:23<7:46:43, 11.83s/it]"
     ]
    },
    {
     "name": "stdout",
     "output_type": "stream",
     "text": [
      "index 4832, number 10 not in dictionary.\n",
      "index 4832, number 11 not in dictionary.\n",
      "index 4832, number 12 not in dictionary.\n",
      "index 4832, number 13 not in dictionary.\n",
      "index 4832, number 14 not in dictionary.\n"
     ]
    },
    {
     "name": "stderr",
     "output_type": "stream",
     "text": [
      " 67%|██████▋   | 4849/7199 [14:37:38<8:06:13, 12.41s/it]"
     ]
    },
    {
     "name": "stdout",
     "output_type": "stream",
     "text": [
      "index 4849, number 10 not in dictionary.\n",
      "index 4849, number 11 not in dictionary.\n",
      "index 4849, number 12 not in dictionary.\n",
      "index 4849, number 13 not in dictionary.\n",
      "index 4849, number 14 not in dictionary.\n"
     ]
    },
    {
     "name": "stderr",
     "output_type": "stream",
     "text": [
      " 68%|██████▊   | 4862/7199 [14:40:09<6:57:54, 10.73s/it]"
     ]
    },
    {
     "name": "stdout",
     "output_type": "stream",
     "text": [
      "index 4862, number 14 not in dictionary.\n",
      "index 4862, number 15 not in dictionary.\n",
      "index 4862, number 16 not in dictionary.\n",
      "index 4862, number 17 not in dictionary.\n",
      "index 4862, number 18 not in dictionary.\n"
     ]
    },
    {
     "name": "stderr",
     "output_type": "stream",
     "text": [
      " 68%|██████▊   | 4871/7199 [14:41:41<7:15:07, 11.21s/it]"
     ]
    },
    {
     "name": "stdout",
     "output_type": "stream",
     "text": [
      "index 4870, number 16 not in dictionary.\n"
     ]
    },
    {
     "name": "stderr",
     "output_type": "stream",
     "text": [
      " 68%|██████▊   | 4884/7199 [14:44:06<7:21:54, 11.45s/it]"
     ]
    },
    {
     "name": "stdout",
     "output_type": "stream",
     "text": [
      "index 4884, number 11 not in dictionary.\n",
      "index 4884, number 12 not in dictionary.\n",
      "index 4884, number 13 not in dictionary.\n",
      "index 4884, number 14 not in dictionary.\n",
      "index 4884, number 15 not in dictionary.\n"
     ]
    },
    {
     "name": "stderr",
     "output_type": "stream",
     "text": [
      " 68%|██████▊   | 4902/7199 [14:47:23<6:09:38,  9.66s/it]"
     ]
    },
    {
     "name": "stdout",
     "output_type": "stream",
     "text": [
      "index 4902, number 17 not in dictionary.\n",
      "index 4902, number 18 not in dictionary.\n"
     ]
    },
    {
     "name": "stderr",
     "output_type": "stream",
     "text": [
      "\r",
      " 68%|██████▊   | 4903/7199 [14:47:38<7:08:12, 11.19s/it]"
     ]
    },
    {
     "name": "stdout",
     "output_type": "stream",
     "text": [
      "index 4902, number 19 not in dictionary.\n"
     ]
    },
    {
     "name": "stderr",
     "output_type": "stream",
     "text": [
      " 69%|██████▉   | 4978/7199 [15:00:53<7:28:41, 12.12s/it]"
     ]
    },
    {
     "name": "stdout",
     "output_type": "stream",
     "text": [
      "index 4977, number 20 not in dictionary.\n"
     ]
    },
    {
     "name": "stderr",
     "output_type": "stream",
     "text": [
      " 70%|██████▉   | 5014/7199 [15:07:34<8:22:19, 13.79s/it]"
     ]
    },
    {
     "name": "stdout",
     "output_type": "stream",
     "text": [
      "index 5014, number 3 not in dictionary.\n",
      "index 5014, number 4 not in dictionary.\n",
      "index 5014, number 5 not in dictionary.\n",
      "index 5014, number 6 not in dictionary.\n",
      "index 5014, number 7 not in dictionary.\n"
     ]
    },
    {
     "name": "stderr",
     "output_type": "stream",
     "text": [
      " 70%|███████   | 5046/7199 [15:13:36<6:41:20, 11.18s/it]"
     ]
    },
    {
     "name": "stdout",
     "output_type": "stream",
     "text": [
      "index 5046, number 10 not in dictionary.\n",
      "index 5046, number 11 not in dictionary.\n",
      "index 5046, number 12 not in dictionary.\n"
     ]
    },
    {
     "name": "stderr",
     "output_type": "stream",
     "text": [
      "\r",
      " 70%|███████   | 5047/7199 [15:13:47<6:34:02, 10.99s/it]"
     ]
    },
    {
     "name": "stdout",
     "output_type": "stream",
     "text": [
      "index 5046, number 13 not in dictionary.\n"
     ]
    },
    {
     "name": "stderr",
     "output_type": "stream",
     "text": [
      " 70%|███████   | 5050/7199 [15:14:25<7:13:13, 12.10s/it]"
     ]
    },
    {
     "name": "stdout",
     "output_type": "stream",
     "text": [
      "index 5049, number 19 not in dictionary.\n"
     ]
    },
    {
     "name": "stderr",
     "output_type": "stream",
     "text": [
      " 71%|███████   | 5084/7199 [15:20:11<4:56:43,  8.42s/it]"
     ]
    },
    {
     "name": "stdout",
     "output_type": "stream",
     "text": [
      "index 5084, number 12 not in dictionary.\n",
      "index 5084, number 13 not in dictionary.\n",
      "index 5084, number 14 not in dictionary.\n",
      "index 5084, number 15 not in dictionary.\n",
      "index 5084, number 16 not in dictionary.\n"
     ]
    },
    {
     "name": "stderr",
     "output_type": "stream",
     "text": [
      " 71%|███████   | 5089/7199 [15:21:14<6:32:41, 11.17s/it]"
     ]
    },
    {
     "name": "stdout",
     "output_type": "stream",
     "text": [
      "index 5089, number 8 not in dictionary.\n"
     ]
    },
    {
     "name": "stderr",
     "output_type": "stream",
     "text": [
      " 71%|███████   | 5108/7199 [15:25:02<6:41:44, 11.53s/it]"
     ]
    },
    {
     "name": "stdout",
     "output_type": "stream",
     "text": [
      "index 5108, number 8 not in dictionary.\n"
     ]
    },
    {
     "name": "stderr",
     "output_type": "stream",
     "text": [
      " 72%|███████▏  | 5163/7199 [15:33:21<4:22:00,  7.72s/it]"
     ]
    },
    {
     "name": "stdout",
     "output_type": "stream",
     "text": [
      "index 5163, number 18 not in dictionary.\n"
     ]
    },
    {
     "name": "stderr",
     "output_type": "stream",
     "text": [
      "\r",
      " 72%|███████▏  | 5164/7199 [15:33:34<5:16:42,  9.34s/it]"
     ]
    },
    {
     "name": "stdout",
     "output_type": "stream",
     "text": [
      "index 5163, number 19 not in dictionary.\n"
     ]
    },
    {
     "name": "stderr",
     "output_type": "stream",
     "text": [
      " 72%|███████▏  | 5173/7199 [15:35:07<5:56:16, 10.55s/it]"
     ]
    },
    {
     "name": "stdout",
     "output_type": "stream",
     "text": [
      "index 5173, number 17 not in dictionary.\n",
      "index 5173, number 18 not in dictionary.\n"
     ]
    },
    {
     "name": "stderr",
     "output_type": "stream",
     "text": [
      "\r",
      " 72%|███████▏  | 5174/7199 [15:35:22<6:31:49, 11.61s/it]"
     ]
    },
    {
     "name": "stdout",
     "output_type": "stream",
     "text": [
      "index 5173, number 19 not in dictionary.\n"
     ]
    },
    {
     "name": "stderr",
     "output_type": "stream",
     "text": [
      "\r",
      " 72%|███████▏  | 5175/7199 [15:35:28<5:36:48,  9.98s/it]"
     ]
    },
    {
     "name": "stdout",
     "output_type": "stream",
     "text": [
      "index 5174, number 10 not in dictionary.\n"
     ]
    },
    {
     "name": "stderr",
     "output_type": "stream",
     "text": [
      " 72%|███████▏  | 5207/7199 [15:40:45<5:08:11,  9.28s/it]"
     ]
    },
    {
     "name": "stdout",
     "output_type": "stream",
     "text": [
      "index 5207, number 2 not in dictionary.\n",
      "index 5207, number 3 not in dictionary.\n",
      "index 5207, number 4 not in dictionary.\n",
      "index 5207, number 5 not in dictionary.\n",
      "index 5207, number 6 not in dictionary.\n"
     ]
    },
    {
     "name": "stderr",
     "output_type": "stream",
     "text": [
      " 73%|███████▎  | 5238/7199 [15:46:08<5:22:22,  9.86s/it]"
     ]
    },
    {
     "name": "stdout",
     "output_type": "stream",
     "text": [
      "index 5237, number 19 not in dictionary.\n"
     ]
    },
    {
     "name": "stderr",
     "output_type": "stream",
     "text": [
      " 73%|███████▎  | 5243/7199 [15:47:04<5:58:31, 11.00s/it]"
     ]
    },
    {
     "name": "stdout",
     "output_type": "stream",
     "text": [
      "index 5242, number 19 not in dictionary.\n"
     ]
    },
    {
     "name": "stderr",
     "output_type": "stream",
     "text": [
      " 73%|███████▎  | 5246/7199 [15:47:35<5:21:09,  9.87s/it]"
     ]
    },
    {
     "name": "stdout",
     "output_type": "stream",
     "text": [
      "index 5246, number 12 not in dictionary.\n",
      "index 5246, number 13 not in dictionary.\n",
      "index 5246, number 14 not in dictionary.\n",
      "index 5246, number 15 not in dictionary.\n",
      "index 5246, number 16 not in dictionary.\n"
     ]
    },
    {
     "name": "stderr",
     "output_type": "stream",
     "text": [
      " 74%|███████▎  | 5306/7199 [15:58:44<6:40:57, 12.71s/it]"
     ]
    },
    {
     "name": "stdout",
     "output_type": "stream",
     "text": [
      "index 5306, number 3 not in dictionary.\n",
      "index 5306, number 4 not in dictionary.\n",
      "index 5306, number 5 not in dictionary.\n",
      "index 5306, number 6 not in dictionary.\n",
      "index 5306, number 7 not in dictionary.\n"
     ]
    },
    {
     "name": "stderr",
     "output_type": "stream",
     "text": [
      " 74%|███████▎  | 5309/7199 [15:59:21<6:10:59, 11.78s/it]"
     ]
    },
    {
     "name": "stdout",
     "output_type": "stream",
     "text": [
      "index 5309, number 12 not in dictionary.\n",
      "index 5309, number 13 not in dictionary.\n",
      "index 5309, number 14 not in dictionary.\n",
      "index 5309, number 15 not in dictionary.\n",
      "index 5309, number 16 not in dictionary.\n"
     ]
    },
    {
     "name": "stderr",
     "output_type": "stream",
     "text": [
      " 74%|███████▍  | 5316/7199 [16:00:59<6:42:30, 12.83s/it]"
     ]
    },
    {
     "name": "stdout",
     "output_type": "stream",
     "text": [
      "index 5316, number 14 not in dictionary.\n"
     ]
    },
    {
     "name": "stderr",
     "output_type": "stream",
     "text": [
      "\r",
      " 74%|███████▍  | 5317/7199 [16:01:11<6:37:33, 12.67s/it]"
     ]
    },
    {
     "name": "stdout",
     "output_type": "stream",
     "text": [
      "index 5316, number 15 not in dictionary.\n"
     ]
    },
    {
     "name": "stderr",
     "output_type": "stream",
     "text": [
      " 74%|███████▍  | 5322/7199 [16:01:50<4:17:29,  8.23s/it]"
     ]
    },
    {
     "name": "stdout",
     "output_type": "stream",
     "text": [
      "index 5322, number 14 not in dictionary.\n"
     ]
    },
    {
     "name": "stderr",
     "output_type": "stream",
     "text": [
      " 74%|███████▍  | 5330/7199 [16:03:16<5:24:25, 10.42s/it]"
     ]
    },
    {
     "name": "stdout",
     "output_type": "stream",
     "text": [
      "index 5330, number 14 not in dictionary.\n",
      "index 5330, number 15 not in dictionary.\n",
      "index 5330, number 16 not in dictionary.\n",
      "index 5330, number 17 not in dictionary.\n"
     ]
    },
    {
     "name": "stderr",
     "output_type": "stream",
     "text": [
      " 75%|███████▍  | 5366/7199 [16:09:38<4:44:37,  9.32s/it]"
     ]
    },
    {
     "name": "stdout",
     "output_type": "stream",
     "text": [
      "index 5366, number 7 not in dictionary.\n",
      "index 5366, number 8 not in dictionary.\n",
      "index 5366, number 9 not in dictionary.\n",
      "index 5366, number 10 not in dictionary.\n",
      "index 5366, number 11 not in dictionary.\n"
     ]
    },
    {
     "name": "stderr",
     "output_type": "stream",
     "text": [
      " 75%|███████▍  | 5370/7199 [16:10:32<6:29:43, 12.79s/it]"
     ]
    },
    {
     "name": "stdout",
     "output_type": "stream",
     "text": [
      "index 5369, number 19 not in dictionary.\n",
      "index 5370, number 1 not in dictionary.\n",
      "index 5370, number 2 not in dictionary.\n",
      "index 5370, number 3 not in dictionary.\n",
      "index 5370, number 4 not in dictionary.\n",
      "index 5370, number 5 not in dictionary.\n"
     ]
    },
    {
     "name": "stderr",
     "output_type": "stream",
     "text": [
      " 75%|███████▍  | 5377/7199 [16:11:43<5:19:27, 10.52s/it]"
     ]
    },
    {
     "name": "stdout",
     "output_type": "stream",
     "text": [
      "index 5376, number 13 not in dictionary.\n"
     ]
    },
    {
     "name": "stderr",
     "output_type": "stream",
     "text": [
      " 75%|███████▍  | 5392/7199 [16:14:53<6:27:59, 12.88s/it]"
     ]
    },
    {
     "name": "stdout",
     "output_type": "stream",
     "text": [
      "index 5392, number 14 not in dictionary.\n"
     ]
    },
    {
     "name": "stderr",
     "output_type": "stream",
     "text": [
      " 75%|███████▍  | 5394/7199 [16:15:13<5:27:09, 10.88s/it]"
     ]
    },
    {
     "name": "stdout",
     "output_type": "stream",
     "text": [
      "index 5394, number 10 not in dictionary.\n",
      "index 5394, number 11 not in dictionary.\n",
      "index 5394, number 12 not in dictionary.\n",
      "index 5394, number 13 not in dictionary.\n"
     ]
    },
    {
     "name": "stderr",
     "output_type": "stream",
     "text": [
      " 75%|███████▌  | 5402/7199 [16:16:34<5:07:41, 10.27s/it]"
     ]
    },
    {
     "name": "stdout",
     "output_type": "stream",
     "text": [
      "index 5402, number 14 not in dictionary.\n",
      "index 5402, number 15 not in dictionary.\n",
      "index 5402, number 16 not in dictionary.\n",
      "index 5402, number 17 not in dictionary.\n",
      "index 5402, number 18 not in dictionary.\n"
     ]
    },
    {
     "name": "stderr",
     "output_type": "stream",
     "text": [
      " 75%|███████▌  | 5414/7199 [16:18:16<3:39:22,  7.37s/it]"
     ]
    },
    {
     "name": "stdout",
     "output_type": "stream",
     "text": [
      "index 5414, number 17 not in dictionary.\n",
      "index 5414, number 18 not in dictionary.\n"
     ]
    },
    {
     "name": "stderr",
     "output_type": "stream",
     "text": [
      " 75%|███████▌  | 5423/7199 [16:19:31<4:09:03,  8.41s/it]"
     ]
    },
    {
     "name": "stdout",
     "output_type": "stream",
     "text": [
      "index 5423, number 12 not in dictionary.\n",
      "index 5423, number 13 not in dictionary.\n"
     ]
    },
    {
     "name": "stderr",
     "output_type": "stream",
     "text": [
      " 76%|███████▌  | 5450/7199 [16:23:49<5:00:50, 10.32s/it]"
     ]
    },
    {
     "name": "stdout",
     "output_type": "stream",
     "text": [
      "index 5450, number 18 not in dictionary.\n"
     ]
    },
    {
     "name": "stderr",
     "output_type": "stream",
     "text": [
      "\r",
      " 76%|███████▌  | 5451/7199 [16:24:05<5:56:48, 12.25s/it]"
     ]
    },
    {
     "name": "stdout",
     "output_type": "stream",
     "text": [
      "index 5450, number 19 not in dictionary.\n"
     ]
    },
    {
     "name": "stderr",
     "output_type": "stream",
     "text": [
      " 76%|███████▌  | 5473/7199 [16:27:27<3:48:34,  7.95s/it]"
     ]
    },
    {
     "name": "stdout",
     "output_type": "stream",
     "text": [
      "index 5472, number 11 not in dictionary.\n"
     ]
    },
    {
     "name": "stderr",
     "output_type": "stream",
     "text": [
      " 76%|███████▌  | 5489/7199 [16:30:03<3:35:07,  7.55s/it]"
     ]
    },
    {
     "name": "stdout",
     "output_type": "stream",
     "text": [
      "index 5489, number 15 not in dictionary.\n",
      "index 5489, number 16 not in dictionary.\n"
     ]
    },
    {
     "name": "stderr",
     "output_type": "stream",
     "text": [
      " 77%|███████▋  | 5523/7199 [16:36:39<6:08:31, 13.19s/it]"
     ]
    },
    {
     "name": "stdout",
     "output_type": "stream",
     "text": [
      "index 5523, number 4 not in dictionary.\n",
      "index 5523, number 5 not in dictionary.\n",
      "index 5523, number 6 not in dictionary.\n",
      "index 5523, number 7 not in dictionary.\n",
      "index 5523, number 8 not in dictionary.\n"
     ]
    },
    {
     "name": "stderr",
     "output_type": "stream",
     "text": [
      " 77%|███████▋  | 5528/7199 [16:37:35<5:17:17, 11.39s/it]"
     ]
    },
    {
     "name": "stdout",
     "output_type": "stream",
     "text": [
      "index 5528, number 15 not in dictionary.\n"
     ]
    },
    {
     "name": "stderr",
     "output_type": "stream",
     "text": [
      " 77%|███████▋  | 5544/7199 [16:40:45<4:21:51,  9.49s/it]"
     ]
    },
    {
     "name": "stdout",
     "output_type": "stream",
     "text": [
      "index 5544, number 11 not in dictionary.\n",
      "index 5544, number 12 not in dictionary.\n",
      "index 5544, number 13 not in dictionary.\n",
      "index 5544, number 14 not in dictionary.\n",
      "index 5544, number 15 not in dictionary.\n"
     ]
    },
    {
     "name": "stderr",
     "output_type": "stream",
     "text": [
      " 77%|███████▋  | 5567/7199 [16:44:52<4:21:04,  9.60s/it]"
     ]
    },
    {
     "name": "stdout",
     "output_type": "stream",
     "text": [
      "index 5567, number 18 not in dictionary.\n"
     ]
    },
    {
     "name": "stderr",
     "output_type": "stream",
     "text": [
      " 78%|███████▊  | 5595/7199 [16:49:17<4:34:56, 10.28s/it]"
     ]
    },
    {
     "name": "stdout",
     "output_type": "stream",
     "text": [
      "index 5595, number 18 not in dictionary.\n"
     ]
    },
    {
     "name": "stderr",
     "output_type": "stream",
     "text": [
      "\r",
      " 78%|███████▊  | 5596/7199 [16:49:32<5:13:14, 11.72s/it]"
     ]
    },
    {
     "name": "stdout",
     "output_type": "stream",
     "text": [
      "index 5595, number 19 not in dictionary.\n"
     ]
    },
    {
     "name": "stderr",
     "output_type": "stream",
     "text": [
      " 78%|███████▊  | 5626/7199 [16:55:00<5:55:25, 13.56s/it]"
     ]
    },
    {
     "name": "stdout",
     "output_type": "stream",
     "text": [
      "index 5626, number 18 not in dictionary.\n"
     ]
    },
    {
     "name": "stderr",
     "output_type": "stream",
     "text": [
      " 78%|███████▊  | 5639/7199 [16:57:00<3:23:17,  7.82s/it]"
     ]
    },
    {
     "name": "stdout",
     "output_type": "stream",
     "text": [
      "index 5639, number 16 not in dictionary.\n"
     ]
    },
    {
     "name": "stderr",
     "output_type": "stream",
     "text": [
      " 78%|███████▊  | 5642/7199 [16:57:32<4:06:01,  9.48s/it]"
     ]
    },
    {
     "name": "stdout",
     "output_type": "stream",
     "text": [
      "index 5642, number 7 not in dictionary.\n",
      "index 5642, number 8 not in dictionary.\n",
      "index 5642, number 9 not in dictionary.\n"
     ]
    },
    {
     "name": "stderr",
     "output_type": "stream",
     "text": [
      "\r",
      " 78%|███████▊  | 5643/7199 [16:57:41<3:59:41,  9.24s/it]"
     ]
    },
    {
     "name": "stdout",
     "output_type": "stream",
     "text": [
      "index 5642, number 10 not in dictionary.\n"
     ]
    },
    {
     "name": "stderr",
     "output_type": "stream",
     "text": [
      " 79%|███████▊  | 5659/7199 [17:00:39<4:40:58, 10.95s/it]"
     ]
    },
    {
     "name": "stdout",
     "output_type": "stream",
     "text": [
      "index 5659, number 10 not in dictionary.\n",
      "index 5659, number 11 not in dictionary.\n",
      "index 5659, number 12 not in dictionary.\n",
      "index 5659, number 13 not in dictionary.\n",
      "index 5659, number 14 not in dictionary.\n"
     ]
    },
    {
     "name": "stderr",
     "output_type": "stream",
     "text": [
      " 79%|███████▉  | 5683/7199 [17:05:21<4:54:01, 11.64s/it]"
     ]
    },
    {
     "name": "stdout",
     "output_type": "stream",
     "text": [
      "index 5683, number 14 not in dictionary.\n"
     ]
    },
    {
     "name": "stderr",
     "output_type": "stream",
     "text": [
      " 79%|███████▉  | 5707/7199 [17:09:56<4:56:50, 11.94s/it]"
     ]
    },
    {
     "name": "stdout",
     "output_type": "stream",
     "text": [
      "index 5707, number 8 not in dictionary.\n",
      "index 5707, number 9 not in dictionary.\n",
      "index 5707, number 10 not in dictionary.\n",
      "index 5707, number 11 not in dictionary.\n",
      "index 5707, number 12 not in dictionary.\n"
     ]
    },
    {
     "name": "stderr",
     "output_type": "stream",
     "text": [
      " 79%|███████▉  | 5710/7199 [17:10:30<4:36:55, 11.16s/it]"
     ]
    },
    {
     "name": "stdout",
     "output_type": "stream",
     "text": [
      "index 5709, number 19 not in dictionary.\n"
     ]
    },
    {
     "name": "stderr",
     "output_type": "stream",
     "text": [
      " 79%|███████▉  | 5715/7199 [17:11:23<4:17:35, 10.41s/it]"
     ]
    },
    {
     "name": "stdout",
     "output_type": "stream",
     "text": [
      "index 5715, number 14 not in dictionary.\n",
      "index 5715, number 15 not in dictionary.\n",
      "index 5715, number 16 not in dictionary.\n",
      "index 5715, number 17 not in dictionary.\n",
      "index 5715, number 18 not in dictionary.\n"
     ]
    },
    {
     "name": "stderr",
     "output_type": "stream",
     "text": [
      " 80%|███████▉  | 5742/7199 [17:16:37<5:22:21, 13.27s/it]"
     ]
    },
    {
     "name": "stdout",
     "output_type": "stream",
     "text": [
      "index 5742, number 17 not in dictionary.\n",
      "index 5742, number 18 not in dictionary.\n",
      "index 5742, number 19 not in dictionary.\n"
     ]
    },
    {
     "name": "stderr",
     "output_type": "stream",
     "text": [
      "\r",
      " 80%|███████▉  | 5743/7199 [17:16:53<5:44:09, 14.18s/it]"
     ]
    },
    {
     "name": "stdout",
     "output_type": "stream",
     "text": [
      "index 5742, number 20 not in dictionary.\n"
     ]
    },
    {
     "name": "stderr",
     "output_type": "stream",
     "text": [
      " 80%|████████  | 5760/7199 [17:19:37<3:13:20,  8.06s/it]"
     ]
    },
    {
     "name": "stdout",
     "output_type": "stream",
     "text": [
      "index 5760, number 2 not in dictionary.\n",
      "index 5760, number 3 not in dictionary.\n",
      "index 5760, number 4 not in dictionary.\n",
      "index 5760, number 5 not in dictionary.\n",
      "index 5760, number 6 not in dictionary.\n"
     ]
    },
    {
     "name": "stderr",
     "output_type": "stream",
     "text": [
      " 80%|████████  | 5764/7199 [17:20:25<4:09:24, 10.43s/it]"
     ]
    },
    {
     "name": "stdout",
     "output_type": "stream",
     "text": [
      "index 5764, number 10 not in dictionary.\n",
      "index 5764, number 11 not in dictionary.\n",
      "index 5764, number 12 not in dictionary.\n",
      "index 5764, number 13 not in dictionary.\n"
     ]
    },
    {
     "name": "stderr",
     "output_type": "stream",
     "text": [
      "\r",
      " 80%|████████  | 5765/7199 [17:20:36<4:09:51, 10.45s/it]"
     ]
    },
    {
     "name": "stdout",
     "output_type": "stream",
     "text": [
      "index 5764, number 14 not in dictionary.\n"
     ]
    },
    {
     "name": "stderr",
     "output_type": "stream",
     "text": [
      " 80%|████████  | 5779/7199 [17:23:01<5:09:39, 13.08s/it]"
     ]
    },
    {
     "name": "stdout",
     "output_type": "stream",
     "text": [
      "index 5779, number 3 not in dictionary.\n",
      "index 5779, number 4 not in dictionary.\n",
      "index 5779, number 5 not in dictionary.\n",
      "index 5779, number 6 not in dictionary.\n",
      "index 5779, number 7 not in dictionary.\n"
     ]
    },
    {
     "name": "stderr",
     "output_type": "stream",
     "text": [
      " 80%|████████  | 5786/7199 [17:24:22<4:24:36, 11.24s/it]"
     ]
    },
    {
     "name": "stdout",
     "output_type": "stream",
     "text": [
      "index 5786, number 10 not in dictionary.\n",
      "index 5786, number 11 not in dictionary.\n"
     ]
    },
    {
     "name": "stderr",
     "output_type": "stream",
     "text": [
      "\r",
      " 80%|████████  | 5787/7199 [17:24:29<3:54:36,  9.97s/it]"
     ]
    },
    {
     "name": "stdout",
     "output_type": "stream",
     "text": [
      "index 5786, number 12 not in dictionary.\n"
     ]
    },
    {
     "name": "stderr",
     "output_type": "stream",
     "text": [
      " 80%|████████  | 5793/7199 [17:25:29<3:27:15,  8.84s/it]"
     ]
    },
    {
     "name": "stdout",
     "output_type": "stream",
     "text": [
      "index 5793, number 10 not in dictionary.\n",
      "index 5793, number 11 not in dictionary.\n"
     ]
    },
    {
     "name": "stderr",
     "output_type": "stream",
     "text": [
      " 81%|████████  | 5796/7199 [17:25:58<3:23:09,  8.69s/it]"
     ]
    },
    {
     "name": "stdout",
     "output_type": "stream",
     "text": [
      "index 5796, number 18 not in dictionary.\n"
     ]
    },
    {
     "name": "stderr",
     "output_type": "stream",
     "text": [
      "\r",
      " 81%|████████  | 5797/7199 [17:26:12<3:54:07, 10.02s/it]"
     ]
    },
    {
     "name": "stdout",
     "output_type": "stream",
     "text": [
      "index 5796, number 19 not in dictionary.\n"
     ]
    },
    {
     "name": "stderr",
     "output_type": "stream",
     "text": [
      " 81%|████████  | 5808/7199 [17:27:53<3:17:23,  8.51s/it]"
     ]
    },
    {
     "name": "stdout",
     "output_type": "stream",
     "text": [
      "index 5808, number 15 not in dictionary.\n",
      "index 5808, number 16 not in dictionary.\n",
      "index 5808, number 17 not in dictionary.\n",
      "index 5808, number 18 not in dictionary.\n"
     ]
    },
    {
     "name": "stderr",
     "output_type": "stream",
     "text": [
      "\r",
      " 81%|████████  | 5809/7199 [17:28:08<4:02:08, 10.45s/it]"
     ]
    },
    {
     "name": "stdout",
     "output_type": "stream",
     "text": [
      "index 5808, number 19 not in dictionary.\n"
     ]
    },
    {
     "name": "stderr",
     "output_type": "stream",
     "text": [
      " 81%|████████  | 5812/7199 [17:28:52<4:51:17, 12.60s/it]"
     ]
    },
    {
     "name": "stdout",
     "output_type": "stream",
     "text": [
      "index 5811, number 16 not in dictionary.\n"
     ]
    },
    {
     "name": "stderr",
     "output_type": "stream",
     "text": [
      " 81%|████████▏ | 5856/7199 [17:37:03<4:38:17, 12.43s/it]"
     ]
    },
    {
     "name": "stdout",
     "output_type": "stream",
     "text": [
      "index 5855, number 19 not in dictionary.\n"
     ]
    },
    {
     "name": "stderr",
     "output_type": "stream",
     "text": [
      " 81%|████████▏ | 5862/7199 [17:38:22<5:19:37, 14.34s/it]"
     ]
    },
    {
     "name": "stdout",
     "output_type": "stream",
     "text": [
      "index 5862, number 13 not in dictionary.\n",
      "index 5862, number 14 not in dictionary.\n",
      "index 5862, number 15 not in dictionary.\n"
     ]
    },
    {
     "name": "stderr",
     "output_type": "stream",
     "text": [
      " 82%|████████▏ | 5882/7199 [17:41:35<4:13:48, 11.56s/it]"
     ]
    },
    {
     "name": "stdout",
     "output_type": "stream",
     "text": [
      "index 5882, number 14 not in dictionary.\n",
      "index 5882, number 15 not in dictionary.\n",
      "index 5882, number 16 not in dictionary.\n",
      "index 5882, number 17 not in dictionary.\n",
      "index 5882, number 18 not in dictionary.\n"
     ]
    },
    {
     "name": "stderr",
     "output_type": "stream",
     "text": [
      " 82%|████████▏ | 5931/7199 [17:50:35<4:29:20, 12.75s/it]"
     ]
    },
    {
     "name": "stdout",
     "output_type": "stream",
     "text": [
      "index 5931, number 10 not in dictionary.\n",
      "index 5931, number 11 not in dictionary.\n",
      "index 5931, number 12 not in dictionary.\n",
      "index 5931, number 13 not in dictionary.\n",
      "index 5931, number 14 not in dictionary.\n"
     ]
    },
    {
     "name": "stderr",
     "output_type": "stream",
     "text": [
      " 82%|████████▏ | 5938/7199 [17:51:58<3:48:18, 10.86s/it]"
     ]
    },
    {
     "name": "stdout",
     "output_type": "stream",
     "text": [
      "index 5937, number 14 not in dictionary.\n"
     ]
    },
    {
     "name": "stderr",
     "output_type": "stream",
     "text": [
      " 83%|████████▎ | 5942/7199 [17:52:31<2:56:25,  8.42s/it]"
     ]
    },
    {
     "name": "stdout",
     "output_type": "stream",
     "text": [
      "index 5942, number 10 not in dictionary.\n",
      "index 5942, number 11 not in dictionary.\n",
      "index 5942, number 12 not in dictionary.\n"
     ]
    },
    {
     "name": "stderr",
     "output_type": "stream",
     "text": [
      " 83%|████████▎ | 5946/7199 [17:53:02<2:21:26,  6.77s/it]"
     ]
    },
    {
     "name": "stdout",
     "output_type": "stream",
     "text": [
      "index 5946, number 17 not in dictionary.\n"
     ]
    },
    {
     "name": "stderr",
     "output_type": "stream",
     "text": [
      " 83%|████████▎ | 5949/7199 [17:53:33<2:53:57,  8.35s/it]"
     ]
    },
    {
     "name": "stdout",
     "output_type": "stream",
     "text": [
      "index 5949, number 12 not in dictionary.\n",
      "index 5949, number 13 not in dictionary.\n",
      "index 5949, number 14 not in dictionary.\n",
      "index 5949, number 15 not in dictionary.\n",
      "index 5949, number 16 not in dictionary.\n"
     ]
    },
    {
     "name": "stderr",
     "output_type": "stream",
     "text": [
      " 83%|████████▎ | 5965/7199 [17:56:34<3:09:21,  9.21s/it]"
     ]
    },
    {
     "name": "stdout",
     "output_type": "stream",
     "text": [
      "index 5965, number 10 not in dictionary.\n",
      "index 5965, number 11 not in dictionary.\n",
      "index 5965, number 12 not in dictionary.\n",
      "index 5965, number 13 not in dictionary.\n",
      "index 5965, number 14 not in dictionary.\n"
     ]
    },
    {
     "name": "stderr",
     "output_type": "stream",
     "text": [
      " 83%|████████▎ | 5969/7199 [17:57:28<4:04:40, 11.94s/it]"
     ]
    },
    {
     "name": "stdout",
     "output_type": "stream",
     "text": [
      "index 5969, number 14 not in dictionary.\n",
      "index 5969, number 15 not in dictionary.\n",
      "index 5969, number 16 not in dictionary.\n",
      "index 5969, number 17 not in dictionary.\n",
      "index 5969, number 18 not in dictionary.\n"
     ]
    },
    {
     "name": "stderr",
     "output_type": "stream",
     "text": [
      " 83%|████████▎ | 5975/7199 [17:58:42<4:10:31, 12.28s/it]"
     ]
    },
    {
     "name": "stdout",
     "output_type": "stream",
     "text": [
      "index 5974, number 19 not in dictionary.\n"
     ]
    },
    {
     "name": "stderr",
     "output_type": "stream",
     "text": [
      " 83%|████████▎ | 5983/7199 [18:00:24<3:47:11, 11.21s/it]"
     ]
    },
    {
     "name": "stdout",
     "output_type": "stream",
     "text": [
      "index 5983, number 12 not in dictionary.\n",
      "index 5983, number 13 not in dictionary.\n"
     ]
    },
    {
     "name": "stderr",
     "output_type": "stream",
     "text": [
      "\r",
      " 83%|████████▎ | 5984/7199 [18:00:36<3:47:44, 11.25s/it]"
     ]
    },
    {
     "name": "stdout",
     "output_type": "stream",
     "text": [
      "index 5983, number 14 not in dictionary.\n"
     ]
    },
    {
     "name": "stderr",
     "output_type": "stream",
     "text": [
      " 84%|████████▎ | 6027/7199 [18:07:42<3:30:03, 10.75s/it]"
     ]
    },
    {
     "name": "stdout",
     "output_type": "stream",
     "text": [
      "index 6027, number 10 not in dictionary.\n",
      "index 6027, number 11 not in dictionary.\n",
      "index 6027, number 12 not in dictionary.\n",
      "index 6027, number 13 not in dictionary.\n",
      "index 6027, number 14 not in dictionary.\n"
     ]
    },
    {
     "name": "stderr",
     "output_type": "stream",
     "text": [
      " 85%|████████▍ | 6096/7199 [18:20:54<3:54:11, 12.74s/it]"
     ]
    },
    {
     "name": "stdout",
     "output_type": "stream",
     "text": [
      "index 6096, number 18 not in dictionary.\n"
     ]
    },
    {
     "name": "stderr",
     "output_type": "stream",
     "text": [
      "\r",
      " 85%|████████▍ | 6097/7199 [18:21:08<4:02:24, 13.20s/it]"
     ]
    },
    {
     "name": "stdout",
     "output_type": "stream",
     "text": [
      "index 6096, number 19 not in dictionary.\n"
     ]
    },
    {
     "name": "stderr",
     "output_type": "stream",
     "text": [
      " 85%|████████▌ | 6139/7199 [18:28:33<3:08:34, 10.67s/it]"
     ]
    },
    {
     "name": "stdout",
     "output_type": "stream",
     "text": [
      "index 6138, number 14 not in dictionary.\n"
     ]
    },
    {
     "name": "stderr",
     "output_type": "stream",
     "text": [
      "\r",
      " 85%|████████▌ | 6140/7199 [18:28:40<2:48:46,  9.56s/it]"
     ]
    },
    {
     "name": "stdout",
     "output_type": "stream",
     "text": [
      "index 6140, number 10 not in dictionary.\n",
      "index 6140, number 11 not in dictionary.\n"
     ]
    },
    {
     "name": "stderr",
     "output_type": "stream",
     "text": [
      "\r",
      " 85%|████████▌ | 6141/7199 [18:28:48<2:44:31,  9.33s/it]"
     ]
    },
    {
     "name": "stdout",
     "output_type": "stream",
     "text": [
      "index 6140, number 12 not in dictionary.\n"
     ]
    },
    {
     "name": "stderr",
     "output_type": "stream",
     "text": [
      " 85%|████████▌ | 6146/7199 [18:29:55<3:58:11, 13.57s/it]"
     ]
    },
    {
     "name": "stdout",
     "output_type": "stream",
     "text": [
      "index 6146, number 1 not in dictionary.\n",
      "index 6146, number 2 not in dictionary.\n",
      "index 6146, number 3 not in dictionary.\n",
      "index 6146, number 4 not in dictionary.\n",
      "index 6146, number 5 not in dictionary.\n"
     ]
    },
    {
     "name": "stderr",
     "output_type": "stream",
     "text": [
      " 85%|████████▌ | 6155/7199 [18:31:41<4:07:14, 14.21s/it]"
     ]
    },
    {
     "name": "stdout",
     "output_type": "stream",
     "text": [
      "index 6155, number 3 not in dictionary.\n",
      "index 6155, number 4 not in dictionary.\n",
      "index 6155, number 5 not in dictionary.\n",
      "index 6155, number 6 not in dictionary.\n",
      "index 6155, number 7 not in dictionary.\n"
     ]
    },
    {
     "name": "stderr",
     "output_type": "stream",
     "text": [
      " 86%|████████▌ | 6171/7199 [18:34:22<3:10:31, 11.12s/it]"
     ]
    },
    {
     "name": "stdout",
     "output_type": "stream",
     "text": [
      "index 6171, number 2 not in dictionary.\n",
      "index 6171, number 3 not in dictionary.\n",
      "index 6171, number 4 not in dictionary.\n",
      "index 6171, number 5 not in dictionary.\n",
      "index 6171, number 6 not in dictionary.\n"
     ]
    },
    {
     "name": "stderr",
     "output_type": "stream",
     "text": [
      " 86%|████████▋ | 6216/7199 [18:42:32<2:44:19, 10.03s/it]"
     ]
    },
    {
     "name": "stdout",
     "output_type": "stream",
     "text": [
      "index 6216, number 13 not in dictionary.\n",
      "index 6216, number 14 not in dictionary.\n"
     ]
    },
    {
     "name": "stderr",
     "output_type": "stream",
     "text": [
      " 87%|████████▋ | 6232/7199 [18:45:26<2:45:50, 10.29s/it]"
     ]
    },
    {
     "name": "stdout",
     "output_type": "stream",
     "text": [
      "index 6232, number 14 not in dictionary.\n"
     ]
    },
    {
     "name": "stderr",
     "output_type": "stream",
     "text": [
      " 87%|████████▋ | 6243/7199 [18:47:36<2:29:15,  9.37s/it]"
     ]
    },
    {
     "name": "stdout",
     "output_type": "stream",
     "text": [
      "index 6243, number 6 not in dictionary.\n",
      "index 6243, number 7 not in dictionary.\n",
      "index 6243, number 8 not in dictionary.\n"
     ]
    },
    {
     "name": "stderr",
     "output_type": "stream",
     "text": [
      "\r",
      " 87%|████████▋ | 6244/7199 [18:47:44<2:22:15,  8.94s/it]"
     ]
    },
    {
     "name": "stdout",
     "output_type": "stream",
     "text": [
      "index 6243, number 9 not in dictionary.\n"
     ]
    },
    {
     "name": "stderr",
     "output_type": "stream",
     "text": [
      " 87%|████████▋ | 6278/7199 [18:53:09<3:03:13, 11.94s/it]"
     ]
    },
    {
     "name": "stdout",
     "output_type": "stream",
     "text": [
      "index 6278, number 13 not in dictionary.\n",
      "index 6278, number 14 not in dictionary.\n"
     ]
    },
    {
     "name": "stderr",
     "output_type": "stream",
     "text": [
      " 87%|████████▋ | 6287/7199 [18:54:53<2:48:16, 11.07s/it]"
     ]
    },
    {
     "name": "stdout",
     "output_type": "stream",
     "text": [
      "index 6286, number 10 not in dictionary.\n"
     ]
    },
    {
     "name": "stderr",
     "output_type": "stream",
     "text": [
      " 88%|████████▊ | 6332/7199 [19:02:28<2:14:50,  9.33s/it]"
     ]
    },
    {
     "name": "stdout",
     "output_type": "stream",
     "text": [
      "index 6332, number 10 not in dictionary.\n",
      "index 6332, number 11 not in dictionary.\n"
     ]
    },
    {
     "name": "stderr",
     "output_type": "stream",
     "text": [
      "\r",
      " 88%|████████▊ | 6333/7199 [19:02:39<2:20:07,  9.71s/it]"
     ]
    },
    {
     "name": "stdout",
     "output_type": "stream",
     "text": [
      "index 6332, number 12 not in dictionary.\n"
     ]
    },
    {
     "name": "stderr",
     "output_type": "stream",
     "text": [
      " 88%|████████▊ | 6342/7199 [19:04:08<2:20:36,  9.84s/it]"
     ]
    },
    {
     "name": "stdout",
     "output_type": "stream",
     "text": [
      "index 6342, number 13 not in dictionary.\n",
      "index 6342, number 14 not in dictionary.\n",
      "index 6342, number 15 not in dictionary.\n",
      "index 6342, number 16 not in dictionary.\n",
      "index 6342, number 17 not in dictionary.\n"
     ]
    },
    {
     "name": "stderr",
     "output_type": "stream",
     "text": [
      " 88%|████████▊ | 6346/7199 [19:04:46<2:12:19,  9.31s/it]"
     ]
    },
    {
     "name": "stdout",
     "output_type": "stream",
     "text": [
      "index 6346, number 15 not in dictionary.\n",
      "index 6346, number 16 not in dictionary.\n"
     ]
    },
    {
     "name": "stderr",
     "output_type": "stream",
     "text": [
      "\r",
      " 88%|████████▊ | 6347/7199 [19:04:59<2:28:43, 10.47s/it]"
     ]
    },
    {
     "name": "stdout",
     "output_type": "stream",
     "text": [
      "index 6346, number 17 not in dictionary.\n"
     ]
    },
    {
     "name": "stderr",
     "output_type": "stream",
     "text": [
      " 88%|████████▊ | 6359/7199 [19:07:26<2:55:14, 12.52s/it]"
     ]
    },
    {
     "name": "stdout",
     "output_type": "stream",
     "text": [
      "index 6359, number 6 not in dictionary.\n"
     ]
    },
    {
     "name": "stderr",
     "output_type": "stream",
     "text": [
      " 88%|████████▊ | 6368/7199 [19:09:30<2:51:04, 12.35s/it]"
     ]
    },
    {
     "name": "stdout",
     "output_type": "stream",
     "text": [
      "index 6368, number 12 not in dictionary.\n",
      "index 6368, number 13 not in dictionary.\n",
      "index 6368, number 14 not in dictionary.\n",
      "index 6368, number 15 not in dictionary.\n",
      "index 6368, number 16 not in dictionary.\n"
     ]
    },
    {
     "name": "stderr",
     "output_type": "stream",
     "text": [
      " 89%|████████▉ | 6393/7199 [19:13:52<1:45:21,  7.84s/it]"
     ]
    },
    {
     "name": "stdout",
     "output_type": "stream",
     "text": [
      "index 6393, number 14 not in dictionary.\n",
      "index 6393, number 15 not in dictionary.\n",
      "index 6393, number 16 not in dictionary.\n",
      "index 6393, number 17 not in dictionary.\n",
      "index 6393, number 18 not in dictionary.\n"
     ]
    },
    {
     "name": "stderr",
     "output_type": "stream",
     "text": [
      " 89%|████████▉ | 6405/7199 [19:16:15<2:24:53, 10.95s/it]"
     ]
    },
    {
     "name": "stdout",
     "output_type": "stream",
     "text": [
      "index 6404, number 10 not in dictionary.\n"
     ]
    },
    {
     "name": "stderr",
     "output_type": "stream",
     "text": [
      " 89%|████████▉ | 6418/7199 [19:18:26<2:01:40,  9.35s/it]"
     ]
    },
    {
     "name": "stdout",
     "output_type": "stream",
     "text": [
      "index 6418, number 6 not in dictionary.\n",
      "index 6418, number 7 not in dictionary.\n",
      "index 6418, number 8 not in dictionary.\n",
      "index 6418, number 9 not in dictionary.\n"
     ]
    },
    {
     "name": "stderr",
     "output_type": "stream",
     "text": [
      "\r",
      " 89%|████████▉ | 6419/7199 [19:18:33<1:52:39,  8.67s/it]"
     ]
    },
    {
     "name": "stdout",
     "output_type": "stream",
     "text": [
      "index 6418, number 10 not in dictionary.\n"
     ]
    },
    {
     "name": "stderr",
     "output_type": "stream",
     "text": [
      " 90%|████████▉ | 6476/7199 [19:28:50<2:20:01, 11.62s/it]"
     ]
    },
    {
     "name": "stdout",
     "output_type": "stream",
     "text": [
      "index 6476, number 10 not in dictionary.\n",
      "index 6476, number 11 not in dictionary.\n",
      "index 6476, number 12 not in dictionary.\n",
      "index 6476, number 13 not in dictionary.\n",
      "index 6476, number 14 not in dictionary.\n"
     ]
    },
    {
     "name": "stderr",
     "output_type": "stream",
     "text": [
      " 90%|████████▉ | 6478/7199 [19:29:09<1:59:41,  9.96s/it]"
     ]
    },
    {
     "name": "stdout",
     "output_type": "stream",
     "text": [
      "index 6478, number 10 not in dictionary.\n",
      "index 6478, number 11 not in dictionary.\n",
      "index 6478, number 12 not in dictionary.\n",
      "index 6478, number 13 not in dictionary.\n",
      "index 6478, number 14 not in dictionary.\n"
     ]
    },
    {
     "name": "stderr",
     "output_type": "stream",
     "text": [
      " 90%|█████████ | 6510/7199 [19:35:48<2:41:15, 14.04s/it]"
     ]
    },
    {
     "name": "stdout",
     "output_type": "stream",
     "text": [
      "index 6509, number 19 not in dictionary.\n"
     ]
    },
    {
     "name": "stderr",
     "output_type": "stream",
     "text": [
      " 91%|█████████ | 6516/7199 [19:36:44<1:42:37,  9.01s/it]"
     ]
    },
    {
     "name": "stdout",
     "output_type": "stream",
     "text": [
      "index 6515, number 11 not in dictionary.\n"
     ]
    },
    {
     "name": "stderr",
     "output_type": "stream",
     "text": [
      " 91%|█████████ | 6529/7199 [19:39:01<1:42:22,  9.17s/it]"
     ]
    },
    {
     "name": "stdout",
     "output_type": "stream",
     "text": [
      "index 6529, number 15 not in dictionary.\n",
      "index 6529, number 16 not in dictionary.\n",
      "index 6529, number 17 not in dictionary.\n"
     ]
    },
    {
     "name": "stderr",
     "output_type": "stream",
     "text": [
      " 91%|█████████ | 6532/7199 [19:39:47<2:23:42, 12.93s/it]"
     ]
    },
    {
     "name": "stdout",
     "output_type": "stream",
     "text": [
      "index 6532, number 11 not in dictionary.\n",
      "index 6532, number 12 not in dictionary.\n",
      "index 6532, number 13 not in dictionary.\n",
      "index 6532, number 14 not in dictionary.\n"
     ]
    },
    {
     "name": "stderr",
     "output_type": "stream",
     "text": [
      " 91%|█████████ | 6539/7199 [19:41:24<2:25:21, 13.21s/it]"
     ]
    },
    {
     "name": "stdout",
     "output_type": "stream",
     "text": [
      "index 6539, number 14 not in dictionary.\n",
      "index 6539, number 15 not in dictionary.\n",
      "index 6539, number 16 not in dictionary.\n",
      "index 6539, number 17 not in dictionary.\n",
      "index 6539, number 18 not in dictionary.\n"
     ]
    },
    {
     "name": "stderr",
     "output_type": "stream",
     "text": [
      " 91%|█████████ | 6542/7199 [19:42:08<2:30:54, 13.78s/it]"
     ]
    },
    {
     "name": "stdout",
     "output_type": "stream",
     "text": [
      "index 6541, number 13 not in dictionary.\n"
     ]
    },
    {
     "name": "stderr",
     "output_type": "stream",
     "text": [
      " 91%|█████████ | 6545/7199 [19:42:27<1:41:30,  9.31s/it]"
     ]
    },
    {
     "name": "stdout",
     "output_type": "stream",
     "text": [
      "index 6545, number 13 not in dictionary.\n"
     ]
    },
    {
     "name": "stderr",
     "output_type": "stream",
     "text": [
      " 91%|█████████ | 6549/7199 [19:43:19<1:59:48, 11.06s/it]"
     ]
    },
    {
     "name": "stdout",
     "output_type": "stream",
     "text": [
      "index 6549, number 10 not in dictionary.\n",
      "index 6549, number 11 not in dictionary.\n",
      "index 6549, number 12 not in dictionary.\n",
      "index 6549, number 13 not in dictionary.\n",
      "index 6549, number 14 not in dictionary.\n"
     ]
    },
    {
     "name": "stderr",
     "output_type": "stream",
     "text": [
      "\r",
      " 91%|█████████ | 6550/7199 [19:43:35<2:17:27, 12.71s/it]"
     ]
    },
    {
     "name": "stdout",
     "output_type": "stream",
     "text": [
      "index 6550, number 12 not in dictionary.\n",
      "index 6550, number 13 not in dictionary.\n",
      "index 6550, number 14 not in dictionary.\n",
      "index 6550, number 15 not in dictionary.\n",
      "index 6550, number 16 not in dictionary.\n"
     ]
    },
    {
     "name": "stderr",
     "output_type": "stream",
     "text": [
      " 91%|█████████ | 6561/7199 [19:45:41<1:54:13, 10.74s/it]"
     ]
    },
    {
     "name": "stdout",
     "output_type": "stream",
     "text": [
      "index 6561, number 17 not in dictionary.\n"
     ]
    },
    {
     "name": "stderr",
     "output_type": "stream",
     "text": [
      " 91%|█████████▏| 6574/7199 [19:48:05<1:39:00,  9.50s/it]"
     ]
    },
    {
     "name": "stdout",
     "output_type": "stream",
     "text": [
      "index 6574, number 10 not in dictionary.\n",
      "index 6574, number 11 not in dictionary.\n",
      "index 6574, number 12 not in dictionary.\n",
      "index 6574, number 13 not in dictionary.\n",
      "index 6574, number 14 not in dictionary.\n"
     ]
    },
    {
     "name": "stderr",
     "output_type": "stream",
     "text": [
      " 92%|█████████▏| 6615/7199 [19:55:02<1:46:20, 10.93s/it]"
     ]
    },
    {
     "name": "stdout",
     "output_type": "stream",
     "text": [
      "index 6615, number 14 not in dictionary.\n"
     ]
    },
    {
     "name": "stderr",
     "output_type": "stream",
     "text": [
      " 92%|█████████▏| 6625/7199 [19:57:07<2:14:02, 14.01s/it]"
     ]
    },
    {
     "name": "stdout",
     "output_type": "stream",
     "text": [
      "index 6625, number 15 not in dictionary.\n"
     ]
    },
    {
     "name": "stderr",
     "output_type": "stream",
     "text": [
      " 92%|█████████▏| 6644/7199 [20:00:17<1:30:05,  9.74s/it]"
     ]
    },
    {
     "name": "stdout",
     "output_type": "stream",
     "text": [
      "index 6644, number 18 not in dictionary.\n"
     ]
    },
    {
     "name": "stderr",
     "output_type": "stream",
     "text": [
      " 92%|█████████▏| 6656/7199 [20:02:31<1:21:03,  8.96s/it]"
     ]
    },
    {
     "name": "stdout",
     "output_type": "stream",
     "text": [
      "index 6656, number 12 not in dictionary.\n",
      "index 6656, number 13 not in dictionary.\n",
      "index 6656, number 14 not in dictionary.\n",
      "index 6656, number 15 not in dictionary.\n"
     ]
    },
    {
     "name": "stderr",
     "output_type": "stream",
     "text": [
      "\r",
      " 92%|█████████▏| 6657/7199 [20:02:42<1:27:31,  9.69s/it]"
     ]
    },
    {
     "name": "stdout",
     "output_type": "stream",
     "text": [
      "index 6656, number 16 not in dictionary.\n"
     ]
    },
    {
     "name": "stderr",
     "output_type": "stream",
     "text": [
      " 93%|█████████▎| 6663/7199 [20:03:50<1:41:17, 11.34s/it]"
     ]
    },
    {
     "name": "stdout",
     "output_type": "stream",
     "text": [
      "index 6662, number 19 not in dictionary.\n"
     ]
    },
    {
     "name": "stderr",
     "output_type": "stream",
     "text": [
      " 93%|█████████▎| 6665/7199 [20:04:11<1:39:38, 11.20s/it]"
     ]
    },
    {
     "name": "stdout",
     "output_type": "stream",
     "text": [
      "index 6665, number 16 not in dictionary.\n",
      "index 6665, number 17 not in dictionary.\n"
     ]
    },
    {
     "name": "stderr",
     "output_type": "stream",
     "text": [
      " 93%|█████████▎| 6678/7199 [20:06:38<1:57:06, 13.49s/it]"
     ]
    },
    {
     "name": "stdout",
     "output_type": "stream",
     "text": [
      "index 6678, number 14 not in dictionary.\n",
      "index 6678, number 15 not in dictionary.\n",
      "index 6678, number 16 not in dictionary.\n",
      "index 6678, number 17 not in dictionary.\n",
      "index 6678, number 18 not in dictionary.\n"
     ]
    },
    {
     "name": "stderr",
     "output_type": "stream",
     "text": [
      " 93%|█████████▎| 6727/7199 [20:15:54<1:14:30,  9.47s/it]"
     ]
    },
    {
     "name": "stdout",
     "output_type": "stream",
     "text": [
      "index 6726, number 17 not in dictionary.\n"
     ]
    },
    {
     "name": "stderr",
     "output_type": "stream",
     "text": [
      " 93%|█████████▎| 6730/7199 [20:16:34<1:37:12, 12.44s/it]"
     ]
    },
    {
     "name": "stdout",
     "output_type": "stream",
     "text": [
      "index 6729, number 18 not in dictionary.\n"
     ]
    },
    {
     "name": "stderr",
     "output_type": "stream",
     "text": [
      "\r",
      " 93%|█████████▎| 6731/7199 [20:16:47<1:38:49, 12.67s/it]"
     ]
    },
    {
     "name": "stdout",
     "output_type": "stream",
     "text": [
      "index 6731, number 16 not in dictionary.\n"
     ]
    },
    {
     "name": "stderr",
     "output_type": "stream",
     "text": [
      " 94%|█████████▎| 6736/7199 [20:17:59<1:38:40, 12.79s/it]"
     ]
    },
    {
     "name": "stdout",
     "output_type": "stream",
     "text": [
      "index 6736, number 11 not in dictionary.\n",
      "index 6736, number 12 not in dictionary.\n",
      "index 6736, number 13 not in dictionary.\n",
      "index 6736, number 14 not in dictionary.\n",
      "index 6736, number 15 not in dictionary.\n"
     ]
    },
    {
     "name": "stderr",
     "output_type": "stream",
     "text": [
      " 94%|█████████▍| 6782/7199 [20:25:57<1:25:15, 12.27s/it]"
     ]
    },
    {
     "name": "stdout",
     "output_type": "stream",
     "text": [
      "index 6782, number 2 not in dictionary.\n",
      "index 6782, number 3 not in dictionary.\n",
      "index 6782, number 4 not in dictionary.\n",
      "index 6782, number 5 not in dictionary.\n",
      "index 6782, number 6 not in dictionary.\n"
     ]
    },
    {
     "name": "stderr",
     "output_type": "stream",
     "text": [
      " 94%|█████████▍| 6787/7199 [20:26:58<1:35:09, 13.86s/it]"
     ]
    },
    {
     "name": "stdout",
     "output_type": "stream",
     "text": [
      "index 6787, number 15 not in dictionary.\n",
      "index 6787, number 16 not in dictionary.\n",
      "index 6787, number 17 not in dictionary.\n",
      "index 6787, number 18 not in dictionary.\n"
     ]
    },
    {
     "name": "stderr",
     "output_type": "stream",
     "text": [
      "\r",
      " 94%|█████████▍| 6788/7199 [20:27:14<1:38:06, 14.32s/it]"
     ]
    },
    {
     "name": "stdout",
     "output_type": "stream",
     "text": [
      "index 6787, number 19 not in dictionary.\n"
     ]
    },
    {
     "name": "stderr",
     "output_type": "stream",
     "text": [
      " 95%|█████████▍| 6834/7199 [20:34:48<1:05:07, 10.71s/it]"
     ]
    },
    {
     "name": "stdout",
     "output_type": "stream",
     "text": [
      "index 6834, number 11 not in dictionary.\n",
      "index 6834, number 12 not in dictionary.\n",
      "index 6834, number 13 not in dictionary.\n",
      "index 6834, number 14 not in dictionary.\n",
      "index 6834, number 15 not in dictionary.\n"
     ]
    },
    {
     "name": "stderr",
     "output_type": "stream",
     "text": [
      " 95%|█████████▍| 6836/7199 [20:35:13<1:08:38, 11.35s/it]"
     ]
    },
    {
     "name": "stdout",
     "output_type": "stream",
     "text": [
      "index 6836, number 13 not in dictionary.\n",
      "index 6836, number 14 not in dictionary.\n",
      "index 6836, number 15 not in dictionary.\n",
      "index 6836, number 16 not in dictionary.\n",
      "index 6836, number 17 not in dictionary.\n"
     ]
    },
    {
     "name": "stderr",
     "output_type": "stream",
     "text": [
      " 95%|█████████▌| 6840/7199 [20:36:04<1:09:05, 11.55s/it]"
     ]
    },
    {
     "name": "stdout",
     "output_type": "stream",
     "text": [
      "index 6840, number 10 not in dictionary.\n",
      "index 6840, number 11 not in dictionary.\n"
     ]
    },
    {
     "name": "stderr",
     "output_type": "stream",
     "text": [
      "\r",
      " 95%|█████████▌| 6841/7199 [20:36:13<1:04:27, 10.80s/it]"
     ]
    },
    {
     "name": "stdout",
     "output_type": "stream",
     "text": [
      "index 6840, number 12 not in dictionary.\n"
     ]
    },
    {
     "name": "stderr",
     "output_type": "stream",
     "text": [
      " 95%|█████████▌| 6850/7199 [20:37:52<1:05:48, 11.31s/it]"
     ]
    },
    {
     "name": "stdout",
     "output_type": "stream",
     "text": [
      "index 6850, number 14 not in dictionary.\n"
     ]
    },
    {
     "name": "stderr",
     "output_type": "stream",
     "text": [
      " 96%|█████████▌| 6881/7199 [20:44:02<1:03:58, 12.07s/it]"
     ]
    },
    {
     "name": "stdout",
     "output_type": "stream",
     "text": [
      "index 6880, number 19 not in dictionary.\n"
     ]
    },
    {
     "name": "stderr",
     "output_type": "stream",
     "text": [
      " 96%|█████████▌| 6928/7199 [20:51:06<43:48,  9.70s/it]  "
     ]
    },
    {
     "name": "stdout",
     "output_type": "stream",
     "text": [
      "index 6928, number 6 not in dictionary.\n",
      "index 6928, number 7 not in dictionary.\n",
      "index 6928, number 8 not in dictionary.\n",
      "index 6928, number 9 not in dictionary.\n"
     ]
    },
    {
     "name": "stderr",
     "output_type": "stream",
     "text": [
      " 96%|█████████▋| 6934/7199 [20:52:14<51:05, 11.57s/it]"
     ]
    },
    {
     "name": "stdout",
     "output_type": "stream",
     "text": [
      "index 6934, number 13 not in dictionary.\n"
     ]
    },
    {
     "name": "stderr",
     "output_type": "stream",
     "text": [
      "\r",
      " 96%|█████████▋| 6935/7199 [20:52:28<54:05, 12.29s/it]"
     ]
    },
    {
     "name": "stdout",
     "output_type": "stream",
     "text": [
      "index 6935, number 10 not in dictionary.\n",
      "index 6935, number 11 not in dictionary.\n",
      "index 6935, number 12 not in dictionary.\n",
      "index 6935, number 13 not in dictionary.\n",
      "index 6935, number 14 not in dictionary.\n"
     ]
    },
    {
     "name": "stderr",
     "output_type": "stream",
     "text": [
      " 97%|█████████▋| 6949/7199 [20:55:06<41:38, 10.00s/it]  "
     ]
    },
    {
     "name": "stdout",
     "output_type": "stream",
     "text": [
      "index 6949, number 16 not in dictionary.\n"
     ]
    },
    {
     "name": "stderr",
     "output_type": "stream",
     "text": [
      " 97%|█████████▋| 6963/7199 [20:57:09<25:27,  6.47s/it]"
     ]
    },
    {
     "name": "stdout",
     "output_type": "stream",
     "text": [
      "index 6963, number 11 not in dictionary.\n",
      "index 6963, number 12 not in dictionary.\n",
      "index 6963, number 13 not in dictionary.\n",
      "index 6963, number 14 not in dictionary.\n"
     ]
    },
    {
     "name": "stderr",
     "output_type": "stream",
     "text": [
      " 97%|█████████▋| 6965/7199 [20:57:30<32:35,  8.36s/it]"
     ]
    },
    {
     "name": "stdout",
     "output_type": "stream",
     "text": [
      "index 6965, number 16 not in dictionary.\n",
      "index 6965, number 17 not in dictionary.\n",
      "index 6965, number 18 not in dictionary.\n"
     ]
    },
    {
     "name": "stderr",
     "output_type": "stream",
     "text": [
      "\r",
      " 97%|█████████▋| 6966/7199 [20:57:45<39:23, 10.14s/it]"
     ]
    },
    {
     "name": "stdout",
     "output_type": "stream",
     "text": [
      "index 6965, number 19 not in dictionary.\n"
     ]
    },
    {
     "name": "stderr",
     "output_type": "stream",
     "text": [
      "\r",
      " 97%|█████████▋| 6967/7199 [20:58:02<46:55, 12.14s/it]"
     ]
    },
    {
     "name": "stdout",
     "output_type": "stream",
     "text": [
      "index 6966, number 19 not in dictionary.\n"
     ]
    },
    {
     "name": "stderr",
     "output_type": "stream",
     "text": [
      " 97%|█████████▋| 6985/7199 [21:01:09<38:28, 10.79s/it]"
     ]
    },
    {
     "name": "stdout",
     "output_type": "stream",
     "text": [
      "index 6985, number 13 not in dictionary.\n",
      "index 6985, number 14 not in dictionary.\n",
      "index 6985, number 15 not in dictionary.\n",
      "index 6985, number 16 not in dictionary.\n"
     ]
    },
    {
     "name": "stderr",
     "output_type": "stream",
     "text": [
      " 97%|█████████▋| 6990/7199 [21:02:11<40:43, 11.69s/it]"
     ]
    },
    {
     "name": "stdout",
     "output_type": "stream",
     "text": [
      "index 6990, number 10 not in dictionary.\n",
      "index 6990, number 11 not in dictionary.\n",
      "index 6990, number 12 not in dictionary.\n",
      "index 6990, number 13 not in dictionary.\n",
      "index 6990, number 14 not in dictionary.\n"
     ]
    },
    {
     "name": "stderr",
     "output_type": "stream",
     "text": [
      " 98%|█████████▊| 7020/7199 [21:07:40<34:01, 11.41s/it]"
     ]
    },
    {
     "name": "stdout",
     "output_type": "stream",
     "text": [
      "index 7020, number 15 not in dictionary.\n",
      "index 7020, number 16 not in dictionary.\n"
     ]
    },
    {
     "name": "stderr",
     "output_type": "stream",
     "text": [
      "\r",
      " 98%|█████████▊| 7021/7199 [21:07:53<35:24, 11.94s/it]"
     ]
    },
    {
     "name": "stdout",
     "output_type": "stream",
     "text": [
      "index 7020, number 17 not in dictionary.\n"
     ]
    },
    {
     "name": "stderr",
     "output_type": "stream",
     "text": [
      " 98%|█████████▊| 7028/7199 [21:09:22<33:29, 11.75s/it]"
     ]
    },
    {
     "name": "stdout",
     "output_type": "stream",
     "text": [
      "index 7028, number 10 not in dictionary.\n",
      "index 7028, number 11 not in dictionary.\n",
      "index 7028, number 12 not in dictionary.\n",
      "index 7028, number 13 not in dictionary.\n",
      "index 7028, number 14 not in dictionary.\n"
     ]
    },
    {
     "name": "stderr",
     "output_type": "stream",
     "text": [
      " 98%|█████████▊| 7040/7199 [21:11:36<30:30, 11.51s/it]"
     ]
    },
    {
     "name": "stdout",
     "output_type": "stream",
     "text": [
      "index 7040, number 11 not in dictionary.\n",
      "index 7040, number 12 not in dictionary.\n",
      "index 7040, number 13 not in dictionary.\n",
      "index 7040, number 14 not in dictionary.\n",
      "index 7040, number 15 not in dictionary.\n"
     ]
    },
    {
     "name": "stderr",
     "output_type": "stream",
     "text": [
      " 98%|█████████▊| 7070/7199 [21:17:15<25:34, 11.89s/it]"
     ]
    },
    {
     "name": "stdout",
     "output_type": "stream",
     "text": [
      "index 7070, number 13 not in dictionary.\n",
      "index 7070, number 14 not in dictionary.\n",
      "index 7070, number 15 not in dictionary.\n",
      "index 7070, number 16 not in dictionary.\n",
      "index 7070, number 17 not in dictionary.\n"
     ]
    },
    {
     "name": "stderr",
     "output_type": "stream",
     "text": [
      " 98%|█████████▊| 7072/7199 [21:17:47<29:26, 13.91s/it]"
     ]
    },
    {
     "name": "stdout",
     "output_type": "stream",
     "text": [
      "index 7072, number 4 not in dictionary.\n",
      "index 7072, number 5 not in dictionary.\n",
      "index 7072, number 6 not in dictionary.\n",
      "index 7072, number 7 not in dictionary.\n",
      "index 7072, number 8 not in dictionary.\n"
     ]
    },
    {
     "name": "stderr",
     "output_type": "stream",
     "text": [
      " 98%|█████████▊| 7084/7199 [21:19:49<22:05, 11.53s/it]"
     ]
    },
    {
     "name": "stdout",
     "output_type": "stream",
     "text": [
      "index 7084, number 10 not in dictionary.\n",
      "index 7084, number 11 not in dictionary.\n",
      "index 7084, number 12 not in dictionary.\n"
     ]
    },
    {
     "name": "stderr",
     "output_type": "stream",
     "text": [
      "\r",
      " 98%|█████████▊| 7085/7199 [21:19:57<19:52, 10.46s/it]"
     ]
    },
    {
     "name": "stdout",
     "output_type": "stream",
     "text": [
      "index 7085, number 17 not in dictionary.\n"
     ]
    },
    {
     "name": "stderr",
     "output_type": "stream",
     "text": [
      "\r",
      " 98%|█████████▊| 7086/7199 [21:20:11<21:46, 11.56s/it]"
     ]
    },
    {
     "name": "stdout",
     "output_type": "stream",
     "text": [
      "index 7085, number 18 not in dictionary.\n",
      "index 7086, number 5 not in dictionary.\n",
      "index 7086, number 6 not in dictionary.\n",
      "index 7086, number 7 not in dictionary.\n",
      "index 7086, number 8 not in dictionary.\n",
      "index 7086, number 9 not in dictionary.\n"
     ]
    },
    {
     "name": "stderr",
     "output_type": "stream",
     "text": [
      " 99%|█████████▊| 7109/7199 [21:24:10<11:04,  7.39s/it]"
     ]
    },
    {
     "name": "stdout",
     "output_type": "stream",
     "text": [
      "index 7109, number 15 not in dictionary.\n"
     ]
    },
    {
     "name": "stderr",
     "output_type": "stream",
     "text": [
      " 99%|█████████▉| 7115/7199 [21:25:10<14:32, 10.39s/it]"
     ]
    },
    {
     "name": "stdout",
     "output_type": "stream",
     "text": [
      "index 7114, number 15 not in dictionary.\n"
     ]
    },
    {
     "name": "stderr",
     "output_type": "stream",
     "text": [
      " 99%|█████████▉| 7125/7199 [21:26:51<09:47,  7.94s/it]"
     ]
    },
    {
     "name": "stdout",
     "output_type": "stream",
     "text": [
      "index 7125, number 6 not in dictionary.\n",
      "index 7125, number 7 not in dictionary.\n",
      "index 7125, number 8 not in dictionary.\n",
      "index 7125, number 9 not in dictionary.\n",
      "index 7125, number 10 not in dictionary.\n"
     ]
    },
    {
     "name": "stderr",
     "output_type": "stream",
     "text": [
      "100%|█████████▉| 7169/7199 [21:34:17<05:15, 10.50s/it]"
     ]
    },
    {
     "name": "stdout",
     "output_type": "stream",
     "text": [
      "index 7169, number 10 not in dictionary.\n",
      "index 7169, number 11 not in dictionary.\n",
      "index 7169, number 12 not in dictionary.\n",
      "index 7169, number 13 not in dictionary.\n",
      "index 7169, number 14 not in dictionary.\n"
     ]
    },
    {
     "name": "stderr",
     "output_type": "stream",
     "text": [
      "100%|█████████▉| 7198/7199 [21:39:50<00:11, 11.24s/it]"
     ]
    },
    {
     "name": "stdout",
     "output_type": "stream",
     "text": [
      "index 7198, number 17 not in dictionary.\n",
      "index 7198, number 18 not in dictionary.\n"
     ]
    },
    {
     "name": "stderr",
     "output_type": "stream",
     "text": [
      "100%|██████████| 7199/7199 [21:40:05<00:00, 10.84s/it]\n"
     ]
    }
   ],
   "source": [
    "adversarial_claims = get_adversarial_list_of_texts()"
   ]
  },
  {
   "cell_type": "code",
   "execution_count": 21,
   "id": "59dbc57e",
   "metadata": {
    "scrolled": false
   },
   "outputs": [
    {
     "name": "stdout",
     "output_type": "stream",
     "text": [
      "In the text below two people are discussing a story.\n",
      "\n",
      "Story:\n",
      "Did you know that Albert Einstein could not speak until he was four years old, and did not read until he was At age four? His parents and teachers worried about his rnenta1ability. \n",
      "\n",
      "Beethoven's music teacher said about him,\"As a composer he is hopeless.\" What if this young boy believed it? \n",
      "\n",
      "When Thomas Edison was a young boy,his teachers said he was so stupid that he could never learn anything.He once said,''I remember I used to never be able to get along at schoo1.I was always at the foot of my class...My father thought I was stupid,and I almost decided that l was a stupid person.\"What if young Thomas believed what may said about him? \n",
      "\n",
      "When the sculptor Auguste Rodin was young; he had difficulty Reading and writing and write.:. Today, we may say he had a learning disability. His father said of him, \"I have an idiot for a son. \"His uncle agreed. \"He's uneducable,\" he said. What if Rodin had doubted his ability? \n",
      "\n",
      "Walt Disney was once fired by a newspaper editor because he was thought to have no \"good ideas\". Enrico Caruso was told by one music teacher, \"you can't sing. You have no voice at all. \" And an editor told Louisa May Alcott that she was unable to write anything that would have popular appeal. \n",
      "\n",
      "What if these people had listened and become discouraged? Where would our world be without the music of Beethoven, the art of Rodin or the ideas of Albert Einstein and Walt Disney? As Oscar Levant once said, \"It's not what you are but what you don't become that hurts. \" \n",
      "\n",
      "You have great potential.When you believe in all you can be, rather than all you cannot become, you will find your place on earth.\n",
      "\n",
      "Discussion:\n",
      "Q: When did he start reading?\n",
      "A: At age four\n",
      "Q: What did he have difficulty with as a youngster?\n",
      "A: Reading and writing\n",
      "\n"
     ]
    }
   ],
   "source": [
    "print(adversarial_claims[0])"
   ]
  },
  {
   "cell_type": "code",
   "execution_count": 22,
   "id": "ba5d9072",
   "metadata": {
    "scrolled": true
   },
   "outputs": [],
   "source": [
    "json.dump(adversarial_claims, open('../data/adversarial_claims.json', 'w'))"
   ]
  },
  {
   "cell_type": "code",
   "execution_count": null,
   "id": "74af6a20",
   "metadata": {},
   "outputs": [],
   "source": []
  }
 ],
 "metadata": {
  "kernelspec": {
   "display_name": "dispatcher",
   "language": "python",
   "name": "dispatcher"
  },
  "language_info": {
   "codemirror_mode": {
    "name": "ipython",
    "version": 3
   },
   "file_extension": ".py",
   "mimetype": "text/x-python",
   "name": "python",
   "nbconvert_exporter": "python",
   "pygments_lexer": "ipython3",
   "version": "3.6.9"
  }
 },
 "nbformat": 4,
 "nbformat_minor": 5
}
