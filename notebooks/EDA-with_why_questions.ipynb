{
 "cells": [
  {
   "cell_type": "code",
   "execution_count": 1,
   "metadata": {},
   "outputs": [],
   "source": [
    "import json\n",
    "import random"
   ]
  },
  {
   "cell_type": "code",
   "execution_count": 2,
   "metadata": {},
   "outputs": [],
   "source": [
    "train_dict = json.load(open('../data/coqa-train-v1.0.json', encoding='utf8'))\n",
    "dev_dict = json.load(open('../data/coqa-dev-v1.0.json', encoding='utf8'))"
   ]
  },
  {
   "cell_type": "code",
   "execution_count": 3,
   "metadata": {},
   "outputs": [],
   "source": [
    "random.seed(42)\n",
    "\n",
    "questions = [\"Why?\", \"What is the reason?\", \"The reason is\", \"What is the explanation?\", \"Explain\"]\n",
    "prob_to_ask_why = 0.2\n",
    "\n",
    "def get_text_list(data):\n",
    "    texts_list = []\n",
    "    for item in data:\n",
    "        text = 'In the text below two people are discussing a story.\\n\\n'\n",
    "        text += 'Story:\\n' + item['story'] + '\\n\\n'\n",
    "        text += 'Discussion:\\n'\n",
    "        for q, a in zip(item['questions'], item['answers']):\n",
    "        \n",
    "            text += 'Q: ' + q['input_text'] + '\\n'\n",
    "            text += 'A: ' + a['input_text'] + '\\n'\n",
    "            if random.uniform(0, 1) < prob_to_ask_why:\n",
    "                text += 'Q: ' + random.choice(questions) + '\\n'\n",
    "                text += 'A: ' + a['span_text'].strip() + '\\n'\n",
    "            \n",
    "        texts_list.append(text)\n",
    "\n",
    "    return texts_list"
   ]
  },
  {
   "cell_type": "code",
   "execution_count": 4,
   "metadata": {},
   "outputs": [],
   "source": [
    "train_texts_list = get_text_list(train_dict['data'])\n",
    "dev_texts_list = get_text_list(dev_dict['data'])"
   ]
  },
  {
   "cell_type": "code",
   "execution_count": 5,
   "metadata": {},
   "outputs": [],
   "source": [
    "with open('../data/qa_train_list_with_why.json', 'w') as f:\n",
    "    json.dump(train_texts_list, f)\n",
    "with open('../data/qa_dev_list_with_why.json', 'w') as f:\n",
    "    json.dump(dev_texts_list, f)"
   ]
  },
  {
   "cell_type": "code",
   "execution_count": null,
   "metadata": {},
   "outputs": [],
   "source": []
  }
 ],
 "metadata": {
  "environment": {
   "name": "pytorch-gpu.1-7.mnightly-2021-02-12-debian-10-test",
   "type": "gcloud",
   "uri": "gcr.io/deeplearning-platform-release/pytorch-gpu.1-7:mnightly-2021-02-12-debian-10-test"
  },
  "kernelspec": {
   "display_name": "dispatcher",
   "language": "python",
   "name": "dispatcher"
  },
  "language_info": {
   "codemirror_mode": {
    "name": "ipython",
    "version": 3
   },
   "file_extension": ".py",
   "mimetype": "text/x-python",
   "name": "python",
   "nbconvert_exporter": "python",
   "pygments_lexer": "ipython3",
   "version": "3.6.9"
  }
 },
 "nbformat": 4,
 "nbformat_minor": 4
}
