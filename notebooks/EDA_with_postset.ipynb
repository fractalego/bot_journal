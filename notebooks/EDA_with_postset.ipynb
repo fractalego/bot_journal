{
 "cells": [
  {
   "cell_type": "code",
   "execution_count": 4,
   "metadata": {},
   "outputs": [],
   "source": [
    "import json"
   ]
  },
  {
   "cell_type": "code",
   "execution_count": 5,
   "metadata": {},
   "outputs": [],
   "source": [
    "train_dict = json.load(open('../data/coqa-train-v1.0.json', encoding='utf8'))\n",
    "dev_dict = json.load(open('../data/coqa-dev-v1.0.json', encoding='utf8'))"
   ]
  },
  {
   "cell_type": "code",
   "execution_count": 6,
   "metadata": {},
   "outputs": [],
   "source": [
    "def get_text_list(data):\n",
    "    texts_list = []\n",
    "    for item in data:\n",
    "        text = 'In the text below two people are discussing a story.\\n\\n'\n",
    "        text += 'Story:\\n' + item['story'] + '\\n\\n'\n",
    "        text += 'Discussion:\\n'\n",
    "        text += '\\n'.join(['Q: ' + q['input_text'] \n",
    "                           + '\\nA: ' + a['input_text'] \n",
    "                           + '\\nSpan: ' + str(a['span_text'] if a['span_text'] != 'unknown' else '')                           \n",
    "                           for q, a in zip(item['questions'], item['answers']) \n",
    "                          ])\n",
    "        texts_list.append(text)\n",
    "\n",
    "    return texts_list"
   ]
  },
  {
   "cell_type": "code",
   "execution_count": 7,
   "metadata": {},
   "outputs": [],
   "source": [
    "train_texts_list = get_text_list(train_dict['data'])\n",
    "dev_texts_list = get_text_list(dev_dict['data'])"
   ]
  },
  {
   "cell_type": "code",
   "execution_count": 10,
   "metadata": {},
   "outputs": [],
   "source": [
    "with open('../data/train_list_with_postsets.json', 'w') as f:\n",
    "    json.dump(train_texts_list, f)\n",
    "with open('../data/dev_list_with_postsets.json', 'w') as f:\n",
    "    json.dump(dev_texts_list, f)"
   ]
  },
  {
   "cell_type": "code",
   "execution_count": 11,
   "metadata": {},
   "outputs": [
    {
     "name": "stdout",
     "output_type": "stream",
     "text": [
      "In the text below two people are discussing a story.\n",
      "\n",
      "Story:\n",
      "When he was a teenager, Hunter Adam was very unhappy and he spent many years in a special hospital for people with mental health problems. When he left the hospital, Adam decided to become a doctor, so he went to a medical school in Virginia, USA. But when he was there, he did things in a different way. For example, he didn't like the doctor's white coats, so he wore shirts with flowers on them when he visited his patients and he tried to make them laugh. The doctors at the medical school didn't like Adams because he was too different. But Adams believed that people in hospital need more than medicine. He saw unhappy and lonely people, and he tried to help them as patients, but as people too. He spent a lot of time with children in the hospital and often dressed up like a clown to make the children laugh When he finished medical school and become a doctor, Adams opened his own hospital, called \"the Gusundheit Institute\",together with some other doctors. They wanted it to be a place with a different way of working with sick people. Hunter Adams became famous during the 1980s, and in 1988, Universal Pictures made a film about his life. It was very successful. In the film, Robin Williams played Adams. Williams said,:\"hunter is a really warm person, who believes that patients need a doctor who is a friend. I enjoyed playing him.\"\n",
      "\n",
      "Discussion:\n",
      "Q: What did Adam want to be?\n",
      "A: A doctor\n",
      "Span: When he left the hospital, Adam decided to become a doctor, \n",
      "Q: Why?\n",
      "A: Because he spent many years in a special hospital for people with mental health problems.\n",
      "Span: When he was a teenager, Hunter Adam was very unhappy and he spent many years in a special hospital for people with mental health problems.\n",
      "Q: Did he go to college?\n",
      "A: Yes\n",
      "Span: so he went to a medical school in Virginia, USA.\n",
      "Q: Where?\n",
      "A: Virginia, USA.\n",
      "Span: so he went to a medical school in Virginia, USA.\n",
      "Q: Was he like everyone else?\n",
      "A: No.\n",
      "Span: But when he was there, he did things in a different way.\n",
      "Q: What did he do that was odd?\n",
      "A: He wore shirts with flowers on them when he visited his patients.\n",
      "Span: so he wore shirts with flowers on them when he visited his patients\n",
      "Q: Who did he see a lot?\n",
      "A: Children.\n",
      "Span: He spent a lot of time with children in the hospital\n",
      "Q: Did he do anything special for them?\n",
      "A: Yes\n",
      "Span: often dressed up like a clown to make the children laugh\n",
      "Q: What?\n",
      "A: He often dressed up like a clown to make the children laugh.\n",
      "Span: often dressed up like a clown to make the children laugh\n",
      "Q: Where did he work after graduation?\n",
      "A: The Gusundheit Institute.\n",
      "Span: Adams opened his own hospital, called \"the Gusundheit Institute\",together with some other doctors\n",
      "Q: Was there anything unique about it?\n",
      "A: Yes.\n",
      "Span: They wanted it to be a place with a different way of working with sick people.\n",
      "Q: What?\n",
      "A: unknown\n",
      "Span: \n",
      "Q: Who made a movie about him?\n",
      "A: Universal Pictures\n",
      "Span: Universal Pictures made a film about his life\n",
      "Q: When?\n",
      "A: 1988\n",
      "Span: and in 1988, Universal Pictures made a film about his life.\n",
      "Q: Who played him?\n",
      "A: Robin Williams\n",
      "Span: Robin Williams played Adams.\n"
     ]
    }
   ],
   "source": [
    "print(train_texts_list[118])"
   ]
  },
  {
   "cell_type": "code",
   "execution_count": null,
   "metadata": {},
   "outputs": [],
   "source": []
  }
 ],
 "metadata": {
  "environment": {
   "name": "pytorch-gpu.1-7.mnightly-2021-02-12-debian-10-test",
   "type": "gcloud",
   "uri": "gcr.io/deeplearning-platform-release/pytorch-gpu.1-7:mnightly-2021-02-12-debian-10-test"
  },
  "kernelspec": {
   "display_name": "Python 3",
   "language": "python",
   "name": "python3"
  },
  "language_info": {
   "codemirror_mode": {
    "name": "ipython",
    "version": 3
   },
   "file_extension": ".py",
   "mimetype": "text/x-python",
   "name": "python",
   "nbconvert_exporter": "python",
   "pygments_lexer": "ipython3",
   "version": "3.7.9"
  }
 },
 "nbformat": 4,
 "nbformat_minor": 4
}
