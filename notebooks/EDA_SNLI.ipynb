{
 "cells": [
  {
   "cell_type": "code",
   "execution_count": 1,
   "id": "2bb85ca4",
   "metadata": {},
   "outputs": [],
   "source": [
    "import os\n",
    "import json"
   ]
  },
  {
   "cell_type": "code",
   "execution_count": 13,
   "id": "4b5e0138",
   "metadata": {},
   "outputs": [],
   "source": [
    "train_dicts = [json.loads(item) for item in open('../data/snli_1.0_train.jsonl', encoding='utf8').readlines()]\n",
    "dev_dicts = [json.loads(item) for item in open('../data/snli_1.0_dev.jsonl', encoding='utf8').readlines()]"
   ]
  },
  {
   "cell_type": "code",
   "execution_count": 4,
   "id": "876124e3",
   "metadata": {},
   "outputs": [],
   "source": [
    "def populate_texts_for_label(data_dicts, label):\n",
    "    all_texts = []\n",
    "\n",
    "    for item in data_dicts:\n",
    "        if item['gold_label'] == label:\n",
    "            all_texts.append('Evidence:\\n'\n",
    "                             + item['sentence1'] + '\\n\\n\\n'\n",
    "                             + 'Claim:\\n'\n",
    "                             + item['sentence2']\n",
    "                            )\n",
    "    return all_texts"
   ]
  },
  {
   "cell_type": "code",
   "execution_count": 14,
   "id": "0f6908e9",
   "metadata": {},
   "outputs": [],
   "source": [
    "supporting_texts = populate_texts_for_label(train_dicts, 'entailment')\n",
    "refuting_texts = populate_texts_for_label(train_dicts, 'contradiction')\n",
    "\n",
    "dev_supporting_texts = populate_texts_for_label(dev_dicts, 'entailment')\n",
    "dev_refuting_texts = populate_texts_for_label(dev_dicts, 'contradiction')"
   ]
  },
  {
   "cell_type": "code",
   "execution_count": 15,
   "id": "07afd4d8",
   "metadata": {},
   "outputs": [
    {
     "data": {
      "text/plain": [
       "183416"
      ]
     },
     "execution_count": 15,
     "metadata": {},
     "output_type": "execute_result"
    }
   ],
   "source": [
    "len(supporting_texts)"
   ]
  },
  {
   "cell_type": "code",
   "execution_count": 16,
   "id": "638d6c13",
   "metadata": {},
   "outputs": [
    {
     "data": {
      "text/plain": [
       "183187"
      ]
     },
     "execution_count": 16,
     "metadata": {},
     "output_type": "execute_result"
    }
   ],
   "source": [
    "len(refuting_texts)"
   ]
  },
  {
   "cell_type": "code",
   "execution_count": 17,
   "id": "3958054f",
   "metadata": {},
   "outputs": [
    {
     "data": {
      "text/plain": [
       "3329"
      ]
     },
     "execution_count": 17,
     "metadata": {},
     "output_type": "execute_result"
    }
   ],
   "source": [
    "len(dev_supporting_texts)"
   ]
  },
  {
   "cell_type": "code",
   "execution_count": 18,
   "id": "f9a76046",
   "metadata": {},
   "outputs": [
    {
     "data": {
      "text/plain": [
       "3278"
      ]
     },
     "execution_count": 18,
     "metadata": {},
     "output_type": "execute_result"
    }
   ],
   "source": [
    "len(dev_refuting_texts)"
   ]
  },
  {
   "cell_type": "code",
   "execution_count": 19,
   "id": "623dd6bb",
   "metadata": {},
   "outputs": [
    {
     "name": "stdout",
     "output_type": "stream",
     "text": [
      "Evidence:\n",
      "Two women, holding food carryout containers, hug.\n",
      "\n",
      "\n",
      "Claim:\n",
      "Two women hug each other.\n"
     ]
    }
   ],
   "source": [
    "print(supporting_texts[8])"
   ]
  },
  {
   "cell_type": "code",
   "execution_count": 20,
   "id": "5607f826",
   "metadata": {},
   "outputs": [],
   "source": [
    "json.dump(supporting_texts, open('../data/snli_supporting.json', 'w'))\n",
    "json.dump(refuting_texts, open('../data/snli_refuting.json', 'w'))"
   ]
  },
  {
   "cell_type": "code",
   "execution_count": 21,
   "id": "8f59d3b4",
   "metadata": {},
   "outputs": [],
   "source": [
    "json.dump(dev_supporting_texts, open('../data/dev_snli_supporting.json', 'w'))\n",
    "json.dump(dev_refuting_texts, open('../data/dev_snli_refuting.json', 'w'))"
   ]
  },
  {
   "cell_type": "code",
   "execution_count": null,
   "id": "ff0f129d",
   "metadata": {},
   "outputs": [],
   "source": []
  }
 ],
 "metadata": {
  "kernelspec": {
   "display_name": "dispatcher",
   "language": "python",
   "name": "dispatcher"
  },
  "language_info": {
   "codemirror_mode": {
    "name": "ipython",
    "version": 3
   },
   "file_extension": ".py",
   "mimetype": "text/x-python",
   "name": "python",
   "nbconvert_exporter": "python",
   "pygments_lexer": "ipython3",
   "version": "3.6.9"
  }
 },
 "nbformat": 4,
 "nbformat_minor": 5
}
