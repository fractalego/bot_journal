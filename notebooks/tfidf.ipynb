{
 "cells": [
  {
   "cell_type": "code",
   "execution_count": 1,
   "id": "ccb9bc04",
   "metadata": {},
   "outputs": [],
   "source": [
    "import glob\n",
    "import torchtext\n",
    "import random\n",
    "import joblib\n",
    "\n",
    "from sklearn.feature_extraction.text import TfidfVectorizer\n",
    "from sklearn.feature_extraction import text as sk_text"
   ]
  },
  {
   "cell_type": "code",
   "execution_count": 2,
   "id": "2aa88b5d",
   "metadata": {},
   "outputs": [],
   "source": [
    "train, dev, test = torchtext.datasets.WikiText103()"
   ]
  },
  {
   "cell_type": "code",
   "execution_count": 3,
   "id": "80b61636",
   "metadata": {},
   "outputs": [],
   "source": [
    "corpus = [item for item in train + dev + test]"
   ]
  },
  {
   "cell_type": "code",
   "execution_count": 4,
   "id": "f1deed44",
   "metadata": {},
   "outputs": [
    {
     "data": {
      "text/plain": [
       "['../data/tfidf.joblib']"
      ]
     },
     "execution_count": 4,
     "metadata": {},
     "output_type": "execute_result"
    }
   ],
   "source": [
    "tfidf = TfidfVectorizer(ngram_range= (1,4), stop_words=sk_text.ENGLISH_STOP_WORDS, max_features=100000, norm='l2', min_df=5, use_idf=True, lowercase=True)\n",
    "random.shuffle(corpus)\n",
    "\n",
    "tfidf.fit(corpus[:100000])\n",
    "joblib.dump(tfidf, '../data/tfidf.joblib')"
   ]
  },
  {
   "cell_type": "code",
   "execution_count": null,
   "id": "54098ab3",
   "metadata": {},
   "outputs": [],
   "source": []
  }
 ],
 "metadata": {
  "kernelspec": {
   "display_name": "Bot",
   "language": "python",
   "name": "bot"
  },
  "language_info": {
   "codemirror_mode": {
    "name": "ipython",
    "version": 3
   },
   "file_extension": ".py",
   "mimetype": "text/x-python",
   "name": "python",
   "nbconvert_exporter": "python",
   "pygments_lexer": "ipython3",
   "version": "3.6.9"
  }
 },
 "nbformat": 4,
 "nbformat_minor": 5
}
