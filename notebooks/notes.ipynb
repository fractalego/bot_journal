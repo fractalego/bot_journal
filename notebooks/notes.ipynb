{
 "cells": [
  {
   "cell_type": "markdown",
   "id": "8197990b",
   "metadata": {},
   "source": [
    "## Notes about fact checking:\n",
    "\n",
    "* FEVER does not seem to help\n",
    "* gpt2 on fever has ~95% f1\n",
    "* gpt2 trained on fever and then fine-tuned on coqa has ~84% f1\n",
    "* IT STILL DOES NOT HELP!!! Multi-answer gpt2 + fact checking does not improve upon gpt2 alone baseline\n",
    "\n",
    "* y or n answers have about 80% accuracy with gp2\n",
    "* fever gives about 75% for y/n answers"
   ]
  }
 ],
 "metadata": {
  "kernelspec": {
   "display_name": "dispatcher",
   "language": "python",
   "name": "dispatcher"
  },
  "language_info": {
   "codemirror_mode": {
    "name": "ipython",
    "version": 3
   },
   "file_extension": ".py",
   "mimetype": "text/x-python",
   "name": "python",
   "nbconvert_exporter": "python",
   "pygments_lexer": "ipython3",
   "version": "3.6.9"
  }
 },
 "nbformat": 4,
 "nbformat_minor": 5
}
