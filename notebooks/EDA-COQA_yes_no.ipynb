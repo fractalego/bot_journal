{
 "cells": [
  {
   "cell_type": "code",
   "execution_count": 1,
   "metadata": {},
   "outputs": [],
   "source": [
    "import json"
   ]
  },
  {
   "cell_type": "code",
   "execution_count": 2,
   "metadata": {},
   "outputs": [],
   "source": [
    "train_dict = json.load(open('../data/coqa-train-v1.0.json', encoding='utf8'))\n",
    "dev_dict = json.load(open('../data/coqa-dev-v1.0.json', encoding='utf8'))"
   ]
  },
  {
   "cell_type": "code",
   "execution_count": 24,
   "metadata": {},
   "outputs": [],
   "source": [
    "def get_text_list(data):\n",
    "    yes_list = []\n",
    "    no_list = []\n",
    "    for item in data:\n",
    "        for last_question in range(1, min(len(item['questions']) + 1, 5)):\n",
    "            text = '\\n'.join(['Q: ' + q['input_text'] \n",
    "                               + '\\nA: ' + a['input_text']\n",
    "                               for q, a in zip(item['questions'][:last_question], item['answers'][:last_question])\n",
    "                              ])\n",
    "            if item['answers'][last_question - 1]['input_text'].lower() in ['yes', 'yes.']:\n",
    "                yes_list.append(text)\n",
    "            if item['answers'][last_question - 1]['input_text'].lower() in ['no', 'no.']:\n",
    "                no_list.append(text)\n",
    "\n",
    "    return yes_list, no_list"
   ]
  },
  {
   "cell_type": "code",
   "execution_count": 25,
   "metadata": {},
   "outputs": [],
   "source": [
    "yes_list, no_list = get_text_list(train_dict['data'])"
   ]
  },
  {
   "cell_type": "code",
   "execution_count": 27,
   "metadata": {},
   "outputs": [
    {
     "name": "stdout",
     "output_type": "stream",
     "text": [
      "Q: who recently had heart surgery?\n",
      "A: Nicole Hobson\n",
      "Q: what should the driver have done?\n",
      "A: made radio call to the control center\n",
      "Q: where did he leave them off?\n",
      "A: a block from the hospital\n",
      "Q: did the driver help?\n",
      "A: no\n"
     ]
    }
   ],
   "source": [
    "print(no_list[1])"
   ]
  },
  {
   "cell_type": "code",
   "execution_count": 28,
   "metadata": {},
   "outputs": [
    {
     "data": {
      "text/plain": [
       "(2076, 1698)"
      ]
     },
     "execution_count": 28,
     "metadata": {},
     "output_type": "execute_result"
    }
   ],
   "source": [
    "len(yes_list), len(no_list)"
   ]
  },
  {
   "cell_type": "code",
   "execution_count": 31,
   "metadata": {},
   "outputs": [],
   "source": [
    "import pandas as pd\n",
    "\n",
    "df = pd.DataFrame({'discussion': yes_list})\n",
    "df.to_csv('../data/yes_list_to_fill.csv')\n",
    "\n",
    "df = pd.DataFrame({'discussion': no_list})\n",
    "df.to_csv('../data/no_list_to_fill.csv')"
   ]
  },
  {
   "cell_type": "code",
   "execution_count": null,
   "metadata": {},
   "outputs": [],
   "source": []
  }
 ],
 "metadata": {
  "environment": {
   "name": "pytorch-gpu.1-7.mnightly-2021-02-12-debian-10-test",
   "type": "gcloud",
   "uri": "gcr.io/deeplearning-platform-release/pytorch-gpu.1-7:mnightly-2021-02-12-debian-10-test"
  },
  "kernelspec": {
   "display_name": "dispatcher",
   "language": "python",
   "name": "dispatcher"
  },
  "language_info": {
   "codemirror_mode": {
    "name": "ipython",
    "version": 3
   },
   "file_extension": ".py",
   "mimetype": "text/x-python",
   "name": "python",
   "nbconvert_exporter": "python",
   "pygments_lexer": "ipython3",
   "version": "3.6.9"
  }
 },
 "nbformat": 4,
 "nbformat_minor": 4
}
