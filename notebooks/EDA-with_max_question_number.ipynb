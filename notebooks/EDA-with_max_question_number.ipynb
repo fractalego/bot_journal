{
 "cells": [
  {
   "cell_type": "code",
   "execution_count": 3,
   "metadata": {},
   "outputs": [],
   "source": [
    "import json"
   ]
  },
  {
   "cell_type": "code",
   "execution_count": 4,
   "metadata": {},
   "outputs": [],
   "source": [
    "train_dict = json.load(open('../data/coqa-train-v1.0.json', encoding='utf8'))\n",
    "dev_dict = json.load(open('../data/coqa-dev-v1.0.json', encoding='utf8'))"
   ]
  },
  {
   "cell_type": "code",
   "execution_count": 9,
   "metadata": {},
   "outputs": [],
   "source": [
    "def get_text_list(data):\n",
    "    texts_list = []\n",
    "    for item in data:\n",
    "        for multiplier_index in range(len(item['questions'])//5):\n",
    "            text = 'In the text below two people are discussing a story.\\n\\n'\n",
    "            text += 'Story:\\n' + item['story'] + '\\n\\n'\n",
    "            text += 'Discussion:\\n'\n",
    "            text += '\\n'.join(['Q: ' + q['input_text'] \n",
    "                               + '\\nA: ' + a['input_text'] \n",
    "                               for q, a in list(zip(item['questions'], item['answers']))[multiplier_index*5:(multiplier_index+1)*5]\n",
    "                              ])\n",
    "            texts_list.append(text)\n",
    "\n",
    "    return texts_list"
   ]
  },
  {
   "cell_type": "code",
   "execution_count": 10,
   "metadata": {},
   "outputs": [],
   "source": [
    "train_texts = get_text_list(train_dict['data'])\n",
    "dev_texts = get_text_list(dev_dict['data'])"
   ]
  },
  {
   "cell_type": "code",
   "execution_count": 14,
   "metadata": {},
   "outputs": [
    {
     "name": "stdout",
     "output_type": "stream",
     "text": [
      "In the text below two people are discussing a story.\n",
      "\n",
      "Story:\n",
      "The Vatican Apostolic Library (), more commonly called the Vatican Library or simply the Vat, is the library of the Holy See, located in Vatican City. Formally established in 1475, although it is much older, it is one of the oldest libraries in the world and contains one of the most significant collections of historical texts. It has 75,000 codices from throughout history, as well as 1.1 million printed books, which include some 8,500 incunabula. \n",
      "\n",
      "The Vatican Library is a research library for history, law, philosophy, science and theology. The Vatican Library is open to anyone who can document their qualifications and research needs. Photocopies for private study of pages from books published between 1801 and 1990 can be requested in person or by mail. \n",
      "\n",
      "In March 2014, the Vatican Library began an initial four-year project of digitising its collection of manuscripts, to be made available online. \n",
      "\n",
      "The Vatican Secret Archives were separated from the library at the beginning of the 17th century; they contain another 150,000 items. \n",
      "\n",
      "Scholars have traditionally divided the history of the library into five periods, Pre-Lateran, Lateran, Avignon, Pre-Vatican and Vatican. \n",
      "\n",
      "The Pre-Lateran period, comprising the initial days of the library, dated from the earliest days of the Church. Only a handful of volumes survive from this period, though some are very significant.\n",
      "\n",
      "Discussion:\n",
      "Q: when were the Secret Archives moved from the rest of the library?\n",
      "A: at the beginning of the 17th century;\n",
      "Q: how many items are in this secret collection?\n",
      "A: 150,000\n",
      "Q: Can anyone use this library?\n",
      "A: anyone who can document their qualifications and research needs.\n",
      "Q: what must be requested to view?\n",
      "A: unknown\n",
      "Q: what must be requested in person or by mail?\n",
      "A: Photocopies\n"
     ]
    }
   ],
   "source": [
    "print(train_texts[2])"
   ]
  },
  {
   "cell_type": "code",
   "execution_count": 15,
   "metadata": {},
   "outputs": [
    {
     "data": {
      "text/plain": [
       "20184"
      ]
     },
     "execution_count": 15,
     "metadata": {},
     "output_type": "execute_result"
    }
   ],
   "source": [
    "len(train_texts)"
   ]
  },
  {
   "cell_type": "code",
   "execution_count": 16,
   "metadata": {},
   "outputs": [],
   "source": [
    "with open('../data/qa_train_list.json', 'w') as f:\n",
    "    json.dump(train_texts, f)\n",
    "with open('../data/qa_dev_list.json', 'w') as f:\n",
    "    json.dump(dev_texts, f)"
   ]
  },
  {
   "cell_type": "code",
   "execution_count": null,
   "metadata": {},
   "outputs": [],
   "source": []
  }
 ],
 "metadata": {
  "environment": {
   "name": "pytorch-gpu.1-7.mnightly-2021-02-12-debian-10-test",
   "type": "gcloud",
   "uri": "gcr.io/deeplearning-platform-release/pytorch-gpu.1-7:mnightly-2021-02-12-debian-10-test"
  },
  "kernelspec": {
   "display_name": "dispatcher",
   "language": "python",
   "name": "dispatcher"
  },
  "language_info": {
   "codemirror_mode": {
    "name": "ipython",
    "version": 3
   },
   "file_extension": ".py",
   "mimetype": "text/x-python",
   "name": "python",
   "nbconvert_exporter": "python",
   "pygments_lexer": "ipython3",
   "version": "3.6.9"
  }
 },
 "nbformat": 4,
 "nbformat_minor": 4
}
