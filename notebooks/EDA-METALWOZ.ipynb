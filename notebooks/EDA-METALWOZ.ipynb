{
 "cells": [
  {
   "cell_type": "code",
   "execution_count": 1,
   "metadata": {},
   "outputs": [],
   "source": [
    "import json"
   ]
  },
  {
   "cell_type": "code",
   "execution_count": 12,
   "metadata": {},
   "outputs": [
    {
     "name": "stdout",
     "output_type": "stream",
     "text": [
      "You are a bot designed to help schedule meetings on a calendar.\n",
      "You are a bot designed to schedule meetings on a calendar.\n",
      "You are a bot designed to help set up meetings on a calendar.\n",
      "You are a bot designed to help schedule meeting on a calendar.\n",
      "You are a bot designed to help schedule daily meetings on a calendar.\n",
      "You are a bot that is designed to schedule meetings on a calendar.\n",
      "You are a bot designed to help schedule meetings on a Calendar.\n",
      "It is a bot designed to help schedule meetings on a calendar.\n",
      "You are a bot designed to help schedule meetings on your calendar.\n",
      "You are a bot designed to help schedule appointments on a calendar.\n",
      "You are a bot that helps schedule meetings on a calendar.\n",
      "You are a bot designed to help schedule meetings on a schedule.\n",
      "You are a bot designed to set up meetings on a calendar.\n",
      "You are a bot designed to help schedule meetings in a calendar.\n",
      "Bot designed to help schedule meetings on a calendar.\n",
      "You are a bot designed to help schedule meetings on a calendar?\n",
      "You are a bot designed to help schedule meetings on the calendar.\n",
      "A bot designed to help schedule meetings on a calendar.\n",
      "The bot is designed to help schedule meetings on a calendar.\n",
      "You are a bot designed to help schedule meetings on calendar.\n"
     ]
    },
    {
     "data": {
      "text/plain": [
       "[None,\n",
       " None,\n",
       " None,\n",
       " None,\n",
       " None,\n",
       " None,\n",
       " None,\n",
       " None,\n",
       " None,\n",
       " None,\n",
       " None,\n",
       " None,\n",
       " None,\n",
       " None,\n",
       " None,\n",
       " None,\n",
       " None,\n",
       " None,\n",
       " None,\n",
       " None]"
      ]
     },
     "execution_count": 12,
     "metadata": {},
     "output_type": "execute_result"
    }
   ],
   "source": [
    "import torch\n",
    "from transformers import BartForConditionalGeneration, BartTokenizer\n",
    "\n",
    "input_sentence = \"You are a bot designed to help schedule meetings on a calendar.\"\n",
    "\n",
    "model = BartForConditionalGeneration.from_pretrained('eugenesiow/bart-paraphrase')\n",
    "device = torch.device(\"cuda\")\n",
    "model = model.to(device)\n",
    "tokenizer = BartTokenizer.from_pretrained('eugenesiow/bart-paraphrase')\n",
    "batch = tokenizer(input_sentence, return_tensors='pt')\n",
    "generated_ids = model.generate(batch['input_ids'].to(\"cuda\"), num_beams=20, num_return_sequences=20)\n",
    "generated_sentences = tokenizer.batch_decode(generated_ids, skip_special_tokens=True)\n",
    "\n",
    "[print(item) for item in generated_sentences]"
   ]
  },
  {
   "cell_type": "code",
   "execution_count": 2,
   "metadata": {},
   "outputs": [],
   "source": [
    "train_dict = json.load(open('../data/MULTIWOZ2.4/train_db.json', encoding='utf8'))\n",
    "dev_dict = json.load(open('../data/MULTIWOZ2.4/', encoding='utf8'))"
   ]
  },
  {
   "cell_type": "code",
   "execution_count": 3,
   "metadata": {},
   "outputs": [],
   "source": [
    "def get_text_list(data):\n",
    "    texts_list = []\n",
    "    for item in data:\n",
    "        text = 'In the text below two people are discussing a story.\\n\\n'\n",
    "        text += 'Story:\\n' + item['story'] + '\\n\\n'\n",
    "        text += 'Discussion:\\n'\n",
    "        text += '\\n'.join(['Q: ' + q['input_text'] \n",
    "                           + '\\nA: ' + a['input_text'] \n",
    "                           for q, a in zip(item['questions'], item['answers']) \n",
    "                          ])\n",
    "        texts_list.append(text)\n",
    "\n",
    "    return texts_list"
   ]
  },
  {
   "cell_type": "code",
   "execution_count": 4,
   "metadata": {},
   "outputs": [],
   "source": [
    "train_texts_list = get_text_list(train_dict['data'])\n",
    "dev_texts_list = get_text_list(dev_dict['data'])"
   ]
  },
  {
   "cell_type": "code",
   "execution_count": 5,
   "metadata": {},
   "outputs": [],
   "source": [
    "with open('../data/qa_train_list.json', 'w') as f:\n",
    "    json.dump(train_texts_list, f)\n",
    "with open('../data/qa_dev_list.json', 'w') as f:\n",
    "    json.dump(dev_texts_list, f)"
   ]
  },
  {
   "cell_type": "code",
   "execution_count": null,
   "metadata": {},
   "outputs": [],
   "source": []
  }
 ],
 "metadata": {
  "environment": {
   "name": "pytorch-gpu.1-7.mnightly-2021-02-12-debian-10-test",
   "type": "gcloud",
   "uri": "gcr.io/deeplearning-platform-release/pytorch-gpu.1-7:mnightly-2021-02-12-debian-10-test"
  },
  "kernelspec": {
   "display_name": "chatbot3",
   "language": "python",
   "name": "chatbot3"
  },
  "language_info": {
   "codemirror_mode": {
    "name": "ipython",
    "version": 3
   },
   "file_extension": ".py",
   "mimetype": "text/x-python",
   "name": "python",
   "nbconvert_exporter": "python",
   "pygments_lexer": "ipython3",
   "version": "3.8.10"
  }
 },
 "nbformat": 4,
 "nbformat_minor": 4
}
