{
 "cells": [
  {
   "cell_type": "code",
   "execution_count": 2,
   "metadata": {},
   "outputs": [],
   "source": [
    "import json"
   ]
  },
  {
   "cell_type": "code",
   "execution_count": 4,
   "metadata": {},
   "outputs": [],
   "source": [
    "train_list = [json.loads(item) for item in open('../data/train_CREAK.json', encoding='utf8').readlines()]\n",
    "dev_list = [json.loads(item) for item in open('../data/dev_CREAK.json', encoding='utf8').readlines()]"
   ]
  },
  {
   "cell_type": "code",
   "execution_count": 5,
   "metadata": {},
   "outputs": [],
   "source": [
    "def get_text_list(data):\n",
    "    texts_list = []\n",
    "    for item in data:\n",
    "        text = 'In the text below two people are discussing a story.\\n\\n'\n",
    "        text += 'Story:\\n' + item['story'] + '\\n\\n'\n",
    "        text += 'Discussion:\\n'\n",
    "        text += '\\n'.join(['Q: ' + q['input_text'] \n",
    "                           + '\\nA: ' + a['input_text'] \n",
    "                           for q, a in zip(item['questions'], item['answers']) \n",
    "                          ])\n",
    "        texts_list.append(text)\n",
    "\n",
    "    return texts_list"
   ]
  },
  {
   "cell_type": "code",
   "execution_count": 7,
   "metadata": {},
   "outputs": [
    {
     "data": {
      "text/plain": [
       "{'ex_id': 'train_0',\n",
       " 'sentence': 'Only people named Floyd wearing pink are allowed to attend Pink Floyd concerts.',\n",
       " 'explanation': 'The rock group would not be as popular is they had such requirements for their concerts.',\n",
       " 'label': 'false',\n",
       " 'entity': 'Pink Floyd',\n",
       " 'en_wiki_pageid': '5079506',\n",
       " 'entity_mention_loc': [[59, 69]]}"
      ]
     },
     "execution_count": 7,
     "metadata": {},
     "output_type": "execute_result"
    }
   ],
   "source": [
    "train_list[0]"
   ]
  },
  {
   "cell_type": "code",
   "execution_count": 23,
   "metadata": {},
   "outputs": [],
   "source": [
    "def create_text(item):\n",
    "    text = ''\n",
    "    text += 'The claim is:\\n'\n",
    "    text += item['sentence']\n",
    "    text += '\\n\\n'\n",
    "    text += 'The claim makes sense:\\n'\n",
    "    text += 'Yes.' if item['label'] == 'true' else 'Nope.'\n",
    "    text += '\\n\\n'\n",
    "    text += 'Because:\\n'\n",
    "    text += item['explanation']\n",
    "    return text"
   ]
  },
  {
   "cell_type": "code",
   "execution_count": 30,
   "metadata": {},
   "outputs": [],
   "source": [
    "train_texts = [create_text(item) for item in train_list]\n",
    "dev_texts = [create_text(item) for item in dev_list]"
   ]
  },
  {
   "cell_type": "code",
   "execution_count": 31,
   "metadata": {},
   "outputs": [
    {
     "name": "stdout",
     "output_type": "stream",
     "text": [
      "The claim is:\n",
      "Larry King served tea during his show.\n",
      "\n",
      "The claim makes sense:\n",
      "Nope.\n",
      "\n",
      "Because:\n",
      "He had a set format that did not involve tea.\n"
     ]
    }
   ],
   "source": [
    "print(train_texts[4])"
   ]
  },
  {
   "cell_type": "code",
   "execution_count": 33,
   "metadata": {},
   "outputs": [],
   "source": [
    "with open('../data/creak_train_list.json', 'w') as f:\n",
    "    json.dump(train_texts, f)\n",
    "with open('../data/creak_dev_list.json', 'w') as f:\n",
    "    json.dump(dev_texts, f)"
   ]
  },
  {
   "cell_type": "code",
   "execution_count": null,
   "metadata": {},
   "outputs": [],
   "source": []
  }
 ],
 "metadata": {
  "environment": {
   "name": "pytorch-gpu.1-7.mnightly-2021-02-12-debian-10-test",
   "type": "gcloud",
   "uri": "gcr.io/deeplearning-platform-release/pytorch-gpu.1-7:mnightly-2021-02-12-debian-10-test"
  },
  "kernelspec": {
   "display_name": "dispatcher",
   "language": "python",
   "name": "dispatcher"
  },
  "language_info": {
   "codemirror_mode": {
    "name": "ipython",
    "version": 3
   },
   "file_extension": ".py",
   "mimetype": "text/x-python",
   "name": "python",
   "nbconvert_exporter": "python",
   "pygments_lexer": "ipython3",
   "version": "3.6.9"
  }
 },
 "nbformat": 4,
 "nbformat_minor": 4
}
