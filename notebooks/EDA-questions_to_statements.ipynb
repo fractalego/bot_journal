{
 "cells": [
  {
   "cell_type": "code",
   "execution_count": 151,
   "metadata": {},
   "outputs": [],
   "source": [
    "import json\n",
    "import spacy\n",
    "import pandas as pd\n",
    "import gender_guesser.detector as gender"
   ]
  },
  {
   "cell_type": "code",
   "execution_count": 2,
   "metadata": {},
   "outputs": [],
   "source": [
    "questions_train = pd.read_csv('../data/train.tsv', delimiter='\\t')\n",
    "questions_dev = pd.read_csv('../data/dev.tsv', delimiter='\\t')"
   ]
  },
  {
   "cell_type": "code",
   "execution_count": 3,
   "metadata": {},
   "outputs": [],
   "source": [
    "nlp = spacy.load(\"en_core_web_lg\")"
   ]
  },
  {
   "cell_type": "code",
   "execution_count": 85,
   "metadata": {
    "scrolled": true
   },
   "outputs": [
    {
     "data": {
      "text/html": [
       "<div>\n",
       "<style scoped>\n",
       "    .dataframe tbody tr th:only-of-type {\n",
       "        vertical-align: middle;\n",
       "    }\n",
       "\n",
       "    .dataframe tbody tr th {\n",
       "        vertical-align: top;\n",
       "    }\n",
       "\n",
       "    .dataframe thead th {\n",
       "        text-align: right;\n",
       "    }\n",
       "</style>\n",
       "<table border=\"1\" class=\"dataframe\">\n",
       "  <thead>\n",
       "    <tr style=\"text-align: right;\">\n",
       "      <th></th>\n",
       "      <th>dataset</th>\n",
       "      <th>example_uid</th>\n",
       "      <th>question</th>\n",
       "      <th>answer</th>\n",
       "      <th>turker_answer</th>\n",
       "      <th>rule-based</th>\n",
       "    </tr>\n",
       "  </thead>\n",
       "  <tbody>\n",
       "    <tr>\n",
       "      <th>26046</th>\n",
       "      <td>SQuAD</td>\n",
       "      <td>5726d28b708984140094d269</td>\n",
       "      <td>Queen 's sound has been described as a mix of ...</td>\n",
       "      <td>Yes</td>\n",
       "      <td>Queen 's sound has been described as a mix of ...</td>\n",
       "      <td>Queen 's sound has been described as a mix of ...</td>\n",
       "    </tr>\n",
       "    <tr>\n",
       "      <th>52847</th>\n",
       "      <td>movieQA</td>\n",
       "      <td>7339</td>\n",
       "      <td>Did Jason survive when he fell into the river ...</td>\n",
       "      <td>Yes</td>\n",
       "      <td>Yes , Jason did survive when he fell into the ...</td>\n",
       "      <td>Did Jason survive yes he fell into the river a...</td>\n",
       "    </tr>\n",
       "  </tbody>\n",
       "</table>\n",
       "</div>"
      ],
      "text/plain": [
       "       dataset               example_uid  \\\n",
       "26046    SQuAD  5726d28b708984140094d269   \n",
       "52847  movieQA                      7339   \n",
       "\n",
       "                                                question answer  \\\n",
       "26046  Queen 's sound has been described as a mix of ...    Yes   \n",
       "52847  Did Jason survive when he fell into the river ...    Yes   \n",
       "\n",
       "                                           turker_answer  \\\n",
       "26046  Queen 's sound has been described as a mix of ...   \n",
       "52847  Yes , Jason did survive when he fell into the ...   \n",
       "\n",
       "                                              rule-based  \n",
       "26046  Queen 's sound has been described as a mix of ...  \n",
       "52847  Did Jason survive yes he fell into the river a...  "
      ]
     },
     "execution_count": 85,
     "metadata": {},
     "output_type": "execute_result"
    }
   ],
   "source": [
    "questions_train[questions_train.answer == 'Yes']"
   ]
  },
  {
   "cell_type": "code",
   "execution_count": 5,
   "metadata": {},
   "outputs": [],
   "source": [
    "squad2_train = json.load(open('../data/train-v2.0.json'))\n",
    "squad2_dev = json.load(open('../data/dev-v2.0.json'))"
   ]
  },
  {
   "cell_type": "code",
   "execution_count": 6,
   "metadata": {
    "scrolled": true
   },
   "outputs": [
    {
     "data": {
      "text/plain": [
       "[{'question': 'When did Beyonce start becoming popular?',\n",
       "  'id': '56be85543aeaaa14008c9063',\n",
       "  'answers': [{'text': 'in the late 1990s', 'answer_start': 269}],\n",
       "  'is_impossible': False},\n",
       " {'question': 'What areas did Beyonce compete in when she was growing up?',\n",
       "  'id': '56be85543aeaaa14008c9065',\n",
       "  'answers': [{'text': 'singing and dancing', 'answer_start': 207}],\n",
       "  'is_impossible': False},\n",
       " {'question': \"When did Beyonce leave Destiny's Child and become a solo singer?\",\n",
       "  'id': '56be85543aeaaa14008c9066',\n",
       "  'answers': [{'text': '2003', 'answer_start': 526}],\n",
       "  'is_impossible': False},\n",
       " {'question': 'In what city and state did Beyonce  grow up? ',\n",
       "  'id': '56bf6b0f3aeaaa14008c9601',\n",
       "  'answers': [{'text': 'Houston, Texas', 'answer_start': 166}],\n",
       "  'is_impossible': False},\n",
       " {'question': 'In which decade did Beyonce become famous?',\n",
       "  'id': '56bf6b0f3aeaaa14008c9602',\n",
       "  'answers': [{'text': 'late 1990s', 'answer_start': 276}],\n",
       "  'is_impossible': False},\n",
       " {'question': 'In what R&B group was she the lead singer?',\n",
       "  'id': '56bf6b0f3aeaaa14008c9603',\n",
       "  'answers': [{'text': \"Destiny's Child\", 'answer_start': 320}],\n",
       "  'is_impossible': False},\n",
       " {'question': 'What album made her a worldwide known artist?',\n",
       "  'id': '56bf6b0f3aeaaa14008c9604',\n",
       "  'answers': [{'text': 'Dangerously in Love', 'answer_start': 505}],\n",
       "  'is_impossible': False},\n",
       " {'question': \"Who managed the Destiny's Child group?\",\n",
       "  'id': '56bf6b0f3aeaaa14008c9605',\n",
       "  'answers': [{'text': 'Mathew Knowles', 'answer_start': 360}],\n",
       "  'is_impossible': False},\n",
       " {'question': 'When did Beyoncé rise to fame?',\n",
       "  'id': '56d43c5f2ccc5a1400d830a9',\n",
       "  'answers': [{'text': 'late 1990s', 'answer_start': 276}],\n",
       "  'is_impossible': False},\n",
       " {'question': \"What role did Beyoncé have in Destiny's Child?\",\n",
       "  'id': '56d43c5f2ccc5a1400d830aa',\n",
       "  'answers': [{'text': 'lead singer', 'answer_start': 290}],\n",
       "  'is_impossible': False},\n",
       " {'question': 'What was the first album Beyoncé released as a solo artist?',\n",
       "  'id': '56d43c5f2ccc5a1400d830ab',\n",
       "  'answers': [{'text': 'Dangerously in Love', 'answer_start': 505}],\n",
       "  'is_impossible': False},\n",
       " {'question': 'When did Beyoncé release Dangerously in Love?',\n",
       "  'id': '56d43c5f2ccc5a1400d830ac',\n",
       "  'answers': [{'text': '2003', 'answer_start': 526}],\n",
       "  'is_impossible': False},\n",
       " {'question': 'How many Grammy awards did Beyoncé win for her first solo album?',\n",
       "  'id': '56d43c5f2ccc5a1400d830ad',\n",
       "  'answers': [{'text': 'five', 'answer_start': 590}],\n",
       "  'is_impossible': False},\n",
       " {'question': \"What was Beyoncé's role in Destiny's Child?\",\n",
       "  'id': '56d43ce42ccc5a1400d830b4',\n",
       "  'answers': [{'text': 'lead singer', 'answer_start': 290}],\n",
       "  'is_impossible': False},\n",
       " {'question': \"What was the name of Beyoncé's first solo album?\",\n",
       "  'id': '56d43ce42ccc5a1400d830b5',\n",
       "  'answers': [{'text': 'Dangerously in Love', 'answer_start': 505}],\n",
       "  'is_impossible': False}]"
      ]
     },
     "execution_count": 6,
     "metadata": {},
     "output_type": "execute_result"
    }
   ],
   "source": [
    "squad2_train['data'][0]['paragraphs'][0]['qas']"
   ]
  },
  {
   "cell_type": "code",
   "execution_count": 7,
   "metadata": {},
   "outputs": [],
   "source": [
    "num_past_questions = 4\n",
    "\n",
    "all_ids_dict = {}\n",
    "for item in squad2_train['data']:\n",
    "    for paragraph in item['paragraphs']:\n",
    "        questions = [qa['question'].strip() for qa in paragraph['qas']]\n",
    "        answers = [qa['answers'][0]['text'].strip() if qa['answers'] else 'unknown' for qa in paragraph['qas']]\n",
    "        for index, qa in enumerate(paragraph['qas']):\n",
    "            text = '\\n'.join(['Q: ' + q\n",
    "                             + '\\nA: ' + a \n",
    "                             for q, a in zip(questions[max(0, index-num_past_questions):index+1], \n",
    "                                             answers[max(0, index-num_past_questions):index+1]) \n",
    "                  ])\n",
    "            all_ids_dict[qa['id']] = text"
   ]
  },
  {
   "cell_type": "code",
   "execution_count": 8,
   "metadata": {},
   "outputs": [],
   "source": [
    "all_ids = set()\n",
    "for item in squad2_train['data'] + squad2_dev['data']:\n",
    "    for paragraph in item['paragraphs']:\n",
    "        for qa in paragraph['qas']:\n",
    "            all_ids.add(qa['id'])"
   ]
  },
  {
   "cell_type": "code",
   "execution_count": 9,
   "metadata": {},
   "outputs": [
    {
     "data": {
      "text/plain": [
       "130319"
      ]
     },
     "execution_count": 9,
     "metadata": {},
     "output_type": "execute_result"
    }
   ],
   "source": [
    "len(all_ids_dict)"
   ]
  },
  {
   "cell_type": "code",
   "execution_count": 10,
   "metadata": {},
   "outputs": [
    {
     "data": {
      "text/plain": [
       "142192"
      ]
     },
     "execution_count": 10,
     "metadata": {},
     "output_type": "execute_result"
    }
   ],
   "source": [
    "len(all_ids)"
   ]
  },
  {
   "cell_type": "code",
   "execution_count": 12,
   "metadata": {},
   "outputs": [],
   "source": [
    "def clean_line(line):\n",
    "    line = line.replace('-LRB-', '(')\n",
    "    line = line.replace('-RRB-', ')')\n",
    "    line = line.replace('-LSB-', '[')\n",
    "    line = line.replace('-RSB-', ']')\n",
    "    line = line.replace('( ', '(')\n",
    "    line = line.replace(' )', ')')\n",
    "    line = line.replace('[ ', '[')\n",
    "    line = line.replace(' ]', ']')\n",
    "    line = line.replace(' .', '.')\n",
    "    line = line.replace(' , ', ', ')\n",
    "    line = line.replace(' ; ', '; ')\n",
    "    line = line.replace(' : ', ': ')\n",
    "    return line"
   ]
  },
  {
   "cell_type": "code",
   "execution_count": 178,
   "metadata": {},
   "outputs": [],
   "source": [
    "import random\n",
    "gender_detector = gender.Detector()\n",
    "\n",
    "unknown_subj_gender = random.choice(['he', 'she'])\n",
    "unknown_obj_gender = random.choice(['him', 'her'])\n",
    "\n",
    "subj_gender_dict = {'male': 'he', \n",
    "                    'female': 'she', \n",
    "                    'mostly_male': unknown_subj_gender, \n",
    "                    'mostly_female': unknown_subj_gender,\n",
    "                    'andy': unknown_subj_gender, \n",
    "                    'unknown': unknown_subj_gender}\n",
    "obj_gender_dict = {'male': 'him', \n",
    "                   'female': 'her', \n",
    "                   'mostly_male': unknwon_obj_gender, \n",
    "                   'mostly_female': unknwon_obj_gender, \n",
    "                   'andy': unknown_obj_gender, \n",
    "                   'unknown': unknown_obj_gender}\n",
    "\n",
    "\n",
    "def add_synthetic_coreference(discussion, entities_dict):\n",
    "    lines = discussion.split('\\n')\n",
    "    new_lines = [lines[0]]\n",
    "    prior_substitutions = {}\n",
    "    for line_index, line in enumerate(lines[1:]):\n",
    "        dep_dict = {}\n",
    "        tuples = nlp(line[3:])\n",
    "        for token in tuples:\n",
    "            dep_dict.setdefault(token.dep_, [])\n",
    "            dep_dict[token.dep_].append(token.text)\n",
    "\n",
    "        new_line = line\n",
    "        for text, label in entities_dict.items():\n",
    "            #if random.uniform(0, 1) < 0.1:\n",
    "            #    continue\n",
    "            pronoun = ''\n",
    "            if text not in line:\n",
    "                continue\n",
    "            if line[:2] == 'A:':\n",
    "                continue\n",
    "            if label == 'PERSON' and 'nsubj' in dep_dict and any([item in text for item in dep_dict['nsubj']]):\n",
    "                if text in prior_substitutions and prior_substitutions[text] in ['he', 'him']:\n",
    "                    pronoun = 'he'\n",
    "                elif text in prior_substitutions and prior_substitutions[text] in ['she', 'her']:\n",
    "                    pronoun = 'she'\n",
    "                else:\n",
    "                    pronoun = subj_gender_dict[gender_detector.get_gender(text)]\n",
    "            if label == 'PERSON' and 'dobj' in dep_dict and any([item in text for item in dep_dict['dobj']]):\n",
    "                if text in prior_substitutions and prior_substitutions[text] in ['he', 'him']:\n",
    "                    pronoun = 'him'\n",
    "                elif text in prior_substitutions and prior_substitutions[text] in ['she', 'her']:\n",
    "                    pronoun = 'her'\n",
    "                else:\n",
    "                    pronoun = obj_gender_dict[gender_detector.get_gender(text)]\n",
    "            if label in ['GPE', 'FAC', 'PRODUCT']:\n",
    "                pronoun = 'it'\n",
    "            if not pronoun:\n",
    "                continue\n",
    "            text_appears_before = False\n",
    "            for prior_lines in lines[:line_index]:\n",
    "                if text in prior_lines:\n",
    "                    text_appears_before = True\n",
    "            if not text_appears_before:\n",
    "                continue\n",
    "            new_line = new_line.replace(text, pronoun)\n",
    "            prior_substitutions[text] = pronoun\n",
    "            new_line.replace('a it', 'it')\n",
    "            new_line.replace('the it', 'that')\n",
    "            new_line = new_line[:3] + new_line[3].upper() + new_line[4:]\n",
    "\n",
    "        new_lines.append(new_line)\n",
    "\n",
    "    return '\\n'.join(new_lines)"
   ]
  },
  {
   "cell_type": "code",
   "execution_count": 179,
   "metadata": {},
   "outputs": [],
   "source": [
    "from tqdm import tqdm\n",
    "\n",
    "def get_text_list(data):\n",
    "    all_texts = []\n",
    "    for index, row in tqdm(data.iterrows(), total=data.shape[0]):\n",
    "        qid, answer = row['example_uid'], row['turker_answer']\n",
    "        answer = answer[0].upper() + answer[1:]\n",
    "        answer = clean_line(answer)\n",
    "        tuples = nlp(answer)\n",
    "        entities_dict = {ent.text: ent.label_ for ent in tuples.ents}\n",
    "        if qid not in all_ids_dict:\n",
    "            continue\n",
    "        discussion = all_ids_dict[qid]\n",
    "        discussion = add_synthetic_coreference(discussion, entities_dict)\n",
    "        text = 'Discussion:\\n'\n",
    "        text += discussion\n",
    "        text += '\\n\\n'\n",
    "        text += 'Statement:\\n'\n",
    "        text += answer\n",
    "        all_texts.append(text)\n",
    "        \n",
    "    return all_texts"
   ]
  },
  {
   "cell_type": "code",
   "execution_count": 180,
   "metadata": {},
   "outputs": [
    {
     "name": "stderr",
     "output_type": "stream",
     "text": [
      "100%|██████████| 60710/60710 [26:46<00:00, 37.79it/s]\n",
      "100%|██████████| 10344/10344 [04:03<00:00, 42.52it/s]\n"
     ]
    }
   ],
   "source": [
    "train_texts_list = get_text_list(questions_train)\n",
    "dev_texts_list = get_text_list(questions_dev)"
   ]
  },
  {
   "cell_type": "code",
   "execution_count": 181,
   "metadata": {},
   "outputs": [],
   "source": [
    "with open('../data/question_to_statement_train.json', 'w') as f:\n",
    "    json.dump(train_texts_list, f)\n",
    "with open('../data/question_to_statement_dev.json', 'w') as f:\n",
    "    json.dump(dev_texts_list, f)"
   ]
  },
  {
   "cell_type": "code",
   "execution_count": 182,
   "metadata": {
    "scrolled": true
   },
   "outputs": [
    {
     "name": "stdout",
     "output_type": "stream",
     "text": [
      "Discussion:\n",
      "Q: Who built the famous decorated havelis in Rajasthan?\n",
      "A: Rajput kings\n",
      "Q: Jaipur is also known as what city?\n",
      "A: the Pink City\n",
      "Q: What are the notable houses in it made from?\n",
      "A: a type of sandstone dominated by a pink hue\n",
      "\n",
      "Statement:\n",
      "Notable houses in Jaipur made from a type of sandstone dominated by a pink hue\n"
     ]
    }
   ],
   "source": [
    "print(dev_texts_list[0])"
   ]
  },
  {
   "cell_type": "code",
   "execution_count": null,
   "metadata": {},
   "outputs": [],
   "source": []
  }
 ],
 "metadata": {
  "environment": {
   "name": "pytorch-gpu.1-7.mnightly-2021-02-12-debian-10-test",
   "type": "gcloud",
   "uri": "gcr.io/deeplearning-platform-release/pytorch-gpu.1-7:mnightly-2021-02-12-debian-10-test"
  },
  "kernelspec": {
   "display_name": "chatbot",
   "language": "python",
   "name": "bot"
  },
  "language_info": {
   "codemirror_mode": {
    "name": "ipython",
    "version": 3
   },
   "file_extension": ".py",
   "mimetype": "text/x-python",
   "name": "python",
   "nbconvert_exporter": "python",
   "pygments_lexer": "ipython3",
   "version": "3.6.9"
  }
 },
 "nbformat": 4,
 "nbformat_minor": 4
}
