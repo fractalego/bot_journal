{
 "cells": [
  {
   "cell_type": "code",
   "execution_count": 1,
   "metadata": {},
   "outputs": [],
   "source": [
    "+import json\n",
    "import pandas as pd"
   ]
  },
  {
   "cell_type": "code",
   "execution_count": 2,
   "metadata": {},
   "outputs": [],
   "source": [
    "questions_train = pd.read_csv('../data/train.tsv', delimiter='\\t')\n",
    "questions_dev = pd.read_csv('../data/dev.tsv', delimiter='\\t')"
   ]
  },
  {
   "cell_type": "code",
   "execution_count": 45,
   "metadata": {},
   "outputs": [
    {
     "data": {
      "text/html": [
       "<div>\n",
       "<style scoped>\n",
       "    .dataframe tbody tr th:only-of-type {\n",
       "        vertical-align: middle;\n",
       "    }\n",
       "\n",
       "    .dataframe tbody tr th {\n",
       "        vertical-align: top;\n",
       "    }\n",
       "\n",
       "    .dataframe thead th {\n",
       "        text-align: right;\n",
       "    }\n",
       "</style>\n",
       "<table border=\"1\" class=\"dataframe\">\n",
       "  <thead>\n",
       "    <tr style=\"text-align: right;\">\n",
       "      <th></th>\n",
       "      <th>dataset</th>\n",
       "      <th>example_uid</th>\n",
       "      <th>question</th>\n",
       "      <th>answer</th>\n",
       "      <th>turker_answer</th>\n",
       "      <th>rule-based</th>\n",
       "    </tr>\n",
       "  </thead>\n",
       "  <tbody>\n",
       "    <tr>\n",
       "      <th>0</th>\n",
       "      <td>SQuAD</td>\n",
       "      <td>572812523acd2414000df3bf</td>\n",
       "      <td>What was Prince Albert 's nickname ?</td>\n",
       "      <td>Bertie</td>\n",
       "      <td>Prince Albert 's nickname was Bertie .</td>\n",
       "      <td>Prince Albert 's nickname was Bertie .</td>\n",
       "    </tr>\n",
       "    <tr>\n",
       "      <th>1</th>\n",
       "      <td>SQuAD</td>\n",
       "      <td>572817584b864d1900164464</td>\n",
       "      <td>Where is the centre of London said to be locat...</td>\n",
       "      <td>Eleanor Cross at Charing Cross near the juncti...</td>\n",
       "      <td>The centre of London is said to be located by ...</td>\n",
       "      <td>The centre of London is said to be located in ...</td>\n",
       "    </tr>\n",
       "    <tr>\n",
       "      <th>2</th>\n",
       "      <td>SQuAD</td>\n",
       "      <td>57312c6005b4da19006bce36</td>\n",
       "      <td>What pigment was used to paint villas in ancie...</td>\n",
       "      <td>vermilion</td>\n",
       "      <td>Vermillion pigment was used to paint villas in...</td>\n",
       "      <td>Vermilion was used to paint villas in ancient ...</td>\n",
       "    </tr>\n",
       "    <tr>\n",
       "      <th>3</th>\n",
       "      <td>SQuAD</td>\n",
       "      <td>57266b70708984140094c56a</td>\n",
       "      <td>Who was the Queen 's first grandchild ?</td>\n",
       "      <td>Wilhelm</td>\n",
       "      <td>Wilhelm was the Queen 's first grandchild .</td>\n",
       "      <td>Wilhelm was the Queen 's first grandchild .</td>\n",
       "    </tr>\n",
       "    <tr>\n",
       "      <th>4</th>\n",
       "      <td>SQuAD</td>\n",
       "      <td>56db66a2e7c41114004b509a</td>\n",
       "      <td>Who did BMG partner with in 2005-2007 ?</td>\n",
       "      <td>Sony Music Entertainment</td>\n",
       "      <td>BMG partnered with Sony Music Entertainment in...</td>\n",
       "      <td>BMG partner with Sony Music Entertainment in 2...</td>\n",
       "    </tr>\n",
       "    <tr>\n",
       "      <th>...</th>\n",
       "      <td>...</td>\n",
       "      <td>...</td>\n",
       "      <td>...</td>\n",
       "      <td>...</td>\n",
       "      <td>...</td>\n",
       "      <td>...</td>\n",
       "    </tr>\n",
       "    <tr>\n",
       "      <th>60705</th>\n",
       "      <td>SQuAD</td>\n",
       "      <td>572fddffb2c2fd1400568532</td>\n",
       "      <td>Who operated the automatic beam system ?</td>\n",
       "      <td>the bomber 's autopilot</td>\n",
       "      <td>The bomber 's autopilot operated the automatic...</td>\n",
       "      <td>The bomber 's autopilot operated the automatic...</td>\n",
       "    </tr>\n",
       "    <tr>\n",
       "      <th>60706</th>\n",
       "      <td>SQuAD</td>\n",
       "      <td>572e94eecb0c0d14000f1308</td>\n",
       "      <td>What two mountains ranges are located on the i...</td>\n",
       "      <td>Troodos Mountains and the smaller Kyrenia Range</td>\n",
       "      <td>The Troodos Mountains and the smaller Kyrenia ...</td>\n",
       "      <td>Troodos Mountains and the smaller Kyrenia Rang...</td>\n",
       "    </tr>\n",
       "    <tr>\n",
       "      <th>60707</th>\n",
       "      <td>SQuAD</td>\n",
       "      <td>573117cae6313a140071cc37</td>\n",
       "      <td>How do 15 % of male Tuvaluans earn their income ?</td>\n",
       "      <td>seamen</td>\n",
       "      <td>15 % of male Tuvaluans earn their income by se...</td>\n",
       "      <td>15 % of male Tuvaluans earn their income by se...</td>\n",
       "    </tr>\n",
       "    <tr>\n",
       "      <th>60708</th>\n",
       "      <td>SQuAD</td>\n",
       "      <td>570d1ef7fed7b91900d45c2c</td>\n",
       "      <td>Which Apple campaign did some people feel enco...</td>\n",
       "      <td>`` Rip , Mix , Burn ''</td>\n",
       "      <td>Some people felt Apple 's `` Rip , Mix , Burn ...</td>\n",
       "      <td>`` Rip , Mix , Burn did some people feel encou...</td>\n",
       "    </tr>\n",
       "    <tr>\n",
       "      <th>60709</th>\n",
       "      <td>SQuAD</td>\n",
       "      <td>573028d604bcaa1900d77280</td>\n",
       "      <td>What is a more complicated type of polarizatio...</td>\n",
       "      <td>quad antenna</td>\n",
       "      <td>A more complicated type of polarization from a...</td>\n",
       "      <td>A more complicated type of polarization from a...</td>\n",
       "    </tr>\n",
       "  </tbody>\n",
       "</table>\n",
       "<p>60710 rows × 6 columns</p>\n",
       "</div>"
      ],
      "text/plain": [
       "      dataset               example_uid  \\\n",
       "0       SQuAD  572812523acd2414000df3bf   \n",
       "1       SQuAD  572817584b864d1900164464   \n",
       "2       SQuAD  57312c6005b4da19006bce36   \n",
       "3       SQuAD  57266b70708984140094c56a   \n",
       "4       SQuAD  56db66a2e7c41114004b509a   \n",
       "...       ...                       ...   \n",
       "60705   SQuAD  572fddffb2c2fd1400568532   \n",
       "60706   SQuAD  572e94eecb0c0d14000f1308   \n",
       "60707   SQuAD  573117cae6313a140071cc37   \n",
       "60708   SQuAD  570d1ef7fed7b91900d45c2c   \n",
       "60709   SQuAD  573028d604bcaa1900d77280   \n",
       "\n",
       "                                                question  \\\n",
       "0                   What was Prince Albert 's nickname ?   \n",
       "1      Where is the centre of London said to be locat...   \n",
       "2      What pigment was used to paint villas in ancie...   \n",
       "3                Who was the Queen 's first grandchild ?   \n",
       "4                Who did BMG partner with in 2005-2007 ?   \n",
       "...                                                  ...   \n",
       "60705           Who operated the automatic beam system ?   \n",
       "60706  What two mountains ranges are located on the i...   \n",
       "60707  How do 15 % of male Tuvaluans earn their income ?   \n",
       "60708  Which Apple campaign did some people feel enco...   \n",
       "60709  What is a more complicated type of polarizatio...   \n",
       "\n",
       "                                                  answer  \\\n",
       "0                                                 Bertie   \n",
       "1      Eleanor Cross at Charing Cross near the juncti...   \n",
       "2                                              vermilion   \n",
       "3                                                Wilhelm   \n",
       "4                               Sony Music Entertainment   \n",
       "...                                                  ...   \n",
       "60705                            the bomber 's autopilot   \n",
       "60706    Troodos Mountains and the smaller Kyrenia Range   \n",
       "60707                                             seamen   \n",
       "60708                             `` Rip , Mix , Burn ''   \n",
       "60709                                       quad antenna   \n",
       "\n",
       "                                           turker_answer  \\\n",
       "0                 Prince Albert 's nickname was Bertie .   \n",
       "1      The centre of London is said to be located by ...   \n",
       "2      Vermillion pigment was used to paint villas in...   \n",
       "3            Wilhelm was the Queen 's first grandchild .   \n",
       "4      BMG partnered with Sony Music Entertainment in...   \n",
       "...                                                  ...   \n",
       "60705  The bomber 's autopilot operated the automatic...   \n",
       "60706  The Troodos Mountains and the smaller Kyrenia ...   \n",
       "60707  15 % of male Tuvaluans earn their income by se...   \n",
       "60708  Some people felt Apple 's `` Rip , Mix , Burn ...   \n",
       "60709  A more complicated type of polarization from a...   \n",
       "\n",
       "                                              rule-based  \n",
       "0                 Prince Albert 's nickname was Bertie .  \n",
       "1      The centre of London is said to be located in ...  \n",
       "2      Vermilion was used to paint villas in ancient ...  \n",
       "3            Wilhelm was the Queen 's first grandchild .  \n",
       "4      BMG partner with Sony Music Entertainment in 2...  \n",
       "...                                                  ...  \n",
       "60705  The bomber 's autopilot operated the automatic...  \n",
       "60706  Troodos Mountains and the smaller Kyrenia Rang...  \n",
       "60707  15 % of male Tuvaluans earn their income by se...  \n",
       "60708  `` Rip , Mix , Burn did some people feel encou...  \n",
       "60709  A more complicated type of polarization from a...  \n",
       "\n",
       "[60710 rows x 6 columns]"
      ]
     },
     "execution_count": 45,
     "metadata": {},
     "output_type": "execute_result"
    }
   ],
   "source": [
    "questions_train"
   ]
  },
  {
   "cell_type": "code",
   "execution_count": 3,
   "metadata": {},
   "outputs": [],
   "source": [
    "squad2_train = json.load(open('../data/train-v2.0.json'))\n",
    "squad2_dev = json.load(open('../data/dev-v2.0.json'))"
   ]
  },
  {
   "cell_type": "code",
   "execution_count": 4,
   "metadata": {
    "scrolled": true
   },
   "outputs": [
    {
     "data": {
      "text/plain": [
       "[{'question': 'When did Beyonce start becoming popular?',\n",
       "  'id': '56be85543aeaaa14008c9063',\n",
       "  'answers': [{'text': 'in the late 1990s', 'answer_start': 269}],\n",
       "  'is_impossible': False},\n",
       " {'question': 'What areas did Beyonce compete in when she was growing up?',\n",
       "  'id': '56be85543aeaaa14008c9065',\n",
       "  'answers': [{'text': 'singing and dancing', 'answer_start': 207}],\n",
       "  'is_impossible': False},\n",
       " {'question': \"When did Beyonce leave Destiny's Child and become a solo singer?\",\n",
       "  'id': '56be85543aeaaa14008c9066',\n",
       "  'answers': [{'text': '2003', 'answer_start': 526}],\n",
       "  'is_impossible': False},\n",
       " {'question': 'In what city and state did Beyonce  grow up? ',\n",
       "  'id': '56bf6b0f3aeaaa14008c9601',\n",
       "  'answers': [{'text': 'Houston, Texas', 'answer_start': 166}],\n",
       "  'is_impossible': False},\n",
       " {'question': 'In which decade did Beyonce become famous?',\n",
       "  'id': '56bf6b0f3aeaaa14008c9602',\n",
       "  'answers': [{'text': 'late 1990s', 'answer_start': 276}],\n",
       "  'is_impossible': False},\n",
       " {'question': 'In what R&B group was she the lead singer?',\n",
       "  'id': '56bf6b0f3aeaaa14008c9603',\n",
       "  'answers': [{'text': \"Destiny's Child\", 'answer_start': 320}],\n",
       "  'is_impossible': False},\n",
       " {'question': 'What album made her a worldwide known artist?',\n",
       "  'id': '56bf6b0f3aeaaa14008c9604',\n",
       "  'answers': [{'text': 'Dangerously in Love', 'answer_start': 505}],\n",
       "  'is_impossible': False},\n",
       " {'question': \"Who managed the Destiny's Child group?\",\n",
       "  'id': '56bf6b0f3aeaaa14008c9605',\n",
       "  'answers': [{'text': 'Mathew Knowles', 'answer_start': 360}],\n",
       "  'is_impossible': False},\n",
       " {'question': 'When did Beyoncé rise to fame?',\n",
       "  'id': '56d43c5f2ccc5a1400d830a9',\n",
       "  'answers': [{'text': 'late 1990s', 'answer_start': 276}],\n",
       "  'is_impossible': False},\n",
       " {'question': \"What role did Beyoncé have in Destiny's Child?\",\n",
       "  'id': '56d43c5f2ccc5a1400d830aa',\n",
       "  'answers': [{'text': 'lead singer', 'answer_start': 290}],\n",
       "  'is_impossible': False},\n",
       " {'question': 'What was the first album Beyoncé released as a solo artist?',\n",
       "  'id': '56d43c5f2ccc5a1400d830ab',\n",
       "  'answers': [{'text': 'Dangerously in Love', 'answer_start': 505}],\n",
       "  'is_impossible': False},\n",
       " {'question': 'When did Beyoncé release Dangerously in Love?',\n",
       "  'id': '56d43c5f2ccc5a1400d830ac',\n",
       "  'answers': [{'text': '2003', 'answer_start': 526}],\n",
       "  'is_impossible': False},\n",
       " {'question': 'How many Grammy awards did Beyoncé win for her first solo album?',\n",
       "  'id': '56d43c5f2ccc5a1400d830ad',\n",
       "  'answers': [{'text': 'five', 'answer_start': 590}],\n",
       "  'is_impossible': False},\n",
       " {'question': \"What was Beyoncé's role in Destiny's Child?\",\n",
       "  'id': '56d43ce42ccc5a1400d830b4',\n",
       "  'answers': [{'text': 'lead singer', 'answer_start': 290}],\n",
       "  'is_impossible': False},\n",
       " {'question': \"What was the name of Beyoncé's first solo album?\",\n",
       "  'id': '56d43ce42ccc5a1400d830b5',\n",
       "  'answers': [{'text': 'Dangerously in Love', 'answer_start': 505}],\n",
       "  'is_impossible': False}]"
      ]
     },
     "execution_count": 4,
     "metadata": {},
     "output_type": "execute_result"
    }
   ],
   "source": [
    "squad2_train['data'][0]['paragraphs'][0]['qas']"
   ]
  },
  {
   "cell_type": "code",
   "execution_count": 73,
   "metadata": {},
   "outputs": [],
   "source": [
    "num_past_questions = 4\n",
    "\n",
    "all_ids_dict = {}\n",
    "for item in squad2_train['data']:\n",
    "    for paragraph in item['paragraphs']:\n",
    "        questions = [qa['question'] for qa in paragraph['qas']]\n",
    "        answers = [qa['answers'][0]['text'] if qa['answers'] else 'unknown' for qa in paragraph['qas']]\n",
    "        for index, qa in enumerate(paragraph['qas']):\n",
    "            text = '\\n'.join(['Q: ' + q\n",
    "                             + '\\nA: ' + a \n",
    "                             for q, a in zip(questions[max(0, index-num_past_questions):index+1], \n",
    "                                             answers[max(0, index-num_past_questions):index+1]) \n",
    "                  ])\n",
    "            all_ids_dict[qa['id']] = text"
   ]
  },
  {
   "cell_type": "code",
   "execution_count": 61,
   "metadata": {},
   "outputs": [],
   "source": [
    "all_ids = set()\n",
    "for item in squad2_train['data'] + squad2_dev['data']:\n",
    "    for paragraph in item['paragraphs']:\n",
    "        for qa in paragraph['qas']:\n",
    "            all_ids.add(qa['id'])"
   ]
  },
  {
   "cell_type": "code",
   "execution_count": 62,
   "metadata": {},
   "outputs": [
    {
     "data": {
      "text/plain": [
       "130319"
      ]
     },
     "execution_count": 62,
     "metadata": {},
     "output_type": "execute_result"
    }
   ],
   "source": [
    "len(all_ids_dict)"
   ]
  },
  {
   "cell_type": "code",
   "execution_count": 63,
   "metadata": {},
   "outputs": [
    {
     "data": {
      "text/plain": [
       "142192"
      ]
     },
     "execution_count": 63,
     "metadata": {},
     "output_type": "execute_result"
    }
   ],
   "source": [
    "len(all_ids)"
   ]
  },
  {
   "cell_type": "code",
   "execution_count": 64,
   "metadata": {
    "scrolled": true
   },
   "outputs": [
    {
     "data": {
      "text/plain": [
       "'Q: What has been an important atmospheric study since the 1970s?\\nA: ozone layer'"
      ]
     },
     "execution_count": 64,
     "metadata": {},
     "output_type": "execute_result"
    }
   ],
   "source": [
    "all_ids_dict[list(all_ids)[1]]"
   ]
  },
  {
   "cell_type": "code",
   "execution_count": 92,
   "metadata": {},
   "outputs": [],
   "source": [
    "def clean_line(line):\n",
    "    line = line.replace('-LRB-', '(')\n",
    "    line = line.replace('-RRB-', ')')\n",
    "    line = line.replace('-LSB-', '[')\n",
    "    line = line.replace('-RSB-', ']')\n",
    "    line = line.replace('( ', '(')\n",
    "    line = line.replace(' )', ')')\n",
    "    line = line.replace('[ ', '[')\n",
    "    line = line.replace(' ]', ']')\n",
    "    line = line.replace(' .', '.')\n",
    "    line = line.replace(' , ', ', ')\n",
    "    line = line.replace(' ; ', '; ')\n",
    "    line = line.replace(' : ', ': ')\n",
    "    return line"
   ]
  },
  {
   "cell_type": "code",
   "execution_count": 93,
   "metadata": {},
   "outputs": [],
   "source": [
    "def get_text_list(data):\n",
    "    all_texts = []\n",
    "    for index, row in data.iterrows():\n",
    "        qid, answer = row['example_uid'], row['turker_answer']\n",
    "        answer = answer[0].upper() + answer[1:]\n",
    "        answer = clean_line(answer)\n",
    "        if qid not in all_ids_dict:\n",
    "            continue\n",
    "        text = 'Discussion:\\n'\n",
    "        text += all_ids_dict[qid]\n",
    "        text += '\\n\\n'\n",
    "        text += 'Statement:\\n'\n",
    "        text += answer\n",
    "        all_texts.append(text)\n",
    "        \n",
    "    return all_texts"
   ]
  },
  {
   "cell_type": "code",
   "execution_count": 94,
   "metadata": {},
   "outputs": [],
   "source": [
    "train_texts_list = get_text_list(questions_train)\n",
    "dev_texts_list = get_text_list(questions_dev)"
   ]
  },
  {
   "cell_type": "code",
   "execution_count": 95,
   "metadata": {},
   "outputs": [],
   "source": [
    "with open('../data/question_to_statement_train.json', 'w') as f:\n",
    "    json.dump(train_texts_list, f)\n",
    "with open('../data/question_to_statement_dev.json', 'w') as f:\n",
    "    json.dump(dev_texts_list, f)"
   ]
  },
  {
   "cell_type": "code",
   "execution_count": 98,
   "metadata": {},
   "outputs": [
    {
     "name": "stdout",
     "output_type": "stream",
     "text": [
      "Discussion:\n",
      "Q: After the war, what did Napoleon focus on?\n",
      "A: domestic affairs\n",
      "Q:  When did Napoleon divorce Josephine?\n",
      "A: January 1810\n",
      "Q: After his divorce from Josephine, who did Napoleon marry?\n",
      "A: Archduchess Marie Louise\n",
      "\n",
      "Statement:\n",
      "Napoleon married Archduchess Marie Louise after his divorce from Josephine.\n"
     ]
    }
   ],
   "source": [
    "print(dev_texts_list[3])"
   ]
  },
  {
   "cell_type": "code",
   "execution_count": null,
   "metadata": {},
   "outputs": [],
   "source": []
  }
 ],
 "metadata": {
  "environment": {
   "name": "pytorch-gpu.1-7.mnightly-2021-02-12-debian-10-test",
   "type": "gcloud",
   "uri": "gcr.io/deeplearning-platform-release/pytorch-gpu.1-7:mnightly-2021-02-12-debian-10-test"
  },
  "kernelspec": {
   "display_name": "dispatcher",
   "language": "python",
   "name": "dispatcher"
  },
  "language_info": {
   "codemirror_mode": {
    "name": "ipython",
    "version": 3
   },
   "file_extension": ".py",
   "mimetype": "text/x-python",
   "name": "python",
   "nbconvert_exporter": "python",
   "pygments_lexer": "ipython3",
   "version": "3.6.9"
  }
 },
 "nbformat": 4,
 "nbformat_minor": 4
}
